{
 "cells": [
  {
   "cell_type": "code",
   "execution_count": 1,
   "id": "78dfe29e-64ff-4349-8b84-9f37936e7767",
   "metadata": {},
   "outputs": [
    {
     "name": "stderr",
     "output_type": "stream",
     "text": [
      "WARNING: using DataFrames.aggregate in module Main conflicts with an existing identifier.\n"
     ]
    }
   ],
   "source": [
    "include(\"../code/julia/ha-trade.jl\")\n",
    "\n",
    "using MINPACK\n",
    "using Plots\n",
    "using CSV\n",
    "using DataFrames"
   ]
  },
  {
   "cell_type": "markdown",
   "id": "94c15c83-86ed-4022-af8c-54a780740ae5",
   "metadata": {},
   "source": [
    "### Example with tariffs and transfers\n",
    "\n",
    "As the title says!\n"
   ]
  },
  {
   "cell_type": "code",
   "execution_count": 2,
   "id": "b8c7d2c6-41bb-4d78-93ac-3123ef81e5f2",
   "metadata": {},
   "outputs": [],
   "source": [
    "γ = 1.5 # curvatuve on CRRA utility function\n",
    "σϵ = 0.25 # logit dispersion parameter\n",
    "Ncntry = 2 # number of countries\n",
    "\n",
    "# this setups up parameters on the household side\n",
    "hh_prm = household_params(Ncntry = Ncntry, Na = 100, β = 0.92, γ = γ, ϕ = 0.5, amax = 8.0, σϵ = σϵ);"
   ]
  },
  {
   "cell_type": "code",
   "execution_count": 3,
   "id": "8d458948-2177-4bb7-90b6-3e070adf606f",
   "metadata": {},
   "outputs": [],
   "source": [
    "# here are some simpe country parametrers\n",
    "TFP = [1.0; 1.0]\n",
    "\n",
    "L = [1.0; 1.0]\n",
    "\n",
    "d_ij = 2.05\n",
    "\n",
    "d = [1.0 d_ij; d_ij 1.0]\n",
    "\n",
    "tariff = [0.0 0.25; 0.0 0.0] # the tariff rate matrix (defualt is zero)\n",
    "# here country 1 is imposing a 25 percent tariff on country 2\n",
    "\n",
    "# this sets up the country specific paramters\n",
    "cntry_prm = country_params(Ncntry = Ncntry, L = L, d = d, TFP = TFP, tariff = tariff);"
   ]
  },
  {
   "cell_type": "code",
   "execution_count": 5,
   "id": "82ea9eb5-b2c4-4f94-84fe-bf574e75956b",
   "metadata": {},
   "outputs": [
    {
     "name": "stdout",
     "output_type": "stream",
     "text": [
      "Iter     f(x) inf-norm    Step 2-norm      Step time\n",
      "------   --------------   --------------   --------------\n",
      "     1     4.828222e-02     0.000000e+00         0.141000\n",
      "     2     1.153011e-03     9.307746e-03         0.796000\n",
      "     3     2.040069e-05     5.729792e-06         0.188000\n",
      "     4     6.701057e-07     3.003648e-10         0.156000\n",
      "     5     8.097669e-09     4.189037e-13         0.173000\n",
      "     6     7.035443e-11     4.215146e-19         0.148000\n",
      "     7     6.052093e-12     1.093386e-20         0.176000\n",
      "     8     1.915135e-15     6.847966e-23         0.173000\n",
      "Results of Nonlinear Solver Algorithm\n",
      " * Algorithm: Modified Powell\n",
      " * Starting Point: [1.0, 0.01, 0.0, 1.0147]\n",
      " * Zero: [1.0986598188185568, 0.01496580510882659, 8.309640152570302e-28, 1.0133160605657816]\n",
      " * Inf-norm of residuals: 0.000000\n",
      " * Convergence: true\n",
      " * Message: algorithm estimates that the relative error between x and the solution is at most tol\n",
      " * Total time: 1.951000 seconds\n",
      " * Function Calls: 8\n",
      " * Jacobian Calls (df/dx): 1"
     ]
    }
   ],
   "source": [
    "f(x) = world_equillibrium_FG_τ((x), hh_prm, cntry_prm)\n",
    "# this world... function is used to construct zero conditions for\n",
    "# the tariff case (with finacial globalization)...\n",
    "# so this means that what is taking place is that the government choses a transfer τ\n",
    "# so that the reveue collected equalls the lump sum transfer\n",
    "\n",
    "function f!(fvec, x)\n",
    "\n",
    "    fvec .= f(x)\n",
    "\n",
    "end\n",
    "\n",
    "τvec = [0.01; 0.0]\n",
    "\n",
    "xguess = [1.0;  τvec; 1.0147]\n",
    "\n",
    "n = length(xguess)\n",
    "diag_adjust = n - 1\n",
    "\n",
    "sol = fsolve(f!, (xguess), show_trace = true, method = :hybr;\n",
    "      ml=diag_adjust, mu=diag_adjust,\n",
    "      diag=ones(n),\n",
    "      mode= 1,\n",
    "      tol=1e-10,\n",
    "       )\n",
    "\n",
    "print(sol)"
   ]
  },
  {
   "cell_type": "code",
   "execution_count": 7,
   "id": "5a4374ac-d552-4e9c-8e61-7f88ce058719",
   "metadata": {},
   "outputs": [],
   "source": [
    "wage, τ, R = unpack_xvec(sol.x, 2)\n",
    "\n",
    "Y, tradeflows, A_demand, Gbudget, tradeshare, hh, dist  = world_equillibrium(R, wage, τ, hh_prm, cntry_prm);"
   ]
  },
  {
   "cell_type": "markdown",
   "id": "dcfcf439-80af-4bce-8bba-21c4dc90433c",
   "metadata": {},
   "source": [
    "Then here is quick overview of what is comming out of this"
   ]
  },
  {
   "cell_type": "code",
   "execution_count": 12,
   "id": "a6b49acb-4fe0-404a-a51f-06398f77da8d",
   "metadata": {},
   "outputs": [
    {
     "name": "stdout",
     "output_type": "stream",
     "text": [
      "[0.01496580510882659, 8.309640152570302e-28]\n",
      "[1.0986598188185568, 1.0]\n",
      "[1.0133160605657816, 1.0133160605657816]\n"
     ]
    }
   ],
   "source": [
    "println(τ)\n",
    "\n",
    "println(wage)\n",
    "\n",
    "println(R)"
   ]
  },
  {
   "cell_type": "markdown",
   "id": "cf267a9d-d50f-4b1f-86df-c65fcc646530",
   "metadata": {},
   "source": [
    "This is the transfer back to household and also notice that this the tariff increased the demand for home goods leading to a larger relative wage rate and a lower rate of interest (see notebook [here](two-country.ipynb)). "
   ]
  },
  {
   "cell_type": "code",
   "execution_count": 8,
   "id": "022b4c3f-cf76-4fe8-b3b4-e7ea6ce46abc",
   "metadata": {},
   "outputs": [
    {
     "name": "stdout",
     "output_type": "stream",
     "text": [
      "[-1.5612511283791264e-17, -8.309640152570302e-28]\n"
     ]
    }
   ],
   "source": [
    "println(Gbudget)"
   ]
  },
  {
   "cell_type": "markdown",
   "id": "1be4252d-438f-47e2-89df-666cc012f46e",
   "metadata": {},
   "source": [
    "So the government budget constraint is holding"
   ]
  },
  {
   "cell_type": "code",
   "execution_count": 16,
   "id": "221b7684-a5b9-4bb5-85b3-a622d1e1d3ed",
   "metadata": {},
   "outputs": [
    {
     "data": {
      "text/plain": [
       "2×2 Matrix{Float64}:\n",
       " 0.932819   0.0671806\n",
       " 0.0746229  0.925377"
      ]
     },
     "execution_count": 16,
     "metadata": {},
     "output_type": "execute_result"
    }
   ],
   "source": [
    "tradeshare"
   ]
  },
  {
   "cell_type": "markdown",
   "id": "0bc2c4d3-83f0-4493-bc8a-626b89ab006a",
   "metadata": {},
   "source": [
    "Then this is the trade share matrix where you can see relative to the [no tariff case](two-country.ipynb), trade declined in both economies. "
   ]
  }
 ],
 "metadata": {
  "kernelspec": {
   "display_name": "Julia 1.7.2",
   "language": "julia",
   "name": "julia-1.7"
  },
  "language_info": {
   "file_extension": ".jl",
   "mimetype": "application/julia",
   "name": "julia",
   "version": "1.7.2"
  }
 },
 "nbformat": 4,
 "nbformat_minor": 5
}
