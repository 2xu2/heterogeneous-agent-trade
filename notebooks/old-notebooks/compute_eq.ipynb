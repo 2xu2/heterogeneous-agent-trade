{
 "cells": [
  {
   "cell_type": "markdown",
   "metadata": {},
   "source": [
    "### TEST cases of computing a equilibrium\n",
    "\n",
    "Here I'm following the definition in the notes. So the goal is to find prices ($w_i, R_i$) such that:\n",
    "\n",
    "- the hh problem is solved\n",
    "- the distribution is consistent with the hh problem and stationary\n",
    "- markets clear so there is the goods market condition equation (26) and bond market condition (27)\n",
    "\n",
    "Note here that the wage is sufficent in that all $p_{ij}$ are pinned down from this.\n",
    "\n",
    "A couple of details in my code that confused me\n",
    "\n",
    "- I set everything up so country ones wage is the numerarie and only 2*Ncntry-1 markets are looked to be cleared. \n",
    "\n",
    "- the ``aggregate`` function constructs production (valued at price $p_i$) and then imports bilaterally. \n",
    "\n",
    "- then in ``world_equillibrium`` around line 70, I construct the matrix of trade flows with a row being the destination country, and then working across columns one has the countries that that country is buying from. \n",
    "\n",
    "- what previous bullet implies is that when equation (26) is computed, a countries exports (including to itself) are the sum down a row. Where as the sum across columns are imports. Line 25 in code discusses this as well.\n",
    "\n",
    "---\n"
   ]
  },
  {
   "cell_type": "code",
   "execution_count": 2,
   "metadata": {},
   "outputs": [],
   "source": [
    "include(\"../code/julia/ha-trade-environment.jl\")\n",
    "\n",
    "include(\"../code/julia/ha-trade-solution.jl\") #in here is the ``world_equillibrium'' function\n",
    "\n",
    "include(\"../code/julia/ha-trade-helper-functions.jl\") #in there is the ``aggregate'' function\n",
    "\n",
    "include(\"../code/julia/static-trade-environment.jl\")\n",
    "using MINPACK"
   ]
  },
  {
   "cell_type": "markdown",
   "metadata": {},
   "source": [
    "---\n",
    "\n",
    "### Symmetric 4 countries"
   ]
  },
  {
   "cell_type": "code",
   "execution_count": 3,
   "metadata": {},
   "outputs": [],
   "source": [
    "Ncntry = 4\n",
    "\n",
    "dtest = 2.0\n",
    "d = dtest.*ones(Ncntry,Ncntry)\n",
    "d[diagind(d)] .= 1.0\n",
    "\n",
    "TFP = [1.0, 1.0, 1.00, 1.00]\n",
    "\n",
    "mdl_prm = world_model_params(Ncntry = Ncntry, Na = 100, Nshocks = 5, \n",
    "γ = 2.0, ϕ = 3, amax = 8.0, σ = 0.40, ρ = 0.20, σϵ = 0.25, d = d, TFP = TFP)\n",
    "\n",
    "# not sure why these values\n",
    "\n",
    "@unpack Na, Nshocks, Ncntry, TFP = mdl_prm\n",
    "\n",
    "R = 1.03*ones(Ncntry);\n",
    "W = 1.0*ones(Ncntry);"
   ]
  },
  {
   "cell_type": "code",
   "execution_count": 4,
   "metadata": {},
   "outputs": [
    {
     "name": "stdout",
     "output_type": "stream",
     "text": [
      "Iter     f(x) inf-norm    Step 2-norm      Step time\n",
      "------   --------------   --------------   --------------\n",
      "     1     2.780362e-01     0.000000e+00        40.965000\n",
      "     2     3.629802e-02     1.949642e-05         9.829000\n",
      "     3     2.327439e-03     3.378723e-06         1.079000\n",
      "     4     1.231814e-04     7.502279e-09         1.043000\n",
      "     5     2.377496e-05     1.098913e-12         1.132000\n",
      "Results of Nonlinear Solver Algorithm\n",
      " * Algorithm: Modified Powell\n",
      " * Starting Point: [1.0, 1.0, 1.0, 1.03, 1.03, 1.03, 1.03]\n",
      " * Zero: [0.9999999997835487, 0.9999999997833852, 0.9999999997834562, 1.0317823752547763, 1.0317822035599291, 1.0317822035602404, 1.0317822035601023]\n",
      " * Inf-norm of residuals: 0.000024\n",
      " * Convergence: true\n",
      " * Message: algorithm estimates that the relative error between x and the solution is at most tol\n",
      " * Total time: 54.049000 seconds\n",
      " * Function Calls: 5\n",
      " * Jacobian Calls (df/dx): 1"
     ]
    }
   ],
   "source": [
    "f(x) = world_equillibrium(x, mdl_prm, hh_solution_method = \"itteration\");\n",
    "\n",
    "function f!(fvec, x)\n",
    "\n",
    "    fvec .= f(x)\n",
    "\n",
    "end\n",
    "\n",
    "initial_x = [W[2:end]; R]\n",
    "\n",
    "n = length(initial_x)\n",
    "diag_adjust = n - 1\n",
    "\n",
    "sol = fsolve(f!, initial_x, show_trace = true, method = :hybr;\n",
    "      ml=diag_adjust, mu=diag_adjust,\n",
    "      diag=ones(n),\n",
    "      mode= 1,\n",
    "      tol=1e-5,\n",
    "       )\n",
    "\n",
    "print(sol)\n",
    "\n",
    "Wsol = [1.0; sol.x[1:Ncntry-1]]\n",
    "Rsol = sol.x[Ncntry:end]\n",
    "\n",
    "Y, tradeflows, A_demand, tradeshare, hh, dist = world_equillibrium(Rsol, Wsol, mdl_prm, hh_solution_method = \"itteration\");"
   ]
  },
  {
   "cell_type": "code",
   "execution_count": 5,
   "metadata": {},
   "outputs": [
    {
     "data": {
      "text/plain": [
       "4-element Vector{Float64}:\n",
       " 1.1043882543572114\n",
       " 1.1043882541181695\n",
       " 1.1043882541179877\n",
       " 1.1043882541180692"
      ]
     },
     "execution_count": 5,
     "metadata": {},
     "output_type": "execute_result"
    }
   ],
   "source": [
    "Y"
   ]
  },
  {
   "cell_type": "code",
   "execution_count": 6,
   "metadata": {},
   "outputs": [
    {
     "data": {
      "text/plain": [
       "4×4 Matrix{Float64}:\n",
       " 0.932536   0.0572844  0.0572844  0.0572844\n",
       " 0.0572842  0.932535   0.0572842  0.0572842\n",
       " 0.0572842  0.0572842  0.932535   0.0572842\n",
       " 0.0572842  0.0572842  0.0572842  0.932535"
      ]
     },
     "execution_count": 6,
     "metadata": {},
     "output_type": "execute_result"
    }
   ],
   "source": [
    "tradeflows"
   ]
  },
  {
   "cell_type": "markdown",
   "metadata": {},
   "source": [
    "So this look pretty good. Converged quickly, the wages are all equal or $\\approx$ 1.0 and then the interest rates are the same. "
   ]
  },
  {
   "cell_type": "markdown",
   "metadata": {},
   "source": [
    "---\n",
    "\n",
    "### 4 Country asymmetric "
   ]
  },
  {
   "cell_type": "code",
   "execution_count": 7,
   "metadata": {},
   "outputs": [],
   "source": [
    "Ncntry = 4\n",
    "\n",
    "dtest = 2.0\n",
    "d = dtest.*ones(Ncntry,Ncntry)\n",
    "d[diagind(d)] .= 1.0\n",
    "\n",
    "TFP = [1.0, 1.0, 0.75, 1.25] \n",
    "#here there is a rich and a poor country\n",
    "\n",
    "mdl_prm = world_model_params(Ncntry = Ncntry, Na = 100, Nshocks = 5, \n",
    "γ = 2.0, ϕ = 3, amax = 8.0, σ = 0.40, ρ = 0.20, σϵ = 0.25, d = d, TFP = TFP)\n",
    "\n",
    "@unpack Na, Nshocks, Ncntry, TFP = mdl_prm\n",
    "\n",
    "R = 1.03*ones(Ncntry);\n",
    "W = 1.0*ones(Ncntry);\n"
   ]
  },
  {
   "cell_type": "code",
   "execution_count": 8,
   "metadata": {},
   "outputs": [
    {
     "name": "stdout",
     "output_type": "stream",
     "text": [
      "Iter     f(x) inf-norm    Step 2-norm      Step time\n",
      "------   --------------   --------------   --------------\n",
      "     1     4.519892e-01     0.000000e+00         0.881000\n",
      "     2     2.074719e-01     3.424722e-02         7.353000\n",
      "     3     1.484559e-01     1.320159e-03         1.040000\n",
      "     4     1.608679e-01     1.479236e-04         0.983000\n",
      "     5     8.422125e-02     9.746771e-06         0.967000\n",
      "     6     4.090719e-02     2.244559e-06         0.973000\n",
      "     7     1.143755e-03     2.449194e-07         0.957000\n",
      "     8     1.756105e-04     1.393589e-10         1.036000\n",
      "Results of Nonlinear Solver Algorithm\n",
      " * Algorithm: Modified Powell\n",
      " * Starting Point: [1.0, 1.0, 1.0, 1.03, 1.03, 1.03, 1.03]\n",
      " * Zero: [0.9999999103444615, 0.8280999397832072, 1.1533952485591796, 1.0317702664236748, 1.0317702574042107, 1.0339885565644116, 1.0295060762744703]\n",
      " * Inf-norm of residuals: 0.000176\n",
      " * Convergence: true\n",
      " * Message: algorithm estimates that the relative error between x and the solution is at most tol\n",
      " * Total time: 14.190000 seconds\n",
      " * Function Calls: 8\n",
      " * Jacobian Calls (df/dx): 1"
     ]
    }
   ],
   "source": [
    "f(x) = world_equillibrium(x, mdl_prm, hh_solution_method = \"itteration\");\n",
    "\n",
    "function f!(fvec, x)\n",
    "\n",
    "    fvec .= f(x)\n",
    "\n",
    "end\n",
    "\n",
    "initial_x = [W[2:end]; R]\n",
    "\n",
    "n = length(initial_x)\n",
    "diag_adjust = n - 1\n",
    "\n",
    "sol = fsolve(f!, initial_x, show_trace = true, method = :hybr;\n",
    "      ml=diag_adjust, mu=diag_adjust,\n",
    "      diag=ones(n),\n",
    "      mode= 1,\n",
    "      tol=1e-5,\n",
    "       )\n",
    "\n",
    "print(sol)\n",
    "\n",
    "Wsol = [1.0; sol.x[1:Ncntry-1]]\n",
    "Rsol = sol.x[Ncntry:end]\n",
    "\n",
    "Y, tradeflows, A_demand, tradeshare, hh, dist = world_equillibrium(Rsol, Wsol, mdl_prm, hh_solution_method = \"itteration\");"
   ]
  },
  {
   "cell_type": "code",
   "execution_count": 9,
   "metadata": {},
   "outputs": [
    {
     "data": {
      "text/plain": [
       "4-element Vector{Float64}:\n",
       " 1.1043882543572199\n",
       " 1.1043881553426895\n",
       " 0.9145438469304947\n",
       " 1.273796165140177"
      ]
     },
     "execution_count": 9,
     "metadata": {},
     "output_type": "execute_result"
    }
   ],
   "source": [
    "Y"
   ]
  },
  {
   "cell_type": "code",
   "execution_count": 10,
   "metadata": {},
   "outputs": [
    {
     "data": {
      "text/plain": [
       "4×4 Matrix{Float64}:\n",
       " 0.928934   0.0570974  0.0351285  0.0832275\n",
       " 0.0570974  0.928934   0.0351285  0.0832275\n",
       " 0.0348608  0.0348608  0.788773   0.0560552\n",
       " 0.0834949  0.0834949  0.0555191  1.05129"
      ]
     },
     "execution_count": 10,
     "metadata": {},
     "output_type": "execute_result"
    }
   ],
   "source": [
    "tradeflows"
   ]
  },
  {
   "cell_type": "markdown",
   "metadata": {},
   "source": [
    "So far this passes the smell test. The rich country is richer, people buy more stuff from it. The poor country is poor and people buy less stuff from it. Also notice that country 1 and 2 are the same, so the wage in country 2 is $\\approx$ 1 and then their interest rates are virtually the same. "
   ]
  },
  {
   "cell_type": "code",
   "execution_count": null,
   "metadata": {},
   "outputs": [],
   "source": []
  }
 ],
 "metadata": {
  "kernelspec": {
   "display_name": "Julia 1.7.0",
   "language": "julia",
   "name": "julia-1.7"
  },
  "language_info": {
   "file_extension": ".jl",
   "mimetype": "application/julia",
   "name": "julia",
   "version": "1.7.0"
  }
 },
 "nbformat": 4,
 "nbformat_minor": 4
}
