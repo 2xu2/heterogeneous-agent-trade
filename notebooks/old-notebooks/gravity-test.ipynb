{
 "cells": [
  {
   "cell_type": "code",
   "execution_count": 1,
   "metadata": {},
   "outputs": [],
   "source": [
    "using DataFrames, RDatasets, FixedEffectModels\n",
    "using BenchmarkTools\n",
    "using CSV, HTTP\n",
    "using CategoricalArrays"
   ]
  },
  {
   "cell_type": "code",
   "execution_count": 2,
   "metadata": {},
   "outputs": [],
   "source": [
    "function normalize_by_home_trade(df)\n",
    "    \n",
    "    home_trade = df[df.importer_index .== df.exporter_index,:].tradesharedata\n",
    "    # grabs the home trade share by finding where importer = exporter\n",
    "    \n",
    "    df.tradesharedata .= df.tradesharedata / home_trade\n",
    "    # normalize things\n",
    "    \n",
    "    return df\n",
    "    \n",
    "end \n",
    "\n",
    "# grpek = groupby(dfektrade , \"importer_index\");\n",
    "# # a grouping operation\n",
    "\n",
    "# # foo[1][foo[1].importer_index .== foo[1].exporter_index,:]\n",
    "\n",
    "# dfnormtrade = combine(normalize_by_home_trade, grpek);"
   ]
  },
  {
   "cell_type": "code",
   "execution_count": 4,
   "metadata": {},
   "outputs": [
    {
     "name": "stdout",
     "output_type": "stream",
     "text": [
      "\u001b[1m10×3 DataFrame\u001b[0m\n",
      "\u001b[1m Row \u001b[0m│\u001b[1m sharedlanguage \u001b[0m\u001b[1m europeancom \u001b[0m\u001b[1m efta  \u001b[0m\n",
      "\u001b[1m     \u001b[0m│\u001b[90m Int64          \u001b[0m\u001b[90m Int64       \u001b[0m\u001b[90m Int64 \u001b[0m\n",
      "─────┼────────────────────────────────────\n",
      "   1 │              0            0      0\n",
      "   2 │              0            0      0\n",
      "   3 │              1            0      0\n",
      "   4 │              0            0      0\n",
      "   5 │              0            0      0\n",
      "   6 │              0            0      0\n",
      "   7 │              0            0      0\n",
      "   8 │              0            0      0\n",
      "   9 │              0            0      0\n",
      "  10 │              0            0      0\n"
     ]
    }
   ],
   "source": [
    "dfekimporter = CSV.read(\"../ek-data/ek-importer.csv\", DataFrame, header = 0)\n",
    "\n",
    "rename!(dfekimporter,[:importer])\n",
    "\n",
    "dfekexporter = CSV.read(\"../ek-data/ek-exporter.csv\", DataFrame, header = 0)\n",
    "\n",
    "rename!(dfekexporter,[:exporter])\n",
    "\n",
    "dfektrade = CSV.read(\"../ek-data/ek-alt-trade.csv\", DataFrame, header = 0)\n",
    "\n",
    "rename!(dfektrade,[:trade])\n",
    "\n",
    "dfekdistance = CSV.read(\"../ek-data/ek-distance.csv\", DataFrame, header = 0)\n",
    "\n",
    "rename!(dfekdistance,[:distance])\n",
    "\n",
    "dfaltekdistance = CSV.read(\"../ek-data/ek-alt-distance.csv\", DataFrame, header = 0)\n",
    "\n",
    "rename!(dfaltekdistance,[:bin375,:bin750,:bin1500,:bin3000,:bin6000,:binmax])\n",
    "\n",
    "dfekdistance.distance = 10.0*dfekdistance.distance\n",
    "\n",
    "dfekborder = CSV.read(\"../ek-data/ek-border.csv\", DataFrame, header = 0)\n",
    "\n",
    "rename!(dfekborder,[:border])\n",
    "\n",
    "dfeklanguage = CSV.read(\"../ek-data/ek-language-common-area.csv\", DataFrame, header = 0)\n",
    "\n",
    "rename!(dfeklanguage,[:sharedlanguage,:europeancom,:efta])\n",
    "\n",
    "println(dfeklanguage[1:10,:])"
   ]
  },
  {
   "cell_type": "code",
   "execution_count": 7,
   "metadata": {},
   "outputs": [
    {
     "name": "stdout",
     "output_type": "stream",
     "text": [
      "\u001b[1m20×12 DataFrame\u001b[0m\n",
      "\u001b[1m Row \u001b[0m│\u001b[1m trade   \u001b[0m\u001b[1m distance \u001b[0m\u001b[1m border \u001b[0m\u001b[1m bin375 \u001b[0m\u001b[1m bin750 \u001b[0m\u001b[1m bin1500 \u001b[0m\u001b[1m bin3000 \u001b[0m\u001b[1m bin6000 \u001b[0m\u001b[1m binmax \u001b[0m\u001b[1m distbin \u001b[0m\u001b[1m importer \u001b[0m\u001b[1m exporter \u001b[0m\n",
      "\u001b[1m     \u001b[0m│\u001b[90m Float64 \u001b[0m\u001b[90m Float64  \u001b[0m\u001b[90m Int64  \u001b[0m\u001b[90m Int64  \u001b[0m\u001b[90m Int64  \u001b[0m\u001b[90m Int64   \u001b[0m\u001b[90m Int64   \u001b[0m\u001b[90m Int64   \u001b[0m\u001b[90m Int64  \u001b[0m\u001b[90m Float64 \u001b[0m\u001b[90m Int64    \u001b[0m\u001b[90m Int64    \u001b[0m\n",
      "─────┼───────────────────────────────────────────────────────────────────────────────────────────────────────────\n",
      "   1 │   0.0         0.0       0       1       0        0        0        0       0      1.0         1         1\n",
      "   2 │  -7.41     9891.0       0       0       0        0        0        0       1      6.0         1         2\n",
      "   3 │ -10.074   10389.0       0       0       0        0        0        0       1      6.0         1         3\n",
      "   4 │  -5.826   10009.0       0       0       0        0        0        0       1      6.0         1         4\n",
      "   5 │  -8.206    9968.0       0       0       0        0        0        0       1      6.0         1         5\n",
      "   6 │  -6.461    9453.0       0       0       0        0        0        0       1      6.0         1         6\n",
      "   7 │  -5.176   10517.0       0       0       0        0        0        0       1      6.0         1         7\n",
      "   8 │  -3.918    9987.0       0       0       0        0        0        0       1      6.0         1         8\n",
      "   9 │  -9.092    9450.0       0       0       0        0        0        0       1      6.0         1         9\n",
      "  10 │  -4.528   10073.0       0       0       0        0        0        0       1      6.0         1        10\n",
      "  11 │  -2.04     4924.0       0       0       0        0        0        1       0      5.0         1        11\n",
      "  12 │  -8.801   10334.0       0       0       0        0        0        0       1      6.0         1        12\n",
      "  13 │  -4.96     1443.0       0       0       0        1        0        0       0      3.0         1        13\n",
      "  14 │  -8.137    9927.0       0       0       0        0        0        0       1      6.0         1        14\n",
      "  15 │  -8.985   11221.0       0       0       0        0        0        0       1      6.0         1        15\n",
      "  16 │  -6.688   10924.0       0       0       0        0        0        0       1      6.0         1        16\n",
      "  17 │  -5.886    9699.0       0       0       0        0        0        0       1      6.0         1        17\n",
      "  18 │  -4.04      769.0       0       0       0        0        0        0       1      6.0         1        18\n",
      "  19 │  -2.179    9389.0       0       0       0        0        0        0       1      6.0         1        19\n",
      "  20 │  -7.942    9891.0       0       0       0        0        0        0       1      6.0         2         1\n"
     ]
    }
   ],
   "source": [
    "dfaltekdistance.distbin .= 0.0;\n",
    "\n",
    "dfaltekdistance[:, :distbin] .= ifelse.(dfaltekdistance.bin375 .== 1, 1.0, dfaltekdistance[:, :distbin]);\n",
    "\n",
    "dfaltekdistance[:, :distbin] .= ifelse.((dfaltekdistance.bin750 .== 1 ), 2.0, dfaltekdistance[:, :distbin]);\n",
    "\n",
    "dfaltekdistance[:, :distbin] .= ifelse.((dfaltekdistance.bin1500 .== 1 ), 3.0, dfaltekdistance[:, :distbin]);\n",
    "\n",
    "dfaltekdistance[:, :distbin] .= ifelse.((dfaltekdistance.bin3000 .== 1 ), 4.0, dfaltekdistance[:, :distbin]);\n",
    "\n",
    "dfaltekdistance[:, :distbin] .= ifelse.((dfaltekdistance.bin6000 .== 1 ), 5.0, dfaltekdistance[:, :distbin]);\n",
    "\n",
    "dfaltekdistance[:, :distbin] .= ifelse.((dfaltekdistance.binmax .== 1 ), 6.0, dfaltekdistance[:, :distbin]);\n",
    "\n",
    "dfektrade = hcat(dfektrade , dfekdistance)\n",
    "\n",
    "dfektrade = hcat(dfektrade , dfekborder)\n",
    "\n",
    "dfektrade = hcat(dfektrade, dfaltekdistance)\n",
    "\n",
    "dfektrade = hcat(dfektrade, dfekimporter)\n",
    "\n",
    "dfektrade = hcat(dfektrade, dfekexporter)\n",
    "\n",
    "println(dfektrade[1:20, :])\n",
    "\n"
   ]
  },
  {
   "cell_type": "code",
   "execution_count": 10,
   "metadata": {},
   "outputs": [
    {
     "data": {
      "text/plain": [
       "76"
      ]
     },
     "execution_count": 10,
     "metadata": {},
     "output_type": "execute_result"
    }
   ],
   "source": [
    "sum(dfektrade.distbin .== 6.0)"
   ]
  },
  {
   "cell_type": "code",
   "execution_count": 11,
   "metadata": {},
   "outputs": [
    {
     "data": {
      "text/plain": [
       "\"ek-language.csv\""
      ]
     },
     "execution_count": 11,
     "metadata": {},
     "output_type": "execute_result"
    }
   ],
   "source": [
    "CSV.write(\"ek-data.csv\", dfektrade)\n",
    "\n",
    "CSV.write(\"ek-language.csv\", dfeklanguage)"
   ]
  },
  {
   "cell_type": "code",
   "execution_count": 36,
   "metadata": {},
   "outputs": [
    {
     "data": {
      "text/plain": [
       "(342, 12)"
      ]
     },
     "execution_count": 36,
     "metadata": {},
     "output_type": "execute_result"
    }
   ],
   "source": [
    "\n",
    "filter!(row -> ~(row.trade ≈ 1.0), dfektrade);\n",
    "\n",
    "filter!(row -> ~(row.trade ≈ 0.0), dfektrade);\n",
    "\n",
    "size(dfektrade)\n"
   ]
  },
  {
   "cell_type": "code",
   "execution_count": 37,
   "metadata": {},
   "outputs": [],
   "source": [
    "dfektrade = hcat(dfektrade, dfeklanguage);"
   ]
  },
  {
   "cell_type": "code",
   "execution_count": 38,
   "metadata": {},
   "outputs": [
    {
     "name": "stdout",
     "output_type": "stream",
     "text": [
      "\u001b[1m19×15 DataFrame\u001b[0m\n",
      "\u001b[1m Row \u001b[0m│\u001b[1m trade   \u001b[0m\u001b[1m distance \u001b[0m\u001b[1m distbin \u001b[0m\u001b[1m border \u001b[0m\u001b[1m bin375 \u001b[0m\u001b[1m bin750 \u001b[0m\u001b[1m bin1500 \u001b[0m\u001b[1m bin3000 \u001b[0m\u001b[1m bin6000 \u001b[0m\u001b[1m binmax \u001b[0m\u001b[1m importer \u001b[0m\u001b[1m exporter \u001b[0m\u001b[1m sharedlanguage \u001b[0m\u001b[1m europeancom \u001b[0m\u001b[1m efta  \u001b[0m\n",
      "\u001b[1m     \u001b[0m│\u001b[90m Float64 \u001b[0m\u001b[90m Float64  \u001b[0m\u001b[90m Float64 \u001b[0m\u001b[90m Int64  \u001b[0m\u001b[90m Int64  \u001b[0m\u001b[90m Int64  \u001b[0m\u001b[90m Int64   \u001b[0m\u001b[90m Int64   \u001b[0m\u001b[90m Int64   \u001b[0m\u001b[90m Int64  \u001b[0m\u001b[90m Int64    \u001b[0m\u001b[90m Int64    \u001b[0m\u001b[90m Int64          \u001b[0m\u001b[90m Int64       \u001b[0m\u001b[90m Int64 \u001b[0m\n",
      "─────┼───────────────────────────────────────────────────────────────────────────────────────────────────────────────────────────────────────────────\n",
      "   1 │  -7.41     9891.0      6.0       0       0       0        0        0        0       1         1         2               0            0      0\n",
      "   2 │ -10.074   10389.0      6.0       0       0       0        0        0        0       1         1         3               0            0      0\n",
      "   3 │  -5.826   10009.0      6.0       0       0       0        0        0        0       1         1         4               1            0      0\n",
      "   4 │  -8.206    9968.0      6.0       0       0       0        0        0        0       1         1         5               0            0      0\n",
      "   5 │  -6.461    9453.0      6.0       0       0       0        0        0        0       1         1         6               0            0      0\n",
      "   6 │  -5.176   10517.0      6.0       0       0       0        0        0        0       1         1         7               0            0      0\n",
      "   7 │  -3.918    9987.0      6.0       0       0       0        0        0        0       1         1         8               0            0      0\n",
      "   8 │  -9.092    9450.0      6.0       0       0       0        0        0        0       1         1         9               0            0      0\n",
      "   9 │  -4.528   10073.0      6.0       0       0       0        0        0        0       1         1        10               0            0      0\n",
      "  10 │  -2.04     4924.0      5.0       0       0       0        0        0        1       0         1        11               0            0      0\n",
      "  11 │  -8.801   10334.0      6.0       0       0       0        0        0        0       1         1        12               0            0      0\n",
      "  12 │  -4.96     1443.0      3.0       0       0       0        1        0        0       0         1        13               1            0      0\n",
      "  13 │  -8.137    9927.0      6.0       0       0       0        0        0        0       1         1        14               0            0      0\n",
      "  14 │  -8.985   11221.0      6.0       0       0       0        0        0        0       1         1        15               0            0      0\n",
      "  15 │  -6.688   10924.0      6.0       0       0       0        0        0        0       1         1        16               0            0      0\n",
      "  16 │  -5.886    9699.0      6.0       0       0       0        0        0        0       1         1        17               0            0      0\n",
      "  17 │  -4.04      769.0      3.0       0       0       0        0        0        0       1         1        18               1            0      0\n",
      "  18 │  -2.179    9389.0      6.0       0       0       0        0        0        0       1         1        19               1            0      0\n",
      "  19 │  -7.942    9891.0      6.0       0       0       0        0        0        0       1         2         1               0            0      0\n"
     ]
    }
   ],
   "source": [
    "println(dfektrade[1:19,:])"
   ]
  },
  {
   "cell_type": "code",
   "execution_count": 39,
   "metadata": {},
   "outputs": [
    {
     "name": "stdout",
     "output_type": "stream",
     "text": [
      "  0.884772 seconds (2.25 M allocations: 122.481 MiB, 2.73% gc time, 99.39% compilation time)\n"
     ]
    },
    {
     "data": {
      "text/plain": [
       "                            Fixed Effect Model                            \n",
       "==========================================================================\n",
       "Number of obs:                   342  Degrees of freedom:                8\n",
       "R2:                            0.976  R2 Adjusted:                   0.972\n",
       "F-Stat:                      87.9716  p-value:                       0.000\n",
       "R2 within:                     0.729  Iterations:                        4\n",
       "==========================================================================\n",
       "trade          |  Estimate Std.Error  t value Pr(>|t|) Lower 95% Upper 95%\n",
       "--------------------------------------------------------------------------\n",
       "bin375         |   3.45649  0.204755  16.8811    0.000   3.05352   3.85946\n",
       "bin750         |   2.89299  0.167308  17.2914    0.000   2.56372   3.22227\n",
       "bin1500        |   2.52554  0.156294  16.1589    0.000   2.21794   2.83313\n",
       "bin3000        |   2.34086   0.20072  11.6623    0.000   1.94583   2.73589\n",
       "bin6000        |  0.494561  0.121258  4.07857    0.000  0.255917  0.733205\n",
       "binmax         |       0.0       NaN      NaN      NaN       NaN       NaN\n",
       "border         |  0.303564  0.137391  2.20948    0.028 0.0331683  0.573959\n",
       "sharedlanguage |   0.51008  0.145751  3.49966    0.001  0.223232  0.796929\n",
       "europeancom    | 0.0359119  0.121818 0.294798    0.768 -0.203835  0.275659\n",
       "efta           |  0.536071  0.182873  2.93139    0.004  0.176166  0.895976\n",
       "==========================================================================\n"
      ]
     },
     "execution_count": 39,
     "metadata": {},
     "output_type": "execute_result"
    }
   ],
   "source": [
    "# don't have distance in here, but this the basic regression\n",
    "\n",
    "@time outreg = reg(dfektrade, @formula(trade ~ fe(importer) + fe(exporter) +\n",
    "         bin375 + bin750 + bin1500 + bin3000 + bin6000 + binmax  + border + \n",
    "                sharedlanguage + europeancom + efta + 0), save = true)\n",
    "\n",
    "# in this one, intercept of not does not matter\n",
    "# but if one does fe on the distance bin, the border stuff etc. won't match up"
   ]
  },
  {
   "cell_type": "markdown",
   "metadata": {},
   "source": [
    "The basic issue is this. First, the normal stuff matches up, border, language, etc. with EK02. Next, the levels of the distance bins do not match up...but the relative values do. So the effect from moving closest to furthest away is -3.46 which is exactly what is implied by EK02.\n",
    "\n",
    "Then notice that the exporter fixed effect lines up with $S_i$s in EK. \n",
    "\n",
    "So what is happening (for some reason) the importer fe are not normalized"
   ]
  },
  {
   "cell_type": "code",
   "execution_count": 53,
   "metadata": {},
   "outputs": [
    {
     "data": {
      "text/plain": [
       "                            Fixed Effect Model                            \n",
       "==========================================================================\n",
       "Number of obs:                   342  Degrees of freedom:                8\n",
       "R2:                            0.976  R2 Adjusted:                   0.972\n",
       "F-Stat:                      87.9716  p-value:                       0.000\n",
       "R2 within:                     0.729  Iterations:                        4\n",
       "==========================================================================\n",
       "trade          |  Estimate Std.Error  t value Pr(>|t|) Lower 95% Upper 95%\n",
       "--------------------------------------------------------------------------\n",
       "bin375         |   3.45649  0.204755  16.8811    0.000   3.05352   3.85946\n",
       "bin750         |   2.89299  0.167308  17.2914    0.000   2.56372   3.22227\n",
       "bin1500        |   2.52554  0.156294  16.1589    0.000   2.21794   2.83313\n",
       "bin3000        |   2.34086   0.20072  11.6623    0.000   1.94583   2.73589\n",
       "bin6000        |  0.494561  0.121258  4.07857    0.000  0.255917  0.733205\n",
       "binmax         |       0.0       NaN      NaN      NaN       NaN       NaN\n",
       "border         |  0.303564  0.137391  2.20948    0.028 0.0331683  0.573959\n",
       "sharedlanguage |   0.51008  0.145751  3.49966    0.001  0.223232  0.796929\n",
       "europeancom    | 0.0359119  0.121818 0.294798    0.768 -0.203835  0.275659\n",
       "efta           |  0.536071  0.182873  2.93139    0.004  0.176166  0.895976\n",
       "==========================================================================\n"
      ]
     },
     "execution_count": 53,
     "metadata": {},
     "output_type": "execute_result"
    }
   ],
   "source": [
    "reg(dfektrade, @formula(trade ~ fe(importer) + fe(exporter) +\n",
    "         bin375 + bin750 + bin1500 + bin3000 + bin6000 + binmax  + border + \n",
    "                sharedlanguage + europeancom + efta + 0))"
   ]
  },
  {
   "cell_type": "code",
   "execution_count": 42,
   "metadata": {},
   "outputs": [
    {
     "data": {
      "text/plain": [
       "6-element Vector{Float64}:\n",
       " -3.102440151020191\n",
       " -3.665940509065175\n",
       " -4.03339539351596\n",
       " -4.218077290075897\n",
       " -6.064372105694248\n",
       " -6.558933104672115"
      ]
     },
     "execution_count": 42,
     "metadata": {},
     "output_type": "execute_result"
    }
   ],
   "source": [
    "outreg.coef[1:6] .+ sum(unique(outreg.fe.fe_importer)) / 19"
   ]
  },
  {
   "cell_type": "code",
   "execution_count": 45,
   "metadata": {},
   "outputs": [
    {
     "name": "stdout",
     "output_type": "stream",
     "text": [
      "\u001b[1m20×4 DataFrame\u001b[0m\n",
      "\u001b[1m Row \u001b[0m│\u001b[1m importer \u001b[0m\u001b[1m exporter \u001b[0m\u001b[1m fe_importer \u001b[0m\u001b[1m fe_exporter \u001b[0m\n",
      "\u001b[1m     \u001b[0m│\u001b[90m Int64    \u001b[0m\u001b[90m Int64    \u001b[0m\u001b[90m Float64?    \u001b[0m\u001b[90m Float64?    \u001b[0m\n",
      "─────┼──────────────────────────────────────────────\n",
      "   1 │        1         2     -6.51527  -1.16184\n",
      "   2 │        1         3     -6.51527  -3.33563\n",
      "   3 │        1         4     -6.51527   0.411561\n",
      "   4 │        1         5     -6.51527  -1.74955\n",
      "   5 │        1         6     -6.51527  -0.522466\n",
      "   6 │        1         7     -6.51527   1.28138\n",
      "   7 │        1         8     -6.51527   2.35275\n",
      "   8 │        1         9     -6.51527  -2.81352\n",
      "   9 │        1        10     -6.51527   1.78151\n",
      "  10 │        1        11     -6.51527   4.19879\n",
      "  11 │        1        12     -6.51527  -2.18932\n",
      "  12 │        1        13     -6.51527  -1.19769\n",
      "  13 │        1        14     -6.51527  -1.34615\n",
      "  14 │        1        15     -6.51527  -1.57318\n",
      "  15 │        1        16     -6.51527   0.303089\n",
      "  16 │        1        17     -6.51527   0.00981614\n",
      "  17 │        1        18     -6.51527   1.37417\n",
      "  18 │        1        19     -6.51527   3.98372\n",
      "  19 │        2         1     -7.07551   0.192558\n",
      "  20 │        2         3     -7.07551  -3.33563\n"
     ]
    }
   ],
   "source": [
    "println(outreg.fe[1:20,:])"
   ]
  },
  {
   "cell_type": "code",
   "execution_count": 48,
   "metadata": {},
   "outputs": [
    {
     "data": {
      "text/plain": [
       "19-element Vector{Union{Missing, Float64}}:\n",
       " -1.1618390691970162\n",
       " -3.3356251102144108\n",
       "  0.41156104550239414\n",
       " -1.7495500129450563\n",
       " -0.5224659009637302\n",
       "  1.281384026967499\n",
       "  2.352748237706335\n",
       " -2.813521274291235\n",
       "  1.7815099846745037\n",
       "  4.198787040343374\n",
       " -2.1893194485603877\n",
       " -1.1976868887919667\n",
       " -1.3461517689525517\n",
       " -1.5731796130646756\n",
       "  0.30308906006441294\n",
       "  0.009816140326315725\n",
       "  1.3741669179055849\n",
       "  3.9837189402392372\n",
       "  0.19255769325137706"
      ]
     },
     "execution_count": 48,
     "metadata": {},
     "output_type": "execute_result"
    }
   ],
   "source": [
    "unique(outreg.fe.fe_exporter)"
   ]
  },
  {
   "cell_type": "code",
   "execution_count": 40,
   "metadata": {},
   "outputs": [
    {
     "data": {
      "text/plain": [
       "19-element Vector{Float64}:\n",
       "  0.04366295640927209\n",
       " -0.5165759113022785\n",
       "  4.455743310838223\n",
       "  0.27703472971292076\n",
       "  1.243660513370732\n",
       " -0.812021877891218\n",
       " -1.0630896572430286\n",
       " -1.3539359728199818\n",
       "  0.45711030465613245\n",
       " -1.7113321205886551\n",
       " -2.613897170182944\n",
       "  3.1941016040711925\n",
       "  1.264260479629086\n",
       "  0.34574296788955383\n",
       "  0.36639933430374594\n",
       " -1.4597004136197986\n",
       " -0.034680514325143186\n",
       " -0.5573593978838884\n",
       " -1.5251231650239232"
      ]
     },
     "execution_count": 40,
     "metadata": {},
     "output_type": "execute_result"
    }
   ],
   "source": [
    "unique(outreg.fe.fe_importer) .- sum(unique(outreg.fe.fe_importer)) / 19\n",
    "\n",
    "# notice this, if we normalize the numay variables by this\n",
    "# this is exactly the estimate of the bin6"
   ]
  },
  {
   "cell_type": "code",
   "execution_count": 346,
   "metadata": {},
   "outputs": [
    {
     "data": {
      "text/plain": [
       "0.52"
      ]
     },
     "execution_count": 346,
     "metadata": {},
     "output_type": "execute_result"
    }
   ],
   "source": [
    "-1.16 + 1.68\n"
   ]
  },
  {
   "cell_type": "code",
   "execution_count": null,
   "metadata": {},
   "outputs": [],
   "source": []
  }
 ],
 "metadata": {
  "kernelspec": {
   "display_name": "Julia 1.7.0",
   "language": "julia",
   "name": "julia-1.7"
  },
  "language_info": {
   "file_extension": ".jl",
   "mimetype": "application/julia",
   "name": "julia",
   "version": "1.7.0"
  }
 },
 "nbformat": 4,
 "nbformat_minor": 4
}
