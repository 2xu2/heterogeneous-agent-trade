{
 "cells": [
  {
   "cell_type": "markdown",
   "metadata": {},
   "source": [
    "### Armington Trade Model"
   ]
  },
  {
   "cell_type": "markdown",
   "metadata": {},
   "source": [
    "This notebook illustrates how a basic Armington trade model operates. As discussed below, it's setup so that aggregate demand derived from the household side of the model, can be pass through and the pattern of trade determined."
   ]
  },
  {
   "cell_type": "code",
   "execution_count": 1,
   "metadata": {},
   "outputs": [],
   "source": [
    "include(\"../src/armington-trade-environment.jl\") # loads functions which describe the enviornment\n",
    "include(\"../src/armington-trade-solution.jl\") # loads functions which can be used to find an equillibrium\n",
    "\n",
    "using MINPACK # the solver."
   ]
  },
  {
   "cell_type": "markdown",
   "metadata": {},
   "source": [
    "#### High-Level Description\n",
    "\n",
    "1. Environment\n",
    "\n",
    "The ``-environment.jl`` file contains a function ``trade_flows`` and it takes endogenous objects (prices, price index, aggregate demand) and then returns a structure ``trade_stats`` which is composed of trade flows in expenditure share form, in value, tariff revenue, world demand, and the price index.  Helper files with parameters, compute the CES price index, compute all goods prices are in the environment file as well. Two important points:\n",
    "\n",
    "- All prices are normalized so the country in the first entry's price index is one. \n",
    "\n",
    "- Trade shares, flows, and revenue are expressed as a matrix with rows being the buyer dimension and columns being the seller dimension. \n",
    "\n",
    "2. Solution \n",
    "\n",
    "The ``-solution.jl`` file contains the function ``trade_equilibrium`` which takes endogenous objects (wages, aggregate demand, production factors) it then computes the pattern of trade and world wide demand for each countries commodity via the function ``trade_flows`` function and compares it against the production in each country. The ``trade_equilibrium`` function contains key word arguments for either solver (default) or grabbing the output.\n",
    "\n",
    "---\n",
    "\n",
    "#### Computing Trade Flows"
   ]
  },
  {
   "cell_type": "code",
   "execution_count": 2,
   "metadata": {},
   "outputs": [
    {
     "data": {
      "text/plain": [
       "(θ = 4.0, τ = [0.0 0.0; 0.0 0.0], d = [1.0 1.5; 1.5 1.0], A = [1.0, 1.0], Ncntry = 2)"
      ]
     },
     "execution_count": 2,
     "metadata": {},
     "output_type": "execute_result"
    }
   ],
   "source": [
    "trade_params()"
   ]
  },
  {
   "cell_type": "markdown",
   "metadata": {},
   "source": [
    "Here ``trade_params()`` is a function from the ``Parameters.jl`` package that preloads parameter values. They are set up in the following way:\n",
    "\n",
    "```\n",
    "trade_params = @with_kw (\n",
    "    θ = 4.0, # Armington Elasticity, controls elasticity of substitution in CES model.\n",
    "    τ = [0.0  0.0; 0.0 0.0], # tariff rate, row = buyer, column = supplier\n",
    "    d = [1.0  1.5; 1.5 1.0], # trade cost, row = buyer, column = supplier\n",
    "    A = [1.0, 1.0], #TFP, # Productivity in each country\n",
    "    Ncntry = length(A),\n",
    "    \n",
    ")\n",
    "```\n",
    "\n",
    "Then below is a basic call of how to compute the trade flows. "
   ]
  },
  {
   "cell_type": "code",
   "execution_count": 3,
   "metadata": {},
   "outputs": [],
   "source": [
    "params = trade_params()\n",
    "\n",
    "w = [1.0 ,1.0] # the wage rate in each country\n",
    "\n",
    "N = [1.0 ,1.0] # the wage rate in each country\n",
    "\n",
    "p, Pindex = goods_prices(w, params )\n",
    "\n",
    "AD = (w .* N) ./ Pindex \n",
    "\n",
    "# this is aggregate demand. Needs to be in local consumption units\n",
    "\n",
    "trade = trade_flows(p, Pindex, AD, params );"
   ]
  },
  {
   "cell_type": "markdown",
   "metadata": {},
   "source": [
    "**Note** this is setup a little bit differently than standard trade settings. Here I'm de-linking the notion between income, production, and demand. What this means is wages -> goods prices. Then goods prices + aggregate demand of goods of AD -> where a country satisfies it's demand and by how much. An equillibrium is some notion about how wages (and income more broadly) relate to aggregate demand. The standard trade setting would say that whatever you eat $= \\frac{w_{i}*L_{i}}{P_{i}}$ in final consumption units, but here it needs not be that."
   ]
  },
  {
   "cell_type": "code",
   "execution_count": 4,
   "metadata": {},
   "outputs": [
    {
     "data": {
      "text/plain": [
       "2×2 Matrix{Float64}:\n",
       " 0.771429  0.228571\n",
       " 0.228571  0.771429"
      ]
     },
     "execution_count": 4,
     "metadata": {},
     "output_type": "execute_result"
    }
   ],
   "source": [
    "trade.trade_share"
   ]
  },
  {
   "cell_type": "markdown",
   "metadata": {},
   "source": [
    "This is each country's expenditure share of goods from different locations. What this says is ``0.77`` in the first row, first column means that country one buys 77 percent of stuff from it self and then the first row, second column means that country one buys 23 percent of it's stuff from country two. "
   ]
  },
  {
   "cell_type": "code",
   "execution_count": 7,
   "metadata": {},
   "outputs": [
    {
     "data": {
      "text/plain": [
       "2×2 Matrix{Float64}:\n",
       " 0.0  0.0\n",
       " 0.0  0.0"
      ]
     },
     "execution_count": 7,
     "metadata": {},
     "output_type": "execute_result"
    }
   ],
   "source": [
    "trade.τ_revenue"
   ]
  },
  {
   "cell_type": "markdown",
   "metadata": {},
   "source": [
    "Here are things expressed in value terms. This is setup so it's in units of the commodity the country produces."
   ]
  },
  {
   "cell_type": "code",
   "execution_count": 8,
   "metadata": {},
   "outputs": [
    {
     "data": {
      "text/plain": [
       "2×2 Matrix{Float64}:\n",
       " 0.771429  0.228571\n",
       " 0.228571  0.771429"
      ]
     },
     "execution_count": 8,
     "metadata": {},
     "output_type": "execute_result"
    }
   ],
   "source": [
    "trade.trade_value"
   ]
  },
  {
   "cell_type": "markdown",
   "metadata": {},
   "source": [
    "Then because everything is symmetric here it turns out to be the same as the shares.\n",
    "\n",
    "Now this is setup so that we can match up demand with supply. How does this work. Now world demand for a country's commodity is the sum down a column."
   ]
  },
  {
   "cell_type": "code",
   "execution_count": 9,
   "metadata": {},
   "outputs": [
    {
     "data": {
      "text/plain": [
       "2-element Vector{Float64}:\n",
       " 0.9999999999999997\n",
       " 0.9999999999999997"
      ]
     },
     "execution_count": 9,
     "metadata": {},
     "output_type": "execute_result"
    }
   ],
   "source": [
    "trade.world_demand"
   ]
  },
  {
   "cell_type": "markdown",
   "metadata": {},
   "source": [
    "---\n",
    "#### Computing a (Trade) Equilibrium\n",
    "\n",
    "In a simple static, trade equilibrium one is looking for wage rate $w$ such that world demand = world supply for each commodity. Pretty simple. This is how it works below in a 2 country, asymmetric world."
   ]
  },
  {
   "cell_type": "code",
   "execution_count": 10,
   "metadata": {},
   "outputs": [
    {
     "data": {
      "text/plain": [
       "f! (generic function with 1 method)"
      ]
     },
     "execution_count": 10,
     "metadata": {},
     "output_type": "execute_result"
    }
   ],
   "source": [
    "N = [1.0 ,1.0]\n",
    "\n",
    "d = [1.0 2.0; 3.0 1.0] \n",
    "τ = [0.0 0.0; 0.0 0.0]\n",
    "\n",
    "params = trade_params(d = d, τ = τ)\n",
    "\n",
    "Ncntry = params.Ncntry\n",
    "\n",
    "function f!(fvec, x)\n",
    "    \n",
    "    w = x[1:Ncntry] # this is the wage\n",
    "    \n",
    "    τrev = x[Ncntry+1:end] # this is the tariff revenue...\n",
    "    \n",
    "    Pindex = goods_prices(w, params)[2] # get price index so aggregate demand can be in consumption units.\n",
    "\n",
    "    fvec .= trade_equilibrium(w, ( w.*N .+ τrev)./ Pindex, N, τrev, params) \n",
    "    # inputs are wage, Aggregate Demand, Labor Supply, tariff revenue, parameters\n",
    "    \n",
    "    # returns Ncntry x 2 vector \n",
    "    # first Ncntry entries are difference between world demand and world supply\n",
    "    # next Ncntry entries are difference between conjecture revenue and actuall tariff revenue\n",
    "\n",
    "end"
   ]
  },
  {
   "cell_type": "code",
   "execution_count": 15,
   "metadata": {},
   "outputs": [
    {
     "name": "stdout",
     "output_type": "stream",
     "text": [
      "Iter     f(x) inf-norm    Step 2-norm      Step time\n",
      "------   --------------   --------------   --------------\n",
      "     1     1.154387e-01     0.000000e+00         0.000000\n",
      "     2     1.059735e-02     3.796220e-02         0.016000\n",
      "     3     1.032742e-03     4.500734e-04         0.000000\n",
      "     4     3.359724e-05     4.328248e-06         0.000000\n",
      "     5     3.101237e-06     1.843287e-09         0.000000\n",
      "     6     2.436241e-08     1.590422e-11         0.000000\n"
     ]
    },
    {
     "data": {
      "text/plain": [
       "Results of Nonlinear Solver Algorithm\n",
       " * Algorithm: Modified Powell\n",
       " * Starting Point: [1.0, 1.0, 0.0, 0.0]\n",
       " * Zero: [1.024270000710426, 1.2166194421736258, 0.0, 0.0]\n",
       " * Inf-norm of residuals: 0.000000\n",
       " * Convergence: true\n",
       " * Message: algorithm estimates that the relative error between x and the solution is at most tol\n",
       " * Total time: 0.016000 seconds\n",
       " * Function Calls: 6\n",
       " * Jacobian Calls (df/dx): 1"
      ]
     },
     "execution_count": 15,
     "metadata": {},
     "output_type": "execute_result"
    }
   ],
   "source": [
    "initial_x = [1.0 ,1.0 , 0.0, 0.0]\n",
    "\n",
    "n = length(initial_x)\n",
    "diag_adjust = n - 1\n",
    "\n",
    "sol = fsolve(f!, initial_x, show_trace = true, method = :hybr;\n",
    "      ml=diag_adjust, mu=diag_adjust,\n",
    "      diag=ones(n),\n",
    "      mode= 1,\n",
    "      tol=1e-5,\n",
    "       )"
   ]
  },
  {
   "cell_type": "code",
   "execution_count": 16,
   "metadata": {},
   "outputs": [
    {
     "data": {
      "text/plain": [
       "2-element Vector{Float64}:\n",
       " 0.0\n",
       " 0.0"
      ]
     },
     "execution_count": 16,
     "metadata": {},
     "output_type": "execute_result"
    }
   ],
   "source": [
    "wage = sol.x[1:Ncntry]\n",
    "    \n",
    "τ_revenue = sol.x[Ncntry+1:end]"
   ]
  },
  {
   "cell_type": "code",
   "execution_count": 26,
   "metadata": {},
   "outputs": [
    {
     "data": {
      "text/plain": [
       "trade_stats{Float64}([0.9531715425425131 0.0710984581679131; 0.07109845819899586 1.1455209839746303], [0.9305862144565402 0.06941378554345998; 0.05843935723398482 0.9415606427660154], [0.0 0.0; 0.0 0.0], [1.024270000741509, 1.2166194421425434], [1.0000000000000002; 1.1924427204563686;;])"
      ]
     },
     "execution_count": 26,
     "metadata": {},
     "output_type": "execute_result"
    }
   ],
   "source": [
    "p, Pindex = goods_prices(wage, params)\n",
    "\n",
    "trade = trade_equilibrium(wage, (wage.*N) ./ Pindex , N, τ_revenue, params, output = \"all\")"
   ]
  },
  {
   "cell_type": "code",
   "execution_count": 19,
   "metadata": {},
   "outputs": [
    {
     "data": {
      "text/plain": [
       "2×2 Matrix{Float64}:\n",
       " 0.930586   0.0694138\n",
       " 0.0584394  0.941561"
      ]
     },
     "execution_count": 19,
     "metadata": {},
     "output_type": "execute_result"
    }
   ],
   "source": [
    "trade.trade_share"
   ]
  },
  {
   "cell_type": "markdown",
   "metadata": {},
   "source": [
    "So in this setting country one is buys 93 percent from itself, 7 percent from country 2. The assymetry here arises because the country 2 faces a larger trade cost to buy from one than vice versa.\n",
    "\n",
    "As one check of this, we can compare the real wage vs. the ACR formula... the trade share to the power $1/(1-\\theta)$."
   ]
  },
  {
   "cell_type": "code",
   "execution_count": 20,
   "metadata": {},
   "outputs": [
    {
     "data": {
      "text/plain": [
       "1.0242700211949347"
      ]
     },
     "execution_count": 20,
     "metadata": {},
     "output_type": "execute_result"
    }
   ],
   "source": [
    "(trade.trade_share[1,1])^(1.0 / (1.0 - params.θ))"
   ]
  },
  {
   "cell_type": "code",
   "execution_count": 21,
   "metadata": {},
   "outputs": [
    {
     "data": {
      "text/plain": [
       "1.024270000710426"
      ]
     },
     "execution_count": 21,
     "metadata": {},
     "output_type": "execute_result"
    }
   ],
   "source": [
    "wage[1]"
   ]
  },
  {
   "cell_type": "markdown",
   "metadata": {},
   "source": [
    "So what is happening here is that the real wage is corresponding with the ACR formula. And then below is the real wage for the second country."
   ]
  },
  {
   "cell_type": "code",
   "execution_count": 22,
   "metadata": {},
   "outputs": [
    {
     "data": {
      "text/plain": [
       "1.0202749543458192"
      ]
     },
     "execution_count": 22,
     "metadata": {},
     "output_type": "execute_result"
    }
   ],
   "source": [
    "wage[2] / Pindex[2]"
   ]
  },
  {
   "cell_type": "code",
   "execution_count": 23,
   "metadata": {},
   "outputs": [
    {
     "data": {
      "text/plain": [
       "1.0202749747504305"
      ]
     },
     "execution_count": 23,
     "metadata": {},
     "output_type": "execute_result"
    }
   ],
   "source": [
    "(trade.trade_share[2,2])^(1.0 / (1.0 - params.θ))"
   ]
  },
  {
   "cell_type": "code",
   "execution_count": 24,
   "metadata": {},
   "outputs": [
    {
     "data": {
      "text/plain": [
       "2-element Vector{Float64}:\n",
       " 1.024270000741509\n",
       " 1.2166194421425434"
      ]
     },
     "execution_count": 24,
     "metadata": {},
     "output_type": "execute_result"
    }
   ],
   "source": [
    "trade.world_demand"
   ]
  },
  {
   "cell_type": "markdown",
   "metadata": {},
   "source": [
    "And then to match this up with production, we price the value of production at the price $p_{ii}$ so"
   ]
  },
  {
   "cell_type": "code",
   "execution_count": 30,
   "metadata": {},
   "outputs": [
    {
     "data": {
      "text/plain": [
       "1.024270021194935"
      ]
     },
     "execution_count": 30,
     "metadata": {},
     "output_type": "execute_result"
    }
   ],
   "source": [
    "p[1,1] * params.A[1] * N[1]"
   ]
  },
  {
   "cell_type": "code",
   "execution_count": 29,
   "metadata": {},
   "outputs": [
    {
     "data": {
      "text/plain": [
       "1.2166194665049561"
      ]
     },
     "execution_count": 29,
     "metadata": {},
     "output_type": "execute_result"
    }
   ],
   "source": [
    "p[2,2] * params.A[2] * N[2]"
   ]
  },
  {
   "cell_type": "markdown",
   "metadata": {},
   "source": [
    "So what we see is the value of stuff produced is matching up with the value of stuff produced. Also, note that when expressed in value terms, it factors in to the equation that some of the goods \"melt\" away because of the trade costs or go towards tariffs."
   ]
  },
  {
   "cell_type": "code",
   "execution_count": null,
   "metadata": {},
   "outputs": [],
   "source": []
  }
 ],
 "metadata": {
  "kernelspec": {
   "display_name": "Julia 1.7.0",
   "language": "julia",
   "name": "julia-1.7"
  },
  "language_info": {
   "file_extension": ".jl",
   "mimetype": "application/julia",
   "name": "julia",
   "version": "1.7.0"
  }
 },
 "nbformat": 4,
 "nbformat_minor": 4
}
