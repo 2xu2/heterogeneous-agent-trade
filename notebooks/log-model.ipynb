{
 "cells": [
  {
   "cell_type": "code",
   "execution_count": 1,
   "metadata": {},
   "outputs": [
    {
     "name": "stderr",
     "output_type": "stream",
     "text": [
      "WARNING: using DataFrames.aggregate in module Main conflicts with an existing identifier.\n"
     ]
    }
   ],
   "source": [
    "include(\"../code/julia/ha-trade-environment.jl\")\n",
    "include(\"../code/julia/ha-trade-solution.jl\")\n",
    "include(\"../code/julia/ha-trade-helper-functions.jl\")\n",
    "include(\"../code/julia/ha-trade-elasticity.jl\")\n",
    "include(\"../code/julia/ha-trade-efficient.jl\")\n",
    "include(\"../code/julia/static-trade-environment.jl\")\n",
    "include(\"../code/julia/gravity-tools.jl\")\n",
    "\n",
    "using MINPACK\n",
    "using Plots\n",
    "using CSV\n",
    "using DataFrames"
   ]
  },
  {
   "cell_type": "markdown",
   "metadata": {},
   "source": [
    "### The Curios Case of the Log-model\n",
    "\n",
    "Here I walk through some of the properties that of the log model in a two country setting.\n",
    "\n"
   ]
  },
  {
   "cell_type": "code",
   "execution_count": 14,
   "metadata": {},
   "outputs": [
    {
     "data": {
      "text/plain": [
       "1.0"
      ]
     },
     "execution_count": 14,
     "metadata": {},
     "output_type": "execute_result"
    }
   ],
   "source": [
    "γ = 1.0 # Setting \\gamma = 1.0 is when u(c) = log(c)"
   ]
  },
  {
   "cell_type": "code",
   "execution_count": 16,
   "metadata": {},
   "outputs": [],
   "source": [
    "# The rest of the parameters\n",
    "\n",
    "σϵ = 0.25\n",
    "Ncntry = 2 # number of countries\n",
    "\n",
    "# this setups up parameters on the household side\n",
    "hh_prm = household_params(Ncntry = Ncntry, Na = 100, β = 0.92, γ = γ, ϕ = 0.5, amax = 8.0, σϵ = σϵ);\n"
   ]
  },
  {
   "cell_type": "code",
   "execution_count": 17,
   "metadata": {},
   "outputs": [],
   "source": [
    "# here are some simpe country parametrers\n",
    "TFP = [1.0; 1.0]\n",
    "\n",
    "L = [1.0; 1.0]\n",
    "\n",
    "d_ij = 2.05\n",
    "\n",
    "d = [1.0 d_ij; d_ij 1.0]\n",
    "\n",
    "# this sets up the country specific paramters\n",
    "cntry_prm = country_params(Ncntry = Ncntry, L = L, d = d, TFP = TFP);"
   ]
  },
  {
   "cell_type": "markdown",
   "metadata": {},
   "source": [
    "---\n",
    "\n",
    "### Find an equilibrium \n",
    "\n",
    "Does what it says. Here I'm computing one for financial globalization. "
   ]
  },
  {
   "cell_type": "code",
   "execution_count": 18,
   "metadata": {},
   "outputs": [
    {
     "name": "stdout",
     "output_type": "stream",
     "text": [
      "Iter     f(x) inf-norm    Step 2-norm      Step time\n",
      "------   --------------   --------------   --------------\n",
      "     1     4.866213e-01     0.000000e+00         0.150000\n",
      "     2     9.842734e-01     1.635380e-03         0.313000\n",
      "     3     1.528856e-01     1.067457e-03         0.154000\n",
      "     4     5.314370e-02     3.145013e-05         0.094000\n",
      "     5     6.869751e-03     9.136320e-06         0.116000\n",
      "     6     5.572147e-04     1.117923e-07         0.119000\n",
      "     7     1.953094e-06     6.272382e-10         0.124000\n",
      "     8     3.885219e-08     7.528764e-15         0.102000\n",
      "     9     1.702087e-10     2.883283e-18         0.098000\n",
      "    10     2.735520e-13     5.568670e-23         0.142000\n",
      "    11     3.275158e-15     1.342411e-28         0.105000\n",
      "Results of Nonlinear Solver Algorithm\n",
      " * Algorithm: Modified Powell\n",
      " * Starting Point: [0.0, 0.01980262729617973]\n",
      " * Zero: [-3.799705427411952e-9, 0.04047910888855125]\n",
      " * Inf-norm of residuals: 0.000000\n",
      " * Convergence: true\n",
      " * Message: algorithm estimates that the relative error between x and the solution is at most tol\n",
      " * Total time: 1.539000 seconds\n",
      " * Function Calls: 11\n",
      " * Jacobian Calls (df/dx): 1"
     ]
    },
    {
     "data": {
      "text/plain": [
       "1.0413095553613083"
      ]
     },
     "execution_count": 18,
     "metadata": {},
     "output_type": "execute_result"
    }
   ],
   "source": [
    "f(x) = world_equillibrium_FG(exp.(x), hh_prm, cntry_prm)\n",
    "# this world... function is used to construct zero conditions for\n",
    "# the finacial globalization case\n",
    "\n",
    "function f!(fvec, x)\n",
    "\n",
    "    fvec .= f(x)\n",
    "\n",
    "end\n",
    "\n",
    "\n",
    "xguess = [1.0; 1.02]\n",
    "\n",
    "n = length(xguess)\n",
    "diag_adjust = n - 1\n",
    "\n",
    "sol = fsolve(f!, log.(xguess), show_trace = true, method = :hybr;\n",
    "      ml=diag_adjust, mu=diag_adjust,\n",
    "      diag=ones(n),\n",
    "      mode= 1,\n",
    "      tol=1e-10,\n",
    "       )\n",
    "\n",
    "# This solver works very well in general. Spencer Lyon converted old-school minpack\n",
    "# routines in C into julia\n",
    "\n",
    "print(sol)\n",
    "\n",
    "wage = [exp.(sol.x[1]); 1.0]\n",
    "R = exp.(sol.x[2])"
   ]
  },
  {
   "cell_type": "markdown",
   "metadata": {},
   "source": [
    "Then here are the results. The first entry is the wage rate which should be 1.0 given the symmetry. The second price is the interest rate, a side note, but the interest rate now is much higher to get people to hold the asset"
   ]
  },
  {
   "cell_type": "code",
   "execution_count": 19,
   "metadata": {},
   "outputs": [
    {
     "name": "stdout",
     "output_type": "stream",
     "text": [
      "[0.9999999962002946, 1.0413095553613083]\n"
     ]
    }
   ],
   "source": [
    "println(exp.(sol.x))\n"
   ]
  },
  {
   "cell_type": "markdown",
   "metadata": {},
   "source": [
    "Then this call computes aggregates given prices"
   ]
  },
  {
   "cell_type": "code",
   "execution_count": 20,
   "metadata": {},
   "outputs": [],
   "source": [
    "Rsol = [R; R]\n",
    "\n",
    "Y, tradeflows, A_demand, tradeshare, hh, dist = world_equillibrium(Rsol, wage, hh_prm, cntry_prm, tol_vfi = 1e-10);\n",
    "\n",
    "# this world_eq...is a core file takes prices and returns a bunch of stuff\n",
    "# note that hh, dist are objects of dimensiom number of countries, then within\n",
    "# it has policy functions and distributions state by state"
   ]
  },
  {
   "cell_type": "markdown",
   "metadata": {},
   "source": [
    "Here we can see the trade share matrix. Importers are rows, columns are exporters. Less trade relative to \\gamma > 1"
   ]
  },
  {
   "cell_type": "code",
   "execution_count": 21,
   "metadata": {},
   "outputs": [
    {
     "data": {
      "text/plain": [
       "2×2 Matrix{Float64}:\n",
       " 0.946412   0.0535877\n",
       " 0.0535877  0.946412"
      ]
     },
     "execution_count": 21,
     "metadata": {},
     "output_type": "execute_result"
    }
   ],
   "source": [
    "tradeshare"
   ]
  },
  {
   "cell_type": "markdown",
   "metadata": {},
   "source": [
    "here are the state by state choice probabilities of households in country 1. Consistent with the discussion in the paper, the choice probabilities are exactly the same for all households | even the constrained guys! "
   ]
  },
  {
   "cell_type": "code",
   "execution_count": 22,
   "metadata": {},
   "outputs": [
    {
     "data": {
      "text/plain": [
       "100×10 Matrix{Float64}:\n",
       " 0.0535877  0.0535877  0.0535877  …  0.0535877  0.0535877  0.0535877\n",
       " 0.0535877  0.0535877  0.0535877     0.0535877  0.0535877  0.0535877\n",
       " 0.0535877  0.0535877  0.0535877     0.0535877  0.0535877  0.0535877\n",
       " 0.0535877  0.0535877  0.0535877     0.0535877  0.0535877  0.0535877\n",
       " 0.0535877  0.0535877  0.0535877     0.0535877  0.0535877  0.0535877\n",
       " 0.0535877  0.0535877  0.0535877  …  0.0535877  0.0535877  0.0535877\n",
       " 0.0535877  0.0535877  0.0535877     0.0535877  0.0535877  0.0535877\n",
       " 0.0535877  0.0535877  0.0535877     0.0535877  0.0535877  0.0535877\n",
       " 0.0535877  0.0535877  0.0535877     0.0535877  0.0535877  0.0535877\n",
       " 0.0535877  0.0535877  0.0535877     0.0535877  0.0535877  0.0535877\n",
       " 0.0535877  0.0535877  0.0535877  …  0.0535877  0.0535877  0.0535877\n",
       " 0.0535877  0.0535877  0.0535877     0.0535877  0.0535877  0.0535877\n",
       " 0.0535877  0.0535877  0.0535877     0.0535877  0.0535877  0.0535877\n",
       " ⋮                                ⋱                        \n",
       " 0.0535877  0.0535877  0.0535877     0.0535877  0.0535877  0.0535877\n",
       " 0.0535877  0.0535877  0.0535877     0.0535877  0.0535877  0.0535877\n",
       " 0.0535877  0.0535877  0.0535877  …  0.0535877  0.0535877  0.0535877\n",
       " 0.0535877  0.0535877  0.0535877     0.0535877  0.0535877  0.0535877\n",
       " 0.0535877  0.0535877  0.0535877     0.0535877  0.0535877  0.0535877\n",
       " 0.0535877  0.0535877  0.0535877     0.0535877  0.0535877  0.0535877\n",
       " 0.0535877  0.0535877  0.0535877     0.0535877  0.0535877  0.0535877\n",
       " 0.0535877  0.0535877  0.0535877  …  0.0535877  0.0535877  0.0535877\n",
       " 0.0535877  0.0535877  0.0535877     0.0535877  0.0535877  0.0535877\n",
       " 0.0535877  0.0535877  0.0535877     0.0535877  0.0535877  0.0535877\n",
       " 0.0535877  0.0535877  0.0535877     0.0535877  0.0535877  0.0535877\n",
       " 0.0535877  0.0535877  0.0535877     0.0535877  0.0535877  0.0535877"
      ]
     },
     "execution_count": 22,
     "metadata": {},
     "output_type": "execute_result"
    }
   ],
   "source": [
    "hh[1].πprob[:,:,2]\n",
    "# guys in country one, a X z, probability of buying from 2"
   ]
  },
  {
   "cell_type": "markdown",
   "metadata": {},
   "source": [
    "---\n",
    "\n",
    "### Elasticities in the Log model\n",
    "\n",
    "A result in the paper is with log, elasticities become constant. Let's check this out"
   ]
  },
  {
   "cell_type": "code",
   "execution_count": 23,
   "metadata": {},
   "outputs": [],
   "source": [
    "cntry = 1 # this is the country I'll look at\n",
    "\n",
    "p = (wage[1:end] ./ TFP).*d[cntry,:] \n",
    "# prices from the perspective of those in that country\n",
    "\n",
    "hh = solve_household_problem(R, wage[cntry], p, hh_prm, tol = 1e-10);\n",
    "# solve hh problem at those prices\n",
    "\n",
    "dist = make_stationary_distribution(hh, hh_prm);\n",
    "# find stationary distribution\n"
   ]
  },
  {
   "cell_type": "markdown",
   "metadata": {},
   "source": [
    "This cell below then constructs the elasticities via numerical differentiation. Then the last two function calls construct the weights and then aggregate.\n",
    "\n",
    "A note on accuracy. I don't have a closed form for this. But in Mongey and Waugh, we do. And their I found that this approach worked well with the only issues being around states where the household is about to leave the borrowing constraint. This is to be expected per my discussion in the paper regarding how the constraint might show up in the elasticities."
   ]
  },
  {
   "cell_type": "code",
   "execution_count": 24,
   "metadata": {},
   "outputs": [
    {
     "data": {
      "text/plain": [
       "2-element Vector{Float64}:\n",
       "  1.0\n",
       " -3.999999999982769"
      ]
     },
     "execution_count": 24,
     "metadata": {},
     "output_type": "execute_result"
    }
   ],
   "source": [
    "θ = make_θ(cntry, R, wage[cntry], p, hh_prm; points = 3, order = 1)\n",
    "# makes the micro elasticities for country, cntry, \n",
    "\n",
    "ω = make_ω(hh, dist, L[cntry], p, hh_prm)\n",
    "# makes the expenditure weights\n",
    "\n",
    "agθ = aggregate_θ(θ, ω, cntry, hh_prm)\n",
    "# construct the aggregate elasticity. The interesting element here is \n",
    "# agθ[cntry]"
   ]
  },
  {
   "cell_type": "markdown",
   "metadata": {},
   "source": [
    "**A quick tour of the results:**\n",
    "\n",
    "The second element above is the aggregate trade elasticity. In this situation it is -4 which is exactly the prediction in the paper, it should equall $1 / \\sigma_\\epsilon$"
   ]
  },
  {
   "cell_type": "markdown",
   "metadata": {},
   "source": [
    "Then we can look at the **micro-elasticities**. \n",
    "\n",
    "Here is how θ_{ij}^E looks state by state (assets are rows, income shocks are columns) where one sees constant extensive margin elasticities"
   ]
  },
  {
   "cell_type": "code",
   "execution_count": 25,
   "metadata": {},
   "outputs": [
    {
     "data": {
      "text/plain": [
       "100×10 Matrix{Float64}:\n",
       " -3.78565  -3.78565  -3.78565  -3.78565  …  -3.78565  -3.78565  -3.78565\n",
       " -3.78565  -3.78565  -3.78565  -3.78565     -3.78565  -3.78565  -3.78565\n",
       " -3.78565  -3.78565  -3.78565  -3.78565     -3.78565  -3.78565  -3.78565\n",
       " -3.78565  -3.78565  -3.78565  -3.78565     -3.78565  -3.78565  -3.78565\n",
       " -3.78565  -3.78565  -3.78565  -3.78565     -3.78565  -3.78565  -3.78565\n",
       " -3.78565  -3.78565  -3.78565  -3.78565  …  -3.78565  -3.78565  -3.78565\n",
       " -3.78565  -3.78565  -3.78565  -3.78565     -3.78565  -3.78565  -3.78565\n",
       " -3.78565  -3.78565  -3.78565  -3.78565     -3.78565  -3.78565  -3.78565\n",
       " -3.78565  -3.78565  -3.78565  -3.78565     -3.78565  -3.78565  -3.78565\n",
       " -3.78565  -3.78565  -3.78565  -3.78565     -3.78565  -3.78565  -3.78565\n",
       " -3.78565  -3.78565  -3.78565  -3.78565  …  -3.78565  -3.78565  -3.78565\n",
       " -3.78565  -3.78565  -3.78565  -3.78565     -3.78565  -3.78565  -3.78565\n",
       " -3.78565  -3.78565  -3.78565  -3.78565     -3.78565  -3.78565  -3.78565\n",
       "  ⋮                                      ⋱                      \n",
       " -3.78565  -3.78565  -3.78565  -3.78565     -3.78565  -3.78565  -3.78565\n",
       " -3.78565  -3.78565  -3.78565  -3.78565     -3.78565  -3.78565  -3.78565\n",
       " -3.78565  -3.78565  -3.78565  -3.78565  …  -3.78565  -3.78565  -3.78565\n",
       " -3.78565  -3.78565  -3.78565  -3.78565     -3.78565  -3.78565  -3.78565\n",
       " -3.78565  -3.78565  -3.78565  -3.78565     -3.78565  -3.78565  -3.78565\n",
       " -3.78565  -3.78565  -3.78565  -3.78565     -3.78565  -3.78565  -3.78565\n",
       " -3.78565  -3.78565  -3.78565  -3.78565     -3.78565  -3.78565  -3.78565\n",
       " -3.78565  -3.78565  -3.78565  -3.78565  …  -3.78565  -3.78565  -3.78565\n",
       " -3.78565  -3.78565  -3.78565  -3.78565     -3.78565  -3.78565  -3.78565\n",
       " -3.78565  -3.78565  -3.78565  -3.78565     -3.78565  -3.78565  -3.78565\n",
       " -3.78565  -3.78565  -3.78565  -3.78565     -3.78565  -3.78565  -3.78565\n",
       " -3.78565  -3.78565  -3.78565  -3.78565     -3.78565  -3.78565  -3.78565"
      ]
     },
     "execution_count": 25,
     "metadata": {},
     "output_type": "execute_result"
    }
   ],
   "source": [
    "θ.θπ[:,:,2]"
   ]
  },
  {
   "cell_type": "markdown",
   "metadata": {},
   "source": [
    "Then one sees the same thing on the **intensive margin**. Everyone has an elasticity of -1, so all cost savings are directed towards more consumption."
   ]
  },
  {
   "cell_type": "code",
   "execution_count": 26,
   "metadata": {},
   "outputs": [
    {
     "data": {
      "text/plain": [
       "100×10 Matrix{Float64}:\n",
       " -1.0  -1.0  -1.0  -1.0  -1.0  -1.0  -1.0  -1.0  -1.0  -1.0\n",
       " -1.0  -1.0  -1.0  -1.0  -1.0  -1.0  -1.0  -1.0  -1.0  -1.0\n",
       " -1.0  -1.0  -1.0  -1.0  -1.0  -1.0  -1.0  -1.0  -1.0  -1.0\n",
       " -1.0  -1.0  -1.0  -1.0  -1.0  -1.0  -1.0  -1.0  -1.0  -1.0\n",
       " -1.0  -1.0  -1.0  -1.0  -1.0  -1.0  -1.0  -1.0  -1.0  -1.0\n",
       " -1.0  -1.0  -1.0  -1.0  -1.0  -1.0  -1.0  -1.0  -1.0  -1.0\n",
       " -1.0  -1.0  -1.0  -1.0  -1.0  -1.0  -1.0  -1.0  -1.0  -1.0\n",
       " -1.0  -1.0  -1.0  -1.0  -1.0  -1.0  -1.0  -1.0  -1.0  -1.0\n",
       " -1.0  -1.0  -1.0  -1.0  -1.0  -1.0  -1.0  -1.0  -1.0  -1.0\n",
       " -1.0  -1.0  -1.0  -1.0  -1.0  -1.0  -1.0  -1.0  -1.0  -1.0\n",
       " -1.0  -1.0  -1.0  -1.0  -1.0  -1.0  -1.0  -1.0  -1.0  -1.0\n",
       " -1.0  -1.0  -1.0  -1.0  -1.0  -1.0  -1.0  -1.0  -1.0  -1.0\n",
       " -1.0  -1.0  -1.0  -1.0  -1.0  -1.0  -1.0  -1.0  -1.0  -1.0\n",
       "  ⋮                             ⋮                      \n",
       " -1.0  -1.0  -1.0  -1.0  -1.0  -1.0  -1.0  -1.0  -1.0  -1.0\n",
       " -1.0  -1.0  -1.0  -1.0  -1.0  -1.0  -1.0  -1.0  -1.0  -1.0\n",
       " -1.0  -1.0  -1.0  -1.0  -1.0  -1.0  -1.0  -1.0  -1.0  -1.0\n",
       " -1.0  -1.0  -1.0  -1.0  -1.0  -1.0  -1.0  -1.0  -1.0  -1.0\n",
       " -1.0  -1.0  -1.0  -1.0  -1.0  -1.0  -1.0  -1.0  -1.0  -1.0\n",
       " -1.0  -1.0  -1.0  -1.0  -1.0  -1.0  -1.0  -1.0  -1.0  -1.0\n",
       " -1.0  -1.0  -1.0  -1.0  -1.0  -1.0  -1.0  -1.0  -1.0  -1.0\n",
       " -1.0  -1.0  -1.0  -1.0  -1.0  -1.0  -1.0  -1.0  -1.0  -1.0\n",
       " -1.0  -1.0  -1.0  -1.0  -1.0  -1.0  -1.0  -1.0  -1.0  -1.0\n",
       " -1.0  -1.0  -1.0  -1.0  -1.0  -1.0  -1.0  -1.0  -1.0  -1.0\n",
       " -1.0  -1.0  -1.0  -1.0  -1.0  -1.0  -1.0  -1.0  -1.0  -1.0\n",
       " -1.0  -1.0  -1.0  -1.0  -1.0  -1.0  -1.0  -1.0  -1.0  -1.0"
      ]
     },
     "execution_count": 26,
     "metadata": {},
     "output_type": "execute_result"
    }
   ],
   "source": [
    "θ.θc[:,:,2]"
   ]
  },
  {
   "cell_type": "markdown",
   "metadata": {},
   "source": [
    "And then here is the $\\theta^I_{ii,j}$, so how much does home consumption on the intensive margin respond. Not at all which is consistent with the theoretical arguments in the paper."
   ]
  },
  {
   "cell_type": "code",
   "execution_count": 28,
   "metadata": {},
   "outputs": [
    {
     "data": {
      "text/plain": [
       "100×10 Matrix{Float64}:\n",
       "  0.0           0.0          0.0          …  -1.36939e-11  0.0\n",
       "  0.0           0.0          0.0              1.36939e-11  0.0\n",
       "  0.0           0.0          0.0              1.36939e-11  0.0\n",
       "  0.0           0.0          0.0             -1.36939e-11  1.36939e-11\n",
       "  0.0           0.0          0.0              0.0          0.0\n",
       "  0.0           1.36939e-11  0.0          …   0.0          0.0\n",
       "  2.73878e-11   2.73878e-11  0.0              0.0          2.73878e-11\n",
       "  1.36939e-11   0.0          0.0              1.36939e-11  1.36939e-11\n",
       "  2.73878e-11   0.0          0.0              2.73878e-11  1.36939e-11\n",
       "  0.0          -2.05408e-11  0.0              2.73878e-11  4.10816e-11\n",
       "  0.0           0.0          0.0          …   1.36939e-11  4.10816e-11\n",
       "  0.0           0.0          0.0              0.0          5.47755e-11\n",
       " -2.05408e-11   3.42347e-11  0.0              0.0          2.73878e-11\n",
       "  ⋮                                       ⋱                \n",
       "  7.53163e-11   0.0          0.0              0.0          0.0\n",
       "  0.0           1.43786e-10  0.0              0.0          0.0\n",
       "  0.0           0.0          0.0          …   8.21633e-11  8.21633e-11\n",
       "  7.53163e-11   0.0          0.0              0.0          0.0\n",
       "  0.0           0.0          0.0              4.10816e-11  2.73878e-11\n",
       "  0.0           0.0          0.0              8.21633e-11  8.21633e-11\n",
       "  0.0           0.0          0.0              8.21633e-11  2.73878e-11\n",
       "  0.0           0.0          0.0          …   4.10816e-11  0.0\n",
       "  0.0           0.0          0.0              0.0          0.0\n",
       "  0.0           0.0          0.0              8.21633e-11  0.0\n",
       "  0.0          -6.84694e-11  0.0              0.0          0.0\n",
       "  0.0           1.30092e-10  6.84694e-11      0.0          0.0"
      ]
     },
     "execution_count": 28,
     "metadata": {},
     "output_type": "execute_result"
    }
   ],
   "source": [
    "θ.θcii[:,:,2]"
   ]
  },
  {
   "cell_type": "code",
   "execution_count": null,
   "metadata": {},
   "outputs": [],
   "source": []
  }
 ],
 "metadata": {
  "kernelspec": {
   "display_name": "Julia 1.7.0",
   "language": "julia",
   "name": "julia-1.7"
  },
  "language_info": {
   "file_extension": ".jl",
   "mimetype": "application/julia",
   "name": "julia",
   "version": "1.7.0"
  }
 },
 "nbformat": 4,
 "nbformat_minor": 4
}
