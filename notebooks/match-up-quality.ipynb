{
 "cells": [
  {
   "cell_type": "code",
   "execution_count": 1,
   "metadata": {},
   "outputs": [
    {
     "name": "stderr",
     "output_type": "stream",
     "text": [
      "WARNING: using DataFrames.aggregate in module Main conflicts with an existing identifier.\n"
     ]
    }
   ],
   "source": [
    "include(\"../code/julia/ha-trade.jl\")\n",
    "include(\"../code/julia/ha-trade-welfare.jl\")\n",
    "\n",
    "using MINPACK\n",
    "using Plots\n",
    "using CSV\n",
    "using DataFrames"
   ]
  },
  {
   "cell_type": "markdown",
   "metadata": {},
   "source": [
    "### First step, match up on no quality version..."
   ]
  },
  {
   "cell_type": "code",
   "execution_count": 2,
   "metadata": {},
   "outputs": [],
   "source": [
    "γ = 1.5 # curvatuve on CRRA utility function\n",
    "σϵ = 0.25 # logit dispersion parameter\n",
    "Ncntry = 2 # number of countries\n",
    "\n",
    "# this setups up parameters on the household side\n",
    "hh_prm = household_params(Ncntry = Ncntry, Na = 100, β = 0.92, γ = γ, ϕ = 0.5, amax = 8.0, σϵ = σϵ, ψslope = 0.0);\n",
    "\n",
    "#ψslope controls how residual demand varies with income state..."
   ]
  },
  {
   "cell_type": "code",
   "execution_count": 3,
   "metadata": {},
   "outputs": [],
   "source": [
    "# here are some simpe country parametrers\n",
    "TFP = [1.0; 1.0]\n",
    "\n",
    "τ = [0.0; 0.0]\n",
    "\n",
    "L = [1.0; 1.0]\n",
    "\n",
    "d_ij = 1.745\n",
    "\n",
    "d = [1.0 d_ij; d_ij 1.0]\n",
    "\n",
    "# this sets up the country specific paramters\n",
    "cntry_prm = country_params(Ncntry = Ncntry, L = L, d = d, TFP = TFP);"
   ]
  },
  {
   "cell_type": "code",
   "execution_count": 4,
   "metadata": {},
   "outputs": [
    {
     "name": "stdout",
     "output_type": "stream",
     "text": [
      "Iter     f(x) inf-norm    Step 2-norm      Step time\n",
      "------   --------------   --------------   --------------\n",
      "     1     1.560862e-01     0.000000e+00        39.267000\n",
      "     2     1.456059e-02     2.654986e-05         1.122000\n",
      "     3     1.638137e-03     4.506004e-07         0.136000\n",
      "     4     1.812301e-05     7.164351e-09         0.149000\n",
      "     5     1.674584e-08     9.008308e-13         0.135000\n",
      "     6     6.698718e-11     8.321748e-19         0.150000\n",
      "     7     3.676642e-13     1.185695e-23         0.144000\n",
      "     8     1.179612e-15     3.365318e-28         0.137000\n",
      "Results of Nonlinear Solver Algorithm\n",
      " * Algorithm: Modified Powell\n",
      " * Starting Point: [0.0, 0.01980262729617973]\n",
      " * Zero: [-2.039586404137559e-9, 0.014094023815588037]\n",
      " * Inf-norm of residuals: 0.000000\n",
      " * Convergence: true\n",
      " * Message: algorithm estimates that the relative error between x and the solution is at most tol\n",
      " * Total time: 41.240000 seconds\n",
      " * Function Calls: 8\n",
      " * Jacobian Calls (df/dx): 1"
     ]
    },
    {
     "data": {
      "text/plain": [
       "1.0141938128276817"
      ]
     },
     "execution_count": 4,
     "metadata": {},
     "output_type": "execute_result"
    }
   ],
   "source": [
    "f(x) = world_equillibrium_FG(exp.(x), hh_prm, cntry_prm)\n",
    "# this world... function is used to construct zero conditions for\n",
    "# the finacial globalization case\n",
    "\n",
    "function f!(fvec, x)\n",
    "\n",
    "    fvec .= f(x)\n",
    "\n",
    "end\n",
    "\n",
    "\n",
    "xguess = [1.0; 1.02]\n",
    "\n",
    "n = length(xguess)\n",
    "diag_adjust = n - 1\n",
    "\n",
    "sol = fsolve(f!, log.(xguess), show_trace = true, method = :hybr;\n",
    "      ml=diag_adjust, mu=diag_adjust,\n",
    "      diag=ones(n),\n",
    "      mode= 1,\n",
    "      tol=1e-10,\n",
    "       )\n",
    "\n",
    "# This solver works very well in general. Spencer Lyon converted old-school minpack\n",
    "# routines in C into julia\n",
    "\n",
    "print(sol)\n",
    "\n",
    "wage = [exp.(sol.x[1]); 1.0]\n",
    "R = exp.(sol.x[2])"
   ]
  },
  {
   "cell_type": "code",
   "execution_count": 5,
   "metadata": {},
   "outputs": [],
   "source": [
    "Rsol = [R; R]\n",
    "\n",
    "Y, tradeflows, A_demand, Gbudget, tradeshare, hh, dist = world_equillibrium(Rsol, wage, τ, hh_prm, cntry_prm, tol_vfi = 1e-10);"
   ]
  },
  {
   "cell_type": "code",
   "execution_count": 6,
   "metadata": {},
   "outputs": [
    {
     "data": {
      "text/plain": [
       "1.0141938128276817"
      ]
     },
     "execution_count": 6,
     "metadata": {},
     "output_type": "execute_result"
    }
   ],
   "source": [
    "R"
   ]
  },
  {
   "cell_type": "code",
   "execution_count": 7,
   "metadata": {},
   "outputs": [
    {
     "data": {
      "text/plain": [
       "2×2 Matrix{Float64}:\n",
       " 0.900484   0.0995163\n",
       " 0.0995163  0.900484"
      ]
     },
     "execution_count": 7,
     "metadata": {},
     "output_type": "execute_result"
    }
   ],
   "source": [
    "tradeshare"
   ]
  },
  {
   "cell_type": "code",
   "execution_count": 8,
   "metadata": {},
   "outputs": [
    {
     "data": {
      "text/plain": [
       "100×10 Matrix{Float64}:\n",
       " 0.00747609  0.0192432  0.0202433  0.0386541  …  0.103814  0.123432  0.138619\n",
       " 0.0139284   0.0212163  0.0281047  0.0428235     0.105277  0.127093  0.139288\n",
       " 0.0194756   0.0264393  0.0357197  0.0456883     0.106613  0.129608  0.139941\n",
       " 0.0218411   0.0282292  0.0387705  0.0478642     0.107806  0.131053  0.140583\n",
       " 0.0265513   0.0302667  0.042976   0.0506709     0.108911  0.132266  0.141216\n",
       " 0.0285041   0.0333028  0.0457674  0.0530594  …  0.109967  0.133278  0.141837\n",
       " 0.030625    0.0352261  0.0480061  0.0548275     0.111015  0.134253  0.142449\n",
       " 0.0333905   0.0371223  0.0507749  0.0564595     0.112049  0.135159  0.143062\n",
       " 0.0354688   0.039016   0.0531147  0.0582905     0.112984  0.136008  0.143643\n",
       " 0.037335    0.0409391  0.0548801  0.0601975     0.113907  0.136789  0.144216\n",
       " 0.0392264   0.0426161  0.0565561  0.061869   …  0.114807  0.137517  0.14478\n",
       " 0.0411777   0.0442844  0.058384   0.0633612     0.115682  0.138219  0.145336\n",
       " 0.0428169   0.0459213  0.0602438  0.0647288     0.116532  0.138903  0.145882\n",
       " ⋮                                            ⋱                      \n",
       " 0.112324    0.113433   0.124063   0.125662      0.157054  0.1724    0.176164\n",
       " 0.112915    0.114014   0.124608   0.12619       0.15744   0.172732  0.176494\n",
       " 0.113502    0.114589   0.125147   0.126717   …  0.157823  0.173063  0.176826\n",
       " 0.114081    0.115159   0.12568    0.127235      0.158204  0.173392  0.177168\n",
       " 0.114655    0.115727   0.126208   0.127743      0.158583  0.17372   0.177529\n",
       " 0.115224    0.116293   0.126734   0.128249      0.158959  0.174048  0.17791\n",
       " 0.115792    0.116857   0.127257   0.128756      0.159333  0.174376  0.178317\n",
       " 0.116356    0.117419   0.127765   0.129262   …  0.159704  0.174696  0.178809\n",
       " 0.11692     0.117968   0.128272   0.129765      0.16008   0.175016  0.179383\n",
       " 0.117482    0.118514   0.128778   0.130269      0.160455  0.175336  0.180032\n",
       " 0.118044    0.119067   0.129284   0.130776      0.160828  0.175656  0.181058\n",
       " 0.118594    0.119617   0.129786   0.131277      0.161199  0.175978  0.182546"
      ]
     },
     "execution_count": 8,
     "metadata": {},
     "output_type": "execute_result"
    }
   ],
   "source": [
    "hh[1].πprob[:,:,2]\n",
    "# guys in country one, a X z, probability of buying from 2"
   ]
  },
  {
   "cell_type": "markdown",
   "metadata": {},
   "source": [
    "### Now turn quality on..."
   ]
  },
  {
   "cell_type": "code",
   "execution_count": 9,
   "metadata": {},
   "outputs": [],
   "source": [
    "\n",
    "# this setups up parameters on the household side\n",
    "hh_prm = household_params(Ncntry = Ncntry, Na = 100, β = 0.92, γ = γ, ϕ = 0.5, amax = 8.0, σϵ = σϵ, ψslope = 0.2);\n",
    "\n",
    "#ψslope controls how residual demand varies with income state..."
   ]
  },
  {
   "cell_type": "code",
   "execution_count": 10,
   "metadata": {},
   "outputs": [
    {
     "name": "stdout",
     "output_type": "stream",
     "text": [
      "Iter     f(x) inf-norm    Step 2-norm      Step time\n",
      "------   --------------   --------------   --------------\n",
      "     1     1.992083e-01     0.000000e+00         0.114000\n",
      "     2     2.253156e-02     4.054422e-05         0.353000\n",
      "     3     3.170333e-03     1.074674e-06         0.087000\n",
      "     4     4.916331e-05     2.946856e-08         0.117000\n",
      "     5     1.685977e-07     7.182151e-12         0.117000\n",
      "     6     1.002796e-10     8.588696e-17         0.120000\n",
      "     7     4.424239e-13     2.833389e-23         0.152000\n",
      "     8     3.289036e-15     5.500317e-28         0.129000\n",
      "Results of Nonlinear Solver Algorithm\n",
      " * Algorithm: Modified Powell\n",
      " * Starting Point: [0.0, 0.01980262729617973]\n",
      " * Zero: [-2.2768317339848573e-9, 0.01258038097184609]\n",
      " * Inf-norm of residuals: 0.000000\n",
      " * Convergence: true\n",
      " * Message: algorithm estimates that the relative error between x and the solution is at most tol\n",
      " * Total time: 1.189000 seconds\n",
      " * Function Calls: 8\n",
      " * Jacobian Calls (df/dx): 1"
     ]
    },
    {
     "data": {
      "text/plain": [
       "1.012659846851913"
      ]
     },
     "execution_count": 10,
     "metadata": {},
     "output_type": "execute_result"
    }
   ],
   "source": [
    "f(x) = world_equillibrium_FG(exp.(x), hh_prm, cntry_prm)\n",
    "# this world... function is used to construct zero conditions for\n",
    "# the finacial globalization case\n",
    "\n",
    "function f!(fvec, x)\n",
    "\n",
    "    fvec .= f(x)\n",
    "\n",
    "end\n",
    "\n",
    "\n",
    "xguess = [1.0; 1.02]\n",
    "\n",
    "n = length(xguess)\n",
    "diag_adjust = n - 1\n",
    "\n",
    "sol = fsolve(f!, log.(xguess), show_trace = true, method = :hybr;\n",
    "      ml=diag_adjust, mu=diag_adjust,\n",
    "      diag=ones(n),\n",
    "      mode= 1,\n",
    "      tol=1e-10,\n",
    "       )\n",
    "\n",
    "# This solver works very well in general. Spencer Lyon converted old-school minpack\n",
    "# routines in C into julia\n",
    "\n",
    "print(sol)\n",
    "\n",
    "wage = [exp.(sol.x[1]); 1.0]\n",
    "R = exp.(sol.x[2])"
   ]
  },
  {
   "cell_type": "code",
   "execution_count": 11,
   "metadata": {},
   "outputs": [],
   "source": [
    "Rsol = [R; R]\n",
    "\n",
    "Y, tradeflows, A_demand, Gbudget, tradeshare, hh, dist = world_equillibrium(Rsol, wage, τ, hh_prm, cntry_prm, tol_vfi = 1e-10);"
   ]
  },
  {
   "cell_type": "code",
   "execution_count": 12,
   "metadata": {},
   "outputs": [
    {
     "data": {
      "text/plain": [
       "1.012659846851913"
      ]
     },
     "execution_count": 12,
     "metadata": {},
     "output_type": "execute_result"
    }
   ],
   "source": [
    "R"
   ]
  },
  {
   "cell_type": "code",
   "execution_count": 13,
   "metadata": {},
   "outputs": [
    {
     "data": {
      "text/plain": [
       "2×2 Matrix{Float64}:\n",
       " 0.912448   0.0875522\n",
       " 0.0875522  0.912448"
      ]
     },
     "execution_count": 13,
     "metadata": {},
     "output_type": "execute_result"
    }
   ],
   "source": [
    "tradeshare"
   ]
  },
  {
   "cell_type": "code",
   "execution_count": 14,
   "metadata": {},
   "outputs": [
    {
     "data": {
      "text/plain": [
       "100×10 Matrix{Float64}:\n",
       " 0.0203927  0.0360656  0.0380981  …  0.069461   0.0833217  0.0675049\n",
       " 0.0374807  0.0397536  0.0524594     0.0704901  0.0860155  0.0678605\n",
       " 0.0517403  0.0489637  0.0661095     0.071409   0.0879135  0.06821\n",
       " 0.057837   0.0523315  0.0715266     0.0722387  0.089045   0.0685533\n",
       " 0.0693525  0.0560704  0.0789035     0.0730149  0.0898944  0.0688905\n",
       " 0.0744127  0.0612837  0.08379    …  0.0737619  0.0906548  0.0692287\n",
       " 0.0797019  0.0647962  0.087817      0.0745066  0.0913656  0.0695538\n",
       " 0.0862534  0.0682007  0.0925053     0.0752162  0.0920282  0.0698665\n",
       " 0.0913775  0.0715594  0.096533      0.0758752  0.0926106  0.0701749\n",
       " 0.0959336  0.0749256  0.0996836     0.0765248  0.0931592  0.0704782\n",
       " 0.100463   0.0778429  0.10262    …  0.0771596  0.0936835  0.0707768\n",
       " 0.105026   0.0807764  0.105696      0.077774   0.094189   0.0710721\n",
       " 0.108972   0.0836368  0.108843      0.0783727  0.0946961  0.0713645\n",
       " ⋮                                ⋱                        \n",
       " 0.25642    0.194793   0.21244       0.107174   0.118936   0.0876796\n",
       " 0.257546   0.195697   0.213275      0.107451   0.11918    0.0878564\n",
       " 0.258661   0.196591   0.214101   …  0.107727   0.119419   0.0880362\n",
       " 0.259763   0.19748    0.214915      0.108      0.119656   0.0882216\n",
       " 0.260853   0.198362   0.215725      0.108272   0.119892   0.0884136\n",
       " 0.261935   0.199238   0.216532      0.108547   0.120127   0.0886136\n",
       " 0.263008   0.20011    0.217318      0.108821   0.120362   0.0888283\n",
       " 0.264074   0.200979   0.218094   …  0.109093   0.120598   0.0890662\n",
       " 0.265134   0.201829   0.218869      0.109364   0.120833   0.0893347\n",
       " 0.266191   0.20267    0.219645      0.10963    0.121069   0.0896696\n",
       " 0.267245   0.203525   0.220416      0.109897   0.121304   0.0901204\n",
       " 0.268277   0.204373   0.221182      0.110162   0.121541   0.0908371"
      ]
     },
     "execution_count": 14,
     "metadata": {},
     "output_type": "execute_result"
    }
   ],
   "source": [
    "hh[1].πprob[:,:,2]\n",
    "# guys in country one, a X z, probability of buying from 2"
   ]
  },
  {
   "cell_type": "code",
   "execution_count": null,
   "metadata": {},
   "outputs": [],
   "source": []
  }
 ],
 "metadata": {
  "kernelspec": {
   "display_name": "Julia 1.7.0",
   "language": "julia",
   "name": "julia-1.7"
  },
  "language_info": {
   "file_extension": ".jl",
   "mimetype": "application/julia",
   "name": "julia",
   "version": "1.7.0"
  }
 },
 "nbformat": 4,
 "nbformat_minor": 4
}
