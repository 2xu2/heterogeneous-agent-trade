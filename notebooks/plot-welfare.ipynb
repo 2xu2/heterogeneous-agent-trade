{
 "cells": [
  {
   "cell_type": "code",
   "execution_count": 1,
   "metadata": {},
   "outputs": [],
   "source": [
    "import pandas as pd\n",
    "import numpy as np\n",
    "import scipy.io\n",
    "import statsmodels.api as sm\n",
    "\n",
    "from matplotlib import cm\n",
    "import matplotlib.pyplot as plt\n",
    "from mpl_toolkits.mplot3d import Axes3D\n",
    "from scipy.interpolate import griddata\n",
    "import matplotlib.colors as colors"
   ]
  },
  {
   "cell_type": "code",
   "execution_count": 2,
   "metadata": {},
   "outputs": [],
   "source": [
    "df = pd.read_csv(\"./output/ek-us-cross-section-quality60-ge.csv\")\n",
    "\n",
    "dffixR = pd.read_csv(\"./output/ek-us-cross-section-quality60-fixR.csv\")"
   ]
  },
  {
   "cell_type": "code",
   "execution_count": 3,
   "metadata": {},
   "outputs": [
    {
     "data": {
      "text/plain": [
       "100000"
      ]
     },
     "execution_count": 3,
     "metadata": {},
     "output_type": "execute_result"
    }
   ],
   "source": [
    "((dffixR[\"∂W\"] - 1) > 0).sum()"
   ]
  },
  {
   "cell_type": "code",
   "execution_count": 4,
   "metadata": {},
   "outputs": [
    {
     "data": {
      "text/plain": [
       "1.1613909741330142"
      ]
     },
     "execution_count": 4,
     "metadata": {},
     "output_type": "execute_result"
    }
   ],
   "source": [
    "100*(df[\"∂W\"].mean()-1)"
   ]
  },
  {
   "cell_type": "code",
   "execution_count": 5,
   "metadata": {},
   "outputs": [
    {
     "data": {
      "text/plain": [
       "1.0115209276720494"
      ]
     },
     "execution_count": 5,
     "metadata": {},
     "output_type": "execute_result"
    }
   ],
   "source": [
    "100*(dffixR[\"∂W\"].mean()-1)"
   ]
  },
  {
   "cell_type": "code",
   "execution_count": 6,
   "metadata": {},
   "outputs": [],
   "source": [
    "foo = pd.qcut(df.expenditure, 5,labels = False)\n",
    "\n",
    "df[\"quantile-cut\" ] = foo\n",
    "\n",
    "dffixR[\"quantile-cut\" ] = foo \n"
   ]
  },
  {
   "cell_type": "code",
   "execution_count": 7,
   "metadata": {},
   "outputs": [],
   "source": [
    "grp = df.groupby(\"quantile-cut\")"
   ]
  },
  {
   "cell_type": "code",
   "execution_count": 8,
   "metadata": {},
   "outputs": [
    {
     "data": {
      "text/plain": [
       "quantile-cut\n",
       "0    1.063748\n",
       "1    1.017312\n",
       "2    1.010826\n",
       "3    1.008335\n",
       "4    1.005404\n",
       "Name: ∂W, dtype: float64"
      ]
     },
     "execution_count": 8,
     "metadata": {},
     "output_type": "execute_result"
    }
   ],
   "source": [
    "grp[\"∂W\"].max()"
   ]
  },
  {
   "cell_type": "code",
   "execution_count": 9,
   "metadata": {},
   "outputs": [
    {
     "data": {
      "text/plain": [
       "quantile-cut\n",
       "0   -0.45\n",
       "1   -0.32\n",
       "2   -0.25\n",
       "3    0.07\n",
       "4    1.00\n",
       "Name: assets, dtype: float64"
      ]
     },
     "execution_count": 9,
     "metadata": {},
     "output_type": "execute_result"
    }
   ],
   "source": [
    "round(grp.assets.mean(),2)"
   ]
  },
  {
   "cell_type": "code",
   "execution_count": 10,
   "metadata": {},
   "outputs": [
    {
     "data": {
      "image/png": "[encoded data removed]",
      "text/plain": [
       "<Figure size 720x432 with 1 Axes>"
      ]
     },
     "metadata": {
      "needs_background": "light"
     },
     "output_type": "display_data"
    }
   ],
   "source": [
    "fig, ax = plt.subplots(figsize = [10.0,6.0], tight_layout = True)\n",
    "\n",
    "hsr = ax.bar(grp.homeshare.median().index + 1, \n",
    "       1 - grp.homeshare.mean(), alpha = 0.65, width = 0.70, color = \"red\")\n",
    "\n",
    "# ax.bar_label(hsr, round(1 - grp.homeshare.median(),2),\n",
    "#                   padding=5, color='black', fontweight='bold')\n",
    "\n",
    "ax.spines[\"right\"].set_visible(False)\n",
    "ax.spines[\"top\"].set_visible(False)\n",
    "\n",
    "ax.set_xlabel(\"Percentile of US Income Distribution\")\n",
    "ax.set_ylabel(\"Import Share\")\n",
    "\n",
    "ax.xaxis.set_ticks(np.arange(1, 5+1, 1.0))\n",
    "\n",
    "plt.show()"
   ]
  },
  {
   "cell_type": "code",
   "execution_count": 11,
   "metadata": {},
   "outputs": [
    {
     "ename": "AttributeError",
     "evalue": "'AxesSubplot' object has no attribute 'bar_label'",
     "output_type": "error",
     "traceback": [
      "\u001b[1;31m---------------------------------------------------------------------------\u001b[0m",
      "\u001b[1;31mAttributeError\u001b[0m                            Traceback (most recent call last)",
      "\u001b[1;32m<ipython-input-11-1b8442326b8a>\u001b[0m in \u001b[0;36m<module>\u001b[1;34m\u001b[0m\n\u001b[0;32m      4\u001b[0m        100*(grp[\"∂W\"].mean()-1), alpha = 0.65, width = 0.70, color = \"red\")\n\u001b[0;32m      5\u001b[0m \u001b[1;33m\u001b[0m\u001b[0m\n\u001b[1;32m----> 6\u001b[1;33m ax.bar_label(hsr, round(100*(grp[\"∂W\"].mean()-1),2),\n\u001b[0m\u001b[0;32m      7\u001b[0m                   padding=-30, color='black', fontweight='bold')\n\u001b[0;32m      8\u001b[0m \u001b[1;33m\u001b[0m\u001b[0m\n",
      "\u001b[1;31mAttributeError\u001b[0m: 'AxesSubplot' object has no attribute 'bar_label'"
     ]
    },
    {
     "data": {
      "image/png": "[encoded data removed]",
      "text/plain": [
       "<Figure size 720x432 with 1 Axes>"
      ]
     },
     "metadata": {
      "needs_background": "light"
     },
     "output_type": "display_data"
    }
   ],
   "source": [
    "fig, ax = plt.subplots(figsize = [10.0,6.0], tight_layout = True)\n",
    "\n",
    "hsr = ax.bar(grp.homeshare.median().index + 1, \n",
    "       100*(grp[\"∂W\"].mean()-1), alpha = 0.65, width = 0.70, color = \"red\")\n",
    "\n",
    "ax.bar_label(hsr, round(100*(grp[\"∂W\"].mean()-1),2),\n",
    "                  padding=-30, color='black', fontweight='bold')\n",
    "\n",
    "ax.plot(range(0,7), round(100*(df[\"∂W\"].mean()-1),2)*np.ones(7), alpha = 0.50, linestyle = \"--\", c = \"black\")\n",
    "\n",
    "ax.set_xlim(.5,5.5)\n",
    "\n",
    "ax.spines[\"right\"].set_visible(False)\n",
    "ax.spines[\"top\"].set_visible(False)\n",
    "\n",
    "ax.set_title('Welfare Gains from 10% Reduction in $d_{us,j}$', fontsize=14)\n",
    "\n",
    "ax.set_xlabel(\"⟵ Poorer            Richer ⟶ \\n \\n Percentile of US Expenditure Distribution\", fontsize=14)\n",
    "ax.set_ylabel(\"Equivalent Variation: 100*( τ - 1) \\n\", fontsize=14)\n",
    "\n",
    "ax.tick_params(axis='both', which='major', labelsize=15)\n",
    "\n",
    "ax.xaxis.set_ticks(np.arange(1, 5+1, 1.0))\n",
    "\n",
    "ax.xaxis.set_ticklabels([\" < 20\", \"20 - 40\", \"40 - 60\", \"60 - 80\", \"80 < \"])\n",
    "\n",
    "ax.annotate(\n",
    "    \"Average Gains\", \n",
    "    xy=(4.5, 1.15), # This is where we point at...\n",
    "    xycoords=\"data\", # Not exactly sure about this\n",
    "    xytext=(4.65, 2), # This is about where the text is\n",
    "    horizontalalignment=\"left\", # How the text is alined\n",
    "    arrowprops={\n",
    "        \"arrowstyle\": \"-|>\", # This is stuff about the arrow\n",
    "        \"connectionstyle\": \"angle3,angleA=280,angleB=-40\",\n",
    "        \"color\": \"black\"\n",
    "    },\n",
    "    fontsize=11,\n",
    ")\n",
    "\n",
    "# plt.savefig(\"../notes/figures/ge-welfare-household.pdf\", bbox_inches = \"tight\")\n",
    "\n",
    "plt.show()"
   ]
  },
  {
   "cell_type": "code",
   "execution_count": 12,
   "metadata": {},
   "outputs": [
    {
     "ename": "AttributeError",
     "evalue": "'AxesSubplot' object has no attribute 'bar_label'",
     "output_type": "error",
     "traceback": [
      "\u001b[1;31m---------------------------------------------------------------------------\u001b[0m",
      "\u001b[1;31mAttributeError\u001b[0m                            Traceback (most recent call last)",
      "\u001b[1;32m<ipython-input-12-35591bea23ff>\u001b[0m in \u001b[0;36m<module>\u001b[1;34m\u001b[0m\n\u001b[0;32m     11\u001b[0m        100*(grpR[\"∂W\"].mean()-1), alpha = 0.65, width = 0.30, color = \"blue\", label = \"Fixed R\")\n\u001b[0;32m     12\u001b[0m \u001b[1;33m\u001b[0m\u001b[0m\n\u001b[1;32m---> 13\u001b[1;33m ax.bar_label(hsr, round(100*(grp[\"∂W\"].mean()-1),2),\n\u001b[0m\u001b[0;32m     14\u001b[0m                   padding=-30, color='black', fontweight='bold')\n\u001b[0;32m     15\u001b[0m \u001b[1;33m\u001b[0m\u001b[0m\n",
      "\u001b[1;31mAttributeError\u001b[0m: 'AxesSubplot' object has no attribute 'bar_label'"
     ]
    },
    {
     "data": {
      "image/png": "[encoded data removed]",
      "text/plain": [
       "<Figure size 720x432 with 1 Axes>"
      ]
     },
     "metadata": {
      "needs_background": "light"
     },
     "output_type": "display_data"
    }
   ],
   "source": [
    "grpR = dffixR.groupby(\"quantile-cut\")\n",
    "\n",
    "fig, ax = plt.subplots(figsize = [10.0,6.0], tight_layout = True)\n",
    "\n",
    "offset = .17\n",
    "\n",
    "hsr = ax.bar(grp.homeshare.median().index + 1 - offset, \n",
    "       100*(grp[\"∂W\"].mean()-1), alpha = 0.65, width = 0.30, color = \"red\", label = \"GE\")\n",
    "\n",
    "hsrR = ax.bar(grp.homeshare.median().index + 1 + offset, \n",
    "       100*(grpR[\"∂W\"].mean()-1), alpha = 0.65, width = 0.30, color = \"blue\", label = \"Fixed R\")\n",
    "\n",
    "ax.bar_label(hsr, round(100*(grp[\"∂W\"].mean()-1),2),\n",
    "                  padding=-30, color='black', fontweight='bold')\n",
    "\n",
    "ax.bar_label(hsrR, round(100*(grpR[\"∂W\"].mean()-1),2),\n",
    "                  padding=-30, color='black', fontweight='bold')\n",
    "\n",
    "ax.plot(range(0,7), round(100*(df[\"∂W\"].mean()-1),2)*np.ones(7), alpha = 0.50, linestyle = \"--\", c = \"black\")\n",
    "\n",
    "\n",
    "\n",
    "ax.set_xlim(.5,5.5)\n",
    "\n",
    "ax.spines[\"right\"].set_visible(False)\n",
    "ax.spines[\"top\"].set_visible(False)\n",
    "\n",
    "ax.set_title('Welfare Gains from 10% Reduction in $d_{us,j}$', fontsize=14)\n",
    "\n",
    "ax.set_xlabel(\"⟵ Poorer            Richer ⟶ \\n \\n Percentile of US Expenditure Distribution\", fontsize=14)\n",
    "ax.set_ylabel(\"Equivalent Variation: 100*( τ - 1) \\n\", fontsize=14)\n",
    "\n",
    "ax.tick_params(axis='both', which='major', labelsize=15)\n",
    "\n",
    "ax.xaxis.set_ticks(np.arange(1, 5+1, 1.0))\n",
    "\n",
    "ax.xaxis.set_ticklabels([\" < 20\", \"20 - 40\", \"40 - 60\", \"60 - 80\", \"80 < \"])\n",
    "\n",
    "ax.legend(loc='upper right', frameon=False)\n",
    "\n",
    "ax.annotate(\n",
    "    \"Average Gains, GE\", \n",
    "    xy=(4.5, 1.15), # This is where we point at...\n",
    "    xycoords=\"data\", # Not exactly sure about this\n",
    "    xytext=(4.65, 2), # This is about where the text is\n",
    "    horizontalalignment=\"left\", # How the text is alined\n",
    "    arrowprops={\n",
    "        \"arrowstyle\": \"-|>\", # This is stuff about the arrow\n",
    "        \"connectionstyle\": \"angle3,angleA=280,angleB=-40\",\n",
    "        \"color\": \"black\"\n",
    "    },\n",
    "    fontsize=11,\n",
    ")\n",
    "\n",
    "#plt.savefig(\"../notes/figures/ge-welfare-household-fixR.pdf\", bbox_inches = \"tight\")\n",
    "\n",
    "plt.show()"
   ]
  },
  {
   "cell_type": "code",
   "execution_count": 66,
   "metadata": {},
   "outputs": [
    {
     "data": {
      "image/png": "[encoded data removed]",
      "text/plain": [
       "<Figure size 720x432 with 1 Axes>"
      ]
     },
     "metadata": {
      "needs_background": "light"
     },
     "output_type": "display_data"
    }
   ],
   "source": [
    "fig, ax = plt.subplots(figsize = [10.0,6.0])\n",
    "ax.plot(range(10), color = \"w\")\n",
    "\n",
    "\n",
    "avg = 100*(df[\"∂W\"].mean()-1)\n",
    "\n",
    "axin2 = ax.inset_axes(\n",
    "        [.5, avg, 0.5, 2.5], transform= ax.transData)\n",
    "#[x0, y0, width, height]\n",
    "\n",
    "axin2.spines[\"right\"].set_visible(False)\n",
    "axin2.spines[\"top\"].set_visible(False)\n",
    "axin2.spines[\"left\"].set_visible(False)\n",
    "\n",
    "axin2.get_xaxis().set_visible(False)\n",
    "axin2.get_yaxis().set_visible(False)\n",
    "\n",
    "hsr = axin2.bar(grp.homeshare.median().index + 1, \n",
    "       100*(grp[\"∂W\"].mean()-1), alpha = 0.65, width = 0.50, color = \"red\", label = \"GE\")"
   ]
  },
  {
   "cell_type": "code",
   "execution_count": 38,
   "metadata": {},
   "outputs": [
    {
     "data": {
      "text/plain": [
       "1.1613909741330142"
      ]
     },
     "execution_count": 38,
     "metadata": {},
     "output_type": "execute_result"
    }
   ],
   "source": [
    "avg"
   ]
  },
  {
   "cell_type": "code",
   "execution_count": null,
   "metadata": {},
   "outputs": [],
   "source": []
  }
 ],
 "metadata": {
  "kernelspec": {
   "display_name": "Python 3",
   "language": "python",
   "name": "python3"
  },
  "language_info": {
   "codemirror_mode": {
    "name": "ipython",
    "version": 3
   },
   "file_extension": ".py",
   "mimetype": "text/x-python",
   "name": "python",
   "nbconvert_exporter": "python",
   "pygments_lexer": "ipython3",
   "version": "3.7.3"
  }
 },
 "nbformat": 4,
 "nbformat_minor": 4
}
