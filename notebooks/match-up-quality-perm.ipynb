{
 "cells": [
  {
   "cell_type": "code",
   "execution_count": 1,
   "metadata": {},
   "outputs": [
    {
     "name": "stderr",
     "output_type": "stream",
     "text": [
      "WARNING: using DataFrames.aggregate in module Main conflicts with an existing identifier.\n"
     ]
    }
   ],
   "source": [
    "include(\"../code/julia/ha-trade.jl\")\n",
    "include(\"../code/julia/ha-trade-welfare.jl\")\n",
    "\n",
    "using MINPACK\n",
    "using Plots\n",
    "using CSV\n",
    "using DataFrames"
   ]
  },
  {
   "cell_type": "markdown",
   "metadata": {},
   "source": [
    "### First step, match up on no quality version..."
   ]
  },
  {
   "cell_type": "code",
   "execution_count": 2,
   "metadata": {},
   "outputs": [],
   "source": [
    "γ = 1.5 # curvatuve on CRRA utility function\n",
    "σϵ = 0.25 # logit dispersion parameter\n",
    "Ncntry = 2 # number of countries\n",
    "\n",
    "# this setups up parameters on the household side\n",
    "hh_prm = household_params(Ncntry = Ncntry, Na = 100, β = 0.92, γ = γ, ϕ = 0.5, amax = 8.0, σϵ = σϵ, ψslope = 0.0);\n",
    "\n",
    "#ψslope controls how residual demand varies with income state..."
   ]
  },
  {
   "cell_type": "code",
   "execution_count": 3,
   "metadata": {},
   "outputs": [],
   "source": [
    "# here are some simpe country parametrers\n",
    "TFP = [1.0; 1.0]\n",
    "\n",
    "τ = [0.0; 0.0]\n",
    "\n",
    "L = [1.0; 1.0]\n",
    "\n",
    "d_ij = 1.745\n",
    "\n",
    "d = [1.0 d_ij; d_ij 1.0]\n",
    "\n",
    "# this sets up the country specific paramters\n",
    "cntry_prm = country_params(Ncntry = Ncntry, L = L, d = d, TFP = TFP);"
   ]
  },
  {
   "cell_type": "code",
   "execution_count": 4,
   "metadata": {},
   "outputs": [
    {
     "name": "stdout",
     "output_type": "stream",
     "text": [
      "Iter     f(x) inf-norm    Step 2-norm      Step time\n",
      "------   --------------   --------------   --------------\n",
      "     1     1.560862e-01     0.000000e+00        42.693000\n",
      "     2     1.456059e-02     2.654986e-05         1.079000\n",
      "     3     1.638137e-03     4.506004e-07         0.174000\n",
      "     4     1.812301e-05     7.164351e-09         0.139000\n",
      "     5     1.674584e-08     9.008308e-13         0.192000\n",
      "     6     6.698718e-11     8.321748e-19         0.194000\n",
      "     7     3.676642e-13     1.185695e-23         0.167000\n",
      "     8     1.179612e-15     3.365318e-28         0.140000\n",
      "Results of Nonlinear Solver Algorithm\n",
      " * Algorithm: Modified Powell\n",
      " * Starting Point: [0.0, 0.01980262729617973]\n",
      " * Zero: [-2.039586404137559e-9, 0.014094023815588037]\n",
      " * Inf-norm of residuals: 0.000000\n",
      " * Convergence: true\n",
      " * Message: algorithm estimates that the relative error between x and the solution is at most tol\n",
      " * Total time: 44.790000 seconds\n",
      " * Function Calls: 8\n",
      " * Jacobian Calls (df/dx): 1"
     ]
    },
    {
     "data": {
      "text/plain": [
       "1.0141938128276817"
      ]
     },
     "execution_count": 4,
     "metadata": {},
     "output_type": "execute_result"
    }
   ],
   "source": [
    "f(x) = world_equillibrium_FG(exp.(x), hh_prm, cntry_prm)\n",
    "# this world... function is used to construct zero conditions for\n",
    "# the finacial globalization case\n",
    "\n",
    "function f!(fvec, x)\n",
    "\n",
    "    fvec .= f(x)\n",
    "\n",
    "end\n",
    "\n",
    "\n",
    "xguess = [1.0; 1.02]\n",
    "\n",
    "n = length(xguess)\n",
    "diag_adjust = n - 1\n",
    "\n",
    "sol = fsolve(f!, log.(xguess), show_trace = true, method = :hybr;\n",
    "      ml=diag_adjust, mu=diag_adjust,\n",
    "      diag=ones(n),\n",
    "      mode= 1,\n",
    "      tol=1e-10,\n",
    "       )\n",
    "\n",
    "# This solver works very well in general. Spencer Lyon converted old-school minpack\n",
    "# routines in C into julia\n",
    "\n",
    "print(sol)\n",
    "\n",
    "wage = [exp.(sol.x[1]); 1.0]\n",
    "R = exp.(sol.x[2])"
   ]
  },
  {
   "cell_type": "code",
   "execution_count": 5,
   "metadata": {},
   "outputs": [],
   "source": [
    "Rsol = [R; R]\n",
    "\n",
    "Y, tradeflows, A_demand, Gbudget, tradeshare, hh, dist = world_equillibrium(Rsol, wage, τ, hh_prm, cntry_prm, tol_vfi = 1e-10);"
   ]
  },
  {
   "cell_type": "code",
   "execution_count": 6,
   "metadata": {},
   "outputs": [
    {
     "data": {
      "text/plain": [
       "1.0141938128276817"
      ]
     },
     "execution_count": 6,
     "metadata": {},
     "output_type": "execute_result"
    }
   ],
   "source": [
    "R"
   ]
  },
  {
   "cell_type": "code",
   "execution_count": 7,
   "metadata": {},
   "outputs": [
    {
     "data": {
      "text/plain": [
       "2×2 Matrix{Float64}:\n",
       " 0.900484   0.0995163\n",
       " 0.0995163  0.900484"
      ]
     },
     "execution_count": 7,
     "metadata": {},
     "output_type": "execute_result"
    }
   ],
   "source": [
    "tradeshare"
   ]
  },
  {
   "cell_type": "code",
   "execution_count": 8,
   "metadata": {},
   "outputs": [
    {
     "data": {
      "text/plain": [
       "100×10 Matrix{Float64}:\n",
       " 0.00747609  0.0192432  0.0202433  0.0386541  …  0.103814  0.123432  0.138619\n",
       " 0.0139284   0.0212163  0.0281047  0.0428235     0.105277  0.127093  0.139288\n",
       " 0.0194756   0.0264393  0.0357197  0.0456883     0.106613  0.129608  0.139941\n",
       " 0.0218411   0.0282292  0.0387705  0.0478642     0.107806  0.131053  0.140583\n",
       " 0.0265513   0.0302667  0.042976   0.0506709     0.108911  0.132266  0.141216\n",
       " 0.0285041   0.0333028  0.0457674  0.0530594  …  0.109967  0.133278  0.141837\n",
       " 0.030625    0.0352261  0.0480061  0.0548275     0.111015  0.134253  0.142449\n",
       " 0.0333905   0.0371223  0.0507749  0.0564595     0.112049  0.135159  0.143062\n",
       " 0.0354688   0.039016   0.0531147  0.0582905     0.112984  0.136008  0.143643\n",
       " 0.037335    0.0409391  0.0548801  0.0601975     0.113907  0.136789  0.144216\n",
       " 0.0392264   0.0426161  0.0565561  0.061869   …  0.114807  0.137517  0.14478\n",
       " 0.0411777   0.0442844  0.058384   0.0633612     0.115682  0.138219  0.145336\n",
       " 0.0428169   0.0459213  0.0602438  0.0647288     0.116532  0.138903  0.145882\n",
       " ⋮                                            ⋱                      \n",
       " 0.112324    0.113433   0.124063   0.125662      0.157054  0.1724    0.176164\n",
       " 0.112915    0.114014   0.124608   0.12619       0.15744   0.172732  0.176494\n",
       " 0.113502    0.114589   0.125147   0.126717   …  0.157823  0.173063  0.176826\n",
       " 0.114081    0.115159   0.12568    0.127235      0.158204  0.173392  0.177168\n",
       " 0.114655    0.115727   0.126208   0.127743      0.158583  0.17372   0.177529\n",
       " 0.115224    0.116293   0.126734   0.128249      0.158959  0.174048  0.17791\n",
       " 0.115792    0.116857   0.127257   0.128756      0.159333  0.174376  0.178317\n",
       " 0.116356    0.117419   0.127765   0.129262   …  0.159704  0.174696  0.178809\n",
       " 0.11692     0.117968   0.128272   0.129765      0.16008   0.175016  0.179383\n",
       " 0.117482    0.118514   0.128778   0.130269      0.160455  0.175336  0.180032\n",
       " 0.118044    0.119067   0.129284   0.130776      0.160828  0.175656  0.181058\n",
       " 0.118594    0.119617   0.129786   0.131277      0.161199  0.175978  0.182546"
      ]
     },
     "execution_count": 8,
     "metadata": {},
     "output_type": "execute_result"
    }
   ],
   "source": [
    "hh[1].πprob[:,:,2]\n",
    "# guys in country one, a X z, probability of buying from 2"
   ]
  },
  {
   "cell_type": "markdown",
   "metadata": {},
   "source": [
    "### Now turn quality on..."
   ]
  },
  {
   "cell_type": "code",
   "execution_count": 9,
   "metadata": {},
   "outputs": [],
   "source": [
    "\n",
    "# this setups up parameters on the household side\n",
    "hh_prm = household_params(Ncntry = Ncntry, Na = 100, β = 0.92, γ = γ, ϕ = 0.5, amax = 8.0, σϵ = σϵ, ψslope = 0.2);\n",
    "\n",
    "#ψslope controls how residual demand varies with income state..."
   ]
  },
  {
   "cell_type": "code",
   "execution_count": 10,
   "metadata": {},
   "outputs": [
    {
     "name": "stdout",
     "output_type": "stream",
     "text": [
      "Iter     f(x) inf-norm    Step 2-norm      Step time\n",
      "------   --------------   --------------   --------------\n",
      "     1     1.889034e-01     0.000000e+00         0.155000\n",
      "     2     2.011610e-02     3.677478e-05         0.444000\n",
      "     3     2.740911e-03     9.362682e-07         0.120000\n",
      "     4     4.368312e-05     2.306130e-08         0.173000\n",
      "     5     2.926494e-07     5.603311e-12         0.141000\n",
      "     6     7.476779e-10     2.653056e-16         0.136000\n",
      "     7     1.251874e-12     1.677989e-21         0.158000\n",
      "     8     7.216450e-16     4.646174e-27         0.219000\n",
      "Results of Nonlinear Solver Algorithm\n",
      " * Algorithm: Modified Powell\n",
      " * Starting Point: [0.0, 0.01980262729617973]\n",
      " * Zero: [-2.3167443794377336e-9, 0.01299023862956576]\n",
      " * Inf-norm of residuals: 0.000000\n",
      " * Convergence: true\n",
      " * Message: algorithm estimates that the relative error between x and the solution is at most tol\n",
      " * Total time: 1.546000 seconds\n",
      " * Function Calls: 8\n",
      " * Jacobian Calls (df/dx): 1"
     ]
    },
    {
     "data": {
      "text/plain": [
       "1.013074978311403"
      ]
     },
     "execution_count": 10,
     "metadata": {},
     "output_type": "execute_result"
    }
   ],
   "source": [
    "f(x) = world_equillibrium_FG(exp.(x), hh_prm, cntry_prm)\n",
    "# this world... function is used to construct zero conditions for\n",
    "# the finacial globalization case\n",
    "\n",
    "function f!(fvec, x)\n",
    "\n",
    "    fvec .= f(x)\n",
    "\n",
    "end\n",
    "\n",
    "\n",
    "xguess = [1.0; 1.02]\n",
    "\n",
    "n = length(xguess)\n",
    "diag_adjust = n - 1\n",
    "\n",
    "sol = fsolve(f!, log.(xguess), show_trace = true, method = :hybr;\n",
    "      ml=diag_adjust, mu=diag_adjust,\n",
    "      diag=ones(n),\n",
    "      mode= 1,\n",
    "      tol=1e-10,\n",
    "       )\n",
    "\n",
    "# This solver works very well in general. Spencer Lyon converted old-school minpack\n",
    "# routines in C into julia\n",
    "\n",
    "print(sol)\n",
    "\n",
    "wage = [exp.(sol.x[1]); 1.0]\n",
    "R = exp.(sol.x[2])"
   ]
  },
  {
   "cell_type": "code",
   "execution_count": 11,
   "metadata": {},
   "outputs": [],
   "source": [
    "Rsol = [R; R]\n",
    "\n",
    "Y, tradeflows, A_demand, Gbudget, tradeshare, hh, dist = world_equillibrium(Rsol, wage, τ, hh_prm, cntry_prm, tol_vfi = 1e-10);"
   ]
  },
  {
   "cell_type": "code",
   "execution_count": 12,
   "metadata": {},
   "outputs": [
    {
     "data": {
      "text/plain": [
       "1.013074978311403"
      ]
     },
     "execution_count": 12,
     "metadata": {},
     "output_type": "execute_result"
    }
   ],
   "source": [
    "R"
   ]
  },
  {
   "cell_type": "code",
   "execution_count": 13,
   "metadata": {},
   "outputs": [
    {
     "data": {
      "text/plain": [
       "2×2 Matrix{Float64}:\n",
       " 0.919293   0.0807066\n",
       " 0.0807066  0.919293"
      ]
     },
     "execution_count": 13,
     "metadata": {},
     "output_type": "execute_result"
    }
   ],
   "source": [
    "tradeshare"
   ]
  },
  {
   "cell_type": "code",
   "execution_count": 14,
   "metadata": {},
   "outputs": [
    {
     "data": {
      "text/plain": [
       "100×10 Matrix{Float64}:\n",
       " 0.0153874  0.0389713  0.0289009  …  0.0749608  0.0640053  0.0728029\n",
       " 0.0284216  0.042925   0.0399521     0.0760607  0.0661423  0.0731829\n",
       " 0.0394186  0.0529172  0.05056       0.0770306  0.0676554  0.0735568\n",
       " 0.0441193  0.056503   0.0547915     0.0779161  0.0685637  0.0739241\n",
       " 0.0531311  0.0605085  0.0605846     0.0787469  0.0692215  0.0742847\n",
       " 0.0570407  0.0661851  0.0644315  …  0.0795477  0.069815   0.0746472\n",
       " 0.0611752  0.0699163  0.0675571     0.0803421  0.0703682  0.0749934\n",
       " 0.0663712  0.073557   0.0713012     0.0810946  0.0708869  0.0753281\n",
       " 0.0703746  0.0771641  0.0744958     0.0818012  0.0713386  0.0756581\n",
       " 0.0739593  0.0807869  0.0769521     0.0824948  0.0717678  0.0759826\n",
       " 0.0775502  0.0839139  0.0792597  …  0.0831723  0.0721788  0.0763022\n",
       " 0.081191   0.0870507  0.0817287     0.083828   0.0725769  0.0766183\n",
       " 0.0843079  0.0901137  0.0842488     0.0844674  0.0729753  0.0769312\n",
       " ⋮                                ⋱                        \n",
       " 0.206205   0.208025   0.168841      0.115219   0.0922129  0.0943973\n",
       " 0.207176   0.208975   0.169543      0.115515   0.0924077  0.0945864\n",
       " 0.208135   0.209915   0.170236   …  0.115809   0.0925996  0.0947785\n",
       " 0.209084   0.210847   0.170921      0.1161     0.0927892  0.0949768\n",
       " 0.210021   0.211773   0.171601      0.11639    0.0929781  0.0951822\n",
       " 0.210952   0.212693   0.172279      0.116683   0.0931663  0.0953967\n",
       " 0.211876   0.213609   0.172942      0.116974   0.0933535  0.0956265\n",
       " 0.212795   0.214521   0.173595   …  0.117265   0.0935423  0.0958816\n",
       " 0.21371    0.215413   0.174248      0.117553   0.0937309  0.0961707\n",
       " 0.214621   0.216297   0.174901      0.117837   0.0939193  0.0965285\n",
       " 0.215531   0.217192   0.17555       0.118121   0.094108   0.0970142\n",
       " 0.216425   0.218082   0.176194      0.118404   0.0942978  0.0977832"
      ]
     },
     "execution_count": 14,
     "metadata": {},
     "output_type": "execute_result"
    }
   ],
   "source": [
    "hh[1].πprob[:,:,2]\n",
    "# guys in country one, a X z, probability of buying from 2"
   ]
  },
  {
   "cell_type": "code",
   "execution_count": null,
   "metadata": {},
   "outputs": [],
   "source": []
  }
 ],
 "metadata": {
  "kernelspec": {
   "display_name": "Julia 1.7.0",
   "language": "julia",
   "name": "julia-1.7"
  },
  "language_info": {
   "file_extension": ".jl",
   "mimetype": "application/julia",
   "name": "julia",
   "version": "1.7.0"
  }
 },
 "nbformat": 4,
 "nbformat_minor": 4
}
