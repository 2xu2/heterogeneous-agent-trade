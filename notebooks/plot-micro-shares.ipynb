{
 "cells": [
  {
   "cell_type": "code",
   "execution_count": 1,
   "metadata": {},
   "outputs": [],
   "source": [
    "import pandas as pd\n",
    "import numpy as np\n",
    "import scipy.io\n",
    "import statsmodels.api as sm\n",
    "\n",
    "from matplotlib import cm\n",
    "import matplotlib.pyplot as plt\n",
    "from mpl_toolkits.mplot3d import Axes3D\n",
    "from scipy.interpolate import griddata\n",
    "import matplotlib.colors as colors"
   ]
  },
  {
   "cell_type": "code",
   "execution_count": 53,
   "metadata": {},
   "outputs": [],
   "source": [
    "df = pd.read_csv(\"./output/ek-us-cross-section-quality60.csv\")"
   ]
  },
  {
   "cell_type": "code",
   "execution_count": 54,
   "metadata": {},
   "outputs": [
    {
     "data": {
      "text/html": [
       "<div>\n",
       "<style scoped>\n",
       "    .dataframe tbody tr th:only-of-type {\n",
       "        vertical-align: middle;\n",
       "    }\n",
       "\n",
       "    .dataframe tbody tr th {\n",
       "        vertical-align: top;\n",
       "    }\n",
       "\n",
       "    .dataframe thead th {\n",
       "        text-align: right;\n",
       "    }\n",
       "</style>\n",
       "<table border=\"1\" class=\"dataframe\">\n",
       "  <thead>\n",
       "    <tr style=\"text-align: right;\">\n",
       "      <th></th>\n",
       "      <th>income</th>\n",
       "      <th>assets</th>\n",
       "      <th>homeshare</th>\n",
       "      <th>expenditure</th>\n",
       "      <th>mpc</th>\n",
       "      <th>θ</th>\n",
       "      <th>∂W</th>\n",
       "    </tr>\n",
       "  </thead>\n",
       "  <tbody>\n",
       "    <tr>\n",
       "      <th>0</th>\n",
       "      <td>0.703120</td>\n",
       "      <td>0.015152</td>\n",
       "      <td>0.851767</td>\n",
       "      <td>0.768959</td>\n",
       "      <td>0.201071</td>\n",
       "      <td>-5.264649</td>\n",
       "      <td>1.024801</td>\n",
       "    </tr>\n",
       "    <tr>\n",
       "      <th>1</th>\n",
       "      <td>0.445225</td>\n",
       "      <td>0.015152</td>\n",
       "      <td>0.879467</td>\n",
       "      <td>0.703201</td>\n",
       "      <td>0.229315</td>\n",
       "      <td>-5.579277</td>\n",
       "      <td>1.026812</td>\n",
       "    </tr>\n",
       "    <tr>\n",
       "      <th>2</th>\n",
       "      <td>0.703120</td>\n",
       "      <td>-0.156566</td>\n",
       "      <td>0.869580</td>\n",
       "      <td>0.725623</td>\n",
       "      <td>0.227220</td>\n",
       "      <td>-5.454858</td>\n",
       "      <td>1.026148</td>\n",
       "    </tr>\n",
       "    <tr>\n",
       "      <th>3</th>\n",
       "      <td>0.445225</td>\n",
       "      <td>-0.242424</td>\n",
       "      <td>0.915164</td>\n",
       "      <td>0.616990</td>\n",
       "      <td>0.314593</td>\n",
       "      <td>-6.059930</td>\n",
       "      <td>1.029148</td>\n",
       "    </tr>\n",
       "    <tr>\n",
       "      <th>4</th>\n",
       "      <td>0.445225</td>\n",
       "      <td>-0.414141</td>\n",
       "      <td>0.956246</td>\n",
       "      <td>0.526943</td>\n",
       "      <td>0.976216</td>\n",
       "      <td>-7.186873</td>\n",
       "      <td>1.030727</td>\n",
       "    </tr>\n",
       "  </tbody>\n",
       "</table>\n",
       "</div>"
      ],
      "text/plain": [
       "     income    assets  homeshare  expenditure       mpc         θ        ∂W\n",
       "0  0.703120  0.015152   0.851767     0.768959  0.201071 -5.264649  1.024801\n",
       "1  0.445225  0.015152   0.879467     0.703201  0.229315 -5.579277  1.026812\n",
       "2  0.703120 -0.156566   0.869580     0.725623  0.227220 -5.454858  1.026148\n",
       "3  0.445225 -0.242424   0.915164     0.616990  0.314593 -6.059930  1.029148\n",
       "4  0.445225 -0.414141   0.956246     0.526943  0.976216 -7.186873  1.030727"
      ]
     },
     "execution_count": 54,
     "metadata": {},
     "output_type": "execute_result"
    }
   ],
   "source": [
    "df.head()"
   ]
  },
  {
   "cell_type": "code",
   "execution_count": 55,
   "metadata": {},
   "outputs": [],
   "source": [
    "foo = pd.qcut(df.expenditure, 5,labels = False)\n",
    "\n",
    "df[\"quantile-cut\" ] = foo\n"
   ]
  },
  {
   "cell_type": "code",
   "execution_count": 56,
   "metadata": {},
   "outputs": [],
   "source": [
    "grp = df.groupby(\"quantile-cut\")"
   ]
  },
  {
   "cell_type": "code",
   "execution_count": 57,
   "metadata": {},
   "outputs": [
    {
     "data": {
      "text/plain": [
       "quantile-cut\n",
       "0    1.041077\n",
       "1    1.022823\n",
       "2    1.018000\n",
       "3    1.014130\n",
       "4    1.010057\n",
       "Name: ∂W, dtype: float64"
      ]
     },
     "execution_count": 57,
     "metadata": {},
     "output_type": "execute_result"
    }
   ],
   "source": [
    "grp[\"∂W\"].mean()"
   ]
  },
  {
   "cell_type": "code",
   "execution_count": 58,
   "metadata": {},
   "outputs": [
    {
     "data": {
      "text/plain": [
       "quantile-cut\n",
       "0   -0.45\n",
       "1   -0.32\n",
       "2   -0.25\n",
       "3    0.07\n",
       "4    1.00\n",
       "Name: assets, dtype: float64"
      ]
     },
     "execution_count": 58,
     "metadata": {},
     "output_type": "execute_result"
    }
   ],
   "source": [
    "round(grp.assets.mean(),2)"
   ]
  },
  {
   "cell_type": "code",
   "execution_count": 59,
   "metadata": {},
   "outputs": [
    {
     "data": {
      "image/png": "[encoded data removed]",
      "text/plain": [
       "<Figure size 720x432 with 1 Axes>"
      ]
     },
     "metadata": {
      "needs_background": "light"
     },
     "output_type": "display_data"
    }
   ],
   "source": [
    "fig, ax = plt.subplots(figsize = [10.0,6.0], tight_layout = True)\n",
    "\n",
    "hsr = ax.bar(grp.homeshare.median().index + 1, \n",
    "       1 - grp.homeshare.mean(), alpha = 0.65, width = 0.70, color = \"red\")\n",
    "\n",
    "# ax.bar_label(hsr, round(1 - grp.homeshare.median(),2),\n",
    "#                   padding=5, color='black', fontweight='bold')\n",
    "\n",
    "ax.spines[\"right\"].set_visible(False)\n",
    "ax.spines[\"top\"].set_visible(False)\n",
    "\n",
    "ax.set_xlabel(\"Percentile of US Income Distribution\")\n",
    "ax.set_ylabel(\"Import Share\")\n",
    "\n",
    "ax.xaxis.set_ticks(np.arange(1, 5+1, 1.0))\n",
    "\n",
    "plt.show()"
   ]
  },
  {
   "cell_type": "code",
   "execution_count": 110,
   "metadata": {},
   "outputs": [
    {
     "data": {
      "image/png": "[encoded data removed]",
      "text/plain": [
       "<Figure size 720x432 with 1 Axes>"
      ]
     },
     "metadata": {
      "needs_background": "light"
     },
     "output_type": "display_data"
    }
   ],
   "source": [
    "fig, ax = plt.subplots(figsize = [10.0,6.0], tight_layout = True)\n",
    "\n",
    "hsr = ax.bar(grp.homeshare.median().index + 1, \n",
    "       100*(grp[\"∂W\"].mean()-1), alpha = 0.65, width = 0.70, color = \"red\")\n",
    "\n",
    "# ax.bar_label(hsr, round(1 - grp.homeshare.median(),2),\n",
    "#                   padding=5, color='black', fontweight='bold')\n",
    "\n",
    "ax.plot(range(0,7), 1.25*np.ones(7), alpha = 0.50, linestyle = \"--\", c = \"black\")\n",
    "\n",
    "ax.set_xlim(.5,5.5)\n",
    "\n",
    "ax.spines[\"right\"].set_visible(False)\n",
    "ax.spines[\"top\"].set_visible(False)\n",
    "\n",
    "ax.set_title('PE, Welfare Gains from 10% Reduction in $d_{us,j}$', fontsize=14)\n",
    "\n",
    "ax.set_xlabel(\"Percentile of US Income Distribution\", fontsize=14)\n",
    "ax.set_ylabel(\"Equivalent Variation %Δ \\n\", fontsize=14)\n",
    "\n",
    "ax.tick_params(axis='both', which='major', labelsize=15)\n",
    "\n",
    "ax.xaxis.set_ticks(np.arange(1, 5+1, 1.0))\n",
    "\n",
    "ax.annotate(\n",
    "    \"Implied gains from ACR calc.\", \n",
    "    xy=(4.755, 1.20), # This is where we point at...\n",
    "    xycoords=\"data\", # Not exactly sure about this\n",
    "    xytext=(4.5, 3), # This is about where the text is\n",
    "    horizontalalignment=\"left\", # How the text is alined\n",
    "    arrowprops={\n",
    "        \"arrowstyle\": \"-|>\", # This is stuff about the arrow\n",
    "        \"connectionstyle\": \"angle3,angleA=280,angleB=-40\",\n",
    "        \"color\": \"black\"\n",
    "    },\n",
    "    fontsize=11,\n",
    ")\n",
    "\n",
    "plt.show()"
   ]
  },
  {
   "cell_type": "code",
   "execution_count": null,
   "metadata": {},
   "outputs": [],
   "source": [
    "Δ"
   ]
  },
  {
   "cell_type": "code",
   "execution_count": 14,
   "metadata": {},
   "outputs": [],
   "source": [
    "poor = df.expenditure < df.expenditure.quantile(0.25)\n",
    "\n",
    "rich = df.expenditure > df.expenditure.quantile(0.75)"
   ]
  },
  {
   "cell_type": "code",
   "execution_count": 15,
   "metadata": {},
   "outputs": [
    {
     "name": "stdout",
     "output_type": "stream",
     "text": [
      "Rich Home Share:  0.076\n",
      "Poor Home Share:  0.038\n",
      "Rich Elasticity:  -6.214\n",
      "Poor Elasticity:  -13.069\n"
     ]
    }
   ],
   "source": [
    "print(\"Rich Home Share: \", round(1 - df.homeshare[rich].median(), 3))\n",
    "\n",
    "print(\"Poor Home Share: \", round(1 - df.homeshare[poor].median(), 3))\n",
    "\n",
    "print(\"Rich Elasticity: \", round(df.x2[rich].median(), 3))\n",
    "\n",
    "print(\"Poor Elasticity: \", round(df.x2[poor].median(), 3))"
   ]
  },
  {
   "cell_type": "code",
   "execution_count": 7,
   "metadata": {},
   "outputs": [
    {
     "data": {
      "image/png": "[encoded data removed]",
      "text/plain": [
       "<Figure size 1080x648 with 2 Axes>"
      ]
     },
     "metadata": {
      "needs_background": "light"
     },
     "output_type": "display_data"
    }
   ],
   "source": [
    "fig, ax = plt.subplots(figsize = [15.0,9.0], tight_layout = True)\n",
    "\n",
    "h = ax.hist2d(df.expenditure, (1 - df.homeshare), bins=10, cmap='Blues', density = True)\n",
    "\n",
    "fig.colorbar(h[3], ax=ax)\n",
    "\n",
    "# ax.set_ylim(0.045,0.20)\n",
    "# ax.set_xlim(0.35,2.0)\n",
    "\n",
    "plt.show()"
   ]
  },
  {
   "cell_type": "code",
   "execution_count": 16,
   "metadata": {},
   "outputs": [
    {
     "name": "stdout",
     "output_type": "stream",
     "text": [
      "                            OLS Regression Results                            \n",
      "==============================================================================\n",
      "Dep. Variable:              homeshare   R-squared:                       0.017\n",
      "Model:                            OLS   Adj. R-squared:                  0.017\n",
      "Method:                 Least Squares   F-statistic:                     1774.\n",
      "Date:                Tue, 08 Aug 2023   Prob (F-statistic):               0.00\n",
      "Time:                        13:57:52   Log-Likelihood:             2.3031e+05\n",
      "No. Observations:              100000   AIC:                        -4.606e+05\n",
      "Df Residuals:                   99998   BIC:                        -4.606e+05\n",
      "Df Model:                           1                                         \n",
      "Covariance Type:            nonrobust                                         \n",
      "===============================================================================\n",
      "                  coef    std err          t      P>|t|      [0.025      0.975]\n",
      "-------------------------------------------------------------------------------\n",
      "const           0.0449      0.000    236.251      0.000       0.045       0.045\n",
      "expenditure     0.0074      0.000     42.123      0.000       0.007       0.008\n",
      "==============================================================================\n",
      "Omnibus:                    24449.476   Durbin-Watson:                   0.689\n",
      "Prob(Omnibus):                  0.000   Jarque-Bera (JB):           106445.582\n",
      "Skew:                           1.141   Prob(JB):                         0.00\n",
      "Kurtosis:                       7.510   Cond. No.                         4.78\n",
      "==============================================================================\n",
      "\n",
      "Notes:\n",
      "[1] Standard Errors assume that the covariance matrix of the errors is correctly specified.\n"
     ]
    },
    {
     "name": "stderr",
     "output_type": "stream",
     "text": [
      "C:\\Users\\irmew01\\Anaconda3\\lib\\site-packages\\statsmodels\\tsa\\tsatools.py:142: FutureWarning: In a future version of pandas all arguments of concat except for the argument 'objs' will be keyword-only.\n",
      "  x = pd.concat(x[::order], 1)\n"
     ]
    }
   ],
   "source": [
    "#define response variable\n",
    "y = (1 - df.homeshare)\n",
    "\n",
    "#define predictor variables\n",
    "x = df.expenditure\n",
    "\n",
    "#add constant to predictor variables\n",
    "x = sm.add_constant(x)\n",
    "\n",
    "#fit linear regression model\n",
    "model = sm.OLS(y, x).fit()\n",
    "\n",
    "#view model summary\n",
    "print(model.summary())"
   ]
  },
  {
   "cell_type": "code",
   "execution_count": 17,
   "metadata": {},
   "outputs": [
    {
     "data": {
      "image/png": "[encoded data removed]",
      "text/plain": [
       "<Figure size 1080x648 with 2 Axes>"
      ]
     },
     "metadata": {
      "needs_background": "light"
     },
     "output_type": "display_data"
    }
   ],
   "source": [
    "fig, ax = plt.subplots(figsize = [15.0,9.0], tight_layout = True)\n",
    "\n",
    "h = ax.hist2d(df.expenditure, (- df.x2), bins=10, cmap='Blues', density = True)\n",
    "\n",
    "fig.colorbar(h[3], ax=ax)\n",
    "\n",
    "plt.show()"
   ]
  },
  {
   "cell_type": "code",
   "execution_count": null,
   "metadata": {},
   "outputs": [],
   "source": []
  }
 ],
 "metadata": {
  "kernelspec": {
   "display_name": "Python 3 (ipykernel)",
   "language": "python",
   "name": "python3"
  },
  "language_info": {
   "codemirror_mode": {
    "name": "ipython",
    "version": 3
   },
   "file_extension": ".py",
   "mimetype": "text/x-python",
   "name": "python",
   "nbconvert_exporter": "python",
   "pygments_lexer": "ipython3",
   "version": "3.7.11"
  }
 },
 "nbformat": 4,
 "nbformat_minor": 4
}
