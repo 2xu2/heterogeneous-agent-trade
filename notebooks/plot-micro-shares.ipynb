{
 "cells": [
  {
   "cell_type": "code",
   "execution_count": 1,
   "metadata": {},
   "outputs": [
    {
     "name": "stderr",
     "output_type": "stream",
     "text": [
      "C:\\Users\\irmew01\\Anaconda3\\lib\\site-packages\\statsmodels\\tsa\\base\\tsa_model.py:7: FutureWarning: pandas.Int64Index is deprecated and will be removed from pandas in a future version. Use pandas.Index with the appropriate dtype instead.\n",
      "  from pandas import (to_datetime, Int64Index, DatetimeIndex, Period,\n",
      "C:\\Users\\irmew01\\Anaconda3\\lib\\site-packages\\statsmodels\\tsa\\base\\tsa_model.py:7: FutureWarning: pandas.Float64Index is deprecated and will be removed from pandas in a future version. Use pandas.Index with the appropriate dtype instead.\n",
      "  from pandas import (to_datetime, Int64Index, DatetimeIndex, Period,\n"
     ]
    }
   ],
   "source": [
    "import pandas as pd\n",
    "import numpy as np\n",
    "import scipy.io\n",
    "import statsmodels.api as sm\n",
    "\n",
    "from matplotlib import cm\n",
    "import matplotlib.pyplot as plt\n",
    "from mpl_toolkits.mplot3d import Axes3D\n",
    "from scipy.interpolate import griddata\n",
    "import matplotlib.colors as colors"
   ]
  },
  {
   "cell_type": "code",
   "execution_count": 11,
   "metadata": {},
   "outputs": [],
   "source": [
    "df = pd.read_csv(\"./output/ek-us-cross-section.csv\")"
   ]
  },
  {
   "cell_type": "code",
   "execution_count": 12,
   "metadata": {},
   "outputs": [
    {
     "data": {
      "text/html": [
       "<div>\n",
       "<style scoped>\n",
       "    .dataframe tbody tr th:only-of-type {\n",
       "        vertical-align: middle;\n",
       "    }\n",
       "\n",
       "    .dataframe tbody tr th {\n",
       "        vertical-align: top;\n",
       "    }\n",
       "\n",
       "    .dataframe thead th {\n",
       "        text-align: right;\n",
       "    }\n",
       "</style>\n",
       "<table border=\"1\" class=\"dataframe\">\n",
       "  <thead>\n",
       "    <tr style=\"text-align: right;\">\n",
       "      <th></th>\n",
       "      <th>income</th>\n",
       "      <th>assets</th>\n",
       "      <th>homeshare</th>\n",
       "      <th>expenditure</th>\n",
       "      <th>x1</th>\n",
       "      <th>x2</th>\n",
       "      <th>x3</th>\n",
       "      <th>x4</th>\n",
       "      <th>x5</th>\n",
       "      <th>x6</th>\n",
       "      <th>...</th>\n",
       "      <th>x10</th>\n",
       "      <th>x11</th>\n",
       "      <th>x12</th>\n",
       "      <th>x13</th>\n",
       "      <th>x14</th>\n",
       "      <th>x15</th>\n",
       "      <th>x16</th>\n",
       "      <th>x17</th>\n",
       "      <th>x18</th>\n",
       "      <th>x19</th>\n",
       "    </tr>\n",
       "  </thead>\n",
       "  <tbody>\n",
       "    <tr>\n",
       "      <th>0</th>\n",
       "      <td>9.127883</td>\n",
       "      <td>7.313131</td>\n",
       "      <td>0.948669</td>\n",
       "      <td>2.522568</td>\n",
       "      <td>-4.231691</td>\n",
       "      <td>-4.671640</td>\n",
       "      <td>-5.328414</td>\n",
       "      <td>-3.323371</td>\n",
       "      <td>-4.860235</td>\n",
       "      <td>-4.454928</td>\n",
       "      <td>...</td>\n",
       "      <td>-3.756799</td>\n",
       "      <td>-3.295822</td>\n",
       "      <td>-4.968285</td>\n",
       "      <td>-4.630506</td>\n",
       "      <td>-4.707697</td>\n",
       "      <td>-4.787262</td>\n",
       "      <td>-4.212108</td>\n",
       "      <td>-4.289164</td>\n",
       "      <td>-3.707833</td>\n",
       "      <td>-0.077662</td>\n",
       "    </tr>\n",
       "    <tr>\n",
       "      <th>1</th>\n",
       "      <td>9.437342</td>\n",
       "      <td>6.626263</td>\n",
       "      <td>0.947881</td>\n",
       "      <td>2.548468</td>\n",
       "      <td>-4.210689</td>\n",
       "      <td>-4.647821</td>\n",
       "      <td>-5.300544</td>\n",
       "      <td>-3.302441</td>\n",
       "      <td>-4.828325</td>\n",
       "      <td>-4.432466</td>\n",
       "      <td>...</td>\n",
       "      <td>-3.738483</td>\n",
       "      <td>-3.280109</td>\n",
       "      <td>-4.942803</td>\n",
       "      <td>-4.606899</td>\n",
       "      <td>-4.683692</td>\n",
       "      <td>-4.762875</td>\n",
       "      <td>-4.191202</td>\n",
       "      <td>-4.267750</td>\n",
       "      <td>-3.689743</td>\n",
       "      <td>-0.078378</td>\n",
       "    </tr>\n",
       "    <tr>\n",
       "      <th>2</th>\n",
       "      <td>8.149160</td>\n",
       "      <td>6.969697</td>\n",
       "      <td>0.893933</td>\n",
       "      <td>2.128291</td>\n",
       "      <td>-4.643002</td>\n",
       "      <td>-5.127286</td>\n",
       "      <td>-5.850163</td>\n",
       "      <td>-3.596238</td>\n",
       "      <td>-5.328971</td>\n",
       "      <td>-4.893641</td>\n",
       "      <td>...</td>\n",
       "      <td>-4.111153</td>\n",
       "      <td>-3.561701</td>\n",
       "      <td>-5.457813</td>\n",
       "      <td>-5.081961</td>\n",
       "      <td>-5.167005</td>\n",
       "      <td>-5.256536</td>\n",
       "      <td>-4.621247</td>\n",
       "      <td>-4.699889</td>\n",
       "      <td>-4.047533</td>\n",
       "      <td>-0.180451</td>\n",
       "    </tr>\n",
       "    <tr>\n",
       "      <th>3</th>\n",
       "      <td>7.281007</td>\n",
       "      <td>6.111111</td>\n",
       "      <td>0.899816</td>\n",
       "      <td>2.048684</td>\n",
       "      <td>-4.736090</td>\n",
       "      <td>-5.232333</td>\n",
       "      <td>-5.973736</td>\n",
       "      <td>-3.667883</td>\n",
       "      <td>-5.438940</td>\n",
       "      <td>-4.983264</td>\n",
       "      <td>...</td>\n",
       "      <td>-4.192930</td>\n",
       "      <td>-3.632180</td>\n",
       "      <td>-5.571311</td>\n",
       "      <td>-5.175869</td>\n",
       "      <td>-5.272854</td>\n",
       "      <td>-5.354440</td>\n",
       "      <td>-4.713938</td>\n",
       "      <td>-4.794039</td>\n",
       "      <td>-4.127617</td>\n",
       "      <td>-0.174134</td>\n",
       "    </tr>\n",
       "    <tr>\n",
       "      <th>4</th>\n",
       "      <td>6.412854</td>\n",
       "      <td>5.252525</td>\n",
       "      <td>0.905908</td>\n",
       "      <td>1.966568</td>\n",
       "      <td>-4.829266</td>\n",
       "      <td>-5.337742</td>\n",
       "      <td>-6.099517</td>\n",
       "      <td>-3.747090</td>\n",
       "      <td>-5.549557</td>\n",
       "      <td>-5.093092</td>\n",
       "      <td>...</td>\n",
       "      <td>-4.274571</td>\n",
       "      <td>-3.710153</td>\n",
       "      <td>-5.686134</td>\n",
       "      <td>-5.290560</td>\n",
       "      <td>-5.379098</td>\n",
       "      <td>-5.474075</td>\n",
       "      <td>-4.806699</td>\n",
       "      <td>-4.898720</td>\n",
       "      <td>-4.216507</td>\n",
       "      <td>-0.167405</td>\n",
       "    </tr>\n",
       "  </tbody>\n",
       "</table>\n",
       "<p>5 rows × 23 columns</p>\n",
       "</div>"
      ],
      "text/plain": [
       "     income    assets  homeshare  expenditure        x1        x2        x3  \\\n",
       "0  9.127883  7.313131   0.948669     2.522568 -4.231691 -4.671640 -5.328414   \n",
       "1  9.437342  6.626263   0.947881     2.548468 -4.210689 -4.647821 -5.300544   \n",
       "2  8.149160  6.969697   0.893933     2.128291 -4.643002 -5.127286 -5.850163   \n",
       "3  7.281007  6.111111   0.899816     2.048684 -4.736090 -5.232333 -5.973736   \n",
       "4  6.412854  5.252525   0.905908     1.966568 -4.829266 -5.337742 -6.099517   \n",
       "\n",
       "         x4        x5        x6  ...       x10       x11       x12       x13  \\\n",
       "0 -3.323371 -4.860235 -4.454928  ... -3.756799 -3.295822 -4.968285 -4.630506   \n",
       "1 -3.302441 -4.828325 -4.432466  ... -3.738483 -3.280109 -4.942803 -4.606899   \n",
       "2 -3.596238 -5.328971 -4.893641  ... -4.111153 -3.561701 -5.457813 -5.081961   \n",
       "3 -3.667883 -5.438940 -4.983264  ... -4.192930 -3.632180 -5.571311 -5.175869   \n",
       "4 -3.747090 -5.549557 -5.093092  ... -4.274571 -3.710153 -5.686134 -5.290560   \n",
       "\n",
       "        x14       x15       x16       x17       x18       x19  \n",
       "0 -4.707697 -4.787262 -4.212108 -4.289164 -3.707833 -0.077662  \n",
       "1 -4.683692 -4.762875 -4.191202 -4.267750 -3.689743 -0.078378  \n",
       "2 -5.167005 -5.256536 -4.621247 -4.699889 -4.047533 -0.180451  \n",
       "3 -5.272854 -5.354440 -4.713938 -4.794039 -4.127617 -0.174134  \n",
       "4 -5.379098 -5.474075 -4.806699 -4.898720 -4.216507 -0.167405  \n",
       "\n",
       "[5 rows x 23 columns]"
      ]
     },
     "execution_count": 12,
     "metadata": {},
     "output_type": "execute_result"
    }
   ],
   "source": [
    "df.head()"
   ]
  },
  {
   "cell_type": "code",
   "execution_count": 13,
   "metadata": {},
   "outputs": [],
   "source": [
    "poor = df.expenditure < df.expenditure.quantile(0.25)\n",
    "\n",
    "rich = df.expenditure > df.expenditure.quantile(0.75)"
   ]
  },
  {
   "cell_type": "code",
   "execution_count": 14,
   "metadata": {},
   "outputs": [
    {
     "name": "stdout",
     "output_type": "stream",
     "text": [
      "Rich Home Share:  0.052\n",
      "Poor Home Share:  0.043\n",
      "Rich Elasticity:  -6.264\n",
      "Poor Elasticity:  -13.165\n"
     ]
    }
   ],
   "source": [
    "print(\"Rich Home Share: \", round(1 - df.homeshare[rich].median(), 3))\n",
    "\n",
    "print(\"Poor Home Share: \", round(1 - df.homeshare[poor].median(), 3))\n",
    "\n",
    "print(\"Rich Elasticity: \", round(df.x2[rich].median(), 3))\n",
    "\n",
    "print(\"Poor Elasticity: \", round(df.x2[poor].median(), 3))"
   ]
  },
  {
   "cell_type": "code",
   "execution_count": 15,
   "metadata": {},
   "outputs": [
    {
     "data": {
      "image/png": "[encoded data removed]",
      "text/plain": [
       "<Figure size 1080x648 with 2 Axes>"
      ]
     },
     "metadata": {
      "needs_background": "light"
     },
     "output_type": "display_data"
    }
   ],
   "source": [
    "fig, ax = plt.subplots(figsize = [15.0,9.0], tight_layout = True)\n",
    "\n",
    "h = ax.hist2d(df.expenditure, (1 - df.homeshare), bins=10, cmap='Blues', density = True)\n",
    "\n",
    "fig.colorbar(h[3], ax=ax)\n",
    "\n",
    "# ax.set_ylim(0.045,0.20)\n",
    "# ax.set_xlim(0.35,2.0)\n",
    "\n",
    "plt.show()"
   ]
  },
  {
   "cell_type": "code",
   "execution_count": 16,
   "metadata": {},
   "outputs": [
    {
     "name": "stdout",
     "output_type": "stream",
     "text": [
      "                            OLS Regression Results                            \n",
      "==============================================================================\n",
      "Dep. Variable:              homeshare   R-squared:                       0.017\n",
      "Model:                            OLS   Adj. R-squared:                  0.017\n",
      "Method:                 Least Squares   F-statistic:                     1774.\n",
      "Date:                Tue, 08 Aug 2023   Prob (F-statistic):               0.00\n",
      "Time:                        13:57:52   Log-Likelihood:             2.3031e+05\n",
      "No. Observations:              100000   AIC:                        -4.606e+05\n",
      "Df Residuals:                   99998   BIC:                        -4.606e+05\n",
      "Df Model:                           1                                         \n",
      "Covariance Type:            nonrobust                                         \n",
      "===============================================================================\n",
      "                  coef    std err          t      P>|t|      [0.025      0.975]\n",
      "-------------------------------------------------------------------------------\n",
      "const           0.0449      0.000    236.251      0.000       0.045       0.045\n",
      "expenditure     0.0074      0.000     42.123      0.000       0.007       0.008\n",
      "==============================================================================\n",
      "Omnibus:                    24449.476   Durbin-Watson:                   0.689\n",
      "Prob(Omnibus):                  0.000   Jarque-Bera (JB):           106445.582\n",
      "Skew:                           1.141   Prob(JB):                         0.00\n",
      "Kurtosis:                       7.510   Cond. No.                         4.78\n",
      "==============================================================================\n",
      "\n",
      "Notes:\n",
      "[1] Standard Errors assume that the covariance matrix of the errors is correctly specified.\n"
     ]
    },
    {
     "name": "stderr",
     "output_type": "stream",
     "text": [
      "C:\\Users\\irmew01\\Anaconda3\\lib\\site-packages\\statsmodels\\tsa\\tsatools.py:142: FutureWarning: In a future version of pandas all arguments of concat except for the argument 'objs' will be keyword-only.\n",
      "  x = pd.concat(x[::order], 1)\n"
     ]
    }
   ],
   "source": [
    "#define response variable\n",
    "y = (1 - df.homeshare)\n",
    "\n",
    "#define predictor variables\n",
    "x = df.expenditure\n",
    "\n",
    "#add constant to predictor variables\n",
    "x = sm.add_constant(x)\n",
    "\n",
    "#fit linear regression model\n",
    "model = sm.OLS(y, x).fit()\n",
    "\n",
    "#view model summary\n",
    "print(model.summary())"
   ]
  },
  {
   "cell_type": "code",
   "execution_count": 17,
   "metadata": {},
   "outputs": [
    {
     "data": {
      "image/png": "[encoded data removed]",
      "text/plain": [
       "<Figure size 1080x648 with 2 Axes>"
      ]
     },
     "metadata": {
      "needs_background": "light"
     },
     "output_type": "display_data"
    }
   ],
   "source": [
    "fig, ax = plt.subplots(figsize = [15.0,9.0], tight_layout = True)\n",
    "\n",
    "h = ax.hist2d(df.expenditure, (- df.x2), bins=10, cmap='Blues', density = True)\n",
    "\n",
    "fig.colorbar(h[3], ax=ax)\n",
    "\n",
    "plt.show()"
   ]
  },
  {
   "cell_type": "code",
   "execution_count": null,
   "metadata": {},
   "outputs": [],
   "source": []
  }
 ],
 "metadata": {
  "kernelspec": {
   "display_name": "Python 3",
   "language": "python",
   "name": "python3"
  },
  "language_info": {
   "codemirror_mode": {
    "name": "ipython",
    "version": 3
   },
   "file_extension": ".py",
   "mimetype": "text/x-python",
   "name": "python",
   "nbconvert_exporter": "python",
   "pygments_lexer": "ipython3",
   "version": "3.8.8"
  }
 },
 "nbformat": 4,
 "nbformat_minor": 4
}
