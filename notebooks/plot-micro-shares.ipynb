{
 "cells": [
  {
   "cell_type": "code",
   "execution_count": 48,
   "metadata": {},
   "outputs": [],
   "source": [
    "import pandas as pd\n",
    "import numpy as np\n",
    "import scipy.io\n",
    "import statsmodels.api as sm\n",
    "\n",
    "from matplotlib import cm\n",
    "import matplotlib.pyplot as plt\n",
    "from mpl_toolkits.mplot3d import Axes3D\n",
    "from scipy.interpolate import griddata\n",
    "import matplotlib.colors as colors"
   ]
  },
  {
   "cell_type": "code",
   "execution_count": 49,
   "metadata": {},
   "outputs": [],
   "source": [
    "df = pd.read_csv(\"./output/cross-section.csv\")"
   ]
  },
  {
   "cell_type": "code",
   "execution_count": 50,
   "metadata": {},
   "outputs": [
    {
     "data": {
      "text/html": [
       "<div>\n",
       "<style scoped>\n",
       "    .dataframe tbody tr th:only-of-type {\n",
       "        vertical-align: middle;\n",
       "    }\n",
       "\n",
       "    .dataframe tbody tr th {\n",
       "        vertical-align: top;\n",
       "    }\n",
       "\n",
       "    .dataframe thead th {\n",
       "        text-align: right;\n",
       "    }\n",
       "</style>\n",
       "<table border=\"1\" class=\"dataframe\">\n",
       "  <thead>\n",
       "    <tr style=\"text-align: right;\">\n",
       "      <th></th>\n",
       "      <th>income</th>\n",
       "      <th>assets</th>\n",
       "      <th>homeshare</th>\n",
       "      <th>expenditure</th>\n",
       "      <th>x1</th>\n",
       "      <th>x2</th>\n",
       "    </tr>\n",
       "  </thead>\n",
       "  <tbody>\n",
       "    <tr>\n",
       "      <th>0</th>\n",
       "      <td>6.013505</td>\n",
       "      <td>4.222222</td>\n",
       "      <td>0.882628</td>\n",
       "      <td>1.924797</td>\n",
       "      <td>-0.275354</td>\n",
       "      <td>-3.065672</td>\n",
       "    </tr>\n",
       "    <tr>\n",
       "      <th>1</th>\n",
       "      <td>6.923836</td>\n",
       "      <td>4.136364</td>\n",
       "      <td>0.924458</td>\n",
       "      <td>2.339060</td>\n",
       "      <td>-0.159262</td>\n",
       "      <td>-2.889981</td>\n",
       "    </tr>\n",
       "    <tr>\n",
       "      <th>2</th>\n",
       "      <td>7.358342</td>\n",
       "      <td>4.565657</td>\n",
       "      <td>0.923647</td>\n",
       "      <td>2.378038</td>\n",
       "      <td>-0.159831</td>\n",
       "      <td>-2.866985</td>\n",
       "    </tr>\n",
       "    <tr>\n",
       "      <th>3</th>\n",
       "      <td>6.875767</td>\n",
       "      <td>5.080808</td>\n",
       "      <td>0.924553</td>\n",
       "      <td>2.334716</td>\n",
       "      <td>-0.159380</td>\n",
       "      <td>-2.895368</td>\n",
       "    </tr>\n",
       "    <tr>\n",
       "      <th>4</th>\n",
       "      <td>7.358342</td>\n",
       "      <td>4.565657</td>\n",
       "      <td>0.923647</td>\n",
       "      <td>2.378038</td>\n",
       "      <td>-0.159831</td>\n",
       "      <td>-2.866985</td>\n",
       "    </tr>\n",
       "  </tbody>\n",
       "</table>\n",
       "</div>"
      ],
      "text/plain": [
       "     income    assets  homeshare  expenditure        x1        x2\n",
       "0  6.013505  4.222222   0.882628     1.924797 -0.275354 -3.065672\n",
       "1  6.923836  4.136364   0.924458     2.339060 -0.159262 -2.889981\n",
       "2  7.358342  4.565657   0.923647     2.378038 -0.159831 -2.866985\n",
       "3  6.875767  5.080808   0.924553     2.334716 -0.159380 -2.895368\n",
       "4  7.358342  4.565657   0.923647     2.378038 -0.159831 -2.866985"
      ]
     },
     "execution_count": 50,
     "metadata": {},
     "output_type": "execute_result"
    }
   ],
   "source": [
    "df.head()"
   ]
  },
  {
   "cell_type": "code",
   "execution_count": 51,
   "metadata": {},
   "outputs": [],
   "source": [
    "poor = df.expenditure < df.expenditure.quantile(0.25)\n",
    "\n",
    "rich = df.expenditure > df.expenditure.quantile(0.75)"
   ]
  },
  {
   "cell_type": "code",
   "execution_count": 52,
   "metadata": {},
   "outputs": [
    {
     "name": "stdout",
     "output_type": "stream",
     "text": [
      "Rich Home Share:  0.092\n",
      "Poor Home Share:  0.109\n",
      "Rich Elasticity:  -3.576\n",
      "Poor Elasticity:  -6.422\n"
     ]
    }
   ],
   "source": [
    "print(\"Rich Home Share: \", round(1 - df.homeshare[rich].median(), 3))\n",
    "\n",
    "print(\"Poor Home Share: \", round(1 - df.homeshare[poor].median(), 3))\n",
    "\n",
    "print(\"Rich Elasticity: \", round(df.x2[rich].median(), 3))\n",
    "\n",
    "print(\"Poor Elasticity: \", round(df.x2[poor].median(), 3))"
   ]
  },
  {
   "cell_type": "code",
   "execution_count": 53,
   "metadata": {},
   "outputs": [
    {
     "data": {
      "image/png": "[encoded data removed]",
      "text/plain": [
       "<Figure size 1080x648 with 2 Axes>"
      ]
     },
     "metadata": {
      "needs_background": "light"
     },
     "output_type": "display_data"
    }
   ],
   "source": [
    "fig, ax = plt.subplots(figsize = [15.0,9.0], tight_layout = True)\n",
    "\n",
    "h = ax.hist2d(df.expenditure, (1 - df.homeshare), bins=10, cmap='Blues', density = True)\n",
    "\n",
    "fig.colorbar(h[3], ax=ax)\n",
    "\n",
    "ax.set_ylim(0.045,0.20)\n",
    "ax.set_xlim(0.35,2.0)\n",
    "\n",
    "plt.show()"
   ]
  },
  {
   "cell_type": "code",
   "execution_count": 54,
   "metadata": {},
   "outputs": [
    {
     "name": "stdout",
     "output_type": "stream",
     "text": [
      "                            OLS Regression Results                            \n",
      "==============================================================================\n",
      "Dep. Variable:              homeshare   R-squared:                       0.033\n",
      "Model:                            OLS   Adj. R-squared:                  0.033\n",
      "Method:                 Least Squares   F-statistic:                     3367.\n",
      "Date:                Fri, 21 Jul 2023   Prob (F-statistic):               0.00\n",
      "Time:                        17:26:38   Log-Likelihood:             2.2901e+05\n",
      "No. Observations:              100000   AIC:                        -4.580e+05\n",
      "Df Residuals:                   99998   BIC:                        -4.580e+05\n",
      "Df Model:                           1                                         \n",
      "Covariance Type:            nonrobust                                         \n",
      "===============================================================================\n",
      "                  coef    std err          t      P>|t|      [0.025      0.975]\n",
      "-------------------------------------------------------------------------------\n",
      "const           0.1111      0.000    576.778      0.000       0.111       0.111\n",
      "expenditure    -0.0103      0.000    -58.022      0.000      -0.011      -0.010\n",
      "==============================================================================\n",
      "Omnibus:                     2368.305   Durbin-Watson:                   0.799\n",
      "Prob(Omnibus):                  0.000   Jarque-Bera (JB):             4227.510\n",
      "Skew:                           0.196   Prob(JB):                         0.00\n",
      "Kurtosis:                       3.928   Cond. No.                         4.78\n",
      "==============================================================================\n",
      "\n",
      "Warnings:\n",
      "[1] Standard Errors assume that the covariance matrix of the errors is correctly specified.\n"
     ]
    },
    {
     "name": "stderr",
     "output_type": "stream",
     "text": [
      "C:\\ProgramData\\Anaconda3\\lib\\site-packages\\statsmodels\\tsa\\tsatools.py:130: FutureWarning: In a future version of pandas all arguments of concat except for the argument 'objs' will be keyword-only\n",
      "  x = pd.concat(x[::order], 1)\n"
     ]
    }
   ],
   "source": [
    "#define response variable\n",
    "y = (1 - df.homeshare)\n",
    "\n",
    "#define predictor variables\n",
    "x = df.expenditure\n",
    "\n",
    "#add constant to predictor variables\n",
    "x = sm.add_constant(x)\n",
    "\n",
    "#fit linear regression model\n",
    "model = sm.OLS(y, x).fit()\n",
    "\n",
    "#view model summary\n",
    "print(model.summary())"
   ]
  },
  {
   "cell_type": "code",
   "execution_count": 47,
   "metadata": {},
   "outputs": [
    {
     "data": {
      "image/png": "[encoded data removed]",
      "text/plain": [
       "<Figure size 1080x648 with 2 Axes>"
      ]
     },
     "metadata": {
      "needs_background": "light"
     },
     "output_type": "display_data"
    }
   ],
   "source": [
    "fig, ax = plt.subplots(figsize = [15.0,9.0], tight_layout = True)\n",
    "\n",
    "h = ax.hist2d(df.expenditure, (- df.x2), bins=10, cmap='Blues', density = True)\n",
    "\n",
    "fig.colorbar(h[3], ax=ax)\n",
    "\n",
    "plt.show()"
   ]
  },
  {
   "cell_type": "code",
   "execution_count": null,
   "metadata": {},
   "outputs": [],
   "source": []
  }
 ],
 "metadata": {
  "kernelspec": {
   "display_name": "Python 3",
   "language": "python",
   "name": "python3"
  },
  "language_info": {
   "codemirror_mode": {
    "name": "ipython",
    "version": 3
   },
   "file_extension": ".py",
   "mimetype": "text/x-python",
   "name": "python",
   "nbconvert_exporter": "python",
   "pygments_lexer": "ipython3",
   "version": "3.7.3"
  }
 },
 "nbformat": 4,
 "nbformat_minor": 4
}
