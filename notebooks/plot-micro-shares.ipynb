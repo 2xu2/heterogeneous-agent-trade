{
 "cells": [
  {
   "cell_type": "code",
   "execution_count": 8,
   "metadata": {},
   "outputs": [],
   "source": [
    "import pandas as pd\n",
    "import numpy as np\n",
    "import scipy.io\n",
    "import statsmodels.api as sm\n",
    "\n",
    "from matplotlib import cm\n",
    "import matplotlib.pyplot as plt\n",
    "from mpl_toolkits.mplot3d import Axes3D\n",
    "from scipy.interpolate import griddata\n",
    "import matplotlib.colors as colors"
   ]
  },
  {
   "cell_type": "code",
   "execution_count": 9,
   "metadata": {},
   "outputs": [],
   "source": [
    "df = pd.read_csv(\"./output/ek-us-cross-section.csv\")"
   ]
  },
  {
   "cell_type": "code",
   "execution_count": 10,
   "metadata": {},
   "outputs": [
    {
     "data": {
      "text/html": [
       "<div>\n",
       "<style scoped>\n",
       "    .dataframe tbody tr th:only-of-type {\n",
       "        vertical-align: middle;\n",
       "    }\n",
       "\n",
       "    .dataframe tbody tr th {\n",
       "        vertical-align: top;\n",
       "    }\n",
       "\n",
       "    .dataframe thead th {\n",
       "        text-align: right;\n",
       "    }\n",
       "</style>\n",
       "<table border=\"1\" class=\"dataframe\">\n",
       "  <thead>\n",
       "    <tr style=\"text-align: right;\">\n",
       "      <th></th>\n",
       "      <th>income</th>\n",
       "      <th>assets</th>\n",
       "      <th>homeshare</th>\n",
       "      <th>expenditure</th>\n",
       "      <th>x1</th>\n",
       "      <th>x2</th>\n",
       "      <th>x3</th>\n",
       "      <th>x4</th>\n",
       "      <th>x5</th>\n",
       "      <th>x6</th>\n",
       "      <th>...</th>\n",
       "      <th>x10</th>\n",
       "      <th>x11</th>\n",
       "      <th>x12</th>\n",
       "      <th>x13</th>\n",
       "      <th>x14</th>\n",
       "      <th>x15</th>\n",
       "      <th>x16</th>\n",
       "      <th>x17</th>\n",
       "      <th>x18</th>\n",
       "      <th>x19</th>\n",
       "    </tr>\n",
       "  </thead>\n",
       "  <tbody>\n",
       "    <tr>\n",
       "      <th>0</th>\n",
       "      <td>6.989937</td>\n",
       "      <td>6.454545</td>\n",
       "      <td>0.908831</td>\n",
       "      <td>1.408636</td>\n",
       "      <td>-6.048729</td>\n",
       "      <td>-6.672426</td>\n",
       "      <td>-7.722944</td>\n",
       "      <td>-4.609209</td>\n",
       "      <td>-6.973730</td>\n",
       "      <td>-6.365780</td>\n",
       "      <td>...</td>\n",
       "      <td>-5.308454</td>\n",
       "      <td>-4.511148</td>\n",
       "      <td>-7.183592</td>\n",
       "      <td>-6.645985</td>\n",
       "      <td>-6.752380</td>\n",
       "      <td>-6.876063</td>\n",
       "      <td>-5.992711</td>\n",
       "      <td>-6.118121</td>\n",
       "      <td>-5.251281</td>\n",
       "      <td>-0.188842</td>\n",
       "    </tr>\n",
       "    <tr>\n",
       "      <th>1</th>\n",
       "      <td>6.206623</td>\n",
       "      <td>5.681818</td>\n",
       "      <td>0.918562</td>\n",
       "      <td>1.328545</td>\n",
       "      <td>-6.235224</td>\n",
       "      <td>-6.882100</td>\n",
       "      <td>-7.975169</td>\n",
       "      <td>-4.753452</td>\n",
       "      <td>-7.170890</td>\n",
       "      <td>-6.564047</td>\n",
       "      <td>...</td>\n",
       "      <td>-5.453786</td>\n",
       "      <td>-4.653813</td>\n",
       "      <td>-7.388907</td>\n",
       "      <td>-6.831364</td>\n",
       "      <td>-6.964572</td>\n",
       "      <td>-7.070328</td>\n",
       "      <td>-6.157179</td>\n",
       "      <td>-6.306654</td>\n",
       "      <td>-5.411758</td>\n",
       "      <td>-0.174078</td>\n",
       "    </tr>\n",
       "    <tr>\n",
       "      <th>2</th>\n",
       "      <td>5.423308</td>\n",
       "      <td>4.909091</td>\n",
       "      <td>0.928376</td>\n",
       "      <td>1.245876</td>\n",
       "      <td>-6.427429</td>\n",
       "      <td>-7.098730</td>\n",
       "      <td>-8.236691</td>\n",
       "      <td>-4.918408</td>\n",
       "      <td>-7.424519</td>\n",
       "      <td>-6.768539</td>\n",
       "      <td>...</td>\n",
       "      <td>-5.638554</td>\n",
       "      <td>-4.817066</td>\n",
       "      <td>-7.624798</td>\n",
       "      <td>-7.070564</td>\n",
       "      <td>-7.183917</td>\n",
       "      <td>-7.320352</td>\n",
       "      <td>-6.368034</td>\n",
       "      <td>-6.501047</td>\n",
       "      <td>-5.595446</td>\n",
       "      <td>-0.158585</td>\n",
       "    </tr>\n",
       "    <tr>\n",
       "      <th>3</th>\n",
       "      <td>4.983189</td>\n",
       "      <td>4.222222</td>\n",
       "      <td>0.915223</td>\n",
       "      <td>1.360013</td>\n",
       "      <td>-6.164773</td>\n",
       "      <td>-6.808711</td>\n",
       "      <td>-7.897369</td>\n",
       "      <td>-4.706260</td>\n",
       "      <td>-7.120885</td>\n",
       "      <td>-6.491730</td>\n",
       "      <td>...</td>\n",
       "      <td>-5.405045</td>\n",
       "      <td>-4.607065</td>\n",
       "      <td>-7.339780</td>\n",
       "      <td>-6.781634</td>\n",
       "      <td>-6.890603</td>\n",
       "      <td>-7.020766</td>\n",
       "      <td>-6.107559</td>\n",
       "      <td>-6.257694</td>\n",
       "      <td>-5.363234</td>\n",
       "      <td>-0.180056</td>\n",
       "    </tr>\n",
       "    <tr>\n",
       "      <th>4</th>\n",
       "      <td>4.116051</td>\n",
       "      <td>3.621212</td>\n",
       "      <td>0.927072</td>\n",
       "      <td>1.261502</td>\n",
       "      <td>-6.425712</td>\n",
       "      <td>-7.075434</td>\n",
       "      <td>-8.225694</td>\n",
       "      <td>-4.905911</td>\n",
       "      <td>-7.405497</td>\n",
       "      <td>-6.770336</td>\n",
       "      <td>...</td>\n",
       "      <td>-5.629864</td>\n",
       "      <td>-4.784927</td>\n",
       "      <td>-7.638428</td>\n",
       "      <td>-7.047234</td>\n",
       "      <td>-7.191379</td>\n",
       "      <td>-7.301113</td>\n",
       "      <td>-6.340032</td>\n",
       "      <td>-6.499525</td>\n",
       "      <td>-5.563908</td>\n",
       "      <td>-0.161541</td>\n",
       "    </tr>\n",
       "  </tbody>\n",
       "</table>\n",
       "<p>5 rows × 23 columns</p>\n",
       "</div>"
      ],
      "text/plain": [
       "     income    assets  homeshare  expenditure        x1        x2        x3  \\\n",
       "0  6.989937  6.454545   0.908831     1.408636 -6.048729 -6.672426 -7.722944   \n",
       "1  6.206623  5.681818   0.918562     1.328545 -6.235224 -6.882100 -7.975169   \n",
       "2  5.423308  4.909091   0.928376     1.245876 -6.427429 -7.098730 -8.236691   \n",
       "3  4.983189  4.222222   0.915223     1.360013 -6.164773 -6.808711 -7.897369   \n",
       "4  4.116051  3.621212   0.927072     1.261502 -6.425712 -7.075434 -8.225694   \n",
       "\n",
       "         x4        x5        x6  ...       x10       x11       x12       x13  \\\n",
       "0 -4.609209 -6.973730 -6.365780  ... -5.308454 -4.511148 -7.183592 -6.645985   \n",
       "1 -4.753452 -7.170890 -6.564047  ... -5.453786 -4.653813 -7.388907 -6.831364   \n",
       "2 -4.918408 -7.424519 -6.768539  ... -5.638554 -4.817066 -7.624798 -7.070564   \n",
       "3 -4.706260 -7.120885 -6.491730  ... -5.405045 -4.607065 -7.339780 -6.781634   \n",
       "4 -4.905911 -7.405497 -6.770336  ... -5.629864 -4.784927 -7.638428 -7.047234   \n",
       "\n",
       "        x14       x15       x16       x17       x18       x19  \n",
       "0 -6.752380 -6.876063 -5.992711 -6.118121 -5.251281 -0.188842  \n",
       "1 -6.964572 -7.070328 -6.157179 -6.306654 -5.411758 -0.174078  \n",
       "2 -7.183917 -7.320352 -6.368034 -6.501047 -5.595446 -0.158585  \n",
       "3 -6.890603 -7.020766 -6.107559 -6.257694 -5.363234 -0.180056  \n",
       "4 -7.191379 -7.301113 -6.340032 -6.499525 -5.563908 -0.161541  \n",
       "\n",
       "[5 rows x 23 columns]"
      ]
     },
     "execution_count": 10,
     "metadata": {},
     "output_type": "execute_result"
    }
   ],
   "source": [
    "df.head()"
   ]
  },
  {
   "cell_type": "code",
   "execution_count": 11,
   "metadata": {},
   "outputs": [],
   "source": [
    "poor = df.expenditure < df.expenditure.quantile(0.25)\n",
    "\n",
    "rich = df.expenditure > df.expenditure.quantile(0.75)"
   ]
  },
  {
   "cell_type": "code",
   "execution_count": 12,
   "metadata": {},
   "outputs": [
    {
     "name": "stdout",
     "output_type": "stream",
     "text": [
      "Rich Home Share:  0.099\n",
      "Poor Home Share:  0.004\n",
      "Rich Elasticity:  -6.629\n",
      "Poor Elasticity:  -14.208\n"
     ]
    }
   ],
   "source": [
    "print(\"Rich Home Share: \", round(1 - df.homeshare[rich].median(), 3))\n",
    "\n",
    "print(\"Poor Home Share: \", round(1 - df.homeshare[poor].median(), 3))\n",
    "\n",
    "print(\"Rich Elasticity: \", round(df.x2[rich].median(), 3))\n",
    "\n",
    "print(\"Poor Elasticity: \", round(df.x2[poor].median(), 3))"
   ]
  },
  {
   "cell_type": "code",
   "execution_count": 13,
   "metadata": {},
   "outputs": [
    {
     "data": {
      "image/png": "[encoded data removed]",
      "text/plain": [
       "<Figure size 1080x648 with 2 Axes>"
      ]
     },
     "metadata": {
      "needs_background": "light"
     },
     "output_type": "display_data"
    }
   ],
   "source": [
    "fig, ax = plt.subplots(figsize = [15.0,9.0], tight_layout = True)\n",
    "\n",
    "h = ax.hist2d(df.expenditure, (1 - df.homeshare), bins=10, cmap='Blues', density = True)\n",
    "\n",
    "fig.colorbar(h[3], ax=ax)\n",
    "\n",
    "# ax.set_ylim(0.045,0.20)\n",
    "# ax.set_xlim(0.35,2.0)\n",
    "\n",
    "plt.show()"
   ]
  },
  {
   "cell_type": "code",
   "execution_count": 54,
   "metadata": {},
   "outputs": [
    {
     "name": "stdout",
     "output_type": "stream",
     "text": [
      "                            OLS Regression Results                            \n",
      "==============================================================================\n",
      "Dep. Variable:              homeshare   R-squared:                       0.033\n",
      "Model:                            OLS   Adj. R-squared:                  0.033\n",
      "Method:                 Least Squares   F-statistic:                     3367.\n",
      "Date:                Fri, 21 Jul 2023   Prob (F-statistic):               0.00\n",
      "Time:                        17:26:38   Log-Likelihood:             2.2901e+05\n",
      "No. Observations:              100000   AIC:                        -4.580e+05\n",
      "Df Residuals:                   99998   BIC:                        -4.580e+05\n",
      "Df Model:                           1                                         \n",
      "Covariance Type:            nonrobust                                         \n",
      "===============================================================================\n",
      "                  coef    std err          t      P>|t|      [0.025      0.975]\n",
      "-------------------------------------------------------------------------------\n",
      "const           0.1111      0.000    576.778      0.000       0.111       0.111\n",
      "expenditure    -0.0103      0.000    -58.022      0.000      -0.011      -0.010\n",
      "==============================================================================\n",
      "Omnibus:                     2368.305   Durbin-Watson:                   0.799\n",
      "Prob(Omnibus):                  0.000   Jarque-Bera (JB):             4227.510\n",
      "Skew:                           0.196   Prob(JB):                         0.00\n",
      "Kurtosis:                       3.928   Cond. No.                         4.78\n",
      "==============================================================================\n",
      "\n",
      "Warnings:\n",
      "[1] Standard Errors assume that the covariance matrix of the errors is correctly specified.\n"
     ]
    },
    {
     "name": "stderr",
     "output_type": "stream",
     "text": [
      "C:\\ProgramData\\Anaconda3\\lib\\site-packages\\statsmodels\\tsa\\tsatools.py:130: FutureWarning: In a future version of pandas all arguments of concat except for the argument 'objs' will be keyword-only\n",
      "  x = pd.concat(x[::order], 1)\n"
     ]
    }
   ],
   "source": [
    "#define response variable\n",
    "y = (1 - df.homeshare)\n",
    "\n",
    "#define predictor variables\n",
    "x = df.expenditure\n",
    "\n",
    "#add constant to predictor variables\n",
    "x = sm.add_constant(x)\n",
    "\n",
    "#fit linear regression model\n",
    "model = sm.OLS(y, x).fit()\n",
    "\n",
    "#view model summary\n",
    "print(model.summary())"
   ]
  },
  {
   "cell_type": "code",
   "execution_count": 47,
   "metadata": {},
   "outputs": [
    {
     "data": {
      "image/png": "[encoded data removed]",
      "text/plain": [
       "<Figure size 1080x648 with 2 Axes>"
      ]
     },
     "metadata": {
      "needs_background": "light"
     },
     "output_type": "display_data"
    }
   ],
   "source": [
    "fig, ax = plt.subplots(figsize = [15.0,9.0], tight_layout = True)\n",
    "\n",
    "h = ax.hist2d(df.expenditure, (- df.x2), bins=10, cmap='Blues', density = True)\n",
    "\n",
    "fig.colorbar(h[3], ax=ax)\n",
    "\n",
    "plt.show()"
   ]
  },
  {
   "cell_type": "code",
   "execution_count": null,
   "metadata": {},
   "outputs": [],
   "source": []
  }
 ],
 "metadata": {
  "kernelspec": {
   "display_name": "Python 3",
   "language": "python",
   "name": "python3"
  },
  "language_info": {
   "codemirror_mode": {
    "name": "ipython",
    "version": 3
   },
   "file_extension": ".py",
   "mimetype": "text/x-python",
   "name": "python",
   "nbconvert_exporter": "python",
   "pygments_lexer": "ipython3",
   "version": "3.7.3"
  }
 },
 "nbformat": 4,
 "nbformat_minor": 4
}
