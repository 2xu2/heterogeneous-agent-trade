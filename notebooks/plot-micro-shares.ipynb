{
 "cells": [
  {
   "cell_type": "code",
   "execution_count": 1,
   "metadata": {},
   "outputs": [
    {
     "name": "stderr",
     "output_type": "stream",
     "text": [
      "C:\\Users\\irmew01\\Anaconda3\\lib\\site-packages\\statsmodels\\tsa\\base\\tsa_model.py:7: FutureWarning: pandas.Int64Index is deprecated and will be removed from pandas in a future version. Use pandas.Index with the appropriate dtype instead.\n",
      "  from pandas import (to_datetime, Int64Index, DatetimeIndex, Period,\n",
      "C:\\Users\\irmew01\\Anaconda3\\lib\\site-packages\\statsmodels\\tsa\\base\\tsa_model.py:7: FutureWarning: pandas.Float64Index is deprecated and will be removed from pandas in a future version. Use pandas.Index with the appropriate dtype instead.\n",
      "  from pandas import (to_datetime, Int64Index, DatetimeIndex, Period,\n"
     ]
    }
   ],
   "source": [
    "import pandas as pd\n",
    "import numpy as np\n",
    "import scipy.io\n",
    "import statsmodels.api as sm\n",
    "\n",
    "from matplotlib import cm\n",
    "import matplotlib.pyplot as plt\n",
    "from mpl_toolkits.mplot3d import Axes3D\n",
    "from scipy.interpolate import griddata\n",
    "import matplotlib.colors as colors"
   ]
  },
  {
   "cell_type": "code",
   "execution_count": 12,
   "metadata": {},
   "outputs": [],
   "source": [
    "df = pd.read_csv(\"./output/ek-us-cross-section-45.csv\")"
   ]
  },
  {
   "cell_type": "code",
   "execution_count": 13,
   "metadata": {},
   "outputs": [
    {
     "data": {
      "text/html": [
       "<div>\n",
       "<style scoped>\n",
       "    .dataframe tbody tr th:only-of-type {\n",
       "        vertical-align: middle;\n",
       "    }\n",
       "\n",
       "    .dataframe tbody tr th {\n",
       "        vertical-align: top;\n",
       "    }\n",
       "\n",
       "    .dataframe thead th {\n",
       "        text-align: right;\n",
       "    }\n",
       "</style>\n",
       "<table border=\"1\" class=\"dataframe\">\n",
       "  <thead>\n",
       "    <tr style=\"text-align: right;\">\n",
       "      <th></th>\n",
       "      <th>income</th>\n",
       "      <th>assets</th>\n",
       "      <th>homeshare</th>\n",
       "      <th>expenditure</th>\n",
       "      <th>x1</th>\n",
       "      <th>x2</th>\n",
       "      <th>x3</th>\n",
       "      <th>x4</th>\n",
       "      <th>x5</th>\n",
       "      <th>x6</th>\n",
       "      <th>...</th>\n",
       "      <th>x10</th>\n",
       "      <th>x11</th>\n",
       "      <th>x12</th>\n",
       "      <th>x13</th>\n",
       "      <th>x14</th>\n",
       "      <th>x15</th>\n",
       "      <th>x16</th>\n",
       "      <th>x17</th>\n",
       "      <th>x18</th>\n",
       "      <th>x19</th>\n",
       "    </tr>\n",
       "  </thead>\n",
       "  <tbody>\n",
       "    <tr>\n",
       "      <th>0</th>\n",
       "      <td>1.760867</td>\n",
       "      <td>1.045455</td>\n",
       "      <td>0.840006</td>\n",
       "      <td>0.963699</td>\n",
       "      <td>-7.047540</td>\n",
       "      <td>-7.791380</td>\n",
       "      <td>-9.113889</td>\n",
       "      <td>-5.269668</td>\n",
       "      <td>-8.201201</td>\n",
       "      <td>-7.455339</td>\n",
       "      <td>...</td>\n",
       "      <td>-6.165836</td>\n",
       "      <td>-5.132952</td>\n",
       "      <td>-8.409424</td>\n",
       "      <td>-7.774844</td>\n",
       "      <td>-7.887087</td>\n",
       "      <td>-8.087949</td>\n",
       "      <td>-6.989194</td>\n",
       "      <td>-7.132476</td>\n",
       "      <td>-6.084850</td>\n",
       "      <td>-0.453654</td>\n",
       "    </tr>\n",
       "    <tr>\n",
       "      <th>1</th>\n",
       "      <td>1.500263</td>\n",
       "      <td>0.787879</td>\n",
       "      <td>0.853103</td>\n",
       "      <td>0.920139</td>\n",
       "      <td>-7.209518</td>\n",
       "      <td>-7.976886</td>\n",
       "      <td>-9.386429</td>\n",
       "      <td>-5.388702</td>\n",
       "      <td>-8.406860</td>\n",
       "      <td>-7.630972</td>\n",
       "      <td>...</td>\n",
       "      <td>-6.304363</td>\n",
       "      <td>-5.250643</td>\n",
       "      <td>-8.621820</td>\n",
       "      <td>-7.959853</td>\n",
       "      <td>-8.146772</td>\n",
       "      <td>-8.289997</td>\n",
       "      <td>-7.149621</td>\n",
       "      <td>-7.358261</td>\n",
       "      <td>-6.222063</td>\n",
       "      <td>-0.425583</td>\n",
       "    </tr>\n",
       "    <tr>\n",
       "      <th>2</th>\n",
       "      <td>1.239658</td>\n",
       "      <td>0.530303</td>\n",
       "      <td>0.866861</td>\n",
       "      <td>0.873703</td>\n",
       "      <td>-7.490273</td>\n",
       "      <td>-8.303561</td>\n",
       "      <td>-9.673074</td>\n",
       "      <td>-5.591118</td>\n",
       "      <td>-8.679172</td>\n",
       "      <td>-7.864783</td>\n",
       "      <td>...</td>\n",
       "      <td>-6.523320</td>\n",
       "      <td>-5.398719</td>\n",
       "      <td>-8.904223</td>\n",
       "      <td>-8.285660</td>\n",
       "      <td>-8.407232</td>\n",
       "      <td>-8.556935</td>\n",
       "      <td>-7.427798</td>\n",
       "      <td>-7.581337</td>\n",
       "      <td>-6.377669</td>\n",
       "      <td>-0.399445</td>\n",
       "    </tr>\n",
       "    <tr>\n",
       "      <th>3</th>\n",
       "      <td>0.808028</td>\n",
       "      <td>0.358586</td>\n",
       "      <td>0.893349</td>\n",
       "      <td>0.787146</td>\n",
       "      <td>-7.964403</td>\n",
       "      <td>-8.868933</td>\n",
       "      <td>-10.556230</td>\n",
       "      <td>-5.902957</td>\n",
       "      <td>-9.288610</td>\n",
       "      <td>-8.375576</td>\n",
       "      <td>...</td>\n",
       "      <td>-6.864982</td>\n",
       "      <td>-5.764115</td>\n",
       "      <td>-9.541075</td>\n",
       "      <td>-8.848988</td>\n",
       "      <td>-8.984544</td>\n",
       "      <td>-9.151793</td>\n",
       "      <td>-7.896111</td>\n",
       "      <td>-8.064113</td>\n",
       "      <td>-6.776820</td>\n",
       "      <td>-0.342370</td>\n",
       "    </tr>\n",
       "    <tr>\n",
       "      <th>4</th>\n",
       "      <td>0.718449</td>\n",
       "      <td>0.015152</td>\n",
       "      <td>0.898870</td>\n",
       "      <td>0.766774</td>\n",
       "      <td>-8.111101</td>\n",
       "      <td>-8.944972</td>\n",
       "      <td>-10.712090</td>\n",
       "      <td>-5.986096</td>\n",
       "      <td>-9.592099</td>\n",
       "      <td>-8.534473</td>\n",
       "      <td>...</td>\n",
       "      <td>-7.054098</td>\n",
       "      <td>-5.845596</td>\n",
       "      <td>-9.866461</td>\n",
       "      <td>-8.924675</td>\n",
       "      <td>-9.062627</td>\n",
       "      <td>-9.232850</td>\n",
       "      <td>-8.040873</td>\n",
       "      <td>-8.213689</td>\n",
       "      <td>-6.962871</td>\n",
       "      <td>-0.329839</td>\n",
       "    </tr>\n",
       "  </tbody>\n",
       "</table>\n",
       "<p>5 rows × 23 columns</p>\n",
       "</div>"
      ],
      "text/plain": [
       "     income    assets  homeshare  expenditure        x1        x2         x3  \\\n",
       "0  1.760867  1.045455   0.840006     0.963699 -7.047540 -7.791380  -9.113889   \n",
       "1  1.500263  0.787879   0.853103     0.920139 -7.209518 -7.976886  -9.386429   \n",
       "2  1.239658  0.530303   0.866861     0.873703 -7.490273 -8.303561  -9.673074   \n",
       "3  0.808028  0.358586   0.893349     0.787146 -7.964403 -8.868933 -10.556230   \n",
       "4  0.718449  0.015152   0.898870     0.766774 -8.111101 -8.944972 -10.712090   \n",
       "\n",
       "         x4        x5        x6  ...       x10       x11       x12       x13  \\\n",
       "0 -5.269668 -8.201201 -7.455339  ... -6.165836 -5.132952 -8.409424 -7.774844   \n",
       "1 -5.388702 -8.406860 -7.630972  ... -6.304363 -5.250643 -8.621820 -7.959853   \n",
       "2 -5.591118 -8.679172 -7.864783  ... -6.523320 -5.398719 -8.904223 -8.285660   \n",
       "3 -5.902957 -9.288610 -8.375576  ... -6.864982 -5.764115 -9.541075 -8.848988   \n",
       "4 -5.986096 -9.592099 -8.534473  ... -7.054098 -5.845596 -9.866461 -8.924675   \n",
       "\n",
       "        x14       x15       x16       x17       x18       x19  \n",
       "0 -7.887087 -8.087949 -6.989194 -7.132476 -6.084850 -0.453654  \n",
       "1 -8.146772 -8.289997 -7.149621 -7.358261 -6.222063 -0.425583  \n",
       "2 -8.407232 -8.556935 -7.427798 -7.581337 -6.377669 -0.399445  \n",
       "3 -8.984544 -9.151793 -7.896111 -8.064113 -6.776820 -0.342370  \n",
       "4 -9.062627 -9.232850 -8.040873 -8.213689 -6.962871 -0.329839  \n",
       "\n",
       "[5 rows x 23 columns]"
      ]
     },
     "execution_count": 13,
     "metadata": {},
     "output_type": "execute_result"
    }
   ],
   "source": [
    "df.head()"
   ]
  },
  {
   "cell_type": "code",
   "execution_count": 14,
   "metadata": {},
   "outputs": [],
   "source": [
    "poor = df.expenditure < df.expenditure.quantile(0.25)\n",
    "\n",
    "rich = df.expenditure > df.expenditure.quantile(0.75)"
   ]
  },
  {
   "cell_type": "code",
   "execution_count": 15,
   "metadata": {},
   "outputs": [
    {
     "name": "stdout",
     "output_type": "stream",
     "text": [
      "Rich Home Share:  0.076\n",
      "Poor Home Share:  0.038\n",
      "Rich Elasticity:  -6.214\n",
      "Poor Elasticity:  -13.069\n"
     ]
    }
   ],
   "source": [
    "print(\"Rich Home Share: \", round(1 - df.homeshare[rich].median(), 3))\n",
    "\n",
    "print(\"Poor Home Share: \", round(1 - df.homeshare[poor].median(), 3))\n",
    "\n",
    "print(\"Rich Elasticity: \", round(df.x2[rich].median(), 3))\n",
    "\n",
    "print(\"Poor Elasticity: \", round(df.x2[poor].median(), 3))"
   ]
  },
  {
   "cell_type": "code",
   "execution_count": 7,
   "metadata": {},
   "outputs": [
    {
     "data": {
      "image/png": "[encoded data removed]",
      "text/plain": [
       "<Figure size 1080x648 with 2 Axes>"
      ]
     },
     "metadata": {
      "needs_background": "light"
     },
     "output_type": "display_data"
    }
   ],
   "source": [
    "fig, ax = plt.subplots(figsize = [15.0,9.0], tight_layout = True)\n",
    "\n",
    "h = ax.hist2d(df.expenditure, (1 - df.homeshare), bins=10, cmap='Blues', density = True)\n",
    "\n",
    "fig.colorbar(h[3], ax=ax)\n",
    "\n",
    "# ax.set_ylim(0.045,0.20)\n",
    "# ax.set_xlim(0.35,2.0)\n",
    "\n",
    "plt.show()"
   ]
  },
  {
   "cell_type": "code",
   "execution_count": 16,
   "metadata": {},
   "outputs": [
    {
     "name": "stdout",
     "output_type": "stream",
     "text": [
      "                            OLS Regression Results                            \n",
      "==============================================================================\n",
      "Dep. Variable:              homeshare   R-squared:                       0.017\n",
      "Model:                            OLS   Adj. R-squared:                  0.017\n",
      "Method:                 Least Squares   F-statistic:                     1774.\n",
      "Date:                Tue, 08 Aug 2023   Prob (F-statistic):               0.00\n",
      "Time:                        13:57:52   Log-Likelihood:             2.3031e+05\n",
      "No. Observations:              100000   AIC:                        -4.606e+05\n",
      "Df Residuals:                   99998   BIC:                        -4.606e+05\n",
      "Df Model:                           1                                         \n",
      "Covariance Type:            nonrobust                                         \n",
      "===============================================================================\n",
      "                  coef    std err          t      P>|t|      [0.025      0.975]\n",
      "-------------------------------------------------------------------------------\n",
      "const           0.0449      0.000    236.251      0.000       0.045       0.045\n",
      "expenditure     0.0074      0.000     42.123      0.000       0.007       0.008\n",
      "==============================================================================\n",
      "Omnibus:                    24449.476   Durbin-Watson:                   0.689\n",
      "Prob(Omnibus):                  0.000   Jarque-Bera (JB):           106445.582\n",
      "Skew:                           1.141   Prob(JB):                         0.00\n",
      "Kurtosis:                       7.510   Cond. No.                         4.78\n",
      "==============================================================================\n",
      "\n",
      "Notes:\n",
      "[1] Standard Errors assume that the covariance matrix of the errors is correctly specified.\n"
     ]
    },
    {
     "name": "stderr",
     "output_type": "stream",
     "text": [
      "C:\\Users\\irmew01\\Anaconda3\\lib\\site-packages\\statsmodels\\tsa\\tsatools.py:142: FutureWarning: In a future version of pandas all arguments of concat except for the argument 'objs' will be keyword-only.\n",
      "  x = pd.concat(x[::order], 1)\n"
     ]
    }
   ],
   "source": [
    "#define response variable\n",
    "y = (1 - df.homeshare)\n",
    "\n",
    "#define predictor variables\n",
    "x = df.expenditure\n",
    "\n",
    "#add constant to predictor variables\n",
    "x = sm.add_constant(x)\n",
    "\n",
    "#fit linear regression model\n",
    "model = sm.OLS(y, x).fit()\n",
    "\n",
    "#view model summary\n",
    "print(model.summary())"
   ]
  },
  {
   "cell_type": "code",
   "execution_count": 17,
   "metadata": {},
   "outputs": [
    {
     "data": {
      "image/png": "[encoded data removed]",
      "text/plain": [
       "<Figure size 1080x648 with 2 Axes>"
      ]
     },
     "metadata": {
      "needs_background": "light"
     },
     "output_type": "display_data"
    }
   ],
   "source": [
    "fig, ax = plt.subplots(figsize = [15.0,9.0], tight_layout = True)\n",
    "\n",
    "h = ax.hist2d(df.expenditure, (- df.x2), bins=10, cmap='Blues', density = True)\n",
    "\n",
    "fig.colorbar(h[3], ax=ax)\n",
    "\n",
    "plt.show()"
   ]
  },
  {
   "cell_type": "code",
   "execution_count": null,
   "metadata": {},
   "outputs": [],
   "source": []
  }
 ],
 "metadata": {
  "kernelspec": {
   "display_name": "Python 3",
   "language": "python",
   "name": "python3"
  },
  "language_info": {
   "codemirror_mode": {
    "name": "ipython",
    "version": 3
   },
   "file_extension": ".py",
   "mimetype": "text/x-python",
   "name": "python",
   "nbconvert_exporter": "python",
   "pygments_lexer": "ipython3",
   "version": "3.8.8"
  }
 },
 "nbformat": 4,
 "nbformat_minor": 4
}
