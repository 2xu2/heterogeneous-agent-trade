{
 "cells": [
  {
   "cell_type": "code",
   "execution_count": 1,
   "metadata": {},
   "outputs": [
    {
     "name": "stderr",
     "output_type": "stream",
     "text": [
      "WARNING: using DataFrames.aggregate in module Main conflicts with an existing identifier.\n"
     ]
    }
   ],
   "source": [
    "include(\"../code/julia/ha-trade.jl\")\n",
    "\n",
    "using MINPACK\n",
    "using Plots\n",
    "using CSV\n",
    "using DataFrames"
   ]
  },
  {
   "cell_type": "markdown",
   "metadata": {},
   "source": [
    "### Overview\n",
    "\n",
    "This notebook provides an introductory / high-level look into how things in the HAT model operate in a two country environment."
   ]
  },
  {
   "cell_type": "markdown",
   "metadata": {},
   "source": [
    "---\n",
    "\n",
    "### Set Parameters\n",
    "\n",
    "Parameters are subdivided into two groups. One relates specifically to households, then the second relates to country-specific and/or aggregate things. I use keyword structures (as shown below) to construct these values."
   ]
  },
  {
   "cell_type": "code",
   "execution_count": 2,
   "metadata": {},
   "outputs": [],
   "source": [
    "γ = 1.5 # curvatuve on CRRA utility function\n",
    "σϵ = 0.25 # logit dispersion parameter\n",
    "Ncntry = 2 # number of countries\n",
    "\n",
    "# this setups up parameters on the household side\n",
    "hh_prm = household_params(Ncntry = Ncntry, Na = 200, β = 0.92, γ = γ, ϕ = 0.5, amax = 8.0, σϵ = σϵ);\n"
   ]
  },
  {
   "cell_type": "code",
   "execution_count": 3,
   "metadata": {},
   "outputs": [],
   "source": [
    "# here are some simpe country parametrers\n",
    "TFP = [1.0; 1.0]\n",
    "\n",
    "L = [1.0; 1.0]\n",
    "\n",
    "d_ij = 2.05\n",
    "\n",
    "d = [1.0 d_ij; d_ij 1.0]\n",
    "\n",
    "# this sets up the country specific paramters\n",
    "cntry_prm = country_params(Ncntry = Ncntry, L = L, d = d, TFP = TFP);"
   ]
  },
  {
   "cell_type": "markdown",
   "metadata": {},
   "source": [
    "---\n",
    "\n",
    "### Find an equilibrium \n",
    "\n",
    "Does what it says. Here I'm computing one for financial globalization. "
   ]
  },
  {
   "cell_type": "code",
   "execution_count": 4,
   "metadata": {},
   "outputs": [
    {
     "name": "stdout",
     "output_type": "stream",
     "text": [
      "Iter     f(x) inf-norm    Step 2-norm      Step time\n",
      "------   --------------   --------------   --------------\n",
      "     1     1.337743e-01     0.000000e+00        58.930000\n",
      "     2     1.103140e-02     2.015730e-05         1.527000\n",
      "     3     1.107275e-03     3.121236e-07         0.286000\n",
      "     4     4.738936e-06     4.292647e-09         0.328000\n",
      "     5     4.156737e-08     9.840803e-14         0.313000\n",
      "     6     7.398165e-10     4.763570e-18         0.344000\n",
      "     7     8.013382e-13     1.599809e-21         0.328000\n",
      "     8     2.879641e-15     1.858377e-27         0.328000\n",
      "Results of Nonlinear Solver Algorithm\n",
      " * Algorithm: Modified Powell\n",
      " * Starting Point: [0.0, 0.01980262729617973]\n",
      " * Zero: [-2.7263194479038184e-9, 0.01490338308941339]\n",
      " * Inf-norm of residuals: 0.000000\n",
      " * Convergence: true\n",
      " * Message: algorithm estimates that the relative error between x and the solution is at most tol\n",
      " * Total time: 62.384000 seconds\n",
      " * Function Calls: 8\n",
      " * Jacobian Calls (df/dx): 1"
     ]
    },
    {
     "data": {
      "text/plain": [
       "1.0150149922653198"
      ]
     },
     "execution_count": 4,
     "metadata": {},
     "output_type": "execute_result"
    }
   ],
   "source": [
    "f(x) = world_equillibrium_FG(exp.(x), hh_prm, cntry_prm)\n",
    "# this world... function is used to construct zero conditions for\n",
    "# the finacial globalization case\n",
    "\n",
    "function f!(fvec, x)\n",
    "\n",
    "    fvec .= f(x)\n",
    "\n",
    "end\n",
    "\n",
    "\n",
    "xguess = [1.0; 1.02]\n",
    "\n",
    "n = length(xguess)\n",
    "diag_adjust = n - 1\n",
    "\n",
    "sol = fsolve(f!, log.(xguess), show_trace = true, method = :hybr;\n",
    "      ml=diag_adjust, mu=diag_adjust,\n",
    "      diag=ones(n),\n",
    "      mode= 1,\n",
    "      tol=1e-10,\n",
    "       )\n",
    "\n",
    "# This solver works very well in general. Spencer Lyon converted old-school minpack\n",
    "# routines in C into julia\n",
    "\n",
    "print(sol)\n",
    "\n",
    "wage = [exp.(sol.x[1]); 1.0]\n",
    "R = exp.(sol.x[2])"
   ]
  },
  {
   "cell_type": "markdown",
   "metadata": {},
   "source": [
    "Then here are the results. The first entry is the wage rate which should be 1.0 given the symmetry. The second price is the interest rate, here it should be around 1.5 percent."
   ]
  },
  {
   "cell_type": "code",
   "execution_count": 5,
   "metadata": {},
   "outputs": [
    {
     "name": "stdout",
     "output_type": "stream",
     "text": [
      "[0.9999999972736806, 1.0150149922653198]\n"
     ]
    }
   ],
   "source": [
    "println(exp.(sol.x))\n"
   ]
  },
  {
   "cell_type": "markdown",
   "metadata": {},
   "source": [
    "Then this call computes aggregates given prices"
   ]
  },
  {
   "cell_type": "code",
   "execution_count": 6,
   "metadata": {},
   "outputs": [],
   "source": [
    "Rsol = [R; R]\n",
    "\n",
    "Y, tradeflows, A_demand, tradeshare, hh, dist = world_equillibrium(Rsol, wage, hh_prm, cntry_prm, tol_vfi = 1e-10);\n",
    "\n",
    "# this world_eq...is a core file takes prices and returns a bunch of stuff\n",
    "# note that hh, dist are objects of dimensiom number of countries, then within\n",
    "# it has policy functions and distributions state by state"
   ]
  },
  {
   "cell_type": "markdown",
   "metadata": {},
   "source": [
    "Here we can see the trade share matrix. Importers are rows, columns are exporters. So Country 1 (aggregate) expenditure share is about 10 percent"
   ]
  },
  {
   "cell_type": "code",
   "execution_count": 7,
   "metadata": {},
   "outputs": [
    {
     "data": {
      "text/plain": [
       "2×2 Matrix{Float64}:\n",
       " 0.900788   0.0992122\n",
       " 0.0992122  0.900788"
      ]
     },
     "execution_count": 7,
     "metadata": {},
     "output_type": "execute_result"
    }
   ],
   "source": [
    "tradeshare"
   ]
  },
  {
   "cell_type": "markdown",
   "metadata": {},
   "source": [
    "Then just to highlight how this works a bit. We can unpack the stuff under this. So here are the state by state choice probabilities of households in country 1. And then one can see how poor people don't buy much, rich people buy more. "
   ]
  },
  {
   "cell_type": "code",
   "execution_count": 8,
   "metadata": {},
   "outputs": [
    {
     "data": {
      "text/plain": [
       "200×10 Matrix{Float64}:\n",
       " 0.00138472  0.00981484  0.00537266  …  0.102566  0.0767958  0.14769\n",
       " 0.00219989  0.0130989   0.00682559     0.104144  0.0831696  0.148268\n",
       " 0.00324051  0.0147173   0.00840967     0.105696  0.089787   0.148826\n",
       " 0.00635214  0.0176245   0.0116924      0.107197  0.096606   0.149368\n",
       " 0.0109716   0.0206901   0.016571       0.108575  0.103596   0.149898\n",
       " 0.0134325   0.0233297   0.02252     …  0.10993   0.11075    0.150416\n",
       " 0.0153471   0.0247119   0.0276894      0.111249  0.118061   0.150921\n",
       " 0.0182675   0.0261816   0.0304402      0.112444  0.125633   0.151406\n",
       " 0.0213947   0.027853    0.0334653      0.11348   0.130272   0.151868\n",
       " 0.0236309   0.0297601   0.0367058      0.11446   0.132326   0.152313\n",
       " 0.0250158   0.0316114   0.0398525   …  0.115403  0.133983   0.152747\n",
       " 0.0265092   0.0333738   0.0418831      0.116311  0.135471   0.153173\n",
       " 0.0282657   0.0346849   0.0437305      0.117149  0.136827   0.153589\n",
       " ⋮                                   ⋱                       \n",
       " 0.129747    0.130898    0.141533       0.174562  0.189663   0.190483\n",
       " 0.130053    0.1312      0.141811       0.174757  0.189815   0.189805\n",
       " 0.130358    0.131501    0.142089    …  0.174952  0.189967   0.18913\n",
       " 0.130662    0.1318      0.142365       0.175147  0.190119   0.188461\n",
       " 0.130965    0.132099    0.142641       0.175341  0.190272   0.187803\n",
       " 0.131266    0.132396    0.142915       0.175534  0.190423   0.187157\n",
       " 0.131566    0.132692    0.143188       0.175727  0.190568   0.186207\n",
       " 0.131866    0.132987    0.143461    …  0.175915  0.190693   0.180996\n",
       " 0.132164    0.133281    0.143732       0.1761    0.190801   0.176181\n",
       " 0.132461    0.133574    0.144002       0.176282  0.190905   0.171641\n",
       " 0.132757    0.133866    0.144272       0.176464  0.191009   0.167323\n",
       " 0.133052    0.134157    0.14454        0.176646  0.191114   0.163203"
      ]
     },
     "execution_count": 8,
     "metadata": {},
     "output_type": "execute_result"
    }
   ],
   "source": [
    "hh[1].πprob[:,:,2]\n",
    "# guys in country one, a X z, probability of buying from 2"
   ]
  },
  {
   "cell_type": "markdown",
   "metadata": {},
   "source": [
    "---\n",
    "\n",
    "### Compute Elasticities\n",
    "\n",
    "Delivering heterogeneity in price sensitivity is a core issue in my model. Here I illustrate this. \n",
    "\n",
    "Here is what I'm going to do, given the equilibrium prices, I'm going to construct the trade elasticities and aggregate up, per Proposition 3 in the paper. The first step is to reconstruct the household for one country, evaluate how things change at the micro-level, then appropriately aggregate. \n"
   ]
  },
  {
   "cell_type": "code",
   "execution_count": 9,
   "metadata": {},
   "outputs": [],
   "source": [
    "cntry = 1 # this is the country I'll look at\n",
    "\n",
    "p = (wage[1:end] ./ TFP).*d[cntry,:] \n",
    "# prices from the perspective of those in that country\n",
    "\n",
    "hh = solve_household_problem(R, wage[cntry], p, hh_prm, tol = 1e-10);\n",
    "# solve hh problem at those prices\n",
    "\n",
    "dist = make_stationary_distribution(hh, hh_prm);\n",
    "# find stationary distribution\n"
   ]
  },
  {
   "cell_type": "markdown",
   "metadata": {},
   "source": [
    "This cell below then constructs the elasticities via numerical differentiation. Then the last two function calls construct the weights and then aggregate.\n",
    "\n",
    "A note on accuracy. I don't have a closed form for this. But in Mongey and Waugh, we do. And their I found that this approach worked well with the only issues being around states where the household is about to leave the borrowing constraint. This is to be expected per my discussion in the paper regarding how the constraint might show up in the elasticities."
   ]
  },
  {
   "cell_type": "code",
   "execution_count": 10,
   "metadata": {},
   "outputs": [
    {
     "data": {
      "text/plain": [
       "2-element Vector{Float64}:\n",
       "  1.0\n",
       " -3.2047744655260004"
      ]
     },
     "execution_count": 10,
     "metadata": {},
     "output_type": "execute_result"
    }
   ],
   "source": [
    "θ = make_θ(cntry, R, wage[cntry], p, hh_prm; points = 3, order = 1)\n",
    "# makes the micro elasticities for country, cntry, \n",
    "\n",
    "ω = make_ω(hh, dist, L[cntry], p, hh_prm)\n",
    "# makes the expenditure weights\n",
    "\n",
    "agθ = aggregate_θ(θ, ω, cntry, hh_prm)\n",
    "# construct the aggregate elasticity. The interesting element here is \n",
    "# agθ[cntry]"
   ]
  },
  {
   "cell_type": "markdown",
   "metadata": {},
   "source": [
    "--- \n",
    "\n",
    "**A quick tour of the results:**\n",
    "\n",
    "The second element above is the aggregate trade elasticity. In this situation it's about 3. What if the trade costs was larger?\n",
    "\n",
    "Then we can look at the **micro-elasticities**. \n",
    "\n",
    "The θ is a structure and contains the intensive margin, extensive margin, and how home stuff changes with respect to a change in prices. The first one is how θ_{ij}^E looks state by state (assets are rows, income shocks are columns) where one see high extensive margin elasticities for stuff in the upper-left corner of the matrix (poor people) and then in the lower-right corner the elasticities are low (rich people)"
   ]
  },
  {
   "cell_type": "code",
   "execution_count": 11,
   "metadata": {},
   "outputs": [
    {
     "data": {
      "text/plain": [
       "200×10 Matrix{Float64}:\n",
       " -10.8959   -8.58272  -8.60994  -5.65279  …  -3.1099   -4.09583  -2.37028\n",
       " -10.1199   -6.97634  -8.20082  -5.5581      -3.08475  -4.00814  -2.36127\n",
       "  -9.51488  -6.81574  -7.84199  -5.42344     -3.05675  -3.91868  -2.3567\n",
       "  -8.96491  -6.58833  -7.55833  -5.31489     -3.05621  -3.82953  -2.34957\n",
       "  -8.48364  -6.4114   -7.24912  -4.97599     -3.0335   -3.74136  -2.3434\n",
       "  -6.93727  -5.86113  -6.96357  -4.90204  …  -3.02334  -3.65384  -2.33648\n",
       "  -6.77491  -5.77551  -5.64733  -4.73985     -2.9848   -3.56984  -2.32687\n",
       "  -6.54968  -5.68592  -5.55273  -4.69315     -2.95013  -3.5308   -2.31551\n",
       "  -6.37317  -5.5964   -5.41774  -4.63996     -2.91583  -2.69721  -2.30876\n",
       "  -5.84207  -5.51337  -5.31004  -4.57963     -2.89331  -2.62909  -2.30052\n",
       "  -5.7573   -5.3894   -4.97165  -4.52421  …  -2.87387  -2.62203  -2.29333\n",
       "  -5.67095  -5.21212  -4.89854  -4.3805      -2.85113  -2.57731  -2.28659\n",
       "  -5.57784  -5.15559  -4.73741  -4.31667     -2.83613  -2.56235  -2.28041\n",
       "   ⋮                                      ⋱                      \n",
       "  -2.59561  -2.57829  -2.42547  -2.40269     -2.01118  -1.84617  -1.819\n",
       "  -2.59096  -2.57372  -2.42157  -2.39892     -2.00893  -1.8446   -1.82295\n",
       "  -2.58629  -2.56918  -2.41765  -2.39514  …  -2.00672  -1.84314  -1.8249\n",
       "  -2.58194  -2.56468  -2.41402  -2.39139     -2.00454  -1.84177  -1.82809\n",
       "  -2.57736  -2.56021  -2.41017  -2.38765     -2.00233  -1.84026  -1.83168\n",
       "  -2.5728   -2.55574  -2.40632  -2.38394     -2.00011  -1.83847  -1.83549\n",
       "  -2.56825  -2.55131  -2.40251  -2.38027     -1.99782  -1.83617  -1.79626\n",
       "  -2.56376  -2.54718  -2.39873  -2.37682  …  -1.99547  -1.83404  -1.8091\n",
       "  -2.55928  -2.5428   -2.39496  -2.37317     -1.9934   -1.83259  -1.84281\n",
       "  -2.55482  -2.53842  -2.3912   -2.36954     -1.99129  -1.83147  -1.85741\n",
       "  -2.5504   -2.53408  -2.38747  -2.36593     -1.98922  -1.83038  -1.86343\n",
       "  -2.54602  -2.52978  -2.38377  -2.36234     -1.98717  -1.82935  -1.86872"
      ]
     },
     "execution_count": 11,
     "metadata": {},
     "output_type": "execute_result"
    }
   ],
   "source": [
    "θ.θπ[:,:,2]"
   ]
  },
  {
   "cell_type": "markdown",
   "metadata": {},
   "source": [
    "Then one sees the same thing on the **intensive margin**. Constrained guys have intensive margin elasticities of -1. Then as you get richer, these elasticities fall. The wavy action as one moves across shocks is because of the ordering on the permanent and transitory components of the shocks"
   ]
  },
  {
   "cell_type": "code",
   "execution_count": 12,
   "metadata": {},
   "outputs": [
    {
     "data": {
      "text/plain": [
       "200×10 Matrix{Float64}:\n",
       " -1.0       -1.0       -1.0       …  -0.736393  -1.0       -0.695415\n",
       " -1.0       -0.843099  -1.0          -0.731783  -1.0       -0.694251\n",
       " -1.0       -0.842618  -1.0          -0.726255  -1.0       -0.694238\n",
       " -1.0       -0.836255  -1.0          -0.727693  -1.0       -0.693406\n",
       " -1.0       -0.834971  -1.0          -0.721288  -1.0       -0.69275\n",
       " -0.84299   -0.779322  -1.0       …  -0.720407  -1.0       -0.692128\n",
       " -0.842519  -0.778439  -0.836061     -0.717312  -1.0       -0.691269\n",
       " -0.835964  -0.775212  -0.835361     -0.715763  -1.0       -0.690184\n",
       " -0.834704  -0.772368  -0.829407     -0.712863  -0.754623  -0.689971\n",
       " -0.779125  -0.771887  -0.828749     -0.710358  -0.735101  -0.68909\n",
       " -0.778252  -0.765334  -0.789575  …  -0.708712  -0.735374  -0.688379\n",
       " -0.775162  -0.748902  -0.787491     -0.706361  -0.721934  -0.687806\n",
       " -0.772261  -0.748316  -0.76751      -0.705787  -0.718354  -0.687323\n",
       "  ⋮                               ⋱                        \n",
       " -0.670497  -0.670348  -0.670931     -0.672667  -0.674737  -0.679933\n",
       " -0.670445  -0.670295  -0.670889     -0.672653  -0.674738  -0.680179\n",
       " -0.67039   -0.670243  -0.670844  …  -0.672649  -0.674791  -0.679948\n",
       " -0.670404  -0.670192  -0.670866     -0.672653  -0.674902  -0.679709\n",
       " -0.670351  -0.670145  -0.670822     -0.672651  -0.674981  -0.679516\n",
       " -0.670298  -0.670095  -0.670779     -0.672639  -0.675     -0.679404\n",
       " -0.670246  -0.670045  -0.670737     -0.672624  -0.674984  -0.680577\n",
       " -0.670196  -0.670066  -0.670698  …  -0.672608  -0.674993  -0.681715\n",
       " -0.670148  -0.670019  -0.670658     -0.672636  -0.674976  -0.692827\n",
       " -0.670098  -0.66997   -0.670618     -0.672624  -0.674968  -0.695789\n",
       " -0.67005   -0.669924  -0.670578     -0.672617  -0.674965  -0.695247\n",
       " -0.670005  -0.669879  -0.670539     -0.672624  -0.675002  -0.694593"
      ]
     },
     "execution_count": 12,
     "metadata": {},
     "output_type": "execute_result"
    }
   ],
   "source": [
    "θ.θc[:,:,2]"
   ]
  },
  {
   "cell_type": "markdown",
   "metadata": {},
   "source": [
    "---\n",
    "\n",
    "Below, I'm going to output some stuff to plot things in python / matplot-lib. These figures are in the ``plot-micro-elasticity`` notebook"
   ]
  },
  {
   "cell_type": "code",
   "execution_count": 17,
   "metadata": {},
   "outputs": [],
   "source": [
    "θE = θ.θπ[:,:,2]  .- θ.θπii[:,:,2] \n",
    "\n",
    "θI = θ.θc[:,:,2]  .- θ.θcii[:,:,2] \n",
    "\n",
    "θtotal = 1.0 .+ θE .+ θI \n",
    "\n",
    "assets, shocks = get_asset_shock_state(dist.state_index, hh_prm);\n",
    "\n",
    "pcπ_by_state = get_trade(R, wage[cntry], hh.asset_policy, hh.πprob, dist.state_index, hh_prm)[1]\n",
    "\n",
    "micro_trade = pcπ_by_state[:,2] ./ sum( pcπ_by_state, dims = 2);"
   ]
  },
  {
   "cell_type": "code",
   "execution_count": 15,
   "metadata": {},
   "outputs": [],
   "source": [
    "df = DataFrame(θE = θE[:], \n",
    "               θI = θI[:],\n",
    "               θ = θtotal[:],\n",
    "               ωij = ω[:,:,2][:],\n",
    "               ωii = ω[:,:,1][:],\n",
    "               trade = micro_trade[:], \n",
    "                shocks = shocks,\n",
    "                assets = assets\n",
    "               );\n",
    "\n",
    "rootfile = \"./output/\"\n",
    "\n",
    "root = rootfile*\"new-elasticity.csv\"\n",
    "\n",
    "CSV.write(root, df);"
   ]
  },
  {
   "cell_type": "markdown",
   "metadata": {},
   "source": [
    "### Assets\n",
    "\n",
    "This gives a sense of the distribution of assets in the model. Here the constraint is quite tight and with the permanent + transitory shocks there is a large number of constrained individuals in this economy. "
   ]
  },
  {
   "cell_type": "code",
   "execution_count": 16,
   "metadata": {},
   "outputs": [
    {
     "data": {
      "image/svg+xml": [
       "<?xml version=\"1.0\" encoding=\"utf-8\"?>\n",
       "<svg xmlns=\"http://www.w3.org/2000/svg\" xmlns:xlink=\"http://www.w3.org/1999/xlink\" width=\"600\" height=\"400\" viewBox=\"0 0 2400 1600\">\n",
       "<defs>\n",
       "  <clipPath id=\"clip410\">\n",
       "    <rect x=\"0\" y=\"0\" width=\"2400\" height=\"1600\"/>\n",
       "  </clipPath>\n",
       "</defs>\n",
       "<path clip-path=\"url(#clip410)\" d=\"\n",
       "M0 1600 L2400 1600 L2400 0 L0 0  Z\n",
       "  \" fill=\"#ffffff\" fill-rule=\"evenodd\" fill-opacity=\"1\"/>\n",
       "<defs>\n",
       "  <clipPath id=\"clip411\">\n",
       "    <rect x=\"480\" y=\"0\" width=\"1681\" height=\"1600\"/>\n",
       "  </clipPath>\n",
       "</defs>\n",
       "<path clip-path=\"url(#clip410)\" d=\"\n",
       "M249.542 1423.18 L2352.76 1423.18 L2352.76 47.2441 L249.542 47.2441  Z\n",
       "  \" fill=\"#ffffff\" fill-rule=\"evenodd\" fill-opacity=\"1\"/>\n",
       "<defs>\n",
       "  <clipPath id=\"clip412\">\n",
       "    <rect x=\"249\" y=\"47\" width=\"2104\" height=\"1377\"/>\n",
       "  </clipPath>\n",
       "</defs>\n",
       "<polyline clip-path=\"url(#clip412)\" style=\"stroke:#000000; stroke-linecap:round; stroke-linejoin:round; stroke-width:2; stroke-opacity:0.1; fill:none\" points=\"\n",
       "  425.782,1423.18 425.782,47.2441 \n",
       "  \"/>\n",
       "<polyline clip-path=\"url(#clip412)\" style=\"stroke:#000000; stroke-linecap:round; stroke-linejoin:round; stroke-width:2; stroke-opacity:0.1; fill:none\" points=\"\n",
       "  892.645,1423.18 892.645,47.2441 \n",
       "  \"/>\n",
       "<polyline clip-path=\"url(#clip412)\" style=\"stroke:#000000; stroke-linecap:round; stroke-linejoin:round; stroke-width:2; stroke-opacity:0.1; fill:none\" points=\"\n",
       "  1359.51,1423.18 1359.51,47.2441 \n",
       "  \"/>\n",
       "<polyline clip-path=\"url(#clip412)\" style=\"stroke:#000000; stroke-linecap:round; stroke-linejoin:round; stroke-width:2; stroke-opacity:0.1; fill:none\" points=\"\n",
       "  1826.37,1423.18 1826.37,47.2441 \n",
       "  \"/>\n",
       "<polyline clip-path=\"url(#clip412)\" style=\"stroke:#000000; stroke-linecap:round; stroke-linejoin:round; stroke-width:2; stroke-opacity:0.1; fill:none\" points=\"\n",
       "  2293.23,1423.18 2293.23,47.2441 \n",
       "  \"/>\n",
       "<polyline clip-path=\"url(#clip410)\" style=\"stroke:#000000; stroke-linecap:round; stroke-linejoin:round; stroke-width:4; stroke-opacity:1; fill:none\" points=\"\n",
       "  249.542,1423.18 2352.76,1423.18 \n",
       "  \"/>\n",
       "<polyline clip-path=\"url(#clip410)\" style=\"stroke:#000000; stroke-linecap:round; stroke-linejoin:round; stroke-width:4; stroke-opacity:1; fill:none\" points=\"\n",
       "  425.782,1423.18 425.782,1404.28 \n",
       "  \"/>\n",
       "<polyline clip-path=\"url(#clip410)\" style=\"stroke:#000000; stroke-linecap:round; stroke-linejoin:round; stroke-width:4; stroke-opacity:1; fill:none\" points=\"\n",
       "  892.645,1423.18 892.645,1404.28 \n",
       "  \"/>\n",
       "<polyline clip-path=\"url(#clip410)\" style=\"stroke:#000000; stroke-linecap:round; stroke-linejoin:round; stroke-width:4; stroke-opacity:1; fill:none\" points=\"\n",
       "  1359.51,1423.18 1359.51,1404.28 \n",
       "  \"/>\n",
       "<polyline clip-path=\"url(#clip410)\" style=\"stroke:#000000; stroke-linecap:round; stroke-linejoin:round; stroke-width:4; stroke-opacity:1; fill:none\" points=\"\n",
       "  1826.37,1423.18 1826.37,1404.28 \n",
       "  \"/>\n",
       "<polyline clip-path=\"url(#clip410)\" style=\"stroke:#000000; stroke-linecap:round; stroke-linejoin:round; stroke-width:4; stroke-opacity:1; fill:none\" points=\"\n",
       "  2293.23,1423.18 2293.23,1404.28 \n",
       "  \"/>\n",
       "<path clip-path=\"url(#clip410)\" d=\"M425.782 1454.1 Q422.171 1454.1 420.343 1457.66 Q418.537 1461.2 418.537 1468.33 Q418.537 1475.44 420.343 1479.01 Q422.171 1482.55 425.782 1482.55 Q429.417 1482.55 431.222 1479.01 Q433.051 1475.44 433.051 1468.33 Q433.051 1461.2 431.222 1457.66 Q429.417 1454.1 425.782 1454.1 M425.782 1450.39 Q431.593 1450.39 434.648 1455 Q437.727 1459.58 437.727 1468.33 Q437.727 1477.06 434.648 1481.67 Q431.593 1486.25 425.782 1486.25 Q419.972 1486.25 416.894 1481.67 Q413.838 1477.06 413.838 1468.33 Q413.838 1459.58 416.894 1455 Q419.972 1450.39 425.782 1450.39 Z\" fill=\"#000000\" fill-rule=\"evenodd\" fill-opacity=\"1\" /><path clip-path=\"url(#clip410)\" d=\"M887.297 1481.64 L903.617 1481.64 L903.617 1485.58 L881.672 1485.58 L881.672 1481.64 Q884.334 1478.89 888.918 1474.26 Q893.524 1469.61 894.705 1468.27 Q896.95 1465.74 897.83 1464.01 Q898.733 1462.25 898.733 1460.56 Q898.733 1457.8 896.788 1456.07 Q894.867 1454.33 891.765 1454.33 Q889.566 1454.33 887.112 1455.09 Q884.682 1455.86 881.904 1457.41 L881.904 1452.69 Q884.728 1451.55 887.182 1450.97 Q889.635 1450.39 891.672 1450.39 Q897.043 1450.39 900.237 1453.08 Q903.432 1455.77 903.432 1460.26 Q903.432 1462.39 902.621 1464.31 Q901.834 1466.2 899.728 1468.8 Q899.149 1469.47 896.047 1472.69 Q892.946 1475.88 887.297 1481.64 Z\" fill=\"#000000\" fill-rule=\"evenodd\" fill-opacity=\"1\" /><path clip-path=\"url(#clip410)\" d=\"M1362.52 1455.09 L1350.71 1473.54 L1362.52 1473.54 L1362.52 1455.09 M1361.29 1451.02 L1367.17 1451.02 L1367.17 1473.54 L1372.1 1473.54 L1372.1 1477.43 L1367.17 1477.43 L1367.17 1485.58 L1362.52 1485.58 L1362.52 1477.43 L1346.91 1477.43 L1346.91 1472.92 L1361.29 1451.02 Z\" fill=\"#000000\" fill-rule=\"evenodd\" fill-opacity=\"1\" /><path clip-path=\"url(#clip410)\" d=\"M1826.77 1466.44 Q1823.63 1466.44 1821.77 1468.59 Q1819.95 1470.74 1819.95 1474.49 Q1819.95 1478.22 1821.77 1480.39 Q1823.63 1482.55 1826.77 1482.55 Q1829.92 1482.55 1831.75 1480.39 Q1833.6 1478.22 1833.6 1474.49 Q1833.6 1470.74 1831.75 1468.59 Q1829.92 1466.44 1826.77 1466.44 M1836.06 1451.78 L1836.06 1456.04 Q1834.3 1455.21 1832.49 1454.77 Q1830.71 1454.33 1828.95 1454.33 Q1824.32 1454.33 1821.87 1457.45 Q1819.44 1460.58 1819.09 1466.9 Q1820.45 1464.89 1822.51 1463.82 Q1824.57 1462.73 1827.05 1462.73 Q1832.26 1462.73 1835.27 1465.9 Q1838.3 1469.05 1838.3 1474.49 Q1838.3 1479.82 1835.15 1483.03 Q1832.01 1486.25 1826.77 1486.25 Q1820.78 1486.25 1817.61 1481.67 Q1814.44 1477.06 1814.44 1468.33 Q1814.44 1460.14 1818.32 1455.28 Q1822.21 1450.39 1828.76 1450.39 Q1830.52 1450.39 1832.31 1450.74 Q1834.11 1451.09 1836.06 1451.78 Z\" fill=\"#000000\" fill-rule=\"evenodd\" fill-opacity=\"1\" /><path clip-path=\"url(#clip410)\" d=\"M2293.23 1469.17 Q2289.9 1469.17 2287.98 1470.95 Q2286.08 1472.73 2286.08 1475.86 Q2286.08 1478.98 2287.98 1480.77 Q2289.9 1482.55 2293.23 1482.55 Q2296.56 1482.55 2298.49 1480.77 Q2300.41 1478.96 2300.41 1475.86 Q2300.41 1472.73 2298.49 1470.95 Q2296.59 1469.17 2293.23 1469.17 M2288.56 1467.18 Q2285.55 1466.44 2283.86 1464.38 Q2282.19 1462.32 2282.19 1459.35 Q2282.19 1455.21 2285.13 1452.8 Q2288.09 1450.39 2293.23 1450.39 Q2298.39 1450.39 2301.33 1452.8 Q2304.27 1455.21 2304.27 1459.35 Q2304.27 1462.32 2302.58 1464.38 Q2300.92 1466.44 2297.93 1467.18 Q2301.31 1467.96 2303.18 1470.26 Q2305.08 1472.55 2305.08 1475.86 Q2305.08 1480.88 2302 1483.57 Q2298.95 1486.25 2293.23 1486.25 Q2287.51 1486.25 2284.43 1483.57 Q2281.38 1480.88 2281.38 1475.86 Q2281.38 1472.55 2283.28 1470.26 Q2285.18 1467.96 2288.56 1467.18 M2286.84 1459.79 Q2286.84 1462.48 2288.51 1463.98 Q2290.2 1465.49 2293.23 1465.49 Q2296.24 1465.49 2297.93 1463.98 Q2299.64 1462.48 2299.64 1459.79 Q2299.64 1457.11 2297.93 1455.6 Q2296.24 1454.1 2293.23 1454.1 Q2290.2 1454.1 2288.51 1455.6 Q2286.84 1457.11 2286.84 1459.79 Z\" fill=\"#000000\" fill-rule=\"evenodd\" fill-opacity=\"1\" /><path clip-path=\"url(#clip410)\" d=\"M851.173 1526.86 L842.452 1550.51 L859.926 1550.51 L851.173 1526.86 M847.545 1520.52 L854.833 1520.52 L872.944 1568.04 L866.26 1568.04 L861.931 1555.85 L840.511 1555.85 L836.182 1568.04 L829.402 1568.04 L847.545 1520.52 Z\" fill=\"#000000\" fill-rule=\"evenodd\" fill-opacity=\"1\" /><path clip-path=\"url(#clip410)\" d=\"M902.353 1533.45 L902.353 1538.98 Q899.871 1537.71 897.197 1537.07 Q894.524 1536.44 891.659 1536.44 Q887.298 1536.44 885.102 1537.77 Q882.938 1539.11 882.938 1541.79 Q882.938 1543.82 884.498 1545 Q886.057 1546.15 890.768 1547.2 L892.773 1547.64 Q899.011 1548.98 901.621 1551.43 Q904.263 1553.85 904.263 1558.21 Q904.263 1563.17 900.316 1566.07 Q896.401 1568.97 889.526 1568.97 Q886.662 1568.97 883.543 1568.39 Q880.455 1567.85 877.018 1566.74 L877.018 1560.69 Q880.264 1562.38 883.415 1563.24 Q886.566 1564.07 889.654 1564.07 Q893.791 1564.07 896.019 1562.66 Q898.247 1561.23 898.247 1558.65 Q898.247 1556.27 896.624 1554.99 Q895.033 1553.72 889.59 1552.54 L887.553 1552.07 Q882.11 1550.92 879.691 1548.56 Q877.272 1546.18 877.272 1542.04 Q877.272 1537.01 880.837 1534.27 Q884.402 1531.54 890.959 1531.54 Q894.205 1531.54 897.07 1532.01 Q899.934 1532.49 902.353 1533.45 Z\" fill=\"#000000\" fill-rule=\"evenodd\" fill-opacity=\"1\" /><path clip-path=\"url(#clip410)\" d=\"M936.314 1533.45 L936.314 1538.98 Q933.832 1537.71 931.158 1537.07 Q928.485 1536.44 925.62 1536.44 Q921.26 1536.44 919.063 1537.77 Q916.899 1539.11 916.899 1541.79 Q916.899 1543.82 918.459 1545 Q920.018 1546.15 924.729 1547.2 L926.734 1547.64 Q932.972 1548.98 935.582 1551.43 Q938.224 1553.85 938.224 1558.21 Q938.224 1563.17 934.277 1566.07 Q930.362 1568.97 923.488 1568.97 Q920.623 1568.97 917.504 1568.39 Q914.416 1567.85 910.979 1566.74 L910.979 1560.69 Q914.225 1562.38 917.376 1563.24 Q920.527 1564.07 923.615 1564.07 Q927.753 1564.07 929.981 1562.66 Q932.209 1561.23 932.209 1558.65 Q932.209 1556.27 930.585 1554.99 Q928.994 1553.72 923.551 1552.54 L921.514 1552.07 Q916.071 1550.92 913.652 1548.56 Q911.234 1546.18 911.234 1542.04 Q911.234 1537.01 914.798 1534.27 Q918.363 1531.54 924.92 1531.54 Q928.166 1531.54 931.031 1532.01 Q933.895 1532.49 936.314 1533.45 Z\" fill=\"#000000\" fill-rule=\"evenodd\" fill-opacity=\"1\" /><path clip-path=\"url(#clip410)\" d=\"M978.042 1548.76 L978.042 1551.62 L951.115 1551.62 Q951.497 1557.67 954.743 1560.85 Q958.021 1564 963.846 1564 Q967.22 1564 970.371 1563.17 Q973.554 1562.35 976.673 1560.69 L976.673 1566.23 Q973.522 1567.57 970.212 1568.27 Q966.902 1568.97 963.496 1568.97 Q954.966 1568.97 949.969 1564 Q945.004 1559.04 945.004 1550.57 Q945.004 1541.82 949.714 1536.69 Q954.457 1531.54 962.477 1531.54 Q969.671 1531.54 973.84 1536.18 Q978.042 1540.8 978.042 1548.76 M972.185 1547.04 Q972.122 1542.23 969.48 1539.37 Q966.87 1536.5 962.541 1536.5 Q957.64 1536.5 954.679 1539.27 Q951.751 1542.04 951.306 1547.07 L972.185 1547.04 Z\" fill=\"#000000\" fill-rule=\"evenodd\" fill-opacity=\"1\" /><path clip-path=\"url(#clip410)\" d=\"M993.447 1522.27 L993.447 1532.4 L1005.51 1532.4 L1005.51 1536.95 L993.447 1536.95 L993.447 1556.3 Q993.447 1560.66 994.624 1561.9 Q995.834 1563.14 999.494 1563.14 L1005.51 1563.14 L1005.51 1568.04 L999.494 1568.04 Q992.715 1568.04 990.136 1565.53 Q987.558 1562.98 987.558 1556.3 L987.558 1536.95 L983.261 1536.95 L983.261 1532.4 L987.558 1532.4 L987.558 1522.27 L993.447 1522.27 Z\" fill=\"#000000\" fill-rule=\"evenodd\" fill-opacity=\"1\" /><path clip-path=\"url(#clip410)\" d=\"M1034.19 1520.52 L1040.62 1520.52 L1040.62 1540 L1063.98 1540 L1063.98 1520.52 L1070.41 1520.52 L1070.41 1568.04 L1063.98 1568.04 L1063.98 1545.41 L1040.62 1545.41 L1040.62 1568.04 L1034.19 1568.04 L1034.19 1520.52 Z\" fill=\"#000000\" fill-rule=\"evenodd\" fill-opacity=\"1\" /><path clip-path=\"url(#clip410)\" d=\"M1096.76 1536.5 Q1092.05 1536.5 1089.31 1540.19 Q1086.58 1543.85 1086.58 1550.25 Q1086.58 1556.65 1089.28 1560.34 Q1092.02 1564 1096.76 1564 Q1101.44 1564 1104.18 1560.31 Q1106.92 1556.62 1106.92 1550.25 Q1106.92 1543.92 1104.18 1540.23 Q1101.44 1536.5 1096.76 1536.5 M1096.76 1531.54 Q1104.4 1531.54 1108.76 1536.5 Q1113.12 1541.47 1113.12 1550.25 Q1113.12 1559 1108.76 1564 Q1104.4 1568.97 1096.76 1568.97 Q1089.09 1568.97 1084.73 1564 Q1080.4 1559 1080.4 1550.25 Q1080.4 1541.47 1084.73 1536.5 Q1089.09 1531.54 1096.76 1531.54 Z\" fill=\"#000000\" fill-rule=\"evenodd\" fill-opacity=\"1\" /><path clip-path=\"url(#clip410)\" d=\"M1122.83 1518.52 L1128.69 1518.52 L1128.69 1568.04 L1122.83 1568.04 L1122.83 1518.52 Z\" fill=\"#000000\" fill-rule=\"evenodd\" fill-opacity=\"1\" /><path clip-path=\"url(#clip410)\" d=\"M1164.4 1537.81 L1164.4 1518.52 L1170.25 1518.52 L1170.25 1568.04 L1164.4 1568.04 L1164.4 1562.7 Q1162.55 1565.88 1159.72 1567.44 Q1156.92 1568.97 1152.97 1568.97 Q1146.51 1568.97 1142.44 1563.81 Q1138.39 1558.65 1138.39 1550.25 Q1138.39 1541.85 1142.44 1536.69 Q1146.51 1531.54 1152.97 1531.54 Q1156.92 1531.54 1159.72 1533.1 Q1162.55 1534.62 1164.4 1537.81 M1144.44 1550.25 Q1144.44 1556.71 1147.08 1560.4 Q1149.76 1564.07 1154.4 1564.07 Q1159.05 1564.07 1161.72 1560.4 Q1164.4 1556.71 1164.4 1550.25 Q1164.4 1543.79 1161.72 1540.13 Q1159.05 1536.44 1154.4 1536.44 Q1149.76 1536.44 1147.08 1540.13 Q1144.44 1543.79 1144.44 1550.25 Z\" fill=\"#000000\" fill-rule=\"evenodd\" fill-opacity=\"1\" /><path clip-path=\"url(#clip410)\" d=\"M1182.32 1532.4 L1188.17 1532.4 L1188.17 1568.04 L1182.32 1568.04 L1182.32 1532.4 M1182.32 1518.52 L1188.17 1518.52 L1188.17 1525.93 L1182.32 1525.93 L1182.32 1518.52 Z\" fill=\"#000000\" fill-rule=\"evenodd\" fill-opacity=\"1\" /><path clip-path=\"url(#clip410)\" d=\"M1230.06 1546.53 L1230.06 1568.04 L1224.2 1568.04 L1224.2 1546.72 Q1224.2 1541.66 1222.23 1539.14 Q1220.26 1536.63 1216.31 1536.63 Q1211.57 1536.63 1208.83 1539.65 Q1206.09 1542.68 1206.09 1547.9 L1206.09 1568.04 L1200.2 1568.04 L1200.2 1532.4 L1206.09 1532.4 L1206.09 1537.93 Q1208.19 1534.72 1211.03 1533.13 Q1213.89 1531.54 1217.61 1531.54 Q1223.76 1531.54 1226.91 1535.36 Q1230.06 1539.14 1230.06 1546.53 Z\" fill=\"#000000\" fill-rule=\"evenodd\" fill-opacity=\"1\" /><path clip-path=\"url(#clip410)\" d=\"M1265.2 1549.81 Q1265.2 1543.44 1262.56 1539.94 Q1259.95 1536.44 1255.2 1536.44 Q1250.49 1536.44 1247.85 1539.94 Q1245.24 1543.44 1245.24 1549.81 Q1245.24 1556.14 1247.85 1559.64 Q1250.49 1563.14 1255.2 1563.14 Q1259.95 1563.14 1262.56 1559.64 Q1265.2 1556.14 1265.2 1549.81 M1271.06 1563.62 Q1271.06 1572.72 1267.01 1577.15 Q1262.97 1581.6 1254.63 1581.6 Q1251.54 1581.6 1248.81 1581.13 Q1246.07 1580.68 1243.49 1579.72 L1243.49 1574.03 Q1246.07 1575.43 1248.58 1576.1 Q1251.1 1576.76 1253.71 1576.76 Q1259.47 1576.76 1262.33 1573.74 Q1265.2 1570.75 1265.2 1564.67 L1265.2 1561.77 Q1263.38 1564.92 1260.55 1566.48 Q1257.72 1568.04 1253.77 1568.04 Q1247.22 1568.04 1243.21 1563.05 Q1239.19 1558.05 1239.19 1549.81 Q1239.19 1541.53 1243.21 1536.53 Q1247.22 1531.54 1253.77 1531.54 Q1257.72 1531.54 1260.55 1533.1 Q1263.38 1534.66 1265.2 1537.81 L1265.2 1532.4 L1271.06 1532.4 L1271.06 1563.62 Z\" fill=\"#000000\" fill-rule=\"evenodd\" fill-opacity=\"1\" /><path clip-path=\"url(#clip410)\" d=\"M1305.84 1533.45 L1305.84 1538.98 Q1303.36 1537.71 1300.69 1537.07 Q1298.01 1536.44 1295.15 1536.44 Q1290.79 1536.44 1288.59 1537.77 Q1286.43 1539.11 1286.43 1541.79 Q1286.43 1543.82 1287.99 1545 Q1289.55 1546.15 1294.26 1547.2 L1296.26 1547.64 Q1302.5 1548.98 1305.11 1551.43 Q1307.75 1553.85 1307.75 1558.21 Q1307.75 1563.17 1303.81 1566.07 Q1299.89 1568.97 1293.02 1568.97 Q1290.15 1568.97 1287.03 1568.39 Q1283.95 1567.85 1280.51 1566.74 L1280.51 1560.69 Q1283.75 1562.38 1286.91 1563.24 Q1290.06 1564.07 1293.14 1564.07 Q1297.28 1564.07 1299.51 1562.66 Q1301.74 1561.23 1301.74 1558.65 Q1301.74 1556.27 1300.11 1554.99 Q1298.52 1553.72 1293.08 1552.54 L1291.04 1552.07 Q1285.6 1550.92 1283.18 1548.56 Q1280.76 1546.18 1280.76 1542.04 Q1280.76 1537.01 1284.33 1534.27 Q1287.89 1531.54 1294.45 1531.54 Q1297.7 1531.54 1300.56 1532.01 Q1303.42 1532.49 1305.84 1533.45 Z\" fill=\"#000000\" fill-rule=\"evenodd\" fill-opacity=\"1\" /><path clip-path=\"url(#clip410)\" d=\"M1348.21 1520.52 L1353.62 1520.52 L1337.07 1574.09 L1331.66 1574.09 L1348.21 1520.52 Z\" fill=\"#000000\" fill-rule=\"evenodd\" fill-opacity=\"1\" /><path clip-path=\"url(#clip410)\" d=\"M1396.62 1526.86 L1387.9 1550.51 L1405.37 1550.51 L1396.62 1526.86 M1392.99 1520.52 L1400.28 1520.52 L1418.39 1568.04 L1411.71 1568.04 L1407.38 1555.85 L1385.96 1555.85 L1381.63 1568.04 L1374.85 1568.04 L1392.99 1520.52 Z\" fill=\"#000000\" fill-rule=\"evenodd\" fill-opacity=\"1\" /><path clip-path=\"url(#clip410)\" d=\"M1417.05 1532.4 L1423.26 1532.4 L1434.4 1562.31 L1445.54 1532.4 L1451.75 1532.4 L1438.38 1568.04 L1430.42 1568.04 L1417.05 1532.4 Z\" fill=\"#000000\" fill-rule=\"evenodd\" fill-opacity=\"1\" /><path clip-path=\"url(#clip410)\" d=\"M1483.29 1549.81 Q1483.29 1543.44 1480.65 1539.94 Q1478.04 1536.44 1473.29 1536.44 Q1468.58 1536.44 1465.94 1539.94 Q1463.33 1543.44 1463.33 1549.81 Q1463.33 1556.14 1465.94 1559.64 Q1468.58 1563.14 1473.29 1563.14 Q1478.04 1563.14 1480.65 1559.64 Q1483.29 1556.14 1483.29 1549.81 M1489.14 1563.62 Q1489.14 1572.72 1485.1 1577.15 Q1481.06 1581.6 1472.72 1581.6 Q1469.63 1581.6 1466.9 1581.13 Q1464.16 1580.68 1461.58 1579.72 L1461.58 1574.03 Q1464.16 1575.43 1466.67 1576.1 Q1469.19 1576.76 1471.8 1576.76 Q1477.56 1576.76 1480.42 1573.74 Q1483.29 1570.75 1483.29 1564.67 L1483.29 1561.77 Q1481.47 1564.92 1478.64 1566.48 Q1475.81 1568.04 1471.86 1568.04 Q1465.3 1568.04 1461.29 1563.05 Q1457.28 1558.05 1457.28 1549.81 Q1457.28 1541.53 1461.29 1536.53 Q1465.3 1531.54 1471.86 1531.54 Q1475.81 1531.54 1478.64 1533.1 Q1481.47 1534.66 1483.29 1537.81 L1483.29 1532.4 L1489.14 1532.4 L1489.14 1563.62 Z\" fill=\"#000000\" fill-rule=\"evenodd\" fill-opacity=\"1\" /><path clip-path=\"url(#clip410)\" d=\"M1502.03 1559.96 L1508.75 1559.96 L1508.75 1568.04 L1502.03 1568.04 L1502.03 1559.96 Z\" fill=\"#000000\" fill-rule=\"evenodd\" fill-opacity=\"1\" /><path clip-path=\"url(#clip410)\" d=\"M1542.9 1520.52 L1549.33 1520.52 L1549.33 1568.04 L1542.9 1568.04 L1542.9 1520.52 Z\" fill=\"#000000\" fill-rule=\"evenodd\" fill-opacity=\"1\" /><path clip-path=\"url(#clip410)\" d=\"M1591.5 1546.53 L1591.5 1568.04 L1585.65 1568.04 L1585.65 1546.72 Q1585.65 1541.66 1583.67 1539.14 Q1581.7 1536.63 1577.75 1536.63 Q1573.01 1536.63 1570.28 1539.65 Q1567.54 1542.68 1567.54 1547.9 L1567.54 1568.04 L1561.65 1568.04 L1561.65 1532.4 L1567.54 1532.4 L1567.54 1537.93 Q1569.64 1534.72 1572.47 1533.13 Q1575.34 1531.54 1579.06 1531.54 Q1585.2 1531.54 1588.35 1535.36 Q1591.5 1539.14 1591.5 1546.53 Z\" fill=\"#000000\" fill-rule=\"evenodd\" fill-opacity=\"1\" /><path clip-path=\"url(#clip410)\" d=\"M1628.84 1533.76 L1628.84 1539.24 Q1626.36 1537.87 1623.84 1537.2 Q1621.36 1536.5 1618.81 1536.5 Q1613.12 1536.5 1609.97 1540.13 Q1606.81 1543.73 1606.81 1550.25 Q1606.81 1556.78 1609.97 1560.4 Q1613.12 1564 1618.81 1564 Q1621.36 1564 1623.84 1563.33 Q1626.36 1562.63 1628.84 1561.26 L1628.84 1566.68 Q1626.39 1567.82 1623.75 1568.39 Q1621.14 1568.97 1618.18 1568.97 Q1610.12 1568.97 1605.38 1563.91 Q1600.64 1558.85 1600.64 1550.25 Q1600.64 1541.53 1605.41 1536.53 Q1610.22 1531.54 1618.56 1531.54 Q1621.26 1531.54 1623.84 1532.11 Q1626.42 1532.65 1628.84 1533.76 Z\" fill=\"#000000\" fill-rule=\"evenodd\" fill-opacity=\"1\" /><path clip-path=\"url(#clip410)\" d=\"M1652.84 1536.5 Q1648.13 1536.5 1645.39 1540.19 Q1642.65 1543.85 1642.65 1550.25 Q1642.65 1556.65 1645.36 1560.34 Q1648.1 1564 1652.84 1564 Q1657.52 1564 1660.25 1560.31 Q1662.99 1556.62 1662.99 1550.25 Q1662.99 1543.92 1660.25 1540.23 Q1657.52 1536.5 1652.84 1536.5 M1652.84 1531.54 Q1660.48 1531.54 1664.84 1536.5 Q1669.2 1541.47 1669.2 1550.25 Q1669.2 1559 1664.84 1564 Q1660.48 1568.97 1652.84 1568.97 Q1645.17 1568.97 1640.81 1564 Q1636.48 1559 1636.48 1550.25 Q1636.48 1541.47 1640.81 1536.5 Q1645.17 1531.54 1652.84 1531.54 Z\" fill=\"#000000\" fill-rule=\"evenodd\" fill-opacity=\"1\" /><path clip-path=\"url(#clip410)\" d=\"M1706.66 1539.24 Q1708.86 1535.29 1711.91 1533.41 Q1714.97 1531.54 1719.11 1531.54 Q1724.68 1531.54 1727.7 1535.45 Q1730.72 1539.33 1730.72 1546.53 L1730.72 1568.04 L1724.83 1568.04 L1724.83 1546.72 Q1724.83 1541.59 1723.02 1539.11 Q1721.21 1536.63 1717.48 1536.63 Q1712.93 1536.63 1710.29 1539.65 Q1707.65 1542.68 1707.65 1547.9 L1707.65 1568.04 L1701.76 1568.04 L1701.76 1546.72 Q1701.76 1541.56 1699.94 1539.11 Q1698.13 1536.63 1694.34 1536.63 Q1689.85 1536.63 1687.21 1539.68 Q1684.57 1542.71 1684.57 1547.9 L1684.57 1568.04 L1678.68 1568.04 L1678.68 1532.4 L1684.57 1532.4 L1684.57 1537.93 Q1686.58 1534.66 1689.38 1533.1 Q1692.18 1531.54 1696.03 1531.54 Q1699.91 1531.54 1702.62 1533.51 Q1705.36 1535.48 1706.66 1539.24 Z\" fill=\"#000000\" fill-rule=\"evenodd\" fill-opacity=\"1\" /><path clip-path=\"url(#clip410)\" d=\"M1772.9 1548.76 L1772.9 1551.62 L1745.97 1551.62 Q1746.35 1557.67 1749.6 1560.85 Q1752.88 1564 1758.7 1564 Q1762.07 1564 1765.22 1563.17 Q1768.41 1562.35 1771.53 1560.69 L1771.53 1566.23 Q1768.38 1567.57 1765.07 1568.27 Q1761.76 1568.97 1758.35 1568.97 Q1749.82 1568.97 1744.82 1564 Q1739.86 1559.04 1739.86 1550.57 Q1739.86 1541.82 1744.57 1536.69 Q1749.31 1531.54 1757.33 1531.54 Q1764.52 1531.54 1768.69 1536.18 Q1772.9 1540.8 1772.9 1548.76 M1767.04 1547.04 Q1766.98 1542.23 1764.33 1539.37 Q1761.72 1536.5 1757.4 1536.5 Q1752.49 1536.5 1749.53 1539.27 Q1746.61 1542.04 1746.16 1547.07 L1767.04 1547.04 Z\" fill=\"#000000\" fill-rule=\"evenodd\" fill-opacity=\"1\" /><polyline clip-path=\"url(#clip412)\" style=\"stroke:#000000; stroke-linecap:round; stroke-linejoin:round; stroke-width:2; stroke-opacity:0.1; fill:none\" points=\"\n",
       "  249.542,1384.24 2352.76,1384.24 \n",
       "  \"/>\n",
       "<polyline clip-path=\"url(#clip412)\" style=\"stroke:#000000; stroke-linecap:round; stroke-linejoin:round; stroke-width:2; stroke-opacity:0.1; fill:none\" points=\"\n",
       "  249.542,1056.93 2352.76,1056.93 \n",
       "  \"/>\n",
       "<polyline clip-path=\"url(#clip412)\" style=\"stroke:#000000; stroke-linecap:round; stroke-linejoin:round; stroke-width:2; stroke-opacity:0.1; fill:none\" points=\"\n",
       "  249.542,729.617 2352.76,729.617 \n",
       "  \"/>\n",
       "<polyline clip-path=\"url(#clip412)\" style=\"stroke:#000000; stroke-linecap:round; stroke-linejoin:round; stroke-width:2; stroke-opacity:0.1; fill:none\" points=\"\n",
       "  249.542,402.307 2352.76,402.307 \n",
       "  \"/>\n",
       "<polyline clip-path=\"url(#clip412)\" style=\"stroke:#000000; stroke-linecap:round; stroke-linejoin:round; stroke-width:2; stroke-opacity:0.1; fill:none\" points=\"\n",
       "  249.542,74.9964 2352.76,74.9964 \n",
       "  \"/>\n",
       "<polyline clip-path=\"url(#clip410)\" style=\"stroke:#000000; stroke-linecap:round; stroke-linejoin:round; stroke-width:4; stroke-opacity:1; fill:none\" points=\"\n",
       "  249.542,1423.18 249.542,47.2441 \n",
       "  \"/>\n",
       "<polyline clip-path=\"url(#clip410)\" style=\"stroke:#000000; stroke-linecap:round; stroke-linejoin:round; stroke-width:4; stroke-opacity:1; fill:none\" points=\"\n",
       "  249.542,1384.24 268.44,1384.24 \n",
       "  \"/>\n",
       "<polyline clip-path=\"url(#clip410)\" style=\"stroke:#000000; stroke-linecap:round; stroke-linejoin:round; stroke-width:4; stroke-opacity:1; fill:none\" points=\"\n",
       "  249.542,1056.93 268.44,1056.93 \n",
       "  \"/>\n",
       "<polyline clip-path=\"url(#clip410)\" style=\"stroke:#000000; stroke-linecap:round; stroke-linejoin:round; stroke-width:4; stroke-opacity:1; fill:none\" points=\"\n",
       "  249.542,729.617 268.44,729.617 \n",
       "  \"/>\n",
       "<polyline clip-path=\"url(#clip410)\" style=\"stroke:#000000; stroke-linecap:round; stroke-linejoin:round; stroke-width:4; stroke-opacity:1; fill:none\" points=\"\n",
       "  249.542,402.307 268.44,402.307 \n",
       "  \"/>\n",
       "<polyline clip-path=\"url(#clip410)\" style=\"stroke:#000000; stroke-linecap:round; stroke-linejoin:round; stroke-width:4; stroke-opacity:1; fill:none\" points=\"\n",
       "  249.542,74.9964 268.44,74.9964 \n",
       "  \"/>\n",
       "<path clip-path=\"url(#clip410)\" d=\"M126.205 1370.04 Q122.593 1370.04 120.765 1373.6 Q118.959 1377.14 118.959 1384.27 Q118.959 1391.38 120.765 1394.94 Q122.593 1398.49 126.205 1398.49 Q129.839 1398.49 131.644 1394.94 Q133.473 1391.38 133.473 1384.27 Q133.473 1377.14 131.644 1373.6 Q129.839 1370.04 126.205 1370.04 M126.205 1366.33 Q132.015 1366.33 135.07 1370.94 Q138.149 1375.52 138.149 1384.27 Q138.149 1393 135.07 1397.61 Q132.015 1402.19 126.205 1402.19 Q120.394 1402.19 117.316 1397.61 Q114.26 1393 114.26 1384.27 Q114.26 1375.52 117.316 1370.94 Q120.394 1366.33 126.205 1366.33 Z\" fill=\"#000000\" fill-rule=\"evenodd\" fill-opacity=\"1\" /><path clip-path=\"url(#clip410)\" d=\"M146.366 1395.64 L151.251 1395.64 L151.251 1401.52 L146.366 1401.52 L146.366 1395.64 Z\" fill=\"#000000\" fill-rule=\"evenodd\" fill-opacity=\"1\" /><path clip-path=\"url(#clip410)\" d=\"M171.436 1370.04 Q167.825 1370.04 165.996 1373.6 Q164.19 1377.14 164.19 1384.27 Q164.19 1391.38 165.996 1394.94 Q167.825 1398.49 171.436 1398.49 Q175.07 1398.49 176.876 1394.94 Q178.704 1391.38 178.704 1384.27 Q178.704 1377.14 176.876 1373.6 Q175.07 1370.04 171.436 1370.04 M171.436 1366.33 Q177.246 1366.33 180.301 1370.94 Q183.38 1375.52 183.38 1384.27 Q183.38 1393 180.301 1397.61 Q177.246 1402.19 171.436 1402.19 Q165.626 1402.19 162.547 1397.61 Q159.491 1393 159.491 1384.27 Q159.491 1375.52 162.547 1370.94 Q165.626 1366.33 171.436 1366.33 Z\" fill=\"#000000\" fill-rule=\"evenodd\" fill-opacity=\"1\" /><path clip-path=\"url(#clip410)\" d=\"M201.598 1370.04 Q197.987 1370.04 196.158 1373.6 Q194.352 1377.14 194.352 1384.27 Q194.352 1391.38 196.158 1394.94 Q197.987 1398.49 201.598 1398.49 Q205.232 1398.49 207.037 1394.94 Q208.866 1391.38 208.866 1384.27 Q208.866 1377.14 207.037 1373.6 Q205.232 1370.04 201.598 1370.04 M201.598 1366.33 Q207.408 1366.33 210.463 1370.94 Q213.542 1375.52 213.542 1384.27 Q213.542 1393 210.463 1397.61 Q207.408 1402.19 201.598 1402.19 Q195.787 1402.19 192.709 1397.61 Q189.653 1393 189.653 1384.27 Q189.653 1375.52 192.709 1370.94 Q195.787 1366.33 201.598 1366.33 Z\" fill=\"#000000\" fill-rule=\"evenodd\" fill-opacity=\"1\" /><path clip-path=\"url(#clip410)\" d=\"M127.2 1042.73 Q123.589 1042.73 121.76 1046.29 Q119.955 1049.83 119.955 1056.96 Q119.955 1064.07 121.76 1067.63 Q123.589 1071.18 127.2 1071.18 Q130.834 1071.18 132.64 1067.63 Q134.468 1064.07 134.468 1056.96 Q134.468 1049.83 132.64 1046.29 Q130.834 1042.73 127.2 1042.73 M127.2 1039.02 Q133.01 1039.02 136.066 1043.63 Q139.144 1048.21 139.144 1056.96 Q139.144 1065.69 136.066 1070.3 Q133.01 1074.88 127.2 1074.88 Q121.39 1074.88 118.311 1070.3 Q115.256 1065.69 115.256 1056.96 Q115.256 1048.21 118.311 1043.63 Q121.39 1039.02 127.2 1039.02 Z\" fill=\"#000000\" fill-rule=\"evenodd\" fill-opacity=\"1\" /><path clip-path=\"url(#clip410)\" d=\"M147.362 1068.33 L152.246 1068.33 L152.246 1074.21 L147.362 1074.21 L147.362 1068.33 Z\" fill=\"#000000\" fill-rule=\"evenodd\" fill-opacity=\"1\" /><path clip-path=\"url(#clip410)\" d=\"M172.431 1042.73 Q168.82 1042.73 166.991 1046.29 Q165.186 1049.83 165.186 1056.96 Q165.186 1064.07 166.991 1067.63 Q168.82 1071.18 172.431 1071.18 Q176.065 1071.18 177.871 1067.63 Q179.7 1064.07 179.7 1056.96 Q179.7 1049.83 177.871 1046.29 Q176.065 1042.73 172.431 1042.73 M172.431 1039.02 Q178.241 1039.02 181.297 1043.63 Q184.376 1048.21 184.376 1056.96 Q184.376 1065.69 181.297 1070.3 Q178.241 1074.88 172.431 1074.88 Q166.621 1074.88 163.542 1070.3 Q160.487 1065.69 160.487 1056.96 Q160.487 1048.21 163.542 1043.63 Q166.621 1039.02 172.431 1039.02 Z\" fill=\"#000000\" fill-rule=\"evenodd\" fill-opacity=\"1\" /><path clip-path=\"url(#clip410)\" d=\"M192.639 1039.65 L210.996 1039.65 L210.996 1043.58 L196.922 1043.58 L196.922 1052.06 Q197.94 1051.71 198.959 1051.55 Q199.977 1051.36 200.996 1051.36 Q206.783 1051.36 210.162 1054.53 Q213.542 1057.7 213.542 1063.12 Q213.542 1068.7 210.07 1071.8 Q206.598 1074.88 200.278 1074.88 Q198.102 1074.88 195.834 1074.51 Q193.588 1074.14 191.181 1073.4 L191.181 1068.7 Q193.264 1069.83 195.487 1070.39 Q197.709 1070.94 200.186 1070.94 Q204.19 1070.94 206.528 1068.84 Q208.866 1066.73 208.866 1063.12 Q208.866 1059.51 206.528 1057.4 Q204.19 1055.3 200.186 1055.3 Q198.311 1055.3 196.436 1055.71 Q194.584 1056.13 192.639 1057.01 L192.639 1039.65 Z\" fill=\"#000000\" fill-rule=\"evenodd\" fill-opacity=\"1\" /><path clip-path=\"url(#clip410)\" d=\"M126.205 715.416 Q122.593 715.416 120.765 718.981 Q118.959 722.523 118.959 729.652 Q118.959 736.759 120.765 740.323 Q122.593 743.865 126.205 743.865 Q129.839 743.865 131.644 740.323 Q133.473 736.759 133.473 729.652 Q133.473 722.523 131.644 718.981 Q129.839 715.416 126.205 715.416 M126.205 711.712 Q132.015 711.712 135.07 716.319 Q138.149 720.902 138.149 729.652 Q138.149 738.379 135.07 742.985 Q132.015 747.569 126.205 747.569 Q120.394 747.569 117.316 742.985 Q114.26 738.379 114.26 729.652 Q114.26 720.902 117.316 716.319 Q120.394 711.712 126.205 711.712 Z\" fill=\"#000000\" fill-rule=\"evenodd\" fill-opacity=\"1\" /><path clip-path=\"url(#clip410)\" d=\"M146.366 741.018 L151.251 741.018 L151.251 746.897 L146.366 746.897 L146.366 741.018 Z\" fill=\"#000000\" fill-rule=\"evenodd\" fill-opacity=\"1\" /><path clip-path=\"url(#clip410)\" d=\"M162.246 742.962 L169.885 742.962 L169.885 716.597 L161.575 718.263 L161.575 714.004 L169.839 712.337 L174.514 712.337 L174.514 742.962 L182.153 742.962 L182.153 746.897 L162.246 746.897 L162.246 742.962 Z\" fill=\"#000000\" fill-rule=\"evenodd\" fill-opacity=\"1\" /><path clip-path=\"url(#clip410)\" d=\"M201.598 715.416 Q197.987 715.416 196.158 718.981 Q194.352 722.523 194.352 729.652 Q194.352 736.759 196.158 740.323 Q197.987 743.865 201.598 743.865 Q205.232 743.865 207.037 740.323 Q208.866 736.759 208.866 729.652 Q208.866 722.523 207.037 718.981 Q205.232 715.416 201.598 715.416 M201.598 711.712 Q207.408 711.712 210.463 716.319 Q213.542 720.902 213.542 729.652 Q213.542 738.379 210.463 742.985 Q207.408 747.569 201.598 747.569 Q195.787 747.569 192.709 742.985 Q189.653 738.379 189.653 729.652 Q189.653 720.902 192.709 716.319 Q195.787 711.712 201.598 711.712 Z\" fill=\"#000000\" fill-rule=\"evenodd\" fill-opacity=\"1\" /><path clip-path=\"url(#clip410)\" d=\"M127.2 388.106 Q123.589 388.106 121.76 391.67 Q119.955 395.212 119.955 402.342 Q119.955 409.448 121.76 413.013 Q123.589 416.554 127.2 416.554 Q130.834 416.554 132.64 413.013 Q134.468 409.448 134.468 402.342 Q134.468 395.212 132.64 391.67 Q130.834 388.106 127.2 388.106 M127.2 384.402 Q133.01 384.402 136.066 389.008 Q139.144 393.592 139.144 402.342 Q139.144 411.068 136.066 415.675 Q133.01 420.258 127.2 420.258 Q121.39 420.258 118.311 415.675 Q115.256 411.068 115.256 402.342 Q115.256 393.592 118.311 389.008 Q121.39 384.402 127.2 384.402 Z\" fill=\"#000000\" fill-rule=\"evenodd\" fill-opacity=\"1\" /><path clip-path=\"url(#clip410)\" d=\"M147.362 413.707 L152.246 413.707 L152.246 419.587 L147.362 419.587 L147.362 413.707 Z\" fill=\"#000000\" fill-rule=\"evenodd\" fill-opacity=\"1\" /><path clip-path=\"url(#clip410)\" d=\"M163.241 415.652 L170.88 415.652 L170.88 389.286 L162.57 390.953 L162.57 386.694 L170.834 385.027 L175.51 385.027 L175.51 415.652 L183.149 415.652 L183.149 419.587 L163.241 419.587 L163.241 415.652 Z\" fill=\"#000000\" fill-rule=\"evenodd\" fill-opacity=\"1\" /><path clip-path=\"url(#clip410)\" d=\"M192.639 385.027 L210.996 385.027 L210.996 388.962 L196.922 388.962 L196.922 397.434 Q197.94 397.087 198.959 396.925 Q199.977 396.74 200.996 396.74 Q206.783 396.74 210.162 399.911 Q213.542 403.082 213.542 408.499 Q213.542 414.078 210.07 417.179 Q206.598 420.258 200.278 420.258 Q198.102 420.258 195.834 419.888 Q193.588 419.517 191.181 418.777 L191.181 414.078 Q193.264 415.212 195.487 415.767 Q197.709 416.323 200.186 416.323 Q204.19 416.323 206.528 414.217 Q208.866 412.11 208.866 408.499 Q208.866 404.888 206.528 402.781 Q204.19 400.675 200.186 400.675 Q198.311 400.675 196.436 401.092 Q194.584 401.508 192.639 402.388 L192.639 385.027 Z\" fill=\"#000000\" fill-rule=\"evenodd\" fill-opacity=\"1\" /><path clip-path=\"url(#clip410)\" d=\"M126.205 60.795 Q122.593 60.795 120.765 64.3598 Q118.959 67.9015 118.959 75.0311 Q118.959 82.1375 120.765 85.7023 Q122.593 89.244 126.205 89.244 Q129.839 89.244 131.644 85.7023 Q133.473 82.1375 133.473 75.0311 Q133.473 67.9015 131.644 64.3598 Q129.839 60.795 126.205 60.795 M126.205 57.0914 Q132.015 57.0914 135.07 61.6978 Q138.149 66.2811 138.149 75.0311 Q138.149 83.7579 135.07 88.3643 Q132.015 92.9477 126.205 92.9477 Q120.394 92.9477 117.316 88.3643 Q114.26 83.7579 114.26 75.0311 Q114.26 66.2811 117.316 61.6978 Q120.394 57.0914 126.205 57.0914 Z\" fill=\"#000000\" fill-rule=\"evenodd\" fill-opacity=\"1\" /><path clip-path=\"url(#clip410)\" d=\"M146.366 86.3968 L151.251 86.3968 L151.251 92.2764 L146.366 92.2764 L146.366 86.3968 Z\" fill=\"#000000\" fill-rule=\"evenodd\" fill-opacity=\"1\" /><path clip-path=\"url(#clip410)\" d=\"M165.464 88.3412 L181.783 88.3412 L181.783 92.2764 L159.839 92.2764 L159.839 88.3412 Q162.501 85.5866 167.084 80.957 Q171.69 76.3042 172.871 74.9616 Q175.116 72.4385 175.996 70.7024 Q176.899 68.9432 176.899 67.2533 Q176.899 64.4987 174.954 62.7626 Q173.033 61.0265 169.931 61.0265 Q167.732 61.0265 165.278 61.7904 Q162.848 62.5543 160.07 64.1052 L160.07 59.383 Q162.894 58.2488 165.348 57.6701 Q167.802 57.0914 169.839 57.0914 Q175.209 57.0914 178.403 59.7765 Q181.598 62.4617 181.598 66.9524 Q181.598 69.082 180.788 71.0033 Q180.001 72.9015 177.894 75.494 Q177.315 76.1653 174.214 79.3829 Q171.112 82.5773 165.464 88.3412 Z\" fill=\"#000000\" fill-rule=\"evenodd\" fill-opacity=\"1\" /><path clip-path=\"url(#clip410)\" d=\"M201.598 60.795 Q197.987 60.795 196.158 64.3598 Q194.352 67.9015 194.352 75.0311 Q194.352 82.1375 196.158 85.7023 Q197.987 89.244 201.598 89.244 Q205.232 89.244 207.037 85.7023 Q208.866 82.1375 208.866 75.0311 Q208.866 67.9015 207.037 64.3598 Q205.232 60.795 201.598 60.795 M201.598 57.0914 Q207.408 57.0914 210.463 61.6978 Q213.542 66.2811 213.542 75.0311 Q213.542 83.7579 210.463 88.3643 Q207.408 92.9477 201.598 92.9477 Q195.787 92.9477 192.709 88.3643 Q189.653 83.7579 189.653 75.0311 Q189.653 66.2811 192.709 61.6978 Q195.787 57.0914 201.598 57.0914 Z\" fill=\"#000000\" fill-rule=\"evenodd\" fill-opacity=\"1\" /><path clip-path=\"url(#clip410)\" d=\"M21.7677 988.694 L39.6235 988.694 L39.6235 980.61 Q39.6235 976.122 37.3 973.671 Q34.9765 971.221 30.6797 971.221 Q26.4147 971.221 24.0912 973.671 Q21.7677 976.122 21.7677 980.61 L21.7677 988.694 M16.4842 995.124 L16.4842 980.61 Q16.4842 972.621 20.1126 968.547 Q23.7092 964.441 30.6797 964.441 Q37.7138 964.441 41.3104 968.547 Q44.907 972.621 44.907 980.61 L44.907 988.694 L64.0042 988.694 L64.0042 995.124 L16.4842 995.124 Z\" fill=\"#000000\" fill-rule=\"evenodd\" fill-opacity=\"1\" /><path clip-path=\"url(#clip410)\" d=\"M33.8307 936.559 Q33.2578 937.546 33.0032 938.724 Q32.7167 939.869 32.7167 941.27 Q32.7167 946.235 35.9632 948.909 Q39.1779 951.551 45.2253 951.551 L64.0042 951.551 L64.0042 957.439 L28.3562 957.439 L28.3562 951.551 L33.8944 951.551 Q30.6479 949.704 29.0883 946.744 Q27.4968 943.784 27.4968 939.551 Q27.4968 938.946 27.5923 938.214 Q27.656 937.482 27.8151 936.591 L33.8307 936.559 Z\" fill=\"#000000\" fill-rule=\"evenodd\" fill-opacity=\"1\" /><path clip-path=\"url(#clip410)\" d=\"M32.4621 918.035 Q32.4621 922.746 36.1542 925.483 Q39.8145 928.22 46.212 928.22 Q52.6095 928.22 56.3017 925.515 Q59.9619 922.778 59.9619 918.035 Q59.9619 913.356 56.2698 910.619 Q52.5777 907.882 46.212 907.882 Q39.8781 907.882 36.186 910.619 Q32.4621 913.356 32.4621 918.035 M27.4968 918.035 Q27.4968 910.396 32.4621 906.036 Q37.4273 901.675 46.212 901.675 Q54.9649 901.675 59.9619 906.036 Q64.9272 910.396 64.9272 918.035 Q64.9272 925.706 59.9619 930.066 Q54.9649 934.395 46.212 934.395 Q37.4273 934.395 32.4621 930.066 Q27.4968 925.706 27.4968 918.035 Z\" fill=\"#000000\" fill-rule=\"evenodd\" fill-opacity=\"1\" /><path clip-path=\"url(#clip410)\" d=\"M46.212 866.377 Q39.7508 866.377 36.0905 869.051 Q32.3984 871.693 32.3984 876.34 Q32.3984 880.987 36.0905 883.66 Q39.7508 886.302 46.212 886.302 Q52.6732 886.302 56.3653 883.66 Q60.0256 880.987 60.0256 876.34 Q60.0256 871.693 56.3653 869.051 Q52.6732 866.377 46.212 866.377 M33.7671 886.302 Q30.5842 884.456 29.0564 881.655 Q27.4968 878.822 27.4968 874.907 Q27.4968 868.414 32.6531 864.372 Q37.8093 860.298 46.212 860.298 Q54.6147 860.298 59.771 864.372 Q64.9272 868.414 64.9272 874.907 Q64.9272 878.822 63.3994 881.655 Q61.8398 884.456 58.657 886.302 L64.0042 886.302 L64.0042 892.19 L14.479 892.19 L14.479 886.302 L33.7671 886.302 Z\" fill=\"#000000\" fill-rule=\"evenodd\" fill-opacity=\"1\" /><path clip-path=\"url(#clip410)\" d=\"M46.0847 834.39 Q46.0847 841.487 47.7079 844.225 Q49.3312 846.962 53.2461 846.962 Q56.3653 846.962 58.2114 844.925 Q60.0256 842.856 60.0256 839.323 Q60.0256 834.453 56.5881 831.525 Q53.1188 828.565 47.3897 828.565 L46.0847 828.565 L46.0847 834.39 M43.6657 822.709 L64.0042 822.709 L64.0042 828.565 L58.5933 828.565 Q61.8398 830.57 63.3994 833.562 Q64.9272 836.554 64.9272 840.883 Q64.9272 846.357 61.8716 849.604 Q58.7843 852.818 53.6281 852.818 Q47.6125 852.818 44.5569 848.808 Q41.5014 844.766 41.5014 836.777 L41.5014 828.565 L40.9285 828.565 Q36.8862 828.565 34.6901 831.239 Q32.4621 833.88 32.4621 838.687 Q32.4621 841.742 33.1941 844.638 Q33.9262 847.535 35.3903 850.208 L29.9795 850.208 Q28.7381 846.994 28.1334 843.97 Q27.4968 840.946 27.4968 838.082 Q27.4968 830.347 31.5072 826.528 Q35.5176 822.709 43.6657 822.709 Z\" fill=\"#000000\" fill-rule=\"evenodd\" fill-opacity=\"1\" /><path clip-path=\"url(#clip410)\" d=\"M46.212 785.055 Q39.7508 785.055 36.0905 787.729 Q32.3984 790.371 32.3984 795.018 Q32.3984 799.665 36.0905 802.338 Q39.7508 804.98 46.212 804.98 Q52.6732 804.98 56.3653 802.338 Q60.0256 799.665 60.0256 795.018 Q60.0256 790.371 56.3653 787.729 Q52.6732 785.055 46.212 785.055 M33.7671 804.98 Q30.5842 803.134 29.0564 800.333 Q27.4968 797.5 27.4968 793.585 Q27.4968 787.092 32.6531 783.05 Q37.8093 778.976 46.212 778.976 Q54.6147 778.976 59.771 783.05 Q64.9272 787.092 64.9272 793.585 Q64.9272 797.5 63.3994 800.333 Q61.8398 803.134 58.657 804.98 L64.0042 804.98 L64.0042 810.868 L14.479 810.868 L14.479 804.98 L33.7671 804.98 Z\" fill=\"#000000\" fill-rule=\"evenodd\" fill-opacity=\"1\" /><path clip-path=\"url(#clip410)\" d=\"M28.3562 769.268 L28.3562 763.412 L64.0042 763.412 L64.0042 769.268 L28.3562 769.268 M14.479 769.268 L14.479 763.412 L21.895 763.412 L21.895 769.268 L14.479 769.268 Z\" fill=\"#000000\" fill-rule=\"evenodd\" fill-opacity=\"1\" /><path clip-path=\"url(#clip410)\" d=\"M14.479 751.158 L14.479 745.302 L64.0042 745.302 L64.0042 751.158 L14.479 751.158 Z\" fill=\"#000000\" fill-rule=\"evenodd\" fill-opacity=\"1\" /><path clip-path=\"url(#clip410)\" d=\"M28.3562 733.048 L28.3562 727.191 L64.0042 727.191 L64.0042 733.048 L28.3562 733.048 M14.479 733.048 L14.479 727.191 L21.895 727.191 L21.895 733.048 L14.479 733.048 Z\" fill=\"#000000\" fill-rule=\"evenodd\" fill-opacity=\"1\" /><path clip-path=\"url(#clip410)\" d=\"M18.2347 709.144 L28.3562 709.144 L28.3562 697.081 L32.9077 697.081 L32.9077 709.144 L52.2594 709.144 Q56.6199 709.144 57.8613 707.967 Q59.1026 706.757 59.1026 703.097 L59.1026 697.081 L64.0042 697.081 L64.0042 703.097 Q64.0042 709.876 61.4897 712.455 Q58.9434 715.033 52.2594 715.033 L32.9077 715.033 L32.9077 719.33 L28.3562 719.33 L28.3562 715.033 L18.2347 715.033 L18.2347 709.144 Z\" fill=\"#000000\" fill-rule=\"evenodd\" fill-opacity=\"1\" /><path clip-path=\"url(#clip410)\" d=\"M67.3143 674.547 Q73.68 677.029 75.6216 679.385 Q77.5631 681.74 77.5631 685.687 L77.5631 690.366 L72.6615 690.366 L72.6615 686.928 Q72.6615 684.509 71.5157 683.172 Q70.3699 681.836 66.1048 680.212 L63.4312 679.162 L28.3562 693.58 L28.3562 687.374 L56.238 676.234 L28.3562 665.094 L28.3562 658.887 L67.3143 674.547 Z\" fill=\"#000000\" fill-rule=\"evenodd\" fill-opacity=\"1\" /><path clip-path=\"url(#clip410)\" d=\"M16.4842 629.828 L16.4842 620.247 L48.8219 608.121 L16.4842 595.93 L16.4842 586.35 L64.0042 586.35 L64.0042 592.62 L22.277 592.62 L54.8694 604.874 L54.8694 611.335 L22.277 623.589 L64.0042 623.589 L64.0042 629.828 L16.4842 629.828 Z\" fill=\"#000000\" fill-rule=\"evenodd\" fill-opacity=\"1\" /><path clip-path=\"url(#clip410)\" d=\"M46.0847 557.641 Q46.0847 564.738 47.7079 567.476 Q49.3312 570.213 53.2461 570.213 Q56.3653 570.213 58.2114 568.176 Q60.0256 566.107 60.0256 562.574 Q60.0256 557.704 56.5881 554.776 Q53.1188 551.816 47.3897 551.816 L46.0847 551.816 L46.0847 557.641 M43.6657 545.96 L64.0042 545.96 L64.0042 551.816 L58.5933 551.816 Q61.8398 553.821 63.3994 556.813 Q64.9272 559.805 64.9272 564.134 Q64.9272 569.608 61.8716 572.855 Q58.7843 576.069 53.6281 576.069 Q47.6125 576.069 44.5569 572.059 Q41.5014 568.017 41.5014 560.028 L41.5014 551.816 L40.9285 551.816 Q36.8862 551.816 34.6901 554.49 Q32.4621 557.131 32.4621 561.937 Q32.4621 564.993 33.1941 567.889 Q33.9262 570.786 35.3903 573.459 L29.9795 573.459 Q28.7381 570.245 28.1334 567.221 Q27.4968 564.197 27.4968 561.333 Q27.4968 553.598 31.5072 549.779 Q35.5176 545.96 43.6657 545.96 Z\" fill=\"#000000\" fill-rule=\"evenodd\" fill-opacity=\"1\" /><path clip-path=\"url(#clip410)\" d=\"M29.4065 511.171 L34.9447 511.171 Q33.6716 513.654 33.035 516.327 Q32.3984 519.001 32.3984 521.865 Q32.3984 526.226 33.7352 528.422 Q35.072 530.586 37.7456 530.586 Q39.7826 530.586 40.9603 529.027 Q42.1061 527.467 43.1565 522.757 L43.6021 520.751 Q44.9389 514.513 47.3897 511.903 Q49.8086 509.261 54.1691 509.261 Q59.1344 509.261 62.0308 513.208 Q64.9272 517.123 64.9272 523.998 Q64.9272 526.862 64.3543 529.982 Q63.8132 533.069 62.6992 536.506 L56.6518 536.506 Q58.3387 533.26 59.198 530.109 Q60.0256 526.958 60.0256 523.871 Q60.0256 519.733 58.6251 517.505 Q57.1929 515.277 54.6147 515.277 Q52.2276 515.277 50.9545 516.9 Q49.6813 518.491 48.5037 523.934 L48.0262 525.971 Q46.8804 531.414 44.5251 533.833 Q42.138 536.252 38.0002 536.252 Q32.9713 536.252 30.2341 532.687 Q27.4968 529.122 27.4968 522.566 Q27.4968 519.319 27.9743 516.454 Q28.4517 513.59 29.4065 511.171 Z\" fill=\"#000000\" fill-rule=\"evenodd\" fill-opacity=\"1\" /><path clip-path=\"url(#clip410)\" d=\"M29.4065 477.21 L34.9447 477.21 Q33.6716 479.693 33.035 482.366 Q32.3984 485.04 32.3984 487.904 Q32.3984 492.265 33.7352 494.461 Q35.072 496.625 37.7456 496.625 Q39.7826 496.625 40.9603 495.066 Q42.1061 493.506 43.1565 488.795 L43.6021 486.79 Q44.9389 480.552 47.3897 477.942 Q49.8086 475.3 54.1691 475.3 Q59.1344 475.3 62.0308 479.247 Q64.9272 483.162 64.9272 490.037 Q64.9272 492.901 64.3543 496.021 Q63.8132 499.108 62.6992 502.545 L56.6518 502.545 Q58.3387 499.299 59.198 496.148 Q60.0256 492.997 60.0256 489.909 Q60.0256 485.772 58.6251 483.544 Q57.1929 481.316 54.6147 481.316 Q52.2276 481.316 50.9545 482.939 Q49.6813 484.53 48.5037 489.973 L48.0262 492.01 Q46.8804 497.453 44.5251 499.872 Q42.138 502.291 38.0002 502.291 Q32.9713 502.291 30.2341 498.726 Q27.4968 495.161 27.4968 488.604 Q27.4968 485.358 27.9743 482.493 Q28.4517 479.629 29.4065 477.21 Z\" fill=\"#000000\" fill-rule=\"evenodd\" fill-opacity=\"1\" /><polyline clip-path=\"url(#clip412)\" style=\"stroke:#00008b; stroke-linecap:round; stroke-linejoin:round; stroke-width:16; stroke-opacity:0.5; fill:none\" points=\"\n",
       "  309.067,86.1857 319.038,906.423 329.008,817.792 338.979,1069.59 348.95,974.891 358.92,1033.01 368.891,1137.14 378.862,1186.78 388.832,1181.54 398.803,1217.01 \n",
       "  408.774,1189.66 418.744,1237.71 428.715,1261.06 438.686,1265.23 448.656,1282.84 458.627,1290.39 468.598,1304.24 478.568,1313.59 488.539,1303.46 498.51,1310.55 \n",
       "  508.48,1319.82 518.451,1322.55 528.422,1325.3 538.392,1331.84 548.363,1336.13 558.334,1336.29 568.304,1337.81 578.275,1340.36 588.246,1344.59 598.216,1347.81 \n",
       "  608.187,1350.43 618.158,1351.77 628.129,1353.25 638.099,1355 648.07,1357.21 658.041,1358.17 668.011,1361.18 677.982,1361.94 687.953,1362.81 697.923,1364.07 \n",
       "  707.894,1365.11 717.865,1365.86 727.835,1366.59 737.806,1367.31 747.777,1368.44 757.747,1369.08 767.718,1369.66 777.689,1370.44 787.659,1371.26 797.63,1371.74 \n",
       "  807.601,1372.04 817.571,1372.71 827.542,1373.03 837.513,1373.55 847.483,1374.07 857.454,1374.38 867.425,1374.64 877.395,1375.02 887.366,1375.34 897.337,1375.58 \n",
       "  907.307,1375.88 917.278,1376.17 927.249,1376.35 937.219,1376.74 947.19,1376.98 957.161,1377.3 967.131,1377.56 977.102,1377.69 987.073,1377.94 997.043,1378.22 \n",
       "  1007.01,1378.47 1016.98,1378.64 1026.96,1378.82 1036.93,1379.03 1046.9,1379.23 1056.87,1379.4 1066.84,1379.58 1076.81,1379.76 1086.78,1379.87 1096.75,1380.06 \n",
       "  1106.72,1380.16 1116.69,1380.43 1126.66,1380.54 1136.63,1380.67 1146.6,1380.84 1156.57,1380.99 1166.54,1381.14 1176.52,1381.27 1186.49,1381.39 1196.46,1381.49 \n",
       "  1206.43,1381.6 1216.4,1381.7 1226.37,1381.8 1236.34,1381.9 1246.31,1382.03 1256.28,1382.13 1266.25,1382.24 1276.22,1382.33 1286.19,1382.42 1296.16,1382.52 \n",
       "  1306.13,1382.6 1316.1,1382.68 1326.08,1382.74 1336.05,1382.81 1346.02,1382.85 1355.99,1382.95 1365.96,1383.01 1375.93,1383.07 1385.9,1383.14 1395.87,1383.21 \n",
       "  1405.84,1383.27 1415.81,1383.32 1425.78,1383.37 1435.75,1383.42 1445.72,1383.46 1455.69,1383.5 1465.67,1383.52 1475.64,1383.56 1485.61,1383.62 1495.58,1383.65 \n",
       "  1505.55,1383.69 1515.52,1383.73 1525.49,1383.76 1535.46,1383.79 1545.43,1383.82 1555.4,1383.84 1565.37,1383.87 1575.34,1383.89 1585.31,1383.91 1595.28,1383.92 \n",
       "  1605.25,1383.95 1615.23,1383.97 1625.2,1383.99 1635.17,1384.01 1645.14,1384.03 1655.11,1384.04 1665.08,1384.06 1675.05,1384.07 1685.02,1384.08 1694.99,1384.09 \n",
       "  1704.96,1384.1 1714.93,1384.11 1724.9,1384.12 1734.87,1384.13 1744.84,1384.14 1754.81,1384.15 1764.79,1384.16 1774.76,1384.16 1784.73,1384.17 1794.7,1384.17 \n",
       "  1804.67,1384.18 1814.64,1384.18 1824.61,1384.19 1834.58,1384.19 1844.55,1384.2 1854.52,1384.2 1864.49,1384.2 1874.46,1384.21 1884.43,1384.21 1894.4,1384.21 \n",
       "  1904.37,1384.21 1914.35,1384.22 1924.32,1384.22 1934.29,1384.22 1944.26,1384.22 1954.23,1384.22 1964.2,1384.23 1974.17,1384.23 1984.14,1384.23 1994.11,1384.23 \n",
       "  2004.08,1384.23 2014.05,1384.23 2024.02,1384.23 2033.99,1384.23 2043.96,1384.23 2053.93,1384.23 2063.91,1384.23 2073.88,1384.23 2083.85,1384.23 2093.82,1384.24 \n",
       "  2103.79,1384.24 2113.76,1384.24 2123.73,1384.24 2133.7,1384.24 2143.67,1384.24 2153.64,1384.24 2163.61,1384.24 2173.58,1384.24 2183.55,1384.24 2193.52,1384.24 \n",
       "  2203.49,1384.24 2213.47,1384.24 2223.44,1384.24 2233.41,1384.24 2243.38,1384.24 2253.35,1384.24 2263.32,1384.24 2273.29,1384.24 2283.26,1384.24 2293.23,1384.24 \n",
       "  \n",
       "  \"/>\n",
       "</svg>\n"
      ]
     },
     "execution_count": 16,
     "metadata": {},
     "output_type": "execute_result"
    }
   ],
   "source": [
    "adist = get_distribution(dist.state_index, dist.λ);\n",
    "\n",
    "plot(hh_prm.agrid , adist, alpha = 0.5, lw = 4,\n",
    "    color = \"dark blue\", ylabel = \"Probability Mass\", \n",
    "    xlabel = \"Asset Holdings / Avg. Income\", label = false)"
   ]
  },
  {
   "cell_type": "code",
   "execution_count": null,
   "metadata": {},
   "outputs": [],
   "source": []
  }
 ],
 "metadata": {
  "kernelspec": {
   "display_name": "Julia 1.7.2",
   "language": "julia",
   "name": "julia-1.7"
  },
  "language_info": {
   "file_extension": ".jl",
   "mimetype": "application/julia",
   "name": "julia",
   "version": "1.7.2"
  }
 },
 "nbformat": 4,
 "nbformat_minor": 4
}
