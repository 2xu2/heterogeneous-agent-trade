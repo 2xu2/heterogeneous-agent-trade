{
 "cells": [
  {
   "cell_type": "code",
   "execution_count": 161,
   "metadata": {},
   "outputs": [],
   "source": [
    "include(\"../code/julia/ha-trade-environment.jl\")\n",
    "include(\"../code/julia/ha-trade-solution.jl\")\n",
    "include(\"../code/julia/ha-trade-helper-functions.jl\")\n",
    "include(\"../code/julia/ha-trade-elasticity.jl\")\n",
    "include(\"../code/julia/ha-trade-efficient.jl\")\n",
    "include(\"../code/julia/static-trade-environment.jl\")\n",
    "include(\"../code/julia/gravity-tools.jl\")\n",
    "\n",
    "using MINPACK\n",
    "using Plots\n",
    "using CSV\n",
    "using DataFrames"
   ]
  },
  {
   "cell_type": "markdown",
   "metadata": {},
   "source": [
    "### Set Parameters\n",
    "\n",
    "Parameters are subdivided into two groups. One relates specifically to households, then the second relates to country-specific and/or aggregate things."
   ]
  },
  {
   "cell_type": "code",
   "execution_count": 162,
   "metadata": {},
   "outputs": [],
   "source": [
    "γ = 1.5\n",
    "σϵ = 0.25\n",
    "Ncntry = 2\n",
    "\n",
    "# this setups up parameters on the household side\n",
    "hh_prm = household_params(Ncntry = Ncntry, Na = 100, β = 0.92, γ = γ, ϕ = 0.5, amax = 8.0, σϵ = σϵ);"
   ]
  },
  {
   "cell_type": "code",
   "execution_count": 163,
   "metadata": {},
   "outputs": [
    {
     "data": {
      "text/plain": [
       "country_params\n",
       "  Ncntry: Int64 2\n",
       "  TFP: Array{Float64}((2,)) [1.0, 1.0]\n",
       "  L: Array{Float64}((2,)) [1.0, 1.0]\n",
       "  d: Array{Float64}((2, 2)) [1.0 1.75; 1.75 1.0]\n"
      ]
     },
     "execution_count": 163,
     "metadata": {},
     "output_type": "execute_result"
    }
   ],
   "source": [
    "TFP = [1.0; 1.0]\n",
    "L = [1.0; 1.0]\n",
    "\n",
    "d_ij = 1.75\n",
    "\n",
    "d = [1.0 d_ij; d_ij 1.0]\n",
    "\n",
    "# this sets up the country specific paramters\n",
    "cntry_prm = country_params(Ncntry = Ncntry, L = L, d = d, TFP = TFP)"
   ]
  },
  {
   "cell_type": "markdown",
   "metadata": {},
   "source": [
    "---\n",
    "\n",
    "### Find an equilibrium \n",
    "\n",
    "Does what it says. Here I'm computing one for financial globalization. "
   ]
  },
  {
   "cell_type": "code",
   "execution_count": 164,
   "metadata": {},
   "outputs": [
    {
     "name": "stdout",
     "output_type": "stream",
     "text": [
      "Iter     f(x) inf-norm    Step 2-norm      Step time\n",
      "------   --------------   --------------   --------------\n",
      "     1     1.803330e+00     0.000000e+00         2.620000\n",
      "     2     5.004946e+00     5.050225e-03         0.531000\n",
      "     3     8.336086e-02     4.076100e-03         0.179000\n",
      "     4     2.266450e-01     1.733448e-05         0.204000\n",
      "     5     3.080832e-02     3.550678e-05         0.203000\n",
      "     6     4.369609e-03     1.718561e-07         0.204000\n",
      "     7     3.339473e-04     2.336873e-09         0.193000\n",
      "     8     3.974760e-07     1.196807e-11         0.218000\n",
      "     9     1.305884e-08     7.963843e-17         0.191000\n",
      "    10     1.267187e-10     2.535963e-20         0.207000\n",
      "    11     2.776945e-14     2.456525e-24         0.197000\n",
      "Results of Nonlinear Solver Algorithm\n",
      " * Algorithm: Modified Powell\n",
      " * Starting Point: [0.0, 0.01980262729617973]\n",
      " * Zero: [-6.221830340655124e-9, 0.04715754357133005]\n",
      " * Inf-norm of residuals: 0.000000\n",
      " * Convergence: true\n",
      " * Message: algorithm estimates that the relative error between x and the solution is at most tol\n",
      " * Total time: 4.947000 seconds\n",
      " * Function Calls: 11\n",
      " * Jacobian Calls (df/dx): 1"
     ]
    },
    {
     "data": {
      "text/plain": [
       "1.0482871469720207"
      ]
     },
     "execution_count": 164,
     "metadata": {},
     "output_type": "execute_result"
    }
   ],
   "source": [
    "f(x) = world_equillibrium_FG(exp.(x), hh_prm, cntry_prm)\n",
    "\n",
    "function f!(fvec, x)\n",
    "\n",
    "    fvec .= f(x)\n",
    "\n",
    "end\n",
    "\n",
    "\n",
    "xguess = [1.0; 1.02]\n",
    "\n",
    "n = length(xguess)\n",
    "diag_adjust = n - 1\n",
    "\n",
    "sol = fsolve(f!, log.(xguess), show_trace = true, method = :hybr;\n",
    "      ml=diag_adjust, mu=diag_adjust,\n",
    "      diag=ones(n),\n",
    "      mode= 1,\n",
    "      tol=1e-10,\n",
    "       )\n",
    "\n",
    "print(sol)\n",
    "\n",
    "wage = [exp.(sol.x[1]); 1.0]\n",
    "R = exp.(sol.x[2])"
   ]
  },
  {
   "cell_type": "markdown",
   "metadata": {},
   "source": [
    "Then here are the results. The first entry is the wage rate which should be 1.0 given the symmetry. The second price is the interest rate, here it should be around 1.5 percent."
   ]
  },
  {
   "cell_type": "code",
   "execution_count": 165,
   "metadata": {},
   "outputs": [
    {
     "name": "stdout",
     "output_type": "stream",
     "text": [
      "[0.9999999937781697, 1.0482871469720207]\n"
     ]
    }
   ],
   "source": [
    "println(exp.(sol.x))\n"
   ]
  },
  {
   "cell_type": "markdown",
   "metadata": {},
   "source": [
    "Then this call computes aggregates given prices"
   ]
  },
  {
   "cell_type": "code",
   "execution_count": 166,
   "metadata": {},
   "outputs": [],
   "source": [
    "Rsol = [R; R]\n",
    "\n",
    "Y, tradeflows, A_demand, tradeshare, hh, dist = world_equillibrium(Rsol, wage, hh_prm, cntry_prm, tol_vfi = 1e-10);"
   ]
  },
  {
   "cell_type": "code",
   "execution_count": 167,
   "metadata": {},
   "outputs": [
    {
     "data": {
      "text/plain": [
       "2×2 Matrix{Float64}:\n",
       " 0.827311  0.172689\n",
       " 0.172689  0.827311"
      ]
     },
     "execution_count": 167,
     "metadata": {},
     "output_type": "execute_result"
    }
   ],
   "source": [
    "tradeshare"
   ]
  },
  {
   "cell_type": "markdown",
   "metadata": {},
   "source": [
    "### Compute Elasticities\n",
    "\n",
    "Here is what I'm going to do, given the equilibrium prices, I'm going to construct the trade elasticities and aggregate up, per Proposition 3 in the paper. The first step is to reconstruct the household for one country, evaluate how things change at the micro-level, then appropriately aggregate. \n"
   ]
  },
  {
   "cell_type": "code",
   "execution_count": 168,
   "metadata": {},
   "outputs": [],
   "source": [
    "cntry = 1 # this is the country I'll look at\n",
    "\n",
    "p = (wage[1:end] ./ TFP).*d[cntry,:] \n",
    "# prices from the perspective of those in that country\n",
    "\n",
    "hh = solve_household_problem(R, wage[cntry], p, hh_prm, tol = 1e-10);\n",
    "# solve hh problem at those prices\n",
    "\n",
    "dist = make_stationary_distribution(hh, hh_prm);\n",
    "# find stationary distribution\n"
   ]
  },
  {
   "cell_type": "markdown",
   "metadata": {},
   "source": [
    "This cell below then constructs the elasticities via numerical differentiation. Then the last two function calls construct the weights and then aggregate.\n",
    "\n",
    "A note on accuracy. I don't have a closed form for this. But in Mongey and Waugh, we do. And their I found that this approach worked well with the only issues being around states where the household is about to leave the borrowing constraint. This is to be expected per my discussion in the paper regarding how the constraint might show up in the elasticities."
   ]
  },
  {
   "cell_type": "code",
   "execution_count": 169,
   "metadata": {},
   "outputs": [
    {
     "data": {
      "text/plain": [
       "2-element Vector{Float64}:\n",
       "  1.0\n",
       " -2.8728095601247703"
      ]
     },
     "execution_count": 169,
     "metadata": {},
     "output_type": "execute_result"
    }
   ],
   "source": [
    "θ = make_θ(hh, cntry, R, wage[cntry], p, hh_prm; points = 3, order = 1)\n",
    "\n",
    "ω = make_ω(hh, dist, L[cntry], p, hh_prm)\n",
    "\n",
    "agθ = aggregate_θ(θ, ω, cntry, hh_prm)"
   ]
  },
  {
   "cell_type": "markdown",
   "metadata": {},
   "source": [
    "A quick tour of the results:\n",
    "\n",
    "Here is the aggregate elasticity. In this situation it's about 3. What if the trade costs was larger?"
   ]
  },
  {
   "cell_type": "code",
   "execution_count": 170,
   "metadata": {},
   "outputs": [
    {
     "data": {
      "text/plain": [
       "-2.8728095601247703"
      ]
     },
     "execution_count": 170,
     "metadata": {},
     "output_type": "execute_result"
    }
   ],
   "source": [
    "agθ[2]"
   ]
  },
  {
   "cell_type": "markdown",
   "metadata": {},
   "source": [
    "Then here we can look at the micro-elasticities. The θ is a structure and contains the intensive margin, extensive margin, and how home stuff changes with respect to a change in prices. The first one is how θ_{ij}^E looks state by state where one see high extensive margin elasticities for stuff in the upper-left corner of the matrix (poor people) and hten in the lower-right corner the elasticities are low (rich people)"
   ]
  },
  {
   "cell_type": "code",
   "execution_count": 171,
   "metadata": {},
   "outputs": [
    {
     "data": {
      "text/plain": [
       "100×10 Matrix{Float64}:\n",
       " -11.4895   -7.18135  -8.54226  -5.43687  …  -2.80168  -2.47028  -2.19723\n",
       "  -9.39148  -6.69669  -7.56336  -4.84634     -2.7515   -2.44386  -2.18518\n",
       "  -6.98896  -5.94415  -5.56687  -4.69037     -2.71063  -2.3803   -2.17599\n",
       "  -6.51976  -5.5688   -5.3147   -4.45292     -2.67825  -2.32251  -2.16475\n",
       "  -5.85196  -5.37458  -4.78477  -4.2704      -2.64923  -2.29537  -2.15395\n",
       "  -5.5023   -5.12719  -4.52203  -4.13459  …  -2.62325  -2.27334  -2.14356\n",
       "  -5.22047  -4.94038  -4.40113  -4.05578     -2.60608  -2.25457  -2.13349\n",
       "  -5.0713   -4.77564  -4.22826  -3.94237     -2.58325  -2.23851  -2.12372\n",
       "  -4.89261  -4.63749  -4.09844  -3.85532     -2.56212  -2.22382  -2.11421\n",
       "  -4.7344   -4.54318  -3.98145  -3.77733     -2.54229  -2.21021  -2.10495\n",
       "  -4.60362  -4.43318  -3.89015  -3.70756  …  -2.52308  -2.19746  -2.0959\n",
       "  -4.48746  -4.3344   -3.83069  -3.64478     -2.50537  -2.185    -2.08707\n",
       "  -4.38366  -4.24588  -3.75502  -3.5873      -2.48846  -2.17581  -2.07843\n",
       "   ⋮                                      ⋱                      \n",
       "  -2.3723   -2.35639  -2.22289  -2.20173     -1.85664  -1.72034  -1.69846\n",
       "  -2.36232  -2.34661  -2.2145   -2.19359     -1.85187  -1.71704  -1.70312\n",
       "  -2.35246  -2.33695  -2.20614  -2.18554  …  -1.84645  -1.71488  -1.69491\n",
       "  -2.34273  -2.32742  -2.19794  -2.17758     -1.84153  -1.72429  -1.75455\n",
       "  -2.33312  -2.318    -2.18984  -2.16972     -1.8362   -1.72728  -1.75636\n",
       "  -2.32403  -2.3087   -2.18184  -2.16195     -1.83157  -1.7216   -1.75982\n",
       "  -2.31466  -2.29952  -2.17426  -2.15426     -1.82695  -1.72145  -1.55909\n",
       "  -2.3054   -2.29046  -2.16643  -2.14666  …  -1.8205   -1.71735  -1.58232\n",
       "  -2.29626  -2.2815   -2.15869  -2.13914     -1.81463  -1.69917  -1.60597\n",
       "  -2.28723  -2.27265  -2.15104  -2.1317      -1.78329  -1.70021  -1.67711\n",
       "  -2.27831  -2.2639   -2.14347  -2.12435     -1.78766  -1.69836  -1.68013\n",
       "  -2.2695   -2.25519  -2.13599  -2.11708     -1.58487  -1.703    -2.43044"
      ]
     },
     "execution_count": 171,
     "metadata": {},
     "output_type": "execute_result"
    }
   ],
   "source": [
    "θ.θπ[:,:,2] # get extensive margin elasticities"
   ]
  },
  {
   "cell_type": "markdown",
   "metadata": {},
   "source": [
    "Then one sees the same thing on the intensive margin. Note that at the top of the asset grid, the behavior goes in different direction. But this is because at that point, there is no where for the household to go. And these guys are like near zero."
   ]
  },
  {
   "cell_type": "code",
   "execution_count": 172,
   "metadata": {},
   "outputs": [
    {
     "data": {
      "text/plain": [
       "100×10 Matrix{Float64}:\n",
       " -1.0       -0.819574  -1.0       …  -0.641527  -0.63685   -0.591728\n",
       " -1.0       -0.816915  -1.0          -0.634519  -0.63408   -0.590431\n",
       " -0.818509  -0.762643  -0.809538     -0.629236  -0.619506  -0.589911\n",
       " -0.816086  -0.741741  -0.806251     -0.625235  -0.609289  -0.588745\n",
       " -0.761233  -0.73822   -0.747505     -0.621843  -0.604624  -0.587665\n",
       " -0.740388  -0.723259  -0.725547  …  -0.619007  -0.601269  -0.586653\n",
       " -0.724871  -0.713376  -0.722383     -0.61813   -0.598643  -0.585696\n",
       " -0.722356  -0.70424   -0.706237     -0.615713  -0.596534  -0.584787\n",
       " -0.712512  -0.697516  -0.695937     -0.61356   -0.594721  -0.58392\n",
       " -0.703386  -0.695488  -0.686238     -0.611629  -0.593136  -0.58309\n",
       " -0.696749  -0.689714  -0.679747  …  -0.609881  -0.591718  -0.582294\n",
       " -0.690895  -0.684639  -0.677933     -0.608268  -0.590421  -0.581528\n",
       " -0.685758  -0.680308  -0.672254     -0.606766  -0.589901  -0.580789\n",
       "  ⋮                               ⋱                        \n",
       " -0.589804  -0.588979  -0.582437     -0.564668  -0.571343  -0.596475\n",
       " -0.589253  -0.588436  -0.581944     -0.564639  -0.572256  -0.601345\n",
       " -0.588708  -0.5879    -0.581457  …  -0.564369  -0.573472  -0.601157\n",
       " -0.588169  -0.587368  -0.580975     -0.564317  -0.580495  -0.644161\n",
       " -0.587635  -0.586843  -0.580498     -0.564345  -0.585733  -0.658765\n",
       " -0.587212  -0.586324  -0.580027     -0.564507  -0.585541  -0.663351\n",
       " -0.586688  -0.585811  -0.579651     -0.564933  -0.588599  -0.663639\n",
       " -0.58617   -0.585303  -0.579188  …  -0.565547  -0.590209  -0.667225\n",
       " -0.585658  -0.5848    -0.578731     -0.567958  -0.591393  -0.671021\n",
       " -0.585152  -0.584303  -0.578278     -0.569857  -0.594408  -0.693443\n",
       " -0.58465   -0.58381   -0.57783      -0.572532  -0.59647   -0.693505\n",
       " -0.584154  -0.583323  -0.577387     -0.580187  -0.601341  -1.0"
      ]
     },
     "execution_count": 172,
     "metadata": {},
     "output_type": "execute_result"
    }
   ],
   "source": [
    "θ.θc[:,:,2]"
   ]
  },
  {
   "cell_type": "code",
   "execution_count": 173,
   "metadata": {},
   "outputs": [
    {
     "data": {
      "image/svg+xml": [
       "<?xml version=\"1.0\" encoding=\"utf-8\"?>\n",
       "<svg xmlns=\"http://www.w3.org/2000/svg\" xmlns:xlink=\"http://www.w3.org/1999/xlink\" width=\"600\" height=\"400\" viewBox=\"0 0 2400 1600\">\n",
       "<defs>\n",
       "  <clipPath id=\"clip390\">\n",
       "    <rect x=\"0\" y=\"0\" width=\"2400\" height=\"1600\"/>\n",
       "  </clipPath>\n",
       "</defs>\n",
       "<path clip-path=\"url(#clip390)\" d=\"\n",
       "M0 1600 L2400 1600 L2400 0 L0 0  Z\n",
       "  \" fill=\"#ffffff\" fill-rule=\"evenodd\" fill-opacity=\"1\"/>\n",
       "<defs>\n",
       "  <clipPath id=\"clip391\">\n",
       "    <rect x=\"480\" y=\"0\" width=\"1681\" height=\"1600\"/>\n",
       "  </clipPath>\n",
       "</defs>\n",
       "<path clip-path=\"url(#clip390)\" d=\"\n",
       "M250.028 1423.18 L2352.76 1423.18 L2352.76 47.2441 L250.028 47.2441  Z\n",
       "  \" fill=\"#ffffff\" fill-rule=\"evenodd\" fill-opacity=\"1\"/>\n",
       "<defs>\n",
       "  <clipPath id=\"clip392\">\n",
       "    <rect x=\"250\" y=\"47\" width=\"2104\" height=\"1377\"/>\n",
       "  </clipPath>\n",
       "</defs>\n",
       "<polyline clip-path=\"url(#clip392)\" style=\"stroke:#000000; stroke-linecap:round; stroke-linejoin:round; stroke-width:2; stroke-opacity:0.1; fill:none\" points=\"\n",
       "  426.228,1423.18 426.228,47.2441 \n",
       "  \"/>\n",
       "<polyline clip-path=\"url(#clip392)\" style=\"stroke:#000000; stroke-linecap:round; stroke-linejoin:round; stroke-width:2; stroke-opacity:0.1; fill:none\" points=\"\n",
       "  892.982,1423.18 892.982,47.2441 \n",
       "  \"/>\n",
       "<polyline clip-path=\"url(#clip392)\" style=\"stroke:#000000; stroke-linecap:round; stroke-linejoin:round; stroke-width:2; stroke-opacity:0.1; fill:none\" points=\"\n",
       "  1359.74,1423.18 1359.74,47.2441 \n",
       "  \"/>\n",
       "<polyline clip-path=\"url(#clip392)\" style=\"stroke:#000000; stroke-linecap:round; stroke-linejoin:round; stroke-width:2; stroke-opacity:0.1; fill:none\" points=\"\n",
       "  1826.49,1423.18 1826.49,47.2441 \n",
       "  \"/>\n",
       "<polyline clip-path=\"url(#clip392)\" style=\"stroke:#000000; stroke-linecap:round; stroke-linejoin:round; stroke-width:2; stroke-opacity:0.1; fill:none\" points=\"\n",
       "  2293.24,1423.18 2293.24,47.2441 \n",
       "  \"/>\n",
       "<polyline clip-path=\"url(#clip390)\" style=\"stroke:#000000; stroke-linecap:round; stroke-linejoin:round; stroke-width:4; stroke-opacity:1; fill:none\" points=\"\n",
       "  250.028,1423.18 2352.76,1423.18 \n",
       "  \"/>\n",
       "<polyline clip-path=\"url(#clip390)\" style=\"stroke:#000000; stroke-linecap:round; stroke-linejoin:round; stroke-width:4; stroke-opacity:1; fill:none\" points=\"\n",
       "  426.228,1423.18 426.228,1404.28 \n",
       "  \"/>\n",
       "<polyline clip-path=\"url(#clip390)\" style=\"stroke:#000000; stroke-linecap:round; stroke-linejoin:round; stroke-width:4; stroke-opacity:1; fill:none\" points=\"\n",
       "  892.982,1423.18 892.982,1404.28 \n",
       "  \"/>\n",
       "<polyline clip-path=\"url(#clip390)\" style=\"stroke:#000000; stroke-linecap:round; stroke-linejoin:round; stroke-width:4; stroke-opacity:1; fill:none\" points=\"\n",
       "  1359.74,1423.18 1359.74,1404.28 \n",
       "  \"/>\n",
       "<polyline clip-path=\"url(#clip390)\" style=\"stroke:#000000; stroke-linecap:round; stroke-linejoin:round; stroke-width:4; stroke-opacity:1; fill:none\" points=\"\n",
       "  1826.49,1423.18 1826.49,1404.28 \n",
       "  \"/>\n",
       "<polyline clip-path=\"url(#clip390)\" style=\"stroke:#000000; stroke-linecap:round; stroke-linejoin:round; stroke-width:4; stroke-opacity:1; fill:none\" points=\"\n",
       "  2293.24,1423.18 2293.24,1404.28 \n",
       "  \"/>\n",
       "<path clip-path=\"url(#clip390)\" d=\"M426.228 1454.1 Q422.617 1454.1 420.788 1457.66 Q418.983 1461.2 418.983 1468.33 Q418.983 1475.44 420.788 1479.01 Q422.617 1482.55 426.228 1482.55 Q429.862 1482.55 431.668 1479.01 Q433.496 1475.44 433.496 1468.33 Q433.496 1461.2 431.668 1457.66 Q429.862 1454.1 426.228 1454.1 M426.228 1450.39 Q432.038 1450.39 435.094 1455 Q438.172 1459.58 438.172 1468.33 Q438.172 1477.06 435.094 1481.67 Q432.038 1486.25 426.228 1486.25 Q420.418 1486.25 417.339 1481.67 Q414.283 1477.06 414.283 1468.33 Q414.283 1459.58 417.339 1455 Q420.418 1450.39 426.228 1450.39 Z\" fill=\"#000000\" fill-rule=\"evenodd\" fill-opacity=\"1\" /><path clip-path=\"url(#clip390)\" d=\"M887.635 1481.64 L903.954 1481.64 L903.954 1485.58 L882.01 1485.58 L882.01 1481.64 Q884.672 1478.89 889.255 1474.26 Q893.862 1469.61 895.042 1468.27 Q897.288 1465.74 898.167 1464.01 Q899.07 1462.25 899.07 1460.56 Q899.07 1457.8 897.126 1456.07 Q895.204 1454.33 892.102 1454.33 Q889.903 1454.33 887.45 1455.09 Q885.019 1455.86 882.241 1457.41 L882.241 1452.69 Q885.065 1451.55 887.519 1450.97 Q889.973 1450.39 892.01 1450.39 Q897.38 1450.39 900.575 1453.08 Q903.769 1455.77 903.769 1460.26 Q903.769 1462.39 902.959 1464.31 Q902.172 1466.2 900.065 1468.8 Q899.487 1469.47 896.385 1472.69 Q893.283 1475.88 887.635 1481.64 Z\" fill=\"#000000\" fill-rule=\"evenodd\" fill-opacity=\"1\" /><path clip-path=\"url(#clip390)\" d=\"M1362.75 1455.09 L1350.94 1473.54 L1362.75 1473.54 L1362.75 1455.09 M1361.52 1451.02 L1367.4 1451.02 L1367.4 1473.54 L1372.33 1473.54 L1372.33 1477.43 L1367.4 1477.43 L1367.4 1485.58 L1362.75 1485.58 L1362.75 1477.43 L1347.14 1477.43 L1347.14 1472.92 L1361.52 1451.02 Z\" fill=\"#000000\" fill-rule=\"evenodd\" fill-opacity=\"1\" /><path clip-path=\"url(#clip390)\" d=\"M1826.9 1466.44 Q1823.75 1466.44 1821.9 1468.59 Q1820.07 1470.74 1820.07 1474.49 Q1820.07 1478.22 1821.9 1480.39 Q1823.75 1482.55 1826.9 1482.55 Q1830.04 1482.55 1831.87 1480.39 Q1833.72 1478.22 1833.72 1474.49 Q1833.72 1470.74 1831.87 1468.59 Q1830.04 1466.44 1826.9 1466.44 M1836.18 1451.78 L1836.18 1456.04 Q1834.42 1455.21 1832.61 1454.77 Q1830.83 1454.33 1829.07 1454.33 Q1824.44 1454.33 1821.99 1457.45 Q1819.56 1460.58 1819.21 1466.9 Q1820.58 1464.89 1822.64 1463.82 Q1824.7 1462.73 1827.17 1462.73 Q1832.38 1462.73 1835.39 1465.9 Q1838.42 1469.05 1838.42 1474.49 Q1838.42 1479.82 1835.28 1483.03 Q1832.13 1486.25 1826.9 1486.25 Q1820.9 1486.25 1817.73 1481.67 Q1814.56 1477.06 1814.56 1468.33 Q1814.56 1460.14 1818.45 1455.28 Q1822.34 1450.39 1828.89 1450.39 Q1830.65 1450.39 1832.43 1450.74 Q1834.23 1451.09 1836.18 1451.78 Z\" fill=\"#000000\" fill-rule=\"evenodd\" fill-opacity=\"1\" /><path clip-path=\"url(#clip390)\" d=\"M2293.24 1469.17 Q2289.91 1469.17 2287.99 1470.95 Q2286.09 1472.73 2286.09 1475.86 Q2286.09 1478.98 2287.99 1480.77 Q2289.91 1482.55 2293.24 1482.55 Q2296.58 1482.55 2298.5 1480.77 Q2300.42 1478.96 2300.42 1475.86 Q2300.42 1472.73 2298.5 1470.95 Q2296.6 1469.17 2293.24 1469.17 M2288.57 1467.18 Q2285.56 1466.44 2283.87 1464.38 Q2282.2 1462.32 2282.2 1459.35 Q2282.2 1455.21 2285.14 1452.8 Q2288.11 1450.39 2293.24 1450.39 Q2298.41 1450.39 2301.35 1452.8 Q2304.29 1455.21 2304.29 1459.35 Q2304.29 1462.32 2302.6 1464.38 Q2300.93 1466.44 2297.94 1467.18 Q2301.32 1467.96 2303.2 1470.26 Q2305.1 1472.55 2305.1 1475.86 Q2305.1 1480.88 2302.02 1483.57 Q2298.96 1486.25 2293.24 1486.25 Q2287.53 1486.25 2284.45 1483.57 Q2281.39 1480.88 2281.39 1475.86 Q2281.39 1472.55 2283.29 1470.26 Q2285.19 1467.96 2288.57 1467.18 M2286.86 1459.79 Q2286.86 1462.48 2288.52 1463.98 Q2290.21 1465.49 2293.24 1465.49 Q2296.25 1465.49 2297.94 1463.98 Q2299.66 1462.48 2299.66 1459.79 Q2299.66 1457.11 2297.94 1455.6 Q2296.25 1454.1 2293.24 1454.1 Q2290.21 1454.1 2288.52 1455.6 Q2286.86 1457.11 2286.86 1459.79 Z\" fill=\"#000000\" fill-rule=\"evenodd\" fill-opacity=\"1\" /><path clip-path=\"url(#clip390)\" d=\"M851.416 1526.86 L842.695 1550.51 L860.169 1550.51 L851.416 1526.86 M847.788 1520.52 L855.076 1520.52 L873.187 1568.04 L866.503 1568.04 L862.174 1555.85 L840.754 1555.85 L836.425 1568.04 L829.645 1568.04 L847.788 1520.52 Z\" fill=\"#000000\" fill-rule=\"evenodd\" fill-opacity=\"1\" /><path clip-path=\"url(#clip390)\" d=\"M902.596 1533.45 L902.596 1538.98 Q900.114 1537.71 897.44 1537.07 Q894.767 1536.44 891.902 1536.44 Q887.542 1536.44 885.345 1537.77 Q883.181 1539.11 883.181 1541.79 Q883.181 1543.82 884.741 1545 Q886.3 1546.15 891.011 1547.2 L893.016 1547.64 Q899.254 1548.98 901.864 1551.43 Q904.506 1553.85 904.506 1558.21 Q904.506 1563.17 900.559 1566.07 Q896.644 1568.97 889.77 1568.97 Q886.905 1568.97 883.786 1568.39 Q880.698 1567.85 877.261 1566.74 L877.261 1560.69 Q880.507 1562.38 883.658 1563.24 Q886.809 1564.07 889.897 1564.07 Q894.035 1564.07 896.263 1562.66 Q898.491 1561.23 898.491 1558.65 Q898.491 1556.27 896.867 1554.99 Q895.276 1553.72 889.833 1552.54 L887.796 1552.07 Q882.353 1550.92 879.935 1548.56 Q877.516 1546.18 877.516 1542.04 Q877.516 1537.01 881.08 1534.27 Q884.645 1531.54 891.202 1531.54 Q894.448 1531.54 897.313 1532.01 Q900.177 1532.49 902.596 1533.45 Z\" fill=\"#000000\" fill-rule=\"evenodd\" fill-opacity=\"1\" /><path clip-path=\"url(#clip390)\" d=\"M936.557 1533.45 L936.557 1538.98 Q934.075 1537.71 931.401 1537.07 Q928.728 1536.44 925.863 1536.44 Q921.503 1536.44 919.306 1537.77 Q917.142 1539.11 917.142 1541.79 Q917.142 1543.82 918.702 1545 Q920.261 1546.15 924.972 1547.2 L926.977 1547.64 Q933.215 1548.98 935.825 1551.43 Q938.467 1553.85 938.467 1558.21 Q938.467 1563.17 934.52 1566.07 Q930.606 1568.97 923.731 1568.97 Q920.866 1568.97 917.747 1568.39 Q914.659 1567.85 911.222 1566.74 L911.222 1560.69 Q914.468 1562.38 917.619 1563.24 Q920.771 1564.07 923.858 1564.07 Q927.996 1564.07 930.224 1562.66 Q932.452 1561.23 932.452 1558.65 Q932.452 1556.27 930.828 1554.99 Q929.237 1553.72 923.794 1552.54 L921.757 1552.07 Q916.315 1550.92 913.896 1548.56 Q911.477 1546.18 911.477 1542.04 Q911.477 1537.01 915.041 1534.27 Q918.606 1531.54 925.163 1531.54 Q928.409 1531.54 931.274 1532.01 Q934.138 1532.49 936.557 1533.45 Z\" fill=\"#000000\" fill-rule=\"evenodd\" fill-opacity=\"1\" /><path clip-path=\"url(#clip390)\" d=\"M978.285 1548.76 L978.285 1551.62 L951.358 1551.62 Q951.74 1557.67 954.986 1560.85 Q958.265 1564 964.089 1564 Q967.463 1564 970.614 1563.17 Q973.797 1562.35 976.916 1560.69 L976.916 1566.23 Q973.765 1567.57 970.455 1568.27 Q967.145 1568.97 963.739 1568.97 Q955.209 1568.97 950.212 1564 Q945.247 1559.04 945.247 1550.57 Q945.247 1541.82 949.957 1536.69 Q954.7 1531.54 962.721 1531.54 Q969.914 1531.54 974.083 1536.18 Q978.285 1540.8 978.285 1548.76 M972.428 1547.04 Q972.365 1542.23 969.723 1539.37 Q967.113 1536.5 962.784 1536.5 Q957.883 1536.5 954.923 1539.27 Q951.994 1542.04 951.549 1547.07 L972.428 1547.04 Z\" fill=\"#000000\" fill-rule=\"evenodd\" fill-opacity=\"1\" /><path clip-path=\"url(#clip390)\" d=\"M993.69 1522.27 L993.69 1532.4 L1005.75 1532.4 L1005.75 1536.95 L993.69 1536.95 L993.69 1556.3 Q993.69 1560.66 994.867 1561.9 Q996.077 1563.14 999.737 1563.14 L1005.75 1563.14 L1005.75 1568.04 L999.737 1568.04 Q992.958 1568.04 990.38 1565.53 Q987.801 1562.98 987.801 1556.3 L987.801 1536.95 L983.505 1536.95 L983.505 1532.4 L987.801 1532.4 L987.801 1522.27 L993.69 1522.27 Z\" fill=\"#000000\" fill-rule=\"evenodd\" fill-opacity=\"1\" /><path clip-path=\"url(#clip390)\" d=\"M1034.43 1520.52 L1040.86 1520.52 L1040.86 1540 L1064.22 1540 L1064.22 1520.52 L1070.65 1520.52 L1070.65 1568.04 L1064.22 1568.04 L1064.22 1545.41 L1040.86 1545.41 L1040.86 1568.04 L1034.43 1568.04 L1034.43 1520.52 Z\" fill=\"#000000\" fill-rule=\"evenodd\" fill-opacity=\"1\" /><path clip-path=\"url(#clip390)\" d=\"M1097.01 1536.5 Q1092.29 1536.5 1089.56 1540.19 Q1086.82 1543.85 1086.82 1550.25 Q1086.82 1556.65 1089.53 1560.34 Q1092.26 1564 1097.01 1564 Q1101.68 1564 1104.42 1560.31 Q1107.16 1556.62 1107.16 1550.25 Q1107.16 1543.92 1104.42 1540.23 Q1101.68 1536.5 1097.01 1536.5 M1097.01 1531.54 Q1104.64 1531.54 1109 1536.5 Q1113.36 1541.47 1113.36 1550.25 Q1113.36 1559 1109 1564 Q1104.64 1568.97 1097.01 1568.97 Q1089.33 1568.97 1084.97 1564 Q1080.65 1559 1080.65 1550.25 Q1080.65 1541.47 1084.97 1536.5 Q1089.33 1531.54 1097.01 1531.54 Z\" fill=\"#000000\" fill-rule=\"evenodd\" fill-opacity=\"1\" /><path clip-path=\"url(#clip390)\" d=\"M1123.07 1518.52 L1128.93 1518.52 L1128.93 1568.04 L1123.07 1568.04 L1123.07 1518.52 Z\" fill=\"#000000\" fill-rule=\"evenodd\" fill-opacity=\"1\" /><path clip-path=\"url(#clip390)\" d=\"M1164.64 1537.81 L1164.64 1518.52 L1170.5 1518.52 L1170.5 1568.04 L1164.64 1568.04 L1164.64 1562.7 Q1162.79 1565.88 1159.96 1567.44 Q1157.16 1568.97 1153.21 1568.97 Q1146.75 1568.97 1142.68 1563.81 Q1138.64 1558.65 1138.64 1550.25 Q1138.64 1541.85 1142.68 1536.69 Q1146.75 1531.54 1153.21 1531.54 Q1157.16 1531.54 1159.96 1533.1 Q1162.79 1534.62 1164.64 1537.81 M1144.68 1550.25 Q1144.68 1556.71 1147.33 1560.4 Q1150 1564.07 1154.65 1564.07 Q1159.29 1564.07 1161.97 1560.4 Q1164.64 1556.71 1164.64 1550.25 Q1164.64 1543.79 1161.97 1540.13 Q1159.29 1536.44 1154.65 1536.44 Q1150 1536.44 1147.33 1540.13 Q1144.68 1543.79 1144.68 1550.25 Z\" fill=\"#000000\" fill-rule=\"evenodd\" fill-opacity=\"1\" /><path clip-path=\"url(#clip390)\" d=\"M1182.56 1532.4 L1188.42 1532.4 L1188.42 1568.04 L1182.56 1568.04 L1182.56 1532.4 M1182.56 1518.52 L1188.42 1518.52 L1188.42 1525.93 L1182.56 1525.93 L1182.56 1518.52 Z\" fill=\"#000000\" fill-rule=\"evenodd\" fill-opacity=\"1\" /><path clip-path=\"url(#clip390)\" d=\"M1230.3 1546.53 L1230.3 1568.04 L1224.45 1568.04 L1224.45 1546.72 Q1224.45 1541.66 1222.47 1539.14 Q1220.5 1536.63 1216.55 1536.63 Q1211.81 1536.63 1209.07 1539.65 Q1206.34 1542.68 1206.34 1547.9 L1206.34 1568.04 L1200.45 1568.04 L1200.45 1532.4 L1206.34 1532.4 L1206.34 1537.93 Q1208.44 1534.72 1211.27 1533.13 Q1214.13 1531.54 1217.86 1531.54 Q1224 1531.54 1227.15 1535.36 Q1230.3 1539.14 1230.3 1546.53 Z\" fill=\"#000000\" fill-rule=\"evenodd\" fill-opacity=\"1\" /><path clip-path=\"url(#clip390)\" d=\"M1265.44 1549.81 Q1265.44 1543.44 1262.8 1539.94 Q1260.19 1536.44 1255.45 1536.44 Q1250.74 1536.44 1248.1 1539.94 Q1245.49 1543.44 1245.49 1549.81 Q1245.49 1556.14 1248.1 1559.64 Q1250.74 1563.14 1255.45 1563.14 Q1260.19 1563.14 1262.8 1559.64 Q1265.44 1556.14 1265.44 1549.81 M1271.3 1563.62 Q1271.3 1572.72 1267.26 1577.15 Q1263.21 1581.6 1254.87 1581.6 Q1251.79 1581.6 1249.05 1581.13 Q1246.31 1580.68 1243.73 1579.72 L1243.73 1574.03 Q1246.31 1575.43 1248.83 1576.1 Q1251.34 1576.76 1253.95 1576.76 Q1259.71 1576.76 1262.58 1573.74 Q1265.44 1570.75 1265.44 1564.67 L1265.44 1561.77 Q1263.63 1564.92 1260.79 1566.48 Q1257.96 1568.04 1254.02 1568.04 Q1247.46 1568.04 1243.45 1563.05 Q1239.44 1558.05 1239.44 1549.81 Q1239.44 1541.53 1243.45 1536.53 Q1247.46 1531.54 1254.02 1531.54 Q1257.96 1531.54 1260.79 1533.1 Q1263.63 1534.66 1265.44 1537.81 L1265.44 1532.4 L1271.3 1532.4 L1271.3 1563.62 Z\" fill=\"#000000\" fill-rule=\"evenodd\" fill-opacity=\"1\" /><path clip-path=\"url(#clip390)\" d=\"M1306.09 1533.45 L1306.09 1538.98 Q1303.6 1537.71 1300.93 1537.07 Q1298.26 1536.44 1295.39 1536.44 Q1291.03 1536.44 1288.84 1537.77 Q1286.67 1539.11 1286.67 1541.79 Q1286.67 1543.82 1288.23 1545 Q1289.79 1546.15 1294.5 1547.2 L1296.51 1547.64 Q1302.74 1548.98 1305.35 1551.43 Q1308 1553.85 1308 1558.21 Q1308 1563.17 1304.05 1566.07 Q1300.13 1568.97 1293.26 1568.97 Q1290.4 1568.97 1287.28 1568.39 Q1284.19 1567.85 1280.75 1566.74 L1280.75 1560.69 Q1284 1562.38 1287.15 1563.24 Q1290.3 1564.07 1293.39 1564.07 Q1297.52 1564.07 1299.75 1562.66 Q1301.98 1561.23 1301.98 1558.65 Q1301.98 1556.27 1300.36 1554.99 Q1298.77 1553.72 1293.32 1552.54 L1291.29 1552.07 Q1285.84 1550.92 1283.42 1548.56 Q1281.01 1546.18 1281.01 1542.04 Q1281.01 1537.01 1284.57 1534.27 Q1288.14 1531.54 1294.69 1531.54 Q1297.94 1531.54 1300.8 1532.01 Q1303.67 1532.49 1306.09 1533.45 Z\" fill=\"#000000\" fill-rule=\"evenodd\" fill-opacity=\"1\" /><path clip-path=\"url(#clip390)\" d=\"M1348.45 1520.52 L1353.86 1520.52 L1337.31 1574.09 L1331.9 1574.09 L1348.45 1520.52 Z\" fill=\"#000000\" fill-rule=\"evenodd\" fill-opacity=\"1\" /><path clip-path=\"url(#clip390)\" d=\"M1396.86 1526.86 L1388.14 1550.51 L1405.61 1550.51 L1396.86 1526.86 M1393.23 1520.52 L1400.52 1520.52 L1418.63 1568.04 L1411.95 1568.04 L1407.62 1555.85 L1386.2 1555.85 L1381.87 1568.04 L1375.09 1568.04 L1393.23 1520.52 Z\" fill=\"#000000\" fill-rule=\"evenodd\" fill-opacity=\"1\" /><path clip-path=\"url(#clip390)\" d=\"M1417.3 1532.4 L1423.5 1532.4 L1434.64 1562.31 L1445.78 1532.4 L1451.99 1532.4 L1438.62 1568.04 L1430.66 1568.04 L1417.3 1532.4 Z\" fill=\"#000000\" fill-rule=\"evenodd\" fill-opacity=\"1\" /><path clip-path=\"url(#clip390)\" d=\"M1483.53 1549.81 Q1483.53 1543.44 1480.89 1539.94 Q1478.28 1536.44 1473.54 1536.44 Q1468.83 1536.44 1466.18 1539.94 Q1463.57 1543.44 1463.57 1549.81 Q1463.57 1556.14 1466.18 1559.64 Q1468.83 1563.14 1473.54 1563.14 Q1478.28 1563.14 1480.89 1559.64 Q1483.53 1556.14 1483.53 1549.81 M1489.39 1563.62 Q1489.39 1572.72 1485.35 1577.15 Q1481.3 1581.6 1472.96 1581.6 Q1469.88 1581.6 1467.14 1581.13 Q1464.4 1580.68 1461.82 1579.72 L1461.82 1574.03 Q1464.4 1575.43 1466.92 1576.1 Q1469.43 1576.76 1472.04 1576.76 Q1477.8 1576.76 1480.67 1573.74 Q1483.53 1570.75 1483.53 1564.67 L1483.53 1561.77 Q1481.72 1564.92 1478.88 1566.48 Q1476.05 1568.04 1472.1 1568.04 Q1465.55 1568.04 1461.54 1563.05 Q1457.53 1558.05 1457.53 1549.81 Q1457.53 1541.53 1461.54 1536.53 Q1465.55 1531.54 1472.1 1531.54 Q1476.05 1531.54 1478.88 1533.1 Q1481.72 1534.66 1483.53 1537.81 L1483.53 1532.4 L1489.39 1532.4 L1489.39 1563.62 Z\" fill=\"#000000\" fill-rule=\"evenodd\" fill-opacity=\"1\" /><path clip-path=\"url(#clip390)\" d=\"M1502.28 1559.96 L1508.99 1559.96 L1508.99 1568.04 L1502.28 1568.04 L1502.28 1559.96 Z\" fill=\"#000000\" fill-rule=\"evenodd\" fill-opacity=\"1\" /><path clip-path=\"url(#clip390)\" d=\"M1543.15 1520.52 L1549.58 1520.52 L1549.58 1568.04 L1543.15 1568.04 L1543.15 1520.52 Z\" fill=\"#000000\" fill-rule=\"evenodd\" fill-opacity=\"1\" /><path clip-path=\"url(#clip390)\" d=\"M1591.75 1546.53 L1591.75 1568.04 L1585.89 1568.04 L1585.89 1546.72 Q1585.89 1541.66 1583.92 1539.14 Q1581.94 1536.63 1578 1536.63 Q1573.26 1536.63 1570.52 1539.65 Q1567.78 1542.68 1567.78 1547.9 L1567.78 1568.04 L1561.89 1568.04 L1561.89 1532.4 L1567.78 1532.4 L1567.78 1537.93 Q1569.88 1534.72 1572.71 1533.13 Q1575.58 1531.54 1579.3 1531.54 Q1585.45 1531.54 1588.6 1535.36 Q1591.75 1539.14 1591.75 1546.53 Z\" fill=\"#000000\" fill-rule=\"evenodd\" fill-opacity=\"1\" /><path clip-path=\"url(#clip390)\" d=\"M1629.08 1533.76 L1629.08 1539.24 Q1626.6 1537.87 1624.09 1537.2 Q1621.6 1536.5 1619.06 1536.5 Q1613.36 1536.5 1610.21 1540.13 Q1607.06 1543.73 1607.06 1550.25 Q1607.06 1556.78 1610.21 1560.4 Q1613.36 1564 1619.06 1564 Q1621.6 1564 1624.09 1563.33 Q1626.6 1562.63 1629.08 1561.26 L1629.08 1566.68 Q1626.63 1567.82 1623.99 1568.39 Q1621.38 1568.97 1618.42 1568.97 Q1610.37 1568.97 1605.63 1563.91 Q1600.88 1558.85 1600.88 1550.25 Q1600.88 1541.53 1605.66 1536.53 Q1610.46 1531.54 1618.8 1531.54 Q1621.51 1531.54 1624.09 1532.11 Q1626.66 1532.65 1629.08 1533.76 Z\" fill=\"#000000\" fill-rule=\"evenodd\" fill-opacity=\"1\" /><path clip-path=\"url(#clip390)\" d=\"M1653.08 1536.5 Q1648.37 1536.5 1645.63 1540.19 Q1642.9 1543.85 1642.9 1550.25 Q1642.9 1556.65 1645.6 1560.34 Q1648.34 1564 1653.08 1564 Q1657.76 1564 1660.5 1560.31 Q1663.23 1556.62 1663.23 1550.25 Q1663.23 1543.92 1660.5 1540.23 Q1657.76 1536.5 1653.08 1536.5 M1653.08 1531.54 Q1660.72 1531.54 1665.08 1536.5 Q1669.44 1541.47 1669.44 1550.25 Q1669.44 1559 1665.08 1564 Q1660.72 1568.97 1653.08 1568.97 Q1645.41 1568.97 1641.05 1564 Q1636.72 1559 1636.72 1550.25 Q1636.72 1541.47 1641.05 1536.5 Q1645.41 1531.54 1653.08 1531.54 Z\" fill=\"#000000\" fill-rule=\"evenodd\" fill-opacity=\"1\" /><path clip-path=\"url(#clip390)\" d=\"M1706.9 1539.24 Q1709.1 1535.29 1712.16 1533.41 Q1715.21 1531.54 1719.35 1531.54 Q1724.92 1531.54 1727.94 1535.45 Q1730.97 1539.33 1730.97 1546.53 L1730.97 1568.04 L1725.08 1568.04 L1725.08 1546.72 Q1725.08 1541.59 1723.26 1539.11 Q1721.45 1536.63 1717.73 1536.63 Q1713.17 1536.63 1710.53 1539.65 Q1707.89 1542.68 1707.89 1547.9 L1707.89 1568.04 L1702 1568.04 L1702 1546.72 Q1702 1541.56 1700.19 1539.11 Q1698.37 1536.63 1694.59 1536.63 Q1690.1 1536.63 1687.46 1539.68 Q1684.81 1542.71 1684.81 1547.9 L1684.81 1568.04 L1678.93 1568.04 L1678.93 1532.4 L1684.81 1532.4 L1684.81 1537.93 Q1686.82 1534.66 1689.62 1533.1 Q1692.42 1531.54 1696.27 1531.54 Q1700.16 1531.54 1702.86 1533.51 Q1705.6 1535.48 1706.9 1539.24 Z\" fill=\"#000000\" fill-rule=\"evenodd\" fill-opacity=\"1\" /><path clip-path=\"url(#clip390)\" d=\"M1773.14 1548.76 L1773.14 1551.62 L1746.21 1551.62 Q1746.59 1557.67 1749.84 1560.85 Q1753.12 1564 1758.94 1564 Q1762.32 1564 1765.47 1563.17 Q1768.65 1562.35 1771.77 1560.69 L1771.77 1566.23 Q1768.62 1567.57 1765.31 1568.27 Q1762 1568.97 1758.59 1568.97 Q1750.06 1568.97 1745.07 1564 Q1740.1 1559.04 1740.1 1550.57 Q1740.1 1541.82 1744.81 1536.69 Q1749.55 1531.54 1757.57 1531.54 Q1764.77 1531.54 1768.94 1536.18 Q1773.14 1540.8 1773.14 1548.76 M1767.28 1547.04 Q1767.22 1542.23 1764.58 1539.37 Q1761.97 1536.5 1757.64 1536.5 Q1752.74 1536.5 1749.78 1539.27 Q1746.85 1542.04 1746.4 1547.07 L1767.28 1547.04 Z\" fill=\"#000000\" fill-rule=\"evenodd\" fill-opacity=\"1\" /><polyline clip-path=\"url(#clip392)\" style=\"stroke:#000000; stroke-linecap:round; stroke-linejoin:round; stroke-width:2; stroke-opacity:0.1; fill:none\" points=\"\n",
       "  250.028,1388.18 2352.76,1388.18 \n",
       "  \"/>\n",
       "<polyline clip-path=\"url(#clip392)\" style=\"stroke:#000000; stroke-linecap:round; stroke-linejoin:round; stroke-width:2; stroke-opacity:0.1; fill:none\" points=\"\n",
       "  250.028,1101.37 2352.76,1101.37 \n",
       "  \"/>\n",
       "<polyline clip-path=\"url(#clip392)\" style=\"stroke:#000000; stroke-linecap:round; stroke-linejoin:round; stroke-width:2; stroke-opacity:0.1; fill:none\" points=\"\n",
       "  250.028,814.566 2352.76,814.566 \n",
       "  \"/>\n",
       "<polyline clip-path=\"url(#clip392)\" style=\"stroke:#000000; stroke-linecap:round; stroke-linejoin:round; stroke-width:2; stroke-opacity:0.1; fill:none\" points=\"\n",
       "  250.028,527.762 2352.76,527.762 \n",
       "  \"/>\n",
       "<polyline clip-path=\"url(#clip392)\" style=\"stroke:#000000; stroke-linecap:round; stroke-linejoin:round; stroke-width:2; stroke-opacity:0.1; fill:none\" points=\"\n",
       "  250.028,240.957 2352.76,240.957 \n",
       "  \"/>\n",
       "<polyline clip-path=\"url(#clip390)\" style=\"stroke:#000000; stroke-linecap:round; stroke-linejoin:round; stroke-width:4; stroke-opacity:1; fill:none\" points=\"\n",
       "  250.028,1423.18 250.028,47.2441 \n",
       "  \"/>\n",
       "<polyline clip-path=\"url(#clip390)\" style=\"stroke:#000000; stroke-linecap:round; stroke-linejoin:round; stroke-width:4; stroke-opacity:1; fill:none\" points=\"\n",
       "  250.028,1388.18 268.926,1388.18 \n",
       "  \"/>\n",
       "<polyline clip-path=\"url(#clip390)\" style=\"stroke:#000000; stroke-linecap:round; stroke-linejoin:round; stroke-width:4; stroke-opacity:1; fill:none\" points=\"\n",
       "  250.028,1101.37 268.926,1101.37 \n",
       "  \"/>\n",
       "<polyline clip-path=\"url(#clip390)\" style=\"stroke:#000000; stroke-linecap:round; stroke-linejoin:round; stroke-width:4; stroke-opacity:1; fill:none\" points=\"\n",
       "  250.028,814.566 268.926,814.566 \n",
       "  \"/>\n",
       "<polyline clip-path=\"url(#clip390)\" style=\"stroke:#000000; stroke-linecap:round; stroke-linejoin:round; stroke-width:4; stroke-opacity:1; fill:none\" points=\"\n",
       "  250.028,527.762 268.926,527.762 \n",
       "  \"/>\n",
       "<polyline clip-path=\"url(#clip390)\" style=\"stroke:#000000; stroke-linecap:round; stroke-linejoin:round; stroke-width:4; stroke-opacity:1; fill:none\" points=\"\n",
       "  250.028,240.957 268.926,240.957 \n",
       "  \"/>\n",
       "<path clip-path=\"url(#clip390)\" d=\"M126.691 1373.97 Q123.08 1373.97 121.251 1377.54 Q119.445 1381.08 119.445 1388.21 Q119.445 1395.32 121.251 1398.88 Q123.08 1402.42 126.691 1402.42 Q130.325 1402.42 132.13 1398.88 Q133.959 1395.32 133.959 1388.21 Q133.959 1381.08 132.13 1377.54 Q130.325 1373.97 126.691 1373.97 M126.691 1370.27 Q132.501 1370.27 135.556 1374.88 Q138.635 1379.46 138.635 1388.21 Q138.635 1396.94 135.556 1401.54 Q132.501 1406.13 126.691 1406.13 Q120.88 1406.13 117.802 1401.54 Q114.746 1396.94 114.746 1388.21 Q114.746 1379.46 117.802 1374.88 Q120.88 1370.27 126.691 1370.27 Z\" fill=\"#000000\" fill-rule=\"evenodd\" fill-opacity=\"1\" /><path clip-path=\"url(#clip390)\" d=\"M146.853 1399.58 L151.737 1399.58 L151.737 1405.46 L146.853 1405.46 L146.853 1399.58 Z\" fill=\"#000000\" fill-rule=\"evenodd\" fill-opacity=\"1\" /><path clip-path=\"url(#clip390)\" d=\"M171.922 1373.97 Q168.311 1373.97 166.482 1377.54 Q164.677 1381.08 164.677 1388.21 Q164.677 1395.32 166.482 1398.88 Q168.311 1402.42 171.922 1402.42 Q175.556 1402.42 177.362 1398.88 Q179.19 1395.32 179.19 1388.21 Q179.19 1381.08 177.362 1377.54 Q175.556 1373.97 171.922 1373.97 M171.922 1370.27 Q177.732 1370.27 180.788 1374.88 Q183.866 1379.46 183.866 1388.21 Q183.866 1396.94 180.788 1401.54 Q177.732 1406.13 171.922 1406.13 Q166.112 1406.13 163.033 1401.54 Q159.978 1396.94 159.978 1388.21 Q159.978 1379.46 163.033 1374.88 Q166.112 1370.27 171.922 1370.27 Z\" fill=\"#000000\" fill-rule=\"evenodd\" fill-opacity=\"1\" /><path clip-path=\"url(#clip390)\" d=\"M202.084 1373.97 Q198.473 1373.97 196.644 1377.54 Q194.838 1381.08 194.838 1388.21 Q194.838 1395.32 196.644 1398.88 Q198.473 1402.42 202.084 1402.42 Q205.718 1402.42 207.524 1398.88 Q209.352 1395.32 209.352 1388.21 Q209.352 1381.08 207.524 1377.54 Q205.718 1373.97 202.084 1373.97 M202.084 1370.27 Q207.894 1370.27 210.949 1374.88 Q214.028 1379.46 214.028 1388.21 Q214.028 1396.94 210.949 1401.54 Q207.894 1406.13 202.084 1406.13 Q196.274 1406.13 193.195 1401.54 Q190.139 1396.94 190.139 1388.21 Q190.139 1379.46 193.195 1374.88 Q196.274 1370.27 202.084 1370.27 Z\" fill=\"#000000\" fill-rule=\"evenodd\" fill-opacity=\"1\" /><path clip-path=\"url(#clip390)\" d=\"M128.288 1087.17 Q124.677 1087.17 122.848 1090.73 Q121.043 1094.28 121.043 1101.41 Q121.043 1108.51 122.848 1112.08 Q124.677 1115.62 128.288 1115.62 Q131.922 1115.62 133.728 1112.08 Q135.556 1108.51 135.556 1101.41 Q135.556 1094.28 133.728 1090.73 Q131.922 1087.17 128.288 1087.17 M128.288 1083.47 Q134.098 1083.47 137.154 1088.07 Q140.232 1092.66 140.232 1101.41 Q140.232 1110.13 137.154 1114.74 Q134.098 1119.32 128.288 1119.32 Q122.478 1119.32 119.399 1114.74 Q116.343 1110.13 116.343 1101.41 Q116.343 1092.66 119.399 1088.07 Q122.478 1083.47 128.288 1083.47 Z\" fill=\"#000000\" fill-rule=\"evenodd\" fill-opacity=\"1\" /><path clip-path=\"url(#clip390)\" d=\"M148.45 1112.77 L153.334 1112.77 L153.334 1118.65 L148.45 1118.65 L148.45 1112.77 Z\" fill=\"#000000\" fill-rule=\"evenodd\" fill-opacity=\"1\" /><path clip-path=\"url(#clip390)\" d=\"M173.519 1087.17 Q169.908 1087.17 168.079 1090.73 Q166.274 1094.28 166.274 1101.41 Q166.274 1108.51 168.079 1112.08 Q169.908 1115.62 173.519 1115.62 Q177.153 1115.62 178.959 1112.08 Q180.788 1108.51 180.788 1101.41 Q180.788 1094.28 178.959 1090.73 Q177.153 1087.17 173.519 1087.17 M173.519 1083.47 Q179.329 1083.47 182.385 1088.07 Q185.463 1092.66 185.463 1101.41 Q185.463 1110.13 182.385 1114.74 Q179.329 1119.32 173.519 1119.32 Q167.709 1119.32 164.63 1114.74 Q161.575 1110.13 161.575 1101.41 Q161.575 1092.66 164.63 1088.07 Q167.709 1083.47 173.519 1083.47 Z\" fill=\"#000000\" fill-rule=\"evenodd\" fill-opacity=\"1\" /><path clip-path=\"url(#clip390)\" d=\"M197.709 1114.72 L214.028 1114.72 L214.028 1118.65 L192.084 1118.65 L192.084 1114.72 Q194.746 1111.96 199.329 1107.33 Q203.936 1102.68 205.116 1101.34 Q207.362 1098.81 208.241 1097.08 Q209.144 1095.32 209.144 1093.63 Q209.144 1090.87 207.199 1089.14 Q205.278 1087.4 202.176 1087.4 Q199.977 1087.4 197.524 1088.17 Q195.093 1088.93 192.315 1090.48 L192.315 1085.76 Q195.139 1084.62 197.593 1084.04 Q200.047 1083.47 202.084 1083.47 Q207.454 1083.47 210.649 1086.15 Q213.843 1088.84 213.843 1093.33 Q213.843 1095.46 213.033 1097.38 Q212.246 1099.28 210.139 1101.87 Q209.561 1102.54 206.459 1105.76 Q203.357 1108.95 197.709 1114.72 Z\" fill=\"#000000\" fill-rule=\"evenodd\" fill-opacity=\"1\" /><path clip-path=\"url(#clip390)\" d=\"M126.205 800.365 Q122.593 800.365 120.765 803.93 Q118.959 807.471 118.959 814.601 Q118.959 821.707 120.765 825.272 Q122.593 828.814 126.205 828.814 Q129.839 828.814 131.644 825.272 Q133.473 821.707 133.473 814.601 Q133.473 807.471 131.644 803.93 Q129.839 800.365 126.205 800.365 M126.205 796.661 Q132.015 796.661 135.07 801.268 Q138.149 805.851 138.149 814.601 Q138.149 823.328 135.07 827.934 Q132.015 832.518 126.205 832.518 Q120.394 832.518 117.316 827.934 Q114.26 823.328 114.26 814.601 Q114.26 805.851 117.316 801.268 Q120.394 796.661 126.205 796.661 Z\" fill=\"#000000\" fill-rule=\"evenodd\" fill-opacity=\"1\" /><path clip-path=\"url(#clip390)\" d=\"M146.366 825.967 L151.251 825.967 L151.251 831.846 L146.366 831.846 L146.366 825.967 Z\" fill=\"#000000\" fill-rule=\"evenodd\" fill-opacity=\"1\" /><path clip-path=\"url(#clip390)\" d=\"M171.436 800.365 Q167.825 800.365 165.996 803.93 Q164.19 807.471 164.19 814.601 Q164.19 821.707 165.996 825.272 Q167.825 828.814 171.436 828.814 Q175.07 828.814 176.876 825.272 Q178.704 821.707 178.704 814.601 Q178.704 807.471 176.876 803.93 Q175.07 800.365 171.436 800.365 M171.436 796.661 Q177.246 796.661 180.301 801.268 Q183.38 805.851 183.38 814.601 Q183.38 823.328 180.301 827.934 Q177.246 832.518 171.436 832.518 Q165.626 832.518 162.547 827.934 Q159.491 823.328 159.491 814.601 Q159.491 805.851 162.547 801.268 Q165.626 796.661 171.436 796.661 Z\" fill=\"#000000\" fill-rule=\"evenodd\" fill-opacity=\"1\" /><path clip-path=\"url(#clip390)\" d=\"M204.445 801.36 L192.639 819.809 L204.445 819.809 L204.445 801.36 M203.218 797.286 L209.098 797.286 L209.098 819.809 L214.028 819.809 L214.028 823.698 L209.098 823.698 L209.098 831.846 L204.445 831.846 L204.445 823.698 L188.843 823.698 L188.843 819.184 L203.218 797.286 Z\" fill=\"#000000\" fill-rule=\"evenodd\" fill-opacity=\"1\" /><path clip-path=\"url(#clip390)\" d=\"M126.529 513.56 Q122.918 513.56 121.089 517.125 Q119.283 520.667 119.283 527.796 Q119.283 534.903 121.089 538.468 Q122.918 542.009 126.529 542.009 Q130.163 542.009 131.968 538.468 Q133.797 534.903 133.797 527.796 Q133.797 520.667 131.968 517.125 Q130.163 513.56 126.529 513.56 M126.529 509.857 Q132.339 509.857 135.394 514.463 Q138.473 519.046 138.473 527.796 Q138.473 536.523 135.394 541.13 Q132.339 545.713 126.529 545.713 Q120.718 545.713 117.64 541.13 Q114.584 536.523 114.584 527.796 Q114.584 519.046 117.64 514.463 Q120.718 509.857 126.529 509.857 Z\" fill=\"#000000\" fill-rule=\"evenodd\" fill-opacity=\"1\" /><path clip-path=\"url(#clip390)\" d=\"M146.691 539.162 L151.575 539.162 L151.575 545.042 L146.691 545.042 L146.691 539.162 Z\" fill=\"#000000\" fill-rule=\"evenodd\" fill-opacity=\"1\" /><path clip-path=\"url(#clip390)\" d=\"M171.76 513.56 Q168.149 513.56 166.32 517.125 Q164.515 520.667 164.515 527.796 Q164.515 534.903 166.32 538.468 Q168.149 542.009 171.76 542.009 Q175.394 542.009 177.2 538.468 Q179.028 534.903 179.028 527.796 Q179.028 520.667 177.2 517.125 Q175.394 513.56 171.76 513.56 M171.76 509.857 Q177.57 509.857 180.626 514.463 Q183.704 519.046 183.704 527.796 Q183.704 536.523 180.626 541.13 Q177.57 545.713 171.76 545.713 Q165.95 545.713 162.871 541.13 Q159.815 536.523 159.815 527.796 Q159.815 519.046 162.871 514.463 Q165.95 509.857 171.76 509.857 Z\" fill=\"#000000\" fill-rule=\"evenodd\" fill-opacity=\"1\" /><path clip-path=\"url(#clip390)\" d=\"M202.5 525.898 Q199.352 525.898 197.5 528.051 Q195.672 530.204 195.672 533.954 Q195.672 537.68 197.5 539.856 Q199.352 542.009 202.5 542.009 Q205.649 542.009 207.477 539.856 Q209.329 537.68 209.329 533.954 Q209.329 530.204 207.477 528.051 Q205.649 525.898 202.5 525.898 M211.783 511.245 L211.783 515.505 Q210.024 514.671 208.218 514.232 Q206.436 513.792 204.676 513.792 Q200.047 513.792 197.593 516.917 Q195.163 520.042 194.815 526.361 Q196.181 524.347 198.241 523.282 Q200.301 522.194 202.778 522.194 Q207.987 522.194 210.996 525.366 Q214.028 528.514 214.028 533.954 Q214.028 539.278 210.88 542.495 Q207.732 545.713 202.5 545.713 Q196.505 545.713 193.334 541.13 Q190.163 536.523 190.163 527.796 Q190.163 519.602 194.051 514.741 Q197.94 509.857 204.491 509.857 Q206.25 509.857 208.033 510.204 Q209.838 510.551 211.783 511.245 Z\" fill=\"#000000\" fill-rule=\"evenodd\" fill-opacity=\"1\" /><path clip-path=\"url(#clip390)\" d=\"M126.783 226.755 Q123.172 226.755 121.343 230.32 Q119.538 233.862 119.538 240.992 Q119.538 248.098 121.343 251.663 Q123.172 255.204 126.783 255.204 Q130.417 255.204 132.223 251.663 Q134.052 248.098 134.052 240.992 Q134.052 233.862 132.223 230.32 Q130.417 226.755 126.783 226.755 M126.783 223.052 Q132.593 223.052 135.649 227.658 Q138.728 232.242 138.728 240.992 Q138.728 249.718 135.649 254.325 Q132.593 258.908 126.783 258.908 Q120.973 258.908 117.894 254.325 Q114.839 249.718 114.839 240.992 Q114.839 232.242 117.894 227.658 Q120.973 223.052 126.783 223.052 Z\" fill=\"#000000\" fill-rule=\"evenodd\" fill-opacity=\"1\" /><path clip-path=\"url(#clip390)\" d=\"M146.945 252.357 L151.829 252.357 L151.829 258.237 L146.945 258.237 L146.945 252.357 Z\" fill=\"#000000\" fill-rule=\"evenodd\" fill-opacity=\"1\" /><path clip-path=\"url(#clip390)\" d=\"M172.014 226.755 Q168.403 226.755 166.575 230.32 Q164.769 233.862 164.769 240.992 Q164.769 248.098 166.575 251.663 Q168.403 255.204 172.014 255.204 Q175.649 255.204 177.454 251.663 Q179.283 248.098 179.283 240.992 Q179.283 233.862 177.454 230.32 Q175.649 226.755 172.014 226.755 M172.014 223.052 Q177.825 223.052 180.88 227.658 Q183.959 232.242 183.959 240.992 Q183.959 249.718 180.88 254.325 Q177.825 258.908 172.014 258.908 Q166.204 258.908 163.126 254.325 Q160.07 249.718 160.07 240.992 Q160.07 232.242 163.126 227.658 Q166.204 223.052 172.014 223.052 Z\" fill=\"#000000\" fill-rule=\"evenodd\" fill-opacity=\"1\" /><path clip-path=\"url(#clip390)\" d=\"M202.176 241.825 Q198.843 241.825 196.922 243.607 Q195.024 245.39 195.024 248.515 Q195.024 251.64 196.922 253.422 Q198.843 255.204 202.176 255.204 Q205.51 255.204 207.431 253.422 Q209.352 251.616 209.352 248.515 Q209.352 245.39 207.431 243.607 Q205.533 241.825 202.176 241.825 M197.5 239.834 Q194.491 239.093 192.801 237.033 Q191.135 234.973 191.135 232.01 Q191.135 227.867 194.075 225.459 Q197.037 223.052 202.176 223.052 Q207.338 223.052 210.278 225.459 Q213.218 227.867 213.218 232.01 Q213.218 234.973 211.528 237.033 Q209.861 239.093 206.875 239.834 Q210.255 240.621 212.13 242.913 Q214.028 245.204 214.028 248.515 Q214.028 253.538 210.949 256.223 Q207.894 258.908 202.176 258.908 Q196.459 258.908 193.38 256.223 Q190.325 253.538 190.325 248.515 Q190.325 245.204 192.223 242.913 Q194.121 240.621 197.5 239.834 M195.787 232.45 Q195.787 235.135 197.454 236.64 Q199.144 238.144 202.176 238.144 Q205.186 238.144 206.875 236.64 Q208.588 235.135 208.588 232.45 Q208.588 229.765 206.875 228.26 Q205.186 226.755 202.176 226.755 Q199.144 226.755 197.454 228.26 Q195.787 229.765 195.787 232.45 Z\" fill=\"#000000\" fill-rule=\"evenodd\" fill-opacity=\"1\" /><path clip-path=\"url(#clip390)\" d=\"M21.7677 988.694 L39.6235 988.694 L39.6235 980.61 Q39.6235 976.122 37.3 973.671 Q34.9765 971.221 30.6797 971.221 Q26.4147 971.221 24.0912 973.671 Q21.7677 976.122 21.7677 980.61 L21.7677 988.694 M16.4842 995.124 L16.4842 980.61 Q16.4842 972.621 20.1126 968.547 Q23.7092 964.441 30.6797 964.441 Q37.7138 964.441 41.3104 968.547 Q44.907 972.621 44.907 980.61 L44.907 988.694 L64.0042 988.694 L64.0042 995.124 L16.4842 995.124 Z\" fill=\"#000000\" fill-rule=\"evenodd\" fill-opacity=\"1\" /><path clip-path=\"url(#clip390)\" d=\"M33.8307 936.559 Q33.2578 937.546 33.0032 938.724 Q32.7167 939.869 32.7167 941.27 Q32.7167 946.235 35.9632 948.909 Q39.1779 951.551 45.2253 951.551 L64.0042 951.551 L64.0042 957.439 L28.3562 957.439 L28.3562 951.551 L33.8944 951.551 Q30.6479 949.704 29.0883 946.744 Q27.4968 943.784 27.4968 939.551 Q27.4968 938.946 27.5923 938.214 Q27.656 937.482 27.8151 936.591 L33.8307 936.559 Z\" fill=\"#000000\" fill-rule=\"evenodd\" fill-opacity=\"1\" /><path clip-path=\"url(#clip390)\" d=\"M32.4621 918.035 Q32.4621 922.746 36.1542 925.483 Q39.8145 928.22 46.212 928.22 Q52.6095 928.22 56.3017 925.515 Q59.9619 922.778 59.9619 918.035 Q59.9619 913.356 56.2698 910.619 Q52.5777 907.882 46.212 907.882 Q39.8781 907.882 36.186 910.619 Q32.4621 913.356 32.4621 918.035 M27.4968 918.035 Q27.4968 910.396 32.4621 906.036 Q37.4273 901.675 46.212 901.675 Q54.9649 901.675 59.9619 906.036 Q64.9272 910.396 64.9272 918.035 Q64.9272 925.706 59.9619 930.066 Q54.9649 934.395 46.212 934.395 Q37.4273 934.395 32.4621 930.066 Q27.4968 925.706 27.4968 918.035 Z\" fill=\"#000000\" fill-rule=\"evenodd\" fill-opacity=\"1\" /><path clip-path=\"url(#clip390)\" d=\"M46.212 866.377 Q39.7508 866.377 36.0905 869.051 Q32.3984 871.693 32.3984 876.34 Q32.3984 880.987 36.0905 883.66 Q39.7508 886.302 46.212 886.302 Q52.6732 886.302 56.3653 883.66 Q60.0256 880.987 60.0256 876.34 Q60.0256 871.693 56.3653 869.051 Q52.6732 866.377 46.212 866.377 M33.7671 886.302 Q30.5842 884.456 29.0564 881.655 Q27.4968 878.822 27.4968 874.907 Q27.4968 868.414 32.6531 864.372 Q37.8093 860.298 46.212 860.298 Q54.6147 860.298 59.771 864.372 Q64.9272 868.414 64.9272 874.907 Q64.9272 878.822 63.3994 881.655 Q61.8398 884.456 58.657 886.302 L64.0042 886.302 L64.0042 892.19 L14.479 892.19 L14.479 886.302 L33.7671 886.302 Z\" fill=\"#000000\" fill-rule=\"evenodd\" fill-opacity=\"1\" /><path clip-path=\"url(#clip390)\" d=\"M46.0847 834.39 Q46.0847 841.487 47.7079 844.225 Q49.3312 846.962 53.2461 846.962 Q56.3653 846.962 58.2114 844.925 Q60.0256 842.856 60.0256 839.323 Q60.0256 834.453 56.5881 831.525 Q53.1188 828.565 47.3897 828.565 L46.0847 828.565 L46.0847 834.39 M43.6657 822.709 L64.0042 822.709 L64.0042 828.565 L58.5933 828.565 Q61.8398 830.57 63.3994 833.562 Q64.9272 836.554 64.9272 840.883 Q64.9272 846.357 61.8716 849.604 Q58.7843 852.818 53.6281 852.818 Q47.6125 852.818 44.5569 848.808 Q41.5014 844.766 41.5014 836.777 L41.5014 828.565 L40.9285 828.565 Q36.8862 828.565 34.6901 831.239 Q32.4621 833.88 32.4621 838.687 Q32.4621 841.742 33.1941 844.638 Q33.9262 847.535 35.3903 850.208 L29.9795 850.208 Q28.7381 846.994 28.1334 843.97 Q27.4968 840.946 27.4968 838.082 Q27.4968 830.347 31.5072 826.528 Q35.5176 822.709 43.6657 822.709 Z\" fill=\"#000000\" fill-rule=\"evenodd\" fill-opacity=\"1\" /><path clip-path=\"url(#clip390)\" d=\"M46.212 785.055 Q39.7508 785.055 36.0905 787.729 Q32.3984 790.371 32.3984 795.018 Q32.3984 799.665 36.0905 802.338 Q39.7508 804.98 46.212 804.98 Q52.6732 804.98 56.3653 802.338 Q60.0256 799.665 60.0256 795.018 Q60.0256 790.371 56.3653 787.729 Q52.6732 785.055 46.212 785.055 M33.7671 804.98 Q30.5842 803.134 29.0564 800.333 Q27.4968 797.5 27.4968 793.585 Q27.4968 787.092 32.6531 783.05 Q37.8093 778.976 46.212 778.976 Q54.6147 778.976 59.771 783.05 Q64.9272 787.092 64.9272 793.585 Q64.9272 797.5 63.3994 800.333 Q61.8398 803.134 58.657 804.98 L64.0042 804.98 L64.0042 810.868 L14.479 810.868 L14.479 804.98 L33.7671 804.98 Z\" fill=\"#000000\" fill-rule=\"evenodd\" fill-opacity=\"1\" /><path clip-path=\"url(#clip390)\" d=\"M28.3562 769.268 L28.3562 763.412 L64.0042 763.412 L64.0042 769.268 L28.3562 769.268 M14.479 769.268 L14.479 763.412 L21.895 763.412 L21.895 769.268 L14.479 769.268 Z\" fill=\"#000000\" fill-rule=\"evenodd\" fill-opacity=\"1\" /><path clip-path=\"url(#clip390)\" d=\"M14.479 751.158 L14.479 745.302 L64.0042 745.302 L64.0042 751.158 L14.479 751.158 Z\" fill=\"#000000\" fill-rule=\"evenodd\" fill-opacity=\"1\" /><path clip-path=\"url(#clip390)\" d=\"M28.3562 733.048 L28.3562 727.191 L64.0042 727.191 L64.0042 733.048 L28.3562 733.048 M14.479 733.048 L14.479 727.191 L21.895 727.191 L21.895 733.048 L14.479 733.048 Z\" fill=\"#000000\" fill-rule=\"evenodd\" fill-opacity=\"1\" /><path clip-path=\"url(#clip390)\" d=\"M18.2347 709.144 L28.3562 709.144 L28.3562 697.081 L32.9077 697.081 L32.9077 709.144 L52.2594 709.144 Q56.6199 709.144 57.8613 707.967 Q59.1026 706.757 59.1026 703.097 L59.1026 697.081 L64.0042 697.081 L64.0042 703.097 Q64.0042 709.876 61.4897 712.455 Q58.9434 715.033 52.2594 715.033 L32.9077 715.033 L32.9077 719.33 L28.3562 719.33 L28.3562 715.033 L18.2347 715.033 L18.2347 709.144 Z\" fill=\"#000000\" fill-rule=\"evenodd\" fill-opacity=\"1\" /><path clip-path=\"url(#clip390)\" d=\"M67.3143 674.547 Q73.68 677.029 75.6216 679.385 Q77.5631 681.74 77.5631 685.687 L77.5631 690.366 L72.6615 690.366 L72.6615 686.928 Q72.6615 684.509 71.5157 683.172 Q70.3699 681.836 66.1048 680.212 L63.4312 679.162 L28.3562 693.58 L28.3562 687.374 L56.238 676.234 L28.3562 665.094 L28.3562 658.887 L67.3143 674.547 Z\" fill=\"#000000\" fill-rule=\"evenodd\" fill-opacity=\"1\" /><path clip-path=\"url(#clip390)\" d=\"M16.4842 629.828 L16.4842 620.247 L48.8219 608.121 L16.4842 595.93 L16.4842 586.35 L64.0042 586.35 L64.0042 592.62 L22.277 592.62 L54.8694 604.874 L54.8694 611.335 L22.277 623.589 L64.0042 623.589 L64.0042 629.828 L16.4842 629.828 Z\" fill=\"#000000\" fill-rule=\"evenodd\" fill-opacity=\"1\" /><path clip-path=\"url(#clip390)\" d=\"M46.0847 557.641 Q46.0847 564.738 47.7079 567.476 Q49.3312 570.213 53.2461 570.213 Q56.3653 570.213 58.2114 568.176 Q60.0256 566.107 60.0256 562.574 Q60.0256 557.704 56.5881 554.776 Q53.1188 551.816 47.3897 551.816 L46.0847 551.816 L46.0847 557.641 M43.6657 545.96 L64.0042 545.96 L64.0042 551.816 L58.5933 551.816 Q61.8398 553.821 63.3994 556.813 Q64.9272 559.805 64.9272 564.134 Q64.9272 569.608 61.8716 572.855 Q58.7843 576.069 53.6281 576.069 Q47.6125 576.069 44.5569 572.059 Q41.5014 568.017 41.5014 560.028 L41.5014 551.816 L40.9285 551.816 Q36.8862 551.816 34.6901 554.49 Q32.4621 557.131 32.4621 561.937 Q32.4621 564.993 33.1941 567.889 Q33.9262 570.786 35.3903 573.459 L29.9795 573.459 Q28.7381 570.245 28.1334 567.221 Q27.4968 564.197 27.4968 561.333 Q27.4968 553.598 31.5072 549.779 Q35.5176 545.96 43.6657 545.96 Z\" fill=\"#000000\" fill-rule=\"evenodd\" fill-opacity=\"1\" /><path clip-path=\"url(#clip390)\" d=\"M29.4065 511.171 L34.9447 511.171 Q33.6716 513.654 33.035 516.327 Q32.3984 519.001 32.3984 521.865 Q32.3984 526.226 33.7352 528.422 Q35.072 530.586 37.7456 530.586 Q39.7826 530.586 40.9603 529.027 Q42.1061 527.467 43.1565 522.757 L43.6021 520.751 Q44.9389 514.513 47.3897 511.903 Q49.8086 509.261 54.1691 509.261 Q59.1344 509.261 62.0308 513.208 Q64.9272 517.123 64.9272 523.998 Q64.9272 526.862 64.3543 529.982 Q63.8132 533.069 62.6992 536.506 L56.6518 536.506 Q58.3387 533.26 59.198 530.109 Q60.0256 526.958 60.0256 523.871 Q60.0256 519.733 58.6251 517.505 Q57.1929 515.277 54.6147 515.277 Q52.2276 515.277 50.9545 516.9 Q49.6813 518.491 48.5037 523.934 L48.0262 525.971 Q46.8804 531.414 44.5251 533.833 Q42.138 536.252 38.0002 536.252 Q32.9713 536.252 30.2341 532.687 Q27.4968 529.122 27.4968 522.566 Q27.4968 519.319 27.9743 516.454 Q28.4517 513.59 29.4065 511.171 Z\" fill=\"#000000\" fill-rule=\"evenodd\" fill-opacity=\"1\" /><path clip-path=\"url(#clip390)\" d=\"M29.4065 477.21 L34.9447 477.21 Q33.6716 479.693 33.035 482.366 Q32.3984 485.04 32.3984 487.904 Q32.3984 492.265 33.7352 494.461 Q35.072 496.625 37.7456 496.625 Q39.7826 496.625 40.9603 495.066 Q42.1061 493.506 43.1565 488.795 L43.6021 486.79 Q44.9389 480.552 47.3897 477.942 Q49.8086 475.3 54.1691 475.3 Q59.1344 475.3 62.0308 479.247 Q64.9272 483.162 64.9272 490.037 Q64.9272 492.901 64.3543 496.021 Q63.8132 499.108 62.6992 502.545 L56.6518 502.545 Q58.3387 499.299 59.198 496.148 Q60.0256 492.997 60.0256 489.909 Q60.0256 485.772 58.6251 483.544 Q57.1929 481.316 54.6147 481.316 Q52.2276 481.316 50.9545 482.939 Q49.6813 484.53 48.5037 489.973 L48.0262 492.01 Q46.8804 497.453 44.5251 499.872 Q42.138 502.291 38.0002 502.291 Q32.9713 502.291 30.2341 498.726 Q27.4968 495.161 27.4968 488.604 Q27.4968 485.358 27.9743 482.493 Q28.4517 479.629 29.4065 477.21 Z\" fill=\"#000000\" fill-rule=\"evenodd\" fill-opacity=\"1\" /><polyline clip-path=\"url(#clip392)\" style=\"stroke:#00008b; stroke-linecap:round; stroke-linejoin:round; stroke-width:16; stroke-opacity:0.5; fill:none\" points=\"\n",
       "  309.539,86.1857 329.577,156.28 349.614,356.625 369.652,527.664 389.689,696.996 409.726,762.374 429.764,820.989 449.801,900.39 469.839,958.723 489.876,997.265 \n",
       "  509.914,1032.11 529.951,1058.54 549.988,1081.65 570.026,1101.84 590.063,1117.17 610.101,1132.66 630.138,1144.39 650.176,1162.05 670.213,1175.23 690.25,1186.24 \n",
       "  710.288,1196.41 730.325,1206.49 750.363,1216.3 770.4,1224.65 790.438,1232.88 810.475,1240.21 830.512,1247.8 850.55,1255.26 870.587,1262.07 890.625,1268.17 \n",
       "  910.662,1274.71 930.7,1280.41 950.737,1284.44 970.774,1290.25 990.812,1295.7 1010.85,1300.37 1030.89,1304.35 1050.92,1308.28 1070.96,1312.13 1091,1315.57 \n",
       "  1111.04,1318.65 1131.07,1321.7 1151.11,1324.56 1171.15,1327.36 1191.19,1329.84 1211.22,1332.21 1231.26,1334.72 1251.3,1336.69 1271.34,1338.65 1291.37,1340.94 \n",
       "  1311.41,1342.75 1331.45,1344.45 1351.49,1346.25 1371.52,1347.76 1391.56,1349.42 1411.6,1351.05 1431.64,1352.3 1451.67,1353.84 1471.71,1354.94 1491.75,1356.32 \n",
       "  1511.79,1357.73 1531.82,1358.95 1551.86,1360.05 1571.9,1361.15 1591.93,1362.18 1611.97,1363.22 1632.01,1364.22 1652.05,1365.1 1672.08,1365.95 1692.12,1366.85 \n",
       "  1712.16,1367.76 1732.2,1368.59 1752.23,1369.36 1772.27,1370.1 1792.31,1370.73 1812.35,1371.48 1832.38,1372.18 1852.42,1372.85 1872.46,1373.44 1892.5,1373.96 \n",
       "  1912.53,1374.46 1932.57,1375.22 1952.61,1375.73 1972.65,1376.24 1992.68,1376.7 2012.72,1377.17 2032.76,1377.43 2052.8,1377.94 2072.83,1378.45 2092.87,1378.76 \n",
       "  2112.91,1378.92 2132.95,1379.44 2152.98,1379.46 2173.02,1380.43 2193.06,1380.23 2213.1,1381.39 2233.13,1379.07 2253.17,1384.04 2273.21,1384.24 2293.24,1369.95 \n",
       "  \n",
       "  \"/>\n",
       "</svg>\n"
      ]
     },
     "execution_count": 173,
     "metadata": {},
     "output_type": "execute_result"
    }
   ],
   "source": [
    "adist = get_distribution(dist.state_index, dist.λ);\n",
    "\n",
    "plot(foo.agrid , adist, alpha = 0.5, lw = 4,\n",
    "    color = \"dark blue\", ylabel = \"Probability Mass\", \n",
    "    xlabel = \"Asset Holdings / Avg. Income\", label = false)"
   ]
  },
  {
   "cell_type": "code",
   "execution_count": null,
   "metadata": {},
   "outputs": [],
   "source": []
  }
 ],
 "metadata": {
  "kernelspec": {
   "display_name": "Julia 1.7.0",
   "language": "julia",
   "name": "julia-1.7"
  },
  "language_info": {
   "file_extension": ".jl",
   "mimetype": "application/julia",
   "name": "julia",
   "version": "1.7.0"
  }
 },
 "nbformat": 4,
 "nbformat_minor": 4
}
