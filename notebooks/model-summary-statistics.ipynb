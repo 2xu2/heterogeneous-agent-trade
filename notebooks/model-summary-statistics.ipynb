{
 "cells": [
  {
   "cell_type": "code",
   "execution_count": 33,
   "id": "90361547-9bb2-44a2-8acd-14452861afb9",
   "metadata": {},
   "outputs": [],
   "source": [
    "import pandas as pd\n",
    "import numpy as np\n",
    "import scipy.io\n",
    "\n",
    "from matplotlib import cm\n",
    "import matplotlib.pyplot as plt\n",
    "from mpl_toolkits.mplot3d import Axes3D\n",
    "from scipy.interpolate import griddata\n",
    "import matplotlib.colors as colors\n",
    "\n",
    "import weightedcalcs as wc\n"
   ]
  },
  {
   "cell_type": "code",
   "execution_count": 29,
   "id": "9a33e979-0de5-414f-909f-53425f2ec193",
   "metadata": {},
   "outputs": [],
   "source": [
    "hh = pd.read_csv(\"household_data.csv\")"
   ]
  },
  {
   "cell_type": "code",
   "execution_count": 30,
   "id": "25cd9641-60c7-48bc-bab8-3c5f1b6cb7fd",
   "metadata": {},
   "outputs": [
    {
     "data": {
      "text/html": [
       "<div>\n",
       "<style scoped>\n",
       "    .dataframe tbody tr th:only-of-type {\n",
       "        vertical-align: middle;\n",
       "    }\n",
       "\n",
       "    .dataframe tbody tr th {\n",
       "        vertical-align: top;\n",
       "    }\n",
       "\n",
       "    .dataframe thead th {\n",
       "        text-align: right;\n",
       "    }\n",
       "</style>\n",
       "<table border=\"1\" class=\"dataframe\">\n",
       "  <thead>\n",
       "    <tr style=\"text-align: right;\">\n",
       "      <th></th>\n",
       "      <th>income</th>\n",
       "      <th>weights</th>\n",
       "      <th>homeshare</th>\n",
       "    </tr>\n",
       "  </thead>\n",
       "  <tbody>\n",
       "    <tr>\n",
       "      <th>0</th>\n",
       "      <td>0.283021</td>\n",
       "      <td>0.009584</td>\n",
       "      <td>0.998816</td>\n",
       "    </tr>\n",
       "    <tr>\n",
       "      <th>1</th>\n",
       "      <td>0.283021</td>\n",
       "      <td>0.007384</td>\n",
       "      <td>0.996984</td>\n",
       "    </tr>\n",
       "    <tr>\n",
       "      <th>2</th>\n",
       "      <td>0.283021</td>\n",
       "      <td>0.004162</td>\n",
       "      <td>0.995239</td>\n",
       "    </tr>\n",
       "    <tr>\n",
       "      <th>3</th>\n",
       "      <td>0.283021</td>\n",
       "      <td>0.001733</td>\n",
       "      <td>0.994224</td>\n",
       "    </tr>\n",
       "    <tr>\n",
       "      <th>4</th>\n",
       "      <td>0.283021</td>\n",
       "      <td>0.001195</td>\n",
       "      <td>0.992914</td>\n",
       "    </tr>\n",
       "    <tr>\n",
       "      <th>...</th>\n",
       "      <td>...</td>\n",
       "      <td>...</td>\n",
       "      <td>...</td>\n",
       "    </tr>\n",
       "    <tr>\n",
       "      <th>995</th>\n",
       "      <td>2.737243</td>\n",
       "      <td>0.000383</td>\n",
       "      <td>0.835032</td>\n",
       "    </tr>\n",
       "    <tr>\n",
       "      <th>996</th>\n",
       "      <td>2.737243</td>\n",
       "      <td>0.000501</td>\n",
       "      <td>0.831131</td>\n",
       "    </tr>\n",
       "    <tr>\n",
       "      <th>997</th>\n",
       "      <td>2.737243</td>\n",
       "      <td>0.000168</td>\n",
       "      <td>0.826802</td>\n",
       "    </tr>\n",
       "    <tr>\n",
       "      <th>998</th>\n",
       "      <td>2.737243</td>\n",
       "      <td>0.000178</td>\n",
       "      <td>0.822134</td>\n",
       "    </tr>\n",
       "    <tr>\n",
       "      <th>999</th>\n",
       "      <td>2.737243</td>\n",
       "      <td>0.001373</td>\n",
       "      <td>0.817072</td>\n",
       "    </tr>\n",
       "  </tbody>\n",
       "</table>\n",
       "<p>1000 rows × 3 columns</p>\n",
       "</div>"
      ],
      "text/plain": [
       "       income   weights  homeshare\n",
       "0    0.283021  0.009584   0.998816\n",
       "1    0.283021  0.007384   0.996984\n",
       "2    0.283021  0.004162   0.995239\n",
       "3    0.283021  0.001733   0.994224\n",
       "4    0.283021  0.001195   0.992914\n",
       "..        ...       ...        ...\n",
       "995  2.737243  0.000383   0.835032\n",
       "996  2.737243  0.000501   0.831131\n",
       "997  2.737243  0.000168   0.826802\n",
       "998  2.737243  0.000178   0.822134\n",
       "999  2.737243  0.001373   0.817072\n",
       "\n",
       "[1000 rows x 3 columns]"
      ]
     },
     "execution_count": 30,
     "metadata": {},
     "output_type": "execute_result"
    }
   ],
   "source": [
    "hh"
   ]
  },
  {
   "cell_type": "code",
   "execution_count": 34,
   "id": "e6833c05-dd4e-4d13-b65b-ac2d37bca794",
   "metadata": {},
   "outputs": [],
   "source": [
    "calc = wc.Calculator(\"weights\")"
   ]
  },
  {
   "cell_type": "code",
   "execution_count": 44,
   "id": "2b4914ec-e35b-4bc2-b00d-563e72120534",
   "metadata": {},
   "outputs": [
    {
     "data": {
      "text/plain": [
       "1.7400107444879225"
      ]
     },
     "execution_count": 44,
     "metadata": {},
     "output_type": "execute_result"
    }
   ],
   "source": []
  },
  {
   "cell_type": "code",
   "execution_count": 49,
   "id": "e1d6e6ee-dc1b-4b70-bdae-23ddc03d9c2b",
   "metadata": {},
   "outputs": [],
   "source": [
    "foo = hh[hh.income > calc.quantile(hh, \"income\", 0.10)]"
   ]
  },
  {
   "cell_type": "code",
   "execution_count": 50,
   "id": "0a33592c-8185-43ba-a799-98d652cd6e5a",
   "metadata": {},
   "outputs": [
    {
     "data": {
      "text/plain": [
       "0.952379182544193"
      ]
     },
     "execution_count": 50,
     "metadata": {},
     "output_type": "execute_result"
    }
   ],
   "source": [
    "calc.median(foo,\"homeshare\")"
   ]
  },
  {
   "cell_type": "code",
   "execution_count": 32,
   "id": "2ba3b82e-fbbb-4a38-a69d-f0872c294884",
   "metadata": {},
   "outputs": [
    {
     "data": {
      "text/plain": [
       "(-1.5, 1.5)"
      ]
     },
     "execution_count": 32,
     "metadata": {},
     "output_type": "execute_result"
    },
    {
     "data": {
      "image/png": "[encoded data removed]",
      "text/plain": [
       "<Figure size 432x288 with 1 Axes>"
      ]
     },
     "metadata": {
      "needs_background": "light"
     },
     "output_type": "display_data"
    }
   ],
   "source": [
    "fig, ax = plt.subplots(tight_layout = True)\n",
    "\n",
    "ax.hist(np.log(hh.income), weights = hh.weights, \n",
    "        density = True, bins = 10, rwidth = 0.90, alpha = 0.75);\n",
    "\n",
    "ax.set_xlabel(\"Log Income (Net-Asset + Labor)\")\n",
    "\n",
    "ax.spines[\"right\"].set_visible(False)\n",
    "ax.spines[\"top\"].set_visible(False)\n",
    "ax.set_xlim(-1.5,1.5)"
   ]
  },
  {
   "cell_type": "code",
   "execution_count": null,
   "id": "f7efcb7b-a48e-48e9-98b2-dcdabcb7b884",
   "metadata": {},
   "outputs": [],
   "source": []
  }
 ],
 "metadata": {
  "kernelspec": {
   "display_name": "Python 3",
   "language": "python",
   "name": "python3"
  },
  "language_info": {
   "codemirror_mode": {
    "name": "ipython",
    "version": 3
   },
   "file_extension": ".py",
   "mimetype": "text/x-python",
   "name": "python",
   "nbconvert_exporter": "python",
   "pygments_lexer": "ipython3",
   "version": "3.8.8"
  }
 },
 "nbformat": 4,
 "nbformat_minor": 5
}
