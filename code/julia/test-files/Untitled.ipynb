{
 "cells": [
  {
   "cell_type": "code",
   "execution_count": 3,
   "id": "aebc6340-4cd6-4b7e-a7b1-b23796eab1e9",
   "metadata": {},
   "outputs": [],
   "source": [
    "include(\"ha-trade-environment.jl\")\n",
    "include(\"ha-trade-solution.jl\")\n",
    "include(\"ha-trade-helper-functions.jl\")\n",
    "\n",
    "using Plots\n",
    "using FiniteDifferences"
   ]
  },
  {
   "cell_type": "code",
   "execution_count": 17,
   "id": "73125a8e-3404-401f-94e7-bcd0d337c4a1",
   "metadata": {},
   "outputs": [
    {
     "name": "stdout",
     "output_type": "stream",
     "text": [
      "  0.513765 seconds (66.12 k allocations: 47.121 MiB)\n"
     ]
    }
   ],
   "source": [
    "mdl_prm = model_params(Ncntry = 5, Na = 100, Nshocks = 5, γ = 3.0, ϕ = 3, amax = 8.0, σ = 0.3919, ρ = 0.20);\n",
    "\n",
    "@unpack Na, Nshocks, Ncntry, β = mdl_prm\n",
    "\n",
    "gc = repeat(range(0.1,3,Na),1,Nshocks,Ncntry)\n",
    "\n",
    "v = -ones(size(gc)) / (1- β)\n",
    "\n",
    "country = 1\n",
    "\n",
    "p = 1.5.*ones(Ncntry)\n",
    "\n",
    "p[country] = 1.0\n",
    "\n",
    "R = 1.029;\n",
    "W = 1.0;\n",
    "\n",
    "@time hh = solve_household_problem(R, W, p, mdl_prm, solution_method = \"itteration\");"
   ]
  },
  {
   "cell_type": "code",
   "execution_count": 19,
   "id": "fe8f6779-fd8c-481d-847f-0aa5d213ad72",
   "metadata": {},
   "outputs": [
    {
     "data": {
      "text/plain": [
       "2×2 Matrix{Float64}:\n",
       " 1.0  0.999968\n",
       " 1.0  0.997707"
      ]
     },
     "execution_count": 19,
     "metadata": {},
     "output_type": "execute_result"
    }
   ],
   "source": [
    "hh.πprob[1:2,1:2,1]"
   ]
  },
  {
   "cell_type": "code",
   "execution_count": 15,
   "id": "2b429fe0-c4ba-44b9-a159-23339ebec45f",
   "metadata": {},
   "outputs": [
    {
     "data": {
      "text/plain": [
       "Vector{Float64} (alias for Array{Float64, 1})"
      ]
     },
     "execution_count": 15,
     "metadata": {},
     "output_type": "execute_result"
    }
   ],
   "source": [
    "typeof(foo)"
   ]
  },
  {
   "cell_type": "code",
   "execution_count": 41,
   "id": "cc153814-0869-4805-8a2d-05c94554c182",
   "metadata": {},
   "outputs": [
    {
     "data": {
      "text/plain": [
       "f (generic function with 1 method)"
      ]
     },
     "execution_count": 41,
     "metadata": {},
     "output_type": "execute_result"
    }
   ],
   "source": [
    "function f(x)\n",
    "    \n",
    "    p = 1.5.*ones(mdl_prm.Ncntry)\n",
    "    \n",
    "    p[1] = 1.0\n",
    "    \n",
    "    p[2] = x[1]\n",
    "    \n",
    "    solve_household_problem(R, W, p, mdl_prm, solution_method = \"itteration\").πprob[:,:,1]\n",
    "    \n",
    "end"
   ]
  },
  {
   "cell_type": "code",
   "execution_count": 42,
   "id": "f19b2ee1-f0b1-4ffa-9ff9-9b506b995d34",
   "metadata": {},
   "outputs": [
    {
     "data": {
      "text/plain": [
       "100×5 Matrix{Float64}:\n",
       " 1.0       0.999968  0.935712  0.763639  0.63925\n",
       " 1.0       0.997707  0.905405  0.750708  0.633672\n",
       " 0.999988  0.986877  0.880148  0.738752  0.628305\n",
       " 0.998752  0.973466  0.857864  0.727575  0.62314\n",
       " 0.994791  0.949192  0.835353  0.717116  0.618155\n",
       " 0.984848  0.924419  0.814268  0.707411  0.613325\n",
       " 0.964942  0.896795  0.797328  0.698362  0.608652\n",
       " 0.944022  0.874424  0.781935  0.689847  0.604134\n",
       " 0.918588  0.852023  0.76782   0.681859  0.599762\n",
       " 0.894994  0.831365  0.754807  0.674447  0.595522\n",
       " 0.872483  0.813244  0.742632  0.667427  0.591405\n",
       " 0.851339  0.795897  0.731229  0.660727  0.587401\n",
       " 0.832084  0.78128   0.720693  0.654325  0.583506\n",
       " ⋮                                       \n",
       " 0.467948  0.460725  0.448469  0.423684  0.286726\n",
       " 0.465847  0.458541  0.446011  0.419772  0.277808\n",
       " 0.463732  0.456333  0.443503  0.415418  0.270214\n",
       " 0.461601  0.454091  0.440953  0.410695  0.263695\n",
       " 0.459452  0.451808  0.438337  0.405947  0.258055\n",
       " 0.457278  0.449473  0.435649  0.400849  0.253142\n",
       " 0.455073  0.447087  0.432845  0.394398  0.248836\n",
       " 0.452829  0.444647  0.429831  0.381879  0.24504\n",
       " 0.450544  0.442144  0.426345  0.365019  0.241676\n",
       " 0.448213  0.439571  0.422498  0.346108  0.23868\n",
       " 0.445839  0.436898  0.418336  0.326984  0.236\n",
       " 0.443419  0.434047  0.414116  0.31136   0.233592"
      ]
     },
     "execution_count": 42,
     "metadata": {},
     "output_type": "execute_result"
    }
   ],
   "source": [
    "f(1.5)"
   ]
  },
  {
   "cell_type": "code",
   "execution_count": 44,
   "id": "395865ee-5bca-42e3-aa9d-9c2cafa19746",
   "metadata": {},
   "outputs": [
    {
     "data": {
      "text/plain": [
       "500×1 Matrix{Float64}:\n",
       " 0.0\n",
       " 5.801514306556955e-9\n",
       " 8.914606883455418e-5\n",
       " 0.006009237526303227\n",
       " 0.01738077121479975\n",
       " 0.044298065845203516\n",
       " 0.0770847002859222\n",
       " 0.11270468408519146\n",
       " 0.13429649896319135\n",
       " 0.16357550884659416\n",
       " 0.175418142901326\n",
       " 0.18020532044652457\n",
       " 0.18585647980755562\n",
       " ⋮\n",
       " 0.058280910435952925\n",
       " 0.051875082842032044\n",
       " 0.0464711173033319\n",
       " 0.041873785611543986\n",
       " 0.03793185389172495\n",
       " 0.034527178656157516\n",
       " 0.03156664995135716\n",
       " 0.028976262210450864\n",
       " 0.026696657239811097\n",
       " 0.024679849264229746\n",
       " 0.022886738978037773\n",
       " 0.021285209923223365"
      ]
     },
     "execution_count": 44,
     "metadata": {},
     "output_type": "execute_result"
    }
   ],
   "source": [
    "jacobian(central_fdm(2, 1), f, [1.5])[1]"
   ]
  },
  {
   "cell_type": "code",
   "execution_count": null,
   "id": "6d21f630-6211-4b92-9398-5d5165b60607",
   "metadata": {},
   "outputs": [],
   "source": []
  }
 ],
 "metadata": {
  "kernelspec": {
   "display_name": "Julia 1.7.1",
   "language": "julia",
   "name": "julia-1.7"
  },
  "language_info": {
   "file_extension": ".jl",
   "mimetype": "application/julia",
   "name": "julia",
   "version": "1.7.1"
  }
 },
 "nbformat": 4,
 "nbformat_minor": 5
}
