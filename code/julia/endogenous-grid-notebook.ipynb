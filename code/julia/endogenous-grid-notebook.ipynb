{
 "cells": [
  {
   "cell_type": "markdown",
   "metadata": {},
   "source": [
    "### Tests of Multi-Country Endogenous Grid method\n",
    "\n",
    "The main files to be loaded. "
   ]
  },
  {
   "cell_type": "code",
   "execution_count": 38,
   "metadata": {},
   "outputs": [],
   "source": [
    "include(\"ha-trade-environment.jl\")\n",
    "include(\"ha-trade-solution.jl\")\n",
    "\n",
    "using Plots"
   ]
  },
  {
   "cell_type": "code",
   "execution_count": 39,
   "metadata": {},
   "outputs": [
    {
     "data": {
      "text/plain": [
       "2-element Vector{Float64}:\n",
       " 1.0\n",
       " 1.0"
      ]
     },
     "execution_count": 39,
     "metadata": {},
     "output_type": "execute_result"
    }
   ],
   "source": [
    "R = 1.0291666666666668;\n",
    "W = 1.252202244106159;\n",
    "\n",
    "\n",
    "model_prm = model_params()\n",
    "\n",
    "p = ones(model_prm.Ncntry)"
   ]
  },
  {
   "cell_type": "markdown",
   "metadata": {},
   "source": [
    "The code below set's this up as a fixed point problem. It guesses a consumption function ($g(a,z)$ and value function for each variety $v_j$ and uses the anderson method to find the solution to it. "
   ]
  },
  {
   "cell_type": "code",
   "execution_count": 40,
   "metadata": {},
   "outputs": [
    {
     "name": "stdout",
     "output_type": "stream",
     "text": [
      "  0.879039 seconds (2.33 M allocations: 131.795 MiB, 4.61% gc time, 95.59% compilation time)\n"
     ]
    },
    {
     "data": {
      "text/plain": [
       "([0.4065305481807271 2.085133135059209; 0.44993308532487614 2.1135060614081613; … ; 1.1120682475640216 3.974874656417361; 1.1241475738598905 4.265387783882096;;; 0.4065305481807271 2.085133135059209; 0.44993308532487614 2.1135060614081613; … ; 1.1120682475640216 3.974874656417361; 1.1241475738598905 4.265387783882096], [-46.105758517921515 -7.82410825960801; -44.69033067746323 -7.75753006197586; … ; -20.22869195959547 -5.868650534131245; -19.99308633487651 -5.851277544222437;;; -46.1057585271586 -7.824108228270398; -44.69033068593688 -7.7575300286871; … ; -20.22869195878686 -5.868650504490131; -19.993086337031258 -5.851277514573161])"
      ]
     },
     "execution_count": 40,
     "metadata": {},
     "output_type": "execute_result"
    }
   ],
   "source": [
    "@time Kgc, Tv = policy_function_fixedpoint(R, W, p, model_prm)"
   ]
  },
  {
   "cell_type": "code",
   "execution_count": 41,
   "metadata": {},
   "outputs": [
    {
     "data": {
      "text/plain": [
       "50×2×2 Array{Float64, 3}:\n",
       "[:, :, 1] =\n",
       " -46.1058  -7.82411\n",
       " -44.6903  -7.75753\n",
       " -43.4229  -7.69266\n",
       " -42.2633  -7.62941\n",
       " -41.1894  -7.56778\n",
       " -40.1868  -7.50759\n",
       " -39.2451  -7.44878\n",
       " -38.3565  -7.39131\n",
       " -37.5151  -7.33514\n",
       " -36.7158  -7.28023\n",
       " -35.9546  -7.22652\n",
       " -35.2281  -7.17396\n",
       " -34.5333  -7.12251\n",
       "   ⋮       \n",
       " -22.9032  -6.10915\n",
       " -22.6066  -6.08114\n",
       " -22.317   -6.05386\n",
       " -22.0344  -6.02747\n",
       " -21.7583  -6.00197\n",
       " -21.4885  -5.97725\n",
       " -21.225   -5.95346\n",
       " -20.9675  -5.93063\n",
       " -20.7157  -5.9087\n",
       " -20.4695  -5.8882\n",
       " -20.2287  -5.86865\n",
       " -19.9931  -5.85128\n",
       "\n",
       "[:, :, 2] =\n",
       " -46.1058  -7.82411\n",
       " -44.6903  -7.75753\n",
       " -43.4229  -7.69266\n",
       " -42.2633  -7.62941\n",
       " -41.1894  -7.56778\n",
       " -40.1868  -7.50759\n",
       " -39.2451  -7.44878\n",
       " -38.3565  -7.39131\n",
       " -37.5151  -7.33514\n",
       " -36.7158  -7.28023\n",
       " -35.9546  -7.22652\n",
       " -35.2281  -7.17396\n",
       " -34.5333  -7.12251\n",
       "   ⋮       \n",
       " -22.9032  -6.10915\n",
       " -22.6066  -6.08114\n",
       " -22.317   -6.05386\n",
       " -22.0344  -6.02747\n",
       " -21.7583  -6.00197\n",
       " -21.4885  -5.97725\n",
       " -21.225   -5.95346\n",
       " -20.9675  -5.93063\n",
       " -20.7157  -5.9087\n",
       " -20.4695  -5.8882\n",
       " -20.2287  -5.86865\n",
       " -19.9931  -5.85128"
      ]
     },
     "execution_count": 41,
     "metadata": {},
     "output_type": "execute_result"
    }
   ],
   "source": [
    "Tv"
   ]
  },
  {
   "cell_type": "markdown",
   "metadata": {},
   "source": [
    "And then this is the pure iterative method..."
   ]
  },
  {
   "cell_type": "code",
   "execution_count": 42,
   "metadata": {},
   "outputs": [
    {
     "name": "stdout",
     "output_type": "stream",
     "text": [
      "  0.046460 seconds (619.27 k allocations: 56.419 MiB, 12.67% compilation time)\n"
     ]
    },
    {
     "data": {
      "text/plain": [
       "([0.4065305481807271 2.0851323442681142; 0.44993308424503226 2.1135051475204385; … ; 1.1120724552680747 3.974876392055838; 1.1241524463440444 4.265387783882096;;; 0.4065305481807271 2.0851323442681142; 0.44993308424503226 2.1135051475204385; … ; 1.1120724552680747 3.974876392055838; 1.1241524463440444 4.265387783882096], [-46.10577473708296 -7.824118184917475; -44.690346440169925 -7.757539967766252; … ; -20.228697719011585 -5.868660153999399; -19.993092049605508 -5.851287156963701;;; -46.10577426212993 -7.82411785519593; -44.690345978161155 -7.757539638511809; … ; -20.228697544225522 -5.86865983466195; -19.99309187718481 -5.8512868376266045])"
      ]
     },
     "execution_count": 42,
     "metadata": {},
     "output_type": "execute_result"
    }
   ],
   "source": [
    "@time Kgc, Tv = policy_function_itteration(R, W, p, model_prm)"
   ]
  },
  {
   "cell_type": "code",
   "execution_count": 43,
   "metadata": {},
   "outputs": [
    {
     "data": {
      "text/plain": [
       "50×2×2 Array{Float64, 3}:\n",
       "[:, :, 1] =\n",
       " -46.1058  -7.82412\n",
       " -44.6903  -7.75754\n",
       " -43.4229  -7.69267\n",
       " -42.2633  -7.62942\n",
       " -41.1895  -7.56779\n",
       " -40.1868  -7.5076\n",
       " -39.2451  -7.44879\n",
       " -38.3565  -7.39132\n",
       " -37.5151  -7.33515\n",
       " -36.7158  -7.28024\n",
       " -35.9546  -7.22653\n",
       " -35.2281  -7.17397\n",
       " -34.5333  -7.12252\n",
       "   ⋮       \n",
       " -22.9032  -6.10916\n",
       " -22.6066  -6.08115\n",
       " -22.3171  -6.05386\n",
       " -22.0344  -6.02748\n",
       " -21.7583  -6.00198\n",
       " -21.4886  -5.97726\n",
       " -21.225   -5.95347\n",
       " -20.9675  -5.93064\n",
       " -20.7157  -5.90871\n",
       " -20.4695  -5.88821\n",
       " -20.2287  -5.86866\n",
       " -19.9931  -5.85129\n",
       "\n",
       "[:, :, 2] =\n",
       " -46.1058  -7.82412\n",
       " -44.6903  -7.75754\n",
       " -43.4229  -7.69267\n",
       " -42.2633  -7.62942\n",
       " -41.1895  -7.56779\n",
       " -40.1868  -7.5076\n",
       " -39.2451  -7.44879\n",
       " -38.3565  -7.39132\n",
       " -37.5151  -7.33514\n",
       " -36.7158  -7.28024\n",
       " -35.9546  -7.22653\n",
       " -35.2281  -7.17397\n",
       " -34.5333  -7.12252\n",
       "   ⋮       \n",
       " -22.9032  -6.10916\n",
       " -22.6066  -6.08115\n",
       " -22.3171  -6.05386\n",
       " -22.0344  -6.02748\n",
       " -21.7583  -6.00198\n",
       " -21.4886  -5.97725\n",
       " -21.225   -5.95347\n",
       " -20.9675  -5.93064\n",
       " -20.7157  -5.90871\n",
       " -20.4695  -5.88821\n",
       " -20.2287  -5.86866\n",
       " -19.9931  -5.85129"
      ]
     },
     "execution_count": 43,
     "metadata": {},
     "output_type": "execute_result"
    }
   ],
   "source": [
    "Tv"
   ]
  },
  {
   "cell_type": "markdown",
   "metadata": {},
   "source": [
    "So these things are all matching up. Then below is the traditional bellman equation approach"
   ]
  },
  {
   "cell_type": "code",
   "execution_count": 44,
   "metadata": {},
   "outputs": [
    {
     "name": "stdout",
     "output_type": "stream",
     "text": [
      "  0.606862 seconds (1.22 M allocations: 89.464 MiB, 2.56% gc time, 97.84% compilation time)\n"
     ]
    },
    {
     "data": {
      "text/plain": [
       "50×2 Matrix{Float64}:\n",
       " -45.9577  -7.76215\n",
       " -44.9253  -7.69466\n",
       " -43.9287  -7.6282\n",
       " -42.9665  -7.5632\n",
       " -42.0373  -7.49993\n",
       " -41.1397  -7.43812\n",
       " -40.2726  -7.37782\n",
       " -39.4347  -7.31893\n",
       " -38.6248  -7.26076\n",
       " -37.8418  -7.20379\n",
       " -37.0847  -7.14829\n",
       " -36.3523  -7.09402\n",
       " -35.6438  -7.04104\n",
       "   ⋮       \n",
       " -23.178   -5.99706\n",
       " -22.859   -5.96853\n",
       " -22.5482  -5.9405\n",
       " -22.2453  -5.91373\n",
       " -21.95    -5.88809\n",
       " -21.6621  -5.86289\n",
       " -21.3813  -5.83891\n",
       " -21.1073  -5.81605\n",
       " -20.84    -5.79356\n",
       " -20.5791  -5.77334\n",
       " -20.3245  -5.75343\n",
       " -20.0758  -5.73607"
      ]
     },
     "execution_count": 44,
     "metadata": {},
     "output_type": "execute_result"
    }
   ],
   "source": [
    "@time altTv, u = value_function_fixedpoint(R, W, p, model_prm);\n",
    "\n",
    "altTv"
   ]
  },
  {
   "cell_type": "markdown",
   "metadata": {},
   "source": [
    "The vfi approach above works directly on $V$, not $V_j$. So to make the two approaches comparable, I have a helper function to compare..."
   ]
  },
  {
   "cell_type": "code",
   "execution_count": 45,
   "metadata": {},
   "outputs": [
    {
     "data": {
      "text/plain": [
       "50×2 Matrix{Float64}:\n",
       " -45.9325  -7.65083\n",
       " -44.5171  -7.58425\n",
       " -43.2496  -7.51938\n",
       " -42.09    -7.45613\n",
       " -41.0162  -7.39451\n",
       " -40.0135  -7.33432\n",
       " -39.0718  -7.2755\n",
       " -38.1833  -7.21803\n",
       " -37.3418  -7.16186\n",
       " -36.5425  -7.10695\n",
       " -35.7813  -7.05324\n",
       " -35.0548  -7.00068\n",
       " -34.3601  -6.94923\n",
       "   ⋮       \n",
       " -22.7299  -5.93587\n",
       " -22.4333  -5.90786\n",
       " -22.1438  -5.88058\n",
       " -21.8611  -5.85419\n",
       " -21.585   -5.82869\n",
       " -21.3153  -5.80397\n",
       " -21.0517  -5.78018\n",
       " -20.7942  -5.75735\n",
       " -20.5424  -5.73543\n",
       " -20.2962  -5.71493\n",
       " -20.0554  -5.69537\n",
       " -19.8198  -5.678"
      ]
     },
     "execution_count": 45,
     "metadata": {},
     "output_type": "execute_result"
    }
   ],
   "source": [
    "foo = log_sum_column(Tv, model_prm.σϵ)"
   ]
  },
  {
   "cell_type": "markdown",
   "metadata": {},
   "source": [
    "So what we see is things things are very simmilar. Note that (I'm pretty sure), they should **not** be the same since different methods are being used to compute them. "
   ]
  },
  {
   "cell_type": "markdown",
   "metadata": {},
   "source": [
    "#### Closed Economy\n",
    "\n",
    "This can also solve the closed economy version and then match up with the [original code](https://github.com/mwaugh0328/dynamic-auto-demand/blob/main/code/python_with_labor_supply/Labor%20Supply.ipynb):"
   ]
  },
  {
   "cell_type": "code",
   "execution_count": 46,
   "metadata": {},
   "outputs": [
    {
     "name": "stdout",
     "output_type": "stream",
     "text": [
      "  0.026499 seconds (394.40 k allocations: 30.487 MiB)\n"
     ]
    },
    {
     "data": {
      "text/plain": [
       "([0.4065305481807271 2.085132344273971; 0.44993308424503736 2.1135051475265536; … ; 1.112072455284316 3.974876392061732; 1.124152446361801 4.265387783882096;;;], [-50.264662838994525 -11.983003752757485; -48.84923410696621 -11.916425527577852; … ; -24.387579800536262 -10.027545609828481; -24.15197412736213 -10.010172612792383;;;])"
      ]
     },
     "execution_count": 46,
     "metadata": {},
     "output_type": "execute_result"
    }
   ],
   "source": [
    "R = 1.0291666666666668;\n",
    "W = 1.252202244106159;\n",
    "\n",
    "\n",
    "model_prm = model_params(Ncntry = 1)\n",
    "\n",
    "p = ones(model_prm.Ncntry)\n",
    "\n",
    "@time closed_Kgc, closed_Tv = policy_function_itteration(R, W, p, model_prm)"
   ]
  },
  {
   "cell_type": "code",
   "execution_count": 47,
   "metadata": {},
   "outputs": [
    {
     "data": {
      "text/plain": [
       "50×2×1 Array{Float64, 3}:\n",
       "[:, :, 1] =\n",
       " -50.2647  -11.983\n",
       " -48.8492  -11.9164\n",
       " -47.5818  -11.8516\n",
       " -46.4222  -11.7883\n",
       " -45.3484  -11.7267\n",
       " -44.3457  -11.6665\n",
       " -43.404   -11.6077\n",
       " -42.5154  -11.5502\n",
       " -41.674   -11.494\n",
       " -40.8747  -11.4391\n",
       " -40.1135  -11.3854\n",
       " -39.387   -11.3329\n",
       " -38.6922  -11.2814\n",
       "   ⋮       \n",
       " -27.062   -10.268\n",
       " -26.7654  -10.24\n",
       " -26.4759  -10.2128\n",
       " -26.1933  -10.1864\n",
       " -25.9172  -10.1609\n",
       " -25.6474  -10.1361\n",
       " -25.3839  -10.1124\n",
       " -25.1264  -10.0895\n",
       " -24.8746  -10.0676\n",
       " -24.6284  -10.0471\n",
       " -24.3876  -10.0275\n",
       " -24.152   -10.0102"
      ]
     },
     "execution_count": 47,
     "metadata": {},
     "output_type": "execute_result"
    }
   ],
   "source": [
    "closed_Tv"
   ]
  },
  {
   "cell_type": "code",
   "execution_count": null,
   "metadata": {},
   "outputs": [],
   "source": []
  }
 ],
 "metadata": {
  "kernelspec": {
   "display_name": "Julia 1.7.0",
   "language": "julia",
   "name": "julia-1.7"
  },
  "language_info": {
   "file_extension": ".jl",
   "mimetype": "application/julia",
   "name": "julia",
   "version": "1.7.0"
  }
 },
 "nbformat": 4,
 "nbformat_minor": 4
}
