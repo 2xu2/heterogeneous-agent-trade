{
 "cells": [
  {
   "cell_type": "code",
   "execution_count": 1,
   "id": "5b6afc14",
   "metadata": {},
   "outputs": [],
   "source": [
    "import numpy as np\n",
    "import scipy as sp\n",
    "import matplotlib.pyplot as plt\n",
    "from support import *\n",
    "from innovation import *\n"
   ]
  },
  {
   "cell_type": "code",
   "execution_count": 2,
   "id": "b4b89fac",
   "metadata": {},
   "outputs": [],
   "source": [
    "# Parameters\n",
    "β = 0.96        # Discount Rate\n",
    "σ = 3           # EIS\n",
    "α = 0.36        # Output Elasticity of Capital\n",
    "δ = 0.08        # Depreciation Rate\n",
    "φ = -3          # Borrowing Constraint\n",
    "σ_ε = 0.25      # Standard deviation of logit shock\n",
    "N = 2           # Number of firms \n"
   ]
  },
  {
   "cell_type": "markdown",
   "id": "24f1b335",
   "metadata": {},
   "source": [
    "### Symmetric Productivities"
   ]
  },
  {
   "cell_type": "code",
   "execution_count": 3,
   "id": "d37f781b",
   "metadata": {},
   "outputs": [
    {
     "name": "stdout",
     "output_type": "stream",
     "text": [
      "Model is done!\n"
     ]
    }
   ],
   "source": [
    "# Set up grids\n",
    "log_zgrid, P, estar = tauchen(5, 0.6, 0.3)\n",
    "zgrid = np.exp(log_zgrid)\n",
    "agrid = np.linspace(φ, 8, 100) \n",
    "\n",
    "# Create Model Instance\n",
    "m = Aiyagari(β, σ, α, φ, δ, σ_ε, N, P)\n",
    "\n",
    "# Find equilibrium\n",
    "z_firm = np.array([1.0, 1.0])\n",
    "fn = lambda p: m.prices_fp(agrid, zgrid, 1.0, 1.029, z_firm, p)\n",
    "\n",
    "p0 = np.array([1.0, 1.0])\n",
    "res = sp.optimize.root(fn, p0)\n",
    "if res.status == True: print('Model is done!')\n",
    "\n",
    "p = res.x\n",
    "ε = m.elasticity(agrid, zgrid, 1.029, 1.0, p)\n",
    "µ = m.markup(ε)\n"
   ]
  },
  {
   "cell_type": "code",
   "execution_count": 4,
   "id": "ce5de3a6",
   "metadata": {},
   "outputs": [
    {
     "data": {
      "text/plain": [
       "array([1.41713173, 1.41713275])"
      ]
     },
     "execution_count": 4,
     "metadata": {},
     "output_type": "execute_result"
    }
   ],
   "source": [
    "# Prices\n",
    "p"
   ]
  },
  {
   "cell_type": "code",
   "execution_count": 5,
   "id": "78c6018b",
   "metadata": {},
   "outputs": [
    {
     "data": {
      "text/plain": [
       "array([3.48413573, 3.47443511])"
      ]
     },
     "execution_count": 5,
     "metadata": {},
     "output_type": "execute_result"
    }
   ],
   "source": [
    "# Elasticities\n",
    "ε"
   ]
  },
  {
   "cell_type": "code",
   "execution_count": 6,
   "id": "0cc5c5bf",
   "metadata": {},
   "outputs": [
    {
     "data": {
      "text/plain": [
       "array([1.40255449, 1.40413264])"
      ]
     },
     "execution_count": 6,
     "metadata": {},
     "output_type": "execute_result"
    }
   ],
   "source": [
    "# Markups\n",
    "µ"
   ]
  },
  {
   "cell_type": "markdown",
   "id": "c9051307",
   "metadata": {},
   "source": [
    "### Nonsymmetric Productivities"
   ]
  },
  {
   "cell_type": "code",
   "execution_count": 7,
   "id": "0b21d770",
   "metadata": {},
   "outputs": [
    {
     "name": "stdout",
     "output_type": "stream",
     "text": [
      "Model is done!\n"
     ]
    }
   ],
   "source": [
    "# Set up grids\n",
    "log_zgrid, P, estar = tauchen(5, 0.6, 0.3)\n",
    "zgrid = np.exp(log_zgrid)\n",
    "agrid = np.linspace(φ, 8, 100) \n",
    "\n",
    "# Create Model Instance\n",
    "m = Aiyagari(β, σ, α, φ, δ, σ_ε, N, P)\n",
    "\n",
    "# Find equilibrium\n",
    "z_firm = np.array([0.8, 1.2])\n",
    "fn = lambda p: m.prices_fp(agrid, zgrid, 1.0, 1.029, z_firm, p)\n",
    "\n",
    "p0 = np.array([1.0, 1.0])\n",
    "res = sp.optimize.root(fn, p0)\n",
    "if res.status == True: print('Model is done!')\n",
    "\n",
    "p = res.x\n",
    "ε = m.elasticity(agrid, zgrid, 1.029, 1.0, p)\n",
    "µ = m.markup(ε)\n"
   ]
  },
  {
   "cell_type": "code",
   "execution_count": 8,
   "id": "eeb0c160",
   "metadata": {},
   "outputs": [
    {
     "data": {
      "text/plain": [
       "array([1.5901999 , 1.47157643])"
      ]
     },
     "execution_count": 8,
     "metadata": {},
     "output_type": "execute_result"
    }
   ],
   "source": [
    "# Prices\n",
    "p"
   ]
  },
  {
   "cell_type": "code",
   "execution_count": 9,
   "id": "9ede5bce",
   "metadata": {},
   "outputs": [
    {
     "data": {
      "text/plain": [
       "array([5.09019995, 2.44528616])"
      ]
     },
     "execution_count": 9,
     "metadata": {},
     "output_type": "execute_result"
    }
   ],
   "source": [
    "# Elasticities\n",
    "ε"
   ]
  },
  {
   "cell_type": "code",
   "execution_count": 10,
   "id": "24191298",
   "metadata": {},
   "outputs": [
    {
     "data": {
      "text/plain": [
       "array([1.24448682, 1.6919045 ])"
      ]
     },
     "execution_count": 10,
     "metadata": {},
     "output_type": "execute_result"
    }
   ],
   "source": [
    "# Markups\n",
    "µ"
   ]
  },
  {
   "cell_type": "code",
   "execution_count": null,
   "id": "4493a5bb",
   "metadata": {},
   "outputs": [],
   "source": []
  }
 ],
 "metadata": {
  "@webio": {
   "lastCommId": null,
   "lastKernelId": null
  },
  "kernelspec": {
   "display_name": "Python 3",
   "language": "python",
   "name": "python3"
  },
  "language_info": {
   "codemirror_mode": {
    "name": "ipython",
    "version": 3
   },
   "file_extension": ".py",
   "mimetype": "text/x-python",
   "name": "python",
   "nbconvert_exporter": "python",
   "pygments_lexer": "ipython3",
   "version": "3.7.11"
  }
 },
 "nbformat": 4,
 "nbformat_minor": 5
}
